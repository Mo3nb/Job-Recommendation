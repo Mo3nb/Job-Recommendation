{
  "nbformat": 4,
  "nbformat_minor": 0,
  "metadata": {
    "colab": {
      "name": "recommendation.ipynb",
      "provenance": [],
      "collapsed_sections": [],
      "mount_file_id": "10I3aycSVg-DZBfIrutuNjtxJxHiaonYr",
      "authorship_tag": "ABX9TyMrXdVvIx2uqHp/6BG/Kq3m",
      "include_colab_link": true
    },
    "kernelspec": {
      "name": "python3",
      "display_name": "Python 3"
    }
  },
  "cells": [
    {
      "cell_type": "markdown",
      "metadata": {
        "id": "view-in-github",
        "colab_type": "text"
      },
      "source": [
        "<a href=\"https://colab.research.google.com/github/Mo3nb/Job-Recommendation/blob/main/recommendation.ipynb\" target=\"_parent\"><img src=\"https://colab.research.google.com/assets/colab-badge.svg\" alt=\"Open In Colab\"/></a>"
      ]
    },
    {
      "cell_type": "code",
      "metadata": {
        "id": "7E8pC9SI1Dvy"
      },
      "source": [
        "import pandas as pd \n",
        "from sklearn.feature_extraction.text import TfidfVectorizer, CountVectorizer\n",
        "from sklearn.metrics.pairwise import linear_kernel, cosine_similarity\n",
        "import numpy as np\n",
        "from sklearn.model_selection import train_test_split   "
      ],
      "execution_count": 2,
      "outputs": []
    },
    {
      "cell_type": "code",
      "source": [
        "from google.colab import drive\n",
        "drive.mount('/content/drive')"
      ],
      "metadata": {
        "colab": {
          "base_uri": "https://localhost:8080/"
        },
        "id": "CpX-jlEPZd7R",
        "outputId": "df63c0bc-ff3c-4b5e-8bb1-17f180782aea"
      },
      "execution_count": 4,
      "outputs": [
        {
          "output_type": "stream",
          "name": "stdout",
          "text": [
            "Mounted at /content/drive\n"
          ]
        }
      ]
    },
    {
      "cell_type": "code",
      "metadata": {
        "id": "WwvCF0Rk9y_3"
      },
      "source": [
        "combinedjob = pd.read_csv('/content/drive/My Drive/DATA /Combined_Jobs_Final.csv',encoding='utf-8')\n",
        "experience = pd.read_csv('/content/drive/My Drive/DATA /Experience.csv',encoding='utf-8')\n",
        "jobview = pd.read_csv('/content/drive/My Drive/DATA /Job_Views.csv',encoding='utf-8')\n",
        "POI = pd.read_csv('/content/drive/My Drive/DATA /Positions_Of_Interest.csv',encoding='utf-8')"
      ],
      "execution_count": 6,
      "outputs": []
    },
    {
      "cell_type": "code",
      "metadata": {
        "id": "1gZRGGahfeqA",
        "colab": {
          "base_uri": "https://localhost:8080/"
        },
        "outputId": "3d714a99-e8fd-41fd-837e-57b8e5aa88f5"
      },
      "source": [
        "combinedjob.isnull().sum()"
      ],
      "execution_count": 7,
      "outputs": [
        {
          "output_type": "execute_result",
          "data": {
            "text/plain": [
              "Job.ID                    0\n",
              "Provider                  0\n",
              "Status                    0\n",
              "Slug                      0\n",
              "Title                     0\n",
              "Position                  0\n",
              "Company                2271\n",
              "City                    135\n",
              "State.Name              171\n",
              "State.Code              171\n",
              "Address               84054\n",
              "Latitude                  0\n",
              "Longitude                 0\n",
              "Industry              83823\n",
              "Job.Description          56\n",
              "Requirements          84090\n",
              "Salary                83861\n",
              "Listing.Start           683\n",
              "Listing.End             167\n",
              "Employment.Type          10\n",
              "Education.Required      267\n",
              "Created.At                0\n",
              "Updated.At                0\n",
              "dtype: int64"
            ]
          },
          "metadata": {},
          "execution_count": 7
        }
      ]
    },
    {
      "cell_type": "code",
      "metadata": {
        "id": "HQoA_EnyM_Mz",
        "colab": {
          "base_uri": "https://localhost:8080/",
          "height": 331
        },
        "outputId": "6b7f1f0a-17c6-4db3-f554-d7ddcec9cdd9"
      },
      "source": [
        "combinedjob['Education.Required']=combinedjob['Education.Required'].fillna('Not Specified')\n",
        "combinedjob.groupby(['Education.Required']).count() "
      ],
      "execution_count": 8,
      "outputs": [
        {
          "output_type": "execute_result",
          "data": {
            "text/plain": [
              "                     Job.ID  Provider  Status   Slug  Title  Position  \\\n",
              "Education.Required                                                      \n",
              "Associate Degree       3483      3483    3483   3483   3483      3483   \n",
              "Bachelor's Degree      2849      2849    2849   2849   2849      2849   \n",
              "High School Diploma   14250     14250   14250  14250  14250     14250   \n",
              "Master's Degree        1059      1059    1059   1059   1059      1059   \n",
              "Not Specified         62449     62449   62449  62449  62449     62449   \n",
              "\n",
              "                     Company   City  State.Name  State.Code  ...  Longitude  \\\n",
              "Education.Required                                           ...              \n",
              "Associate Degree        3381   3478        3480        3480  ...       3483   \n",
              "Bachelor's Degree       2753   2848        2847        2847  ...       2849   \n",
              "High School Diploma    13704  14137       14127       14127  ...      14250   \n",
              "Master's Degree         1009   1059        1059        1059  ...       1059   \n",
              "Not Specified          60972  62433       62406       62406  ...      62449   \n",
              "\n",
              "                     Industry  Job.Description  Requirements  Salary  \\\n",
              "Education.Required                                                     \n",
              "Associate Degree            0             3483             0       0   \n",
              "Bachelor's Degree           0             2849             0       0   \n",
              "High School Diploma         0            14250             0       0   \n",
              "Master's Degree             0             1059             0       0   \n",
              "Not Specified             267            62393             0     229   \n",
              "\n",
              "                     Listing.Start  Listing.End  Employment.Type  Created.At  \\\n",
              "Education.Required                                                             \n",
              "Associate Degree              3458         3483             3483        3483   \n",
              "Bachelor's Degree             2839         2849             2849        2849   \n",
              "High School Diploma          14126        14250            14250       14250   \n",
              "Master's Degree               1059         1059             1059        1059   \n",
              "Not Specified                61925        62282            62439       62449   \n",
              "\n",
              "                     Updated.At  \n",
              "Education.Required               \n",
              "Associate Degree           3483  \n",
              "Bachelor's Degree          2849  \n",
              "High School Diploma       14250  \n",
              "Master's Degree            1059  \n",
              "Not Specified             62449  \n",
              "\n",
              "[5 rows x 22 columns]"
            ],
            "text/html": [
              "\n",
              "  <div id=\"df-4ab4b0fd-c9e9-4f58-a78d-b2375cfd895a\">\n",
              "    <div class=\"colab-df-container\">\n",
              "      <div>\n",
              "<style scoped>\n",
              "    .dataframe tbody tr th:only-of-type {\n",
              "        vertical-align: middle;\n",
              "    }\n",
              "\n",
              "    .dataframe tbody tr th {\n",
              "        vertical-align: top;\n",
              "    }\n",
              "\n",
              "    .dataframe thead th {\n",
              "        text-align: right;\n",
              "    }\n",
              "</style>\n",
              "<table border=\"1\" class=\"dataframe\">\n",
              "  <thead>\n",
              "    <tr style=\"text-align: right;\">\n",
              "      <th></th>\n",
              "      <th>Job.ID</th>\n",
              "      <th>Provider</th>\n",
              "      <th>Status</th>\n",
              "      <th>Slug</th>\n",
              "      <th>Title</th>\n",
              "      <th>Position</th>\n",
              "      <th>Company</th>\n",
              "      <th>City</th>\n",
              "      <th>State.Name</th>\n",
              "      <th>State.Code</th>\n",
              "      <th>...</th>\n",
              "      <th>Longitude</th>\n",
              "      <th>Industry</th>\n",
              "      <th>Job.Description</th>\n",
              "      <th>Requirements</th>\n",
              "      <th>Salary</th>\n",
              "      <th>Listing.Start</th>\n",
              "      <th>Listing.End</th>\n",
              "      <th>Employment.Type</th>\n",
              "      <th>Created.At</th>\n",
              "      <th>Updated.At</th>\n",
              "    </tr>\n",
              "    <tr>\n",
              "      <th>Education.Required</th>\n",
              "      <th></th>\n",
              "      <th></th>\n",
              "      <th></th>\n",
              "      <th></th>\n",
              "      <th></th>\n",
              "      <th></th>\n",
              "      <th></th>\n",
              "      <th></th>\n",
              "      <th></th>\n",
              "      <th></th>\n",
              "      <th></th>\n",
              "      <th></th>\n",
              "      <th></th>\n",
              "      <th></th>\n",
              "      <th></th>\n",
              "      <th></th>\n",
              "      <th></th>\n",
              "      <th></th>\n",
              "      <th></th>\n",
              "      <th></th>\n",
              "      <th></th>\n",
              "    </tr>\n",
              "  </thead>\n",
              "  <tbody>\n",
              "    <tr>\n",
              "      <th>Associate Degree</th>\n",
              "      <td>3483</td>\n",
              "      <td>3483</td>\n",
              "      <td>3483</td>\n",
              "      <td>3483</td>\n",
              "      <td>3483</td>\n",
              "      <td>3483</td>\n",
              "      <td>3381</td>\n",
              "      <td>3478</td>\n",
              "      <td>3480</td>\n",
              "      <td>3480</td>\n",
              "      <td>...</td>\n",
              "      <td>3483</td>\n",
              "      <td>0</td>\n",
              "      <td>3483</td>\n",
              "      <td>0</td>\n",
              "      <td>0</td>\n",
              "      <td>3458</td>\n",
              "      <td>3483</td>\n",
              "      <td>3483</td>\n",
              "      <td>3483</td>\n",
              "      <td>3483</td>\n",
              "    </tr>\n",
              "    <tr>\n",
              "      <th>Bachelor's Degree</th>\n",
              "      <td>2849</td>\n",
              "      <td>2849</td>\n",
              "      <td>2849</td>\n",
              "      <td>2849</td>\n",
              "      <td>2849</td>\n",
              "      <td>2849</td>\n",
              "      <td>2753</td>\n",
              "      <td>2848</td>\n",
              "      <td>2847</td>\n",
              "      <td>2847</td>\n",
              "      <td>...</td>\n",
              "      <td>2849</td>\n",
              "      <td>0</td>\n",
              "      <td>2849</td>\n",
              "      <td>0</td>\n",
              "      <td>0</td>\n",
              "      <td>2839</td>\n",
              "      <td>2849</td>\n",
              "      <td>2849</td>\n",
              "      <td>2849</td>\n",
              "      <td>2849</td>\n",
              "    </tr>\n",
              "    <tr>\n",
              "      <th>High School Diploma</th>\n",
              "      <td>14250</td>\n",
              "      <td>14250</td>\n",
              "      <td>14250</td>\n",
              "      <td>14250</td>\n",
              "      <td>14250</td>\n",
              "      <td>14250</td>\n",
              "      <td>13704</td>\n",
              "      <td>14137</td>\n",
              "      <td>14127</td>\n",
              "      <td>14127</td>\n",
              "      <td>...</td>\n",
              "      <td>14250</td>\n",
              "      <td>0</td>\n",
              "      <td>14250</td>\n",
              "      <td>0</td>\n",
              "      <td>0</td>\n",
              "      <td>14126</td>\n",
              "      <td>14250</td>\n",
              "      <td>14250</td>\n",
              "      <td>14250</td>\n",
              "      <td>14250</td>\n",
              "    </tr>\n",
              "    <tr>\n",
              "      <th>Master's Degree</th>\n",
              "      <td>1059</td>\n",
              "      <td>1059</td>\n",
              "      <td>1059</td>\n",
              "      <td>1059</td>\n",
              "      <td>1059</td>\n",
              "      <td>1059</td>\n",
              "      <td>1009</td>\n",
              "      <td>1059</td>\n",
              "      <td>1059</td>\n",
              "      <td>1059</td>\n",
              "      <td>...</td>\n",
              "      <td>1059</td>\n",
              "      <td>0</td>\n",
              "      <td>1059</td>\n",
              "      <td>0</td>\n",
              "      <td>0</td>\n",
              "      <td>1059</td>\n",
              "      <td>1059</td>\n",
              "      <td>1059</td>\n",
              "      <td>1059</td>\n",
              "      <td>1059</td>\n",
              "    </tr>\n",
              "    <tr>\n",
              "      <th>Not Specified</th>\n",
              "      <td>62449</td>\n",
              "      <td>62449</td>\n",
              "      <td>62449</td>\n",
              "      <td>62449</td>\n",
              "      <td>62449</td>\n",
              "      <td>62449</td>\n",
              "      <td>60972</td>\n",
              "      <td>62433</td>\n",
              "      <td>62406</td>\n",
              "      <td>62406</td>\n",
              "      <td>...</td>\n",
              "      <td>62449</td>\n",
              "      <td>267</td>\n",
              "      <td>62393</td>\n",
              "      <td>0</td>\n",
              "      <td>229</td>\n",
              "      <td>61925</td>\n",
              "      <td>62282</td>\n",
              "      <td>62439</td>\n",
              "      <td>62449</td>\n",
              "      <td>62449</td>\n",
              "    </tr>\n",
              "  </tbody>\n",
              "</table>\n",
              "<p>5 rows × 22 columns</p>\n",
              "</div>\n",
              "      <button class=\"colab-df-convert\" onclick=\"convertToInteractive('df-4ab4b0fd-c9e9-4f58-a78d-b2375cfd895a')\"\n",
              "              title=\"Convert this dataframe to an interactive table.\"\n",
              "              style=\"display:none;\">\n",
              "        \n",
              "  <svg xmlns=\"http://www.w3.org/2000/svg\" height=\"24px\"viewBox=\"0 0 24 24\"\n",
              "       width=\"24px\">\n",
              "    <path d=\"M0 0h24v24H0V0z\" fill=\"none\"/>\n",
              "    <path d=\"M18.56 5.44l.94 2.06.94-2.06 2.06-.94-2.06-.94-.94-2.06-.94 2.06-2.06.94zm-11 1L8.5 8.5l.94-2.06 2.06-.94-2.06-.94L8.5 2.5l-.94 2.06-2.06.94zm10 10l.94 2.06.94-2.06 2.06-.94-2.06-.94-.94-2.06-.94 2.06-2.06.94z\"/><path d=\"M17.41 7.96l-1.37-1.37c-.4-.4-.92-.59-1.43-.59-.52 0-1.04.2-1.43.59L10.3 9.45l-7.72 7.72c-.78.78-.78 2.05 0 2.83L4 21.41c.39.39.9.59 1.41.59.51 0 1.02-.2 1.41-.59l7.78-7.78 2.81-2.81c.8-.78.8-2.07 0-2.86zM5.41 20L4 18.59l7.72-7.72 1.47 1.35L5.41 20z\"/>\n",
              "  </svg>\n",
              "      </button>\n",
              "      \n",
              "  <style>\n",
              "    .colab-df-container {\n",
              "      display:flex;\n",
              "      flex-wrap:wrap;\n",
              "      gap: 12px;\n",
              "    }\n",
              "\n",
              "    .colab-df-convert {\n",
              "      background-color: #E8F0FE;\n",
              "      border: none;\n",
              "      border-radius: 50%;\n",
              "      cursor: pointer;\n",
              "      display: none;\n",
              "      fill: #1967D2;\n",
              "      height: 32px;\n",
              "      padding: 0 0 0 0;\n",
              "      width: 32px;\n",
              "    }\n",
              "\n",
              "    .colab-df-convert:hover {\n",
              "      background-color: #E2EBFA;\n",
              "      box-shadow: 0px 1px 2px rgba(60, 64, 67, 0.3), 0px 1px 3px 1px rgba(60, 64, 67, 0.15);\n",
              "      fill: #174EA6;\n",
              "    }\n",
              "\n",
              "    [theme=dark] .colab-df-convert {\n",
              "      background-color: #3B4455;\n",
              "      fill: #D2E3FC;\n",
              "    }\n",
              "\n",
              "    [theme=dark] .colab-df-convert:hover {\n",
              "      background-color: #434B5C;\n",
              "      box-shadow: 0px 1px 3px 1px rgba(0, 0, 0, 0.15);\n",
              "      filter: drop-shadow(0px 1px 2px rgba(0, 0, 0, 0.3));\n",
              "      fill: #FFFFFF;\n",
              "    }\n",
              "  </style>\n",
              "\n",
              "      <script>\n",
              "        const buttonEl =\n",
              "          document.querySelector('#df-4ab4b0fd-c9e9-4f58-a78d-b2375cfd895a button.colab-df-convert');\n",
              "        buttonEl.style.display =\n",
              "          google.colab.kernel.accessAllowed ? 'block' : 'none';\n",
              "\n",
              "        async function convertToInteractive(key) {\n",
              "          const element = document.querySelector('#df-4ab4b0fd-c9e9-4f58-a78d-b2375cfd895a');\n",
              "          const dataTable =\n",
              "            await google.colab.kernel.invokeFunction('convertToInteractive',\n",
              "                                                     [key], {});\n",
              "          if (!dataTable) return;\n",
              "\n",
              "          const docLinkHtml = 'Like what you see? Visit the ' +\n",
              "            '<a target=\"_blank\" href=https://colab.research.google.com/notebooks/data_table.ipynb>data table notebook</a>'\n",
              "            + ' to learn more about interactive tables.';\n",
              "          element.innerHTML = '';\n",
              "          dataTable['output_type'] = 'display_data';\n",
              "          await google.colab.output.renderOutput(dataTable, element);\n",
              "          const docLink = document.createElement('div');\n",
              "          docLink.innerHTML = docLinkHtml;\n",
              "          element.appendChild(docLink);\n",
              "        }\n",
              "      </script>\n",
              "    </div>\n",
              "  </div>\n",
              "  "
            ]
          },
          "metadata": {},
          "execution_count": 8
        }
      ]
    },
    {
      "cell_type": "code",
      "metadata": {
        "id": "jQcIHYnGgM1z"
      },
      "source": [
        "#replacing missing value with companies' headquarters location\n",
        "combinedjob['Company'] = combinedjob['Company'].replace(['Genesis Health Systems'], 'Genesis Health System')\n",
        "combinedjob.loc[combinedjob.Company == 'CHI Payment Systems', 'City'] = 'Illinois'\n",
        "combinedjob.loc[combinedjob.Company == 'Academic Year In America', 'City'] = 'Stamford'\n",
        "combinedjob.loc[combinedjob.Company == 'CBS Healthcare Services and Staffing ', 'City'] = 'Urbandale'\n",
        "combinedjob.loc[combinedjob.Company == 'Driveline Retail', 'City'] = 'Coppell'\n",
        "combinedjob.loc[combinedjob.Company == 'Educational Testing Services', 'City'] = 'New Jersey'\n",
        "combinedjob.loc[combinedjob.Company == 'Genesis Health System', 'City'] = 'Davennport'\n",
        "combinedjob.loc[combinedjob.Company == 'Home Instead Senior Care', 'City'] = 'Nebraska'\n",
        "combinedjob.loc[combinedjob.Company == 'St. Francis Hospital', 'City'] = 'New York'\n",
        "combinedjob.loc[combinedjob.Company == 'Volvo Group', 'City'] = 'Washington'\n",
        "combinedjob.loc[combinedjob.Company == 'CBS Healthcare Services and Staffing', 'City'] = 'Urbandale'\n",
        "combinedjob['Job.Description']=combinedjob['Job.Description'].fillna('not mentioned')\n"
      ],
      "execution_count": 9,
      "outputs": []
    },
    {
      "cell_type": "markdown",
      "metadata": {
        "id": "dcMMnG4LYBY6"
      },
      "source": [
        "##TF TD-IDF based on job description ==> job similarity"
      ]
    },
    {
      "cell_type": "code",
      "metadata": {
        "id": "6fmWOep17Raw",
        "colab": {
          "base_uri": "https://localhost:8080/",
          "height": 594
        },
        "outputId": "c8d9a9fd-fd1a-47bd-ef88-153079721fe3"
      },
      "source": [
        "combinedjob1=combinedjob.iloc[:20000,:]\n",
        "combinedjob1['joint'] = combinedjob1[\"Position\"].map(str) + \"  \" + combinedjob1[\"Title\"] +\"  \"+ combinedjob1[\"City\"]+\"  \"+ combinedjob1[\"Job.Description\"]+\"  \"+ combinedjob1[\"Education.Required\"]\n",
        "combinedjob1['joint'] = combinedjob1['joint'].str.replace('[^a-zA-Z \\n\\.]',\"\")\n",
        "combinedjob1['joint'] = combinedjob1['joint'].str.lower()\n",
        "combinedjob1 = combinedjob1[['Job.ID',\"Title\", 'joint']]\n",
        "combinedjob1.head()"
      ],
      "execution_count": 10,
      "outputs": [
        {
          "output_type": "stream",
          "name": "stderr",
          "text": [
            "/usr/local/lib/python3.7/dist-packages/ipykernel_launcher.py:2: SettingWithCopyWarning: \n",
            "A value is trying to be set on a copy of a slice from a DataFrame.\n",
            "Try using .loc[row_indexer,col_indexer] = value instead\n",
            "\n",
            "See the caveats in the documentation: https://pandas.pydata.org/pandas-docs/stable/user_guide/indexing.html#returning-a-view-versus-a-copy\n",
            "  \n",
            "/usr/local/lib/python3.7/dist-packages/ipykernel_launcher.py:3: FutureWarning: The default value of regex will change from True to False in a future version.\n",
            "  This is separate from the ipykernel package so we can avoid doing imports until\n",
            "/usr/local/lib/python3.7/dist-packages/ipykernel_launcher.py:3: SettingWithCopyWarning: \n",
            "A value is trying to be set on a copy of a slice from a DataFrame.\n",
            "Try using .loc[row_indexer,col_indexer] = value instead\n",
            "\n",
            "See the caveats in the documentation: https://pandas.pydata.org/pandas-docs/stable/user_guide/indexing.html#returning-a-view-versus-a-copy\n",
            "  This is separate from the ipykernel package so we can avoid doing imports until\n",
            "/usr/local/lib/python3.7/dist-packages/ipykernel_launcher.py:4: SettingWithCopyWarning: \n",
            "A value is trying to be set on a copy of a slice from a DataFrame.\n",
            "Try using .loc[row_indexer,col_indexer] = value instead\n",
            "\n",
            "See the caveats in the documentation: https://pandas.pydata.org/pandas-docs/stable/user_guide/indexing.html#returning-a-view-versus-a-copy\n",
            "  after removing the cwd from sys.path.\n"
          ]
        },
        {
          "output_type": "execute_result",
          "data": {
            "text/plain": [
              "   Job.ID                                        Title  \\\n",
              "0     111                         Server @ Tacolicious   \n",
              "1     113             Kitchen Staff/Chef @ Claude Lane   \n",
              "2     117         Bartender @ Machka Restaurants Corp.   \n",
              "3     121                      Server @ Teriyaki House   \n",
              "4     127  Kitchen Staff/Chef @ Rosa Mexicano - Sunset   \n",
              "\n",
              "                                               joint  \n",
              "0  server  server  tacolicious  palo alto  tacoli...  \n",
              "1  kitchen staffchef  kitchen staffchef  claude l...  \n",
              "2  bartender  bartender  machka restaurants corp....  \n",
              "3  server  server  teriyaki house  brisbane    se...  \n",
              "4  kitchen staffchef  kitchen staffchef  rosa mex...  "
            ],
            "text/html": [
              "\n",
              "  <div id=\"df-93996240-8b61-4f83-9e6b-df9c5e25cfee\">\n",
              "    <div class=\"colab-df-container\">\n",
              "      <div>\n",
              "<style scoped>\n",
              "    .dataframe tbody tr th:only-of-type {\n",
              "        vertical-align: middle;\n",
              "    }\n",
              "\n",
              "    .dataframe tbody tr th {\n",
              "        vertical-align: top;\n",
              "    }\n",
              "\n",
              "    .dataframe thead th {\n",
              "        text-align: right;\n",
              "    }\n",
              "</style>\n",
              "<table border=\"1\" class=\"dataframe\">\n",
              "  <thead>\n",
              "    <tr style=\"text-align: right;\">\n",
              "      <th></th>\n",
              "      <th>Job.ID</th>\n",
              "      <th>Title</th>\n",
              "      <th>joint</th>\n",
              "    </tr>\n",
              "  </thead>\n",
              "  <tbody>\n",
              "    <tr>\n",
              "      <th>0</th>\n",
              "      <td>111</td>\n",
              "      <td>Server @ Tacolicious</td>\n",
              "      <td>server  server  tacolicious  palo alto  tacoli...</td>\n",
              "    </tr>\n",
              "    <tr>\n",
              "      <th>1</th>\n",
              "      <td>113</td>\n",
              "      <td>Kitchen Staff/Chef @ Claude Lane</td>\n",
              "      <td>kitchen staffchef  kitchen staffchef  claude l...</td>\n",
              "    </tr>\n",
              "    <tr>\n",
              "      <th>2</th>\n",
              "      <td>117</td>\n",
              "      <td>Bartender @ Machka Restaurants Corp.</td>\n",
              "      <td>bartender  bartender  machka restaurants corp....</td>\n",
              "    </tr>\n",
              "    <tr>\n",
              "      <th>3</th>\n",
              "      <td>121</td>\n",
              "      <td>Server @ Teriyaki House</td>\n",
              "      <td>server  server  teriyaki house  brisbane    se...</td>\n",
              "    </tr>\n",
              "    <tr>\n",
              "      <th>4</th>\n",
              "      <td>127</td>\n",
              "      <td>Kitchen Staff/Chef @ Rosa Mexicano - Sunset</td>\n",
              "      <td>kitchen staffchef  kitchen staffchef  rosa mex...</td>\n",
              "    </tr>\n",
              "  </tbody>\n",
              "</table>\n",
              "</div>\n",
              "      <button class=\"colab-df-convert\" onclick=\"convertToInteractive('df-93996240-8b61-4f83-9e6b-df9c5e25cfee')\"\n",
              "              title=\"Convert this dataframe to an interactive table.\"\n",
              "              style=\"display:none;\">\n",
              "        \n",
              "  <svg xmlns=\"http://www.w3.org/2000/svg\" height=\"24px\"viewBox=\"0 0 24 24\"\n",
              "       width=\"24px\">\n",
              "    <path d=\"M0 0h24v24H0V0z\" fill=\"none\"/>\n",
              "    <path d=\"M18.56 5.44l.94 2.06.94-2.06 2.06-.94-2.06-.94-.94-2.06-.94 2.06-2.06.94zm-11 1L8.5 8.5l.94-2.06 2.06-.94-2.06-.94L8.5 2.5l-.94 2.06-2.06.94zm10 10l.94 2.06.94-2.06 2.06-.94-2.06-.94-.94-2.06-.94 2.06-2.06.94z\"/><path d=\"M17.41 7.96l-1.37-1.37c-.4-.4-.92-.59-1.43-.59-.52 0-1.04.2-1.43.59L10.3 9.45l-7.72 7.72c-.78.78-.78 2.05 0 2.83L4 21.41c.39.39.9.59 1.41.59.51 0 1.02-.2 1.41-.59l7.78-7.78 2.81-2.81c.8-.78.8-2.07 0-2.86zM5.41 20L4 18.59l7.72-7.72 1.47 1.35L5.41 20z\"/>\n",
              "  </svg>\n",
              "      </button>\n",
              "      \n",
              "  <style>\n",
              "    .colab-df-container {\n",
              "      display:flex;\n",
              "      flex-wrap:wrap;\n",
              "      gap: 12px;\n",
              "    }\n",
              "\n",
              "    .colab-df-convert {\n",
              "      background-color: #E8F0FE;\n",
              "      border: none;\n",
              "      border-radius: 50%;\n",
              "      cursor: pointer;\n",
              "      display: none;\n",
              "      fill: #1967D2;\n",
              "      height: 32px;\n",
              "      padding: 0 0 0 0;\n",
              "      width: 32px;\n",
              "    }\n",
              "\n",
              "    .colab-df-convert:hover {\n",
              "      background-color: #E2EBFA;\n",
              "      box-shadow: 0px 1px 2px rgba(60, 64, 67, 0.3), 0px 1px 3px 1px rgba(60, 64, 67, 0.15);\n",
              "      fill: #174EA6;\n",
              "    }\n",
              "\n",
              "    [theme=dark] .colab-df-convert {\n",
              "      background-color: #3B4455;\n",
              "      fill: #D2E3FC;\n",
              "    }\n",
              "\n",
              "    [theme=dark] .colab-df-convert:hover {\n",
              "      background-color: #434B5C;\n",
              "      box-shadow: 0px 1px 3px 1px rgba(0, 0, 0, 0.15);\n",
              "      filter: drop-shadow(0px 1px 2px rgba(0, 0, 0, 0.3));\n",
              "      fill: #FFFFFF;\n",
              "    }\n",
              "  </style>\n",
              "\n",
              "      <script>\n",
              "        const buttonEl =\n",
              "          document.querySelector('#df-93996240-8b61-4f83-9e6b-df9c5e25cfee button.colab-df-convert');\n",
              "        buttonEl.style.display =\n",
              "          google.colab.kernel.accessAllowed ? 'block' : 'none';\n",
              "\n",
              "        async function convertToInteractive(key) {\n",
              "          const element = document.querySelector('#df-93996240-8b61-4f83-9e6b-df9c5e25cfee');\n",
              "          const dataTable =\n",
              "            await google.colab.kernel.invokeFunction('convertToInteractive',\n",
              "                                                     [key], {});\n",
              "          if (!dataTable) return;\n",
              "\n",
              "          const docLinkHtml = 'Like what you see? Visit the ' +\n",
              "            '<a target=\"_blank\" href=https://colab.research.google.com/notebooks/data_table.ipynb>data table notebook</a>'\n",
              "            + ' to learn more about interactive tables.';\n",
              "          element.innerHTML = '';\n",
              "          dataTable['output_type'] = 'display_data';\n",
              "          await google.colab.output.renderOutput(dataTable, element);\n",
              "          const docLink = document.createElement('div');\n",
              "          docLink.innerHTML = docLinkHtml;\n",
              "          element.appendChild(docLink);\n",
              "        }\n",
              "      </script>\n",
              "    </div>\n",
              "  </div>\n",
              "  "
            ]
          },
          "metadata": {},
          "execution_count": 10
        }
      ]
    },
    {
      "cell_type": "code",
      "metadata": {
        "id": "mxiUFtlAj7D-"
      },
      "source": [
        "tf = TfidfVectorizer(analyzer='word',ngram_range=(1, 2), stop_words='english', max_features=10000)\n",
        "tfidf_matrix = tf.fit_transform(combinedjob1['joint'])\n"
      ],
      "execution_count": 11,
      "outputs": []
    },
    {
      "cell_type": "code",
      "metadata": {
        "id": "CU7KcuLSzmas",
        "colab": {
          "base_uri": "https://localhost:8080/"
        },
        "outputId": "524ff8b2-4b29-4650-ef5a-f77db96cf8c5"
      },
      "source": [
        "tfidf_matrix.shape"
      ],
      "execution_count": 12,
      "outputs": [
        {
          "output_type": "execute_result",
          "data": {
            "text/plain": [
              "(20000, 10000)"
            ]
          },
          "metadata": {},
          "execution_count": 12
        }
      ]
    },
    {
      "cell_type": "code",
      "metadata": {
        "id": "dhCOHnXFqS8d"
      },
      "source": [
        "cosine_sim = cosine_similarity(tfidf_matrix, tfidf_matrix)"
      ],
      "execution_count": 13,
      "outputs": []
    },
    {
      "cell_type": "code",
      "metadata": {
        "id": "aSEjL4AgwxGb",
        "colab": {
          "base_uri": "https://localhost:8080/"
        },
        "outputId": "f1016832-7b7c-4edb-9505-2d68dd58b6f0"
      },
      "source": [
        "titles = combinedjob1['Title']\n",
        "indices = pd.Series(combinedjob1.index, index=combinedjob1['Title'])\n",
        "len(titles)"
      ],
      "execution_count": 91,
      "outputs": [
        {
          "output_type": "execute_result",
          "data": {
            "text/plain": [
              "20000"
            ]
          },
          "metadata": {},
          "execution_count": 91
        }
      ]
    },
    {
      "cell_type": "code",
      "metadata": {
        "id": "tL-Zq6LgoMuQ"
      },
      "source": [
        "def get_recommendations(title):\n",
        "    if len(str(type(indices[title])))> 21:\n",
        "      idx = indices[title][0]\n",
        "    else:\n",
        "      idx = indices[title]\n",
        "    #print (idx)\n",
        "    sim_scores = list(enumerate(cosine_sim[idx]))\n",
        "    #print (sim_scores)\n",
        "    sim_scores = sorted(sim_scores, key=lambda x: x[1], reverse=True)\n",
        "    job_indices = [i[0] for i in sim_scores]\n",
        "    return titles.iloc[job_indices].head(5)"
      ],
      "execution_count": 92,
      "outputs": []
    },
    {
      "cell_type": "code",
      "metadata": {
        "id": "hIrjs_LGoUoC",
        "colab": {
          "base_uri": "https://localhost:8080/"
        },
        "outputId": "40993ff2-eaeb-4ea8-c9f6-e85dcfe6243e"
      },
      "source": [
        "get_recommendations(\"Server @ Tacolicious\")"
      ],
      "execution_count": 93,
      "outputs": [
        {
          "output_type": "execute_result",
          "data": {
            "text/plain": [
              "0                   Server @ Tacolicious\n",
              "13453                  Server @ Gonpachi\n",
              "3                Server @ Teriyaki House\n",
              "10778     Server @ Far Niente Ristorante\n",
              "10783    Server @ La Fontaine Restaurant\n",
              "Name: Title, dtype: object"
            ]
          },
          "metadata": {},
          "execution_count": 93
        }
      ]
    },
    {
      "cell_type": "code",
      "source": [
        "indicess = pd.DataFrame(combinedjob1.index, index=combinedjob1['Title'])"
      ],
      "metadata": {
        "id": "vbQzNvnAiu02"
      },
      "execution_count": 94,
      "outputs": []
    },
    {
      "cell_type": "code",
      "metadata": {
        "id": "AXH6Aw1vtB-7"
      },
      "source": [
        "from statistics import mean \n",
        "def accuracy(title):\n",
        "    matches = []\n",
        "    for job in get_recommendations(title):\n",
        "        matches.append(len(set(combinedjob1.iloc[indicess.index.get_loc(job)]['joint']) & set(combinedjob1.iloc[indicess.index.get_loc(title)]['joint'])))\n",
        "    return  mean(matches)/max(matches)"
      ],
      "execution_count": 95,
      "outputs": []
    },
    {
      "cell_type": "code",
      "metadata": {
        "id": "WUh2sQjjAsun",
        "colab": {
          "base_uri": "https://localhost:8080/"
        },
        "outputId": "68be9ff7-8a1a-4e1b-8bf2-8fc1cc57b673"
      },
      "source": [
        "accuracy('Server @ Tacolicious')"
      ],
      "execution_count": 96,
      "outputs": [
        {
          "output_type": "execute_result",
          "data": {
            "text/plain": [
              "0.9583333333333334"
            ]
          },
          "metadata": {},
          "execution_count": 96
        }
      ]
    },
    {
      "cell_type": "code",
      "metadata": {
        "id": "mWbTthK8nluG"
      },
      "source": [
        "def get_user_id(job_list):\n",
        "    jobs_userwise = jobview['Title'].isin(job_list)\n",
        "    df1 = pd.DataFrame(data = jobview[jobs_userwise], columns=['Applicant.ID'])\n",
        "    userlist = df1['Applicant.ID'].tolist()\n",
        "    userlist = jobview['Applicant.ID'].isin(userlist) \n",
        "    df_temp = pd.DataFrame(data = jobview[userlist], columns=['Applicant.ID'])\n",
        "    return df_temp.drop_duplicates()"
      ],
      "execution_count": 97,
      "outputs": []
    },
    {
      "cell_type": "code",
      "metadata": {
        "id": "cjW-d3JhpMta",
        "colab": {
          "base_uri": "https://localhost:8080/",
          "height": 112
        },
        "outputId": "5ba3ff6b-f534-42dd-d364-b85c9b6ad34b"
      },
      "source": [
        "get_user_id(get_recommendations(\"Administrative experience in Life Insurance @ OfficeTeam\"))"
      ],
      "execution_count": 98,
      "outputs": [
        {
          "output_type": "execute_result",
          "data": {
            "text/plain": [
              "      Applicant.ID\n",
              "5503         12733\n",
              "5891         12984"
            ],
            "text/html": [
              "\n",
              "  <div id=\"df-f88be15c-2169-4935-ad66-fa17496a0ee9\">\n",
              "    <div class=\"colab-df-container\">\n",
              "      <div>\n",
              "<style scoped>\n",
              "    .dataframe tbody tr th:only-of-type {\n",
              "        vertical-align: middle;\n",
              "    }\n",
              "\n",
              "    .dataframe tbody tr th {\n",
              "        vertical-align: top;\n",
              "    }\n",
              "\n",
              "    .dataframe thead th {\n",
              "        text-align: right;\n",
              "    }\n",
              "</style>\n",
              "<table border=\"1\" class=\"dataframe\">\n",
              "  <thead>\n",
              "    <tr style=\"text-align: right;\">\n",
              "      <th></th>\n",
              "      <th>Applicant.ID</th>\n",
              "    </tr>\n",
              "  </thead>\n",
              "  <tbody>\n",
              "    <tr>\n",
              "      <th>5503</th>\n",
              "      <td>12733</td>\n",
              "    </tr>\n",
              "    <tr>\n",
              "      <th>5891</th>\n",
              "      <td>12984</td>\n",
              "    </tr>\n",
              "  </tbody>\n",
              "</table>\n",
              "</div>\n",
              "      <button class=\"colab-df-convert\" onclick=\"convertToInteractive('df-f88be15c-2169-4935-ad66-fa17496a0ee9')\"\n",
              "              title=\"Convert this dataframe to an interactive table.\"\n",
              "              style=\"display:none;\">\n",
              "        \n",
              "  <svg xmlns=\"http://www.w3.org/2000/svg\" height=\"24px\"viewBox=\"0 0 24 24\"\n",
              "       width=\"24px\">\n",
              "    <path d=\"M0 0h24v24H0V0z\" fill=\"none\"/>\n",
              "    <path d=\"M18.56 5.44l.94 2.06.94-2.06 2.06-.94-2.06-.94-.94-2.06-.94 2.06-2.06.94zm-11 1L8.5 8.5l.94-2.06 2.06-.94-2.06-.94L8.5 2.5l-.94 2.06-2.06.94zm10 10l.94 2.06.94-2.06 2.06-.94-2.06-.94-.94-2.06-.94 2.06-2.06.94z\"/><path d=\"M17.41 7.96l-1.37-1.37c-.4-.4-.92-.59-1.43-.59-.52 0-1.04.2-1.43.59L10.3 9.45l-7.72 7.72c-.78.78-.78 2.05 0 2.83L4 21.41c.39.39.9.59 1.41.59.51 0 1.02-.2 1.41-.59l7.78-7.78 2.81-2.81c.8-.78.8-2.07 0-2.86zM5.41 20L4 18.59l7.72-7.72 1.47 1.35L5.41 20z\"/>\n",
              "  </svg>\n",
              "      </button>\n",
              "      \n",
              "  <style>\n",
              "    .colab-df-container {\n",
              "      display:flex;\n",
              "      flex-wrap:wrap;\n",
              "      gap: 12px;\n",
              "    }\n",
              "\n",
              "    .colab-df-convert {\n",
              "      background-color: #E8F0FE;\n",
              "      border: none;\n",
              "      border-radius: 50%;\n",
              "      cursor: pointer;\n",
              "      display: none;\n",
              "      fill: #1967D2;\n",
              "      height: 32px;\n",
              "      padding: 0 0 0 0;\n",
              "      width: 32px;\n",
              "    }\n",
              "\n",
              "    .colab-df-convert:hover {\n",
              "      background-color: #E2EBFA;\n",
              "      box-shadow: 0px 1px 2px rgba(60, 64, 67, 0.3), 0px 1px 3px 1px rgba(60, 64, 67, 0.15);\n",
              "      fill: #174EA6;\n",
              "    }\n",
              "\n",
              "    [theme=dark] .colab-df-convert {\n",
              "      background-color: #3B4455;\n",
              "      fill: #D2E3FC;\n",
              "    }\n",
              "\n",
              "    [theme=dark] .colab-df-convert:hover {\n",
              "      background-color: #434B5C;\n",
              "      box-shadow: 0px 1px 3px 1px rgba(0, 0, 0, 0.15);\n",
              "      filter: drop-shadow(0px 1px 2px rgba(0, 0, 0, 0.3));\n",
              "      fill: #FFFFFF;\n",
              "    }\n",
              "  </style>\n",
              "\n",
              "      <script>\n",
              "        const buttonEl =\n",
              "          document.querySelector('#df-f88be15c-2169-4935-ad66-fa17496a0ee9 button.colab-df-convert');\n",
              "        buttonEl.style.display =\n",
              "          google.colab.kernel.accessAllowed ? 'block' : 'none';\n",
              "\n",
              "        async function convertToInteractive(key) {\n",
              "          const element = document.querySelector('#df-f88be15c-2169-4935-ad66-fa17496a0ee9');\n",
              "          const dataTable =\n",
              "            await google.colab.kernel.invokeFunction('convertToInteractive',\n",
              "                                                     [key], {});\n",
              "          if (!dataTable) return;\n",
              "\n",
              "          const docLinkHtml = 'Like what you see? Visit the ' +\n",
              "            '<a target=\"_blank\" href=https://colab.research.google.com/notebooks/data_table.ipynb>data table notebook</a>'\n",
              "            + ' to learn more about interactive tables.';\n",
              "          element.innerHTML = '';\n",
              "          dataTable['output_type'] = 'display_data';\n",
              "          await google.colab.output.renderOutput(dataTable, element);\n",
              "          const docLink = document.createElement('div');\n",
              "          docLink.innerHTML = docLinkHtml;\n",
              "          element.appendChild(docLink);\n",
              "        }\n",
              "      </script>\n",
              "    </div>\n",
              "  </div>\n",
              "  "
            ]
          },
          "metadata": {},
          "execution_count": 98
        }
      ]
    },
    {
      "cell_type": "code",
      "metadata": {
        "id": "gBV_vC9muTS0"
      },
      "source": [
        "titles2=combinedjob1['Title'].unique()"
      ],
      "execution_count": 100,
      "outputs": []
    },
    {
      "cell_type": "code",
      "metadata": {
        "id": "zgyJxGZZuhM3",
        "colab": {
          "base_uri": "https://localhost:8080/"
        },
        "outputId": "b3995371-4a19-4e6f-fdb9-781b106fa173"
      },
      "source": [
        "df1=pd.DataFrame()\n",
        "count=0\n",
        "for i in titles2:\n",
        "  df=get_user_id(get_recommendations(i))\n",
        "  df['Tilte']=i\n",
        "  a=combinedjob[\"Job.ID\"][combinedjob['Title']==i].tolist()[0]\n",
        "  df['JobID']=a\n",
        "  df['City']=combinedjob[\"City\"][combinedjob['Job.ID']==a].tolist()[0]\n",
        "  df['State']=combinedjob[\"State.Name\"][combinedjob['Job.ID']==a].tolist()[0]\n",
        "  count+=1\n",
        "  df=pd.DataFrame(df)\n",
        "  df1=df1.append(df)\n"
      ],
      "execution_count": 101,
      "outputs": [
        {
          "output_type": "stream",
          "name": "stderr",
          "text": [
            "/usr/local/lib/python3.7/dist-packages/ipykernel_launcher.py:5: SettingWithCopyWarning: \n",
            "A value is trying to be set on a copy of a slice from a DataFrame.\n",
            "Try using .loc[row_indexer,col_indexer] = value instead\n",
            "\n",
            "See the caveats in the documentation: https://pandas.pydata.org/pandas-docs/stable/user_guide/indexing.html#returning-a-view-versus-a-copy\n",
            "  \"\"\"\n",
            "/usr/local/lib/python3.7/dist-packages/ipykernel_launcher.py:7: SettingWithCopyWarning: \n",
            "A value is trying to be set on a copy of a slice from a DataFrame.\n",
            "Try using .loc[row_indexer,col_indexer] = value instead\n",
            "\n",
            "See the caveats in the documentation: https://pandas.pydata.org/pandas-docs/stable/user_guide/indexing.html#returning-a-view-versus-a-copy\n",
            "  import sys\n",
            "/usr/local/lib/python3.7/dist-packages/ipykernel_launcher.py:8: SettingWithCopyWarning: \n",
            "A value is trying to be set on a copy of a slice from a DataFrame.\n",
            "Try using .loc[row_indexer,col_indexer] = value instead\n",
            "\n",
            "See the caveats in the documentation: https://pandas.pydata.org/pandas-docs/stable/user_guide/indexing.html#returning-a-view-versus-a-copy\n",
            "  \n",
            "/usr/local/lib/python3.7/dist-packages/ipykernel_launcher.py:9: SettingWithCopyWarning: \n",
            "A value is trying to be set on a copy of a slice from a DataFrame.\n",
            "Try using .loc[row_indexer,col_indexer] = value instead\n",
            "\n",
            "See the caveats in the documentation: https://pandas.pydata.org/pandas-docs/stable/user_guide/indexing.html#returning-a-view-versus-a-copy\n",
            "  if __name__ == '__main__':\n"
          ]
        }
      ]
    },
    {
      "cell_type": "code",
      "metadata": {
        "id": "kpxzIkkU5SPC",
        "colab": {
          "base_uri": "https://localhost:8080/",
          "height": 424
        },
        "outputId": "1e34a7f5-bdbc-4e84-ac94-ef466ca43436"
      },
      "source": [
        "df1.drop_duplicates().sort_values(by=[\"Applicant.ID\", \"JobID\"])"
      ],
      "execution_count": 102,
      "outputs": [
        {
          "output_type": "execute_result",
          "data": {
            "text/plain": [
              "      Applicant.ID                                              Tilte   JobID  \\\n",
              "8878            42        1418BR Seasonal Telecollector @ We Energies  147347   \n",
              "8878            42                             Driving Partner @ Uber  153197   \n",
              "8721           153                     Staff Accountant @ Accountemps  136420   \n",
              "8721           153            Accounts Receivable Clerk @ Accountemps  136442   \n",
              "8721           153  Accounts Receivable and Billing Specialist @ A...  136446   \n",
              "...            ...                                                ...     ...   \n",
              "8711         14546              Personal Driver/Chauffeur @ Quest LLC  227061   \n",
              "8714         14547  Personal Assistant/ Administrative Assistant @...  231297   \n",
              "8716         14549  Mandarin-English Bilingual Speaking Required -...  146922   \n",
              "8716         14549  Louis Vuitton Sales Professional Part Time: Bl...  247064   \n",
              "8717         14552  Personal Assistant/ Administrative Assistant @...  231297   \n",
              "\n",
              "               City          State  \n",
              "8878      Milwaukee      Wisconsin  \n",
              "8878  San Francisco     California  \n",
              "8721     Fort Myers        Florida  \n",
              "8721      Hauppauge       New York  \n",
              "8721         Woburn  Massachusetts  \n",
              "...             ...            ...  \n",
              "8711    los angeles     California  \n",
              "8714       New York       New York  \n",
              "8716     Costa Mesa     California  \n",
              "8716       New York       New York  \n",
              "8717       New York       New York  \n",
              "\n",
              "[78213 rows x 5 columns]"
            ],
            "text/html": [
              "\n",
              "  <div id=\"df-8b559d73-1ab6-4a8a-9e6e-520863800127\">\n",
              "    <div class=\"colab-df-container\">\n",
              "      <div>\n",
              "<style scoped>\n",
              "    .dataframe tbody tr th:only-of-type {\n",
              "        vertical-align: middle;\n",
              "    }\n",
              "\n",
              "    .dataframe tbody tr th {\n",
              "        vertical-align: top;\n",
              "    }\n",
              "\n",
              "    .dataframe thead th {\n",
              "        text-align: right;\n",
              "    }\n",
              "</style>\n",
              "<table border=\"1\" class=\"dataframe\">\n",
              "  <thead>\n",
              "    <tr style=\"text-align: right;\">\n",
              "      <th></th>\n",
              "      <th>Applicant.ID</th>\n",
              "      <th>Tilte</th>\n",
              "      <th>JobID</th>\n",
              "      <th>City</th>\n",
              "      <th>State</th>\n",
              "    </tr>\n",
              "  </thead>\n",
              "  <tbody>\n",
              "    <tr>\n",
              "      <th>8878</th>\n",
              "      <td>42</td>\n",
              "      <td>1418BR Seasonal Telecollector @ We Energies</td>\n",
              "      <td>147347</td>\n",
              "      <td>Milwaukee</td>\n",
              "      <td>Wisconsin</td>\n",
              "    </tr>\n",
              "    <tr>\n",
              "      <th>8878</th>\n",
              "      <td>42</td>\n",
              "      <td>Driving Partner @ Uber</td>\n",
              "      <td>153197</td>\n",
              "      <td>San Francisco</td>\n",
              "      <td>California</td>\n",
              "    </tr>\n",
              "    <tr>\n",
              "      <th>8721</th>\n",
              "      <td>153</td>\n",
              "      <td>Staff Accountant @ Accountemps</td>\n",
              "      <td>136420</td>\n",
              "      <td>Fort Myers</td>\n",
              "      <td>Florida</td>\n",
              "    </tr>\n",
              "    <tr>\n",
              "      <th>8721</th>\n",
              "      <td>153</td>\n",
              "      <td>Accounts Receivable Clerk @ Accountemps</td>\n",
              "      <td>136442</td>\n",
              "      <td>Hauppauge</td>\n",
              "      <td>New York</td>\n",
              "    </tr>\n",
              "    <tr>\n",
              "      <th>8721</th>\n",
              "      <td>153</td>\n",
              "      <td>Accounts Receivable and Billing Specialist @ A...</td>\n",
              "      <td>136446</td>\n",
              "      <td>Woburn</td>\n",
              "      <td>Massachusetts</td>\n",
              "    </tr>\n",
              "    <tr>\n",
              "      <th>...</th>\n",
              "      <td>...</td>\n",
              "      <td>...</td>\n",
              "      <td>...</td>\n",
              "      <td>...</td>\n",
              "      <td>...</td>\n",
              "    </tr>\n",
              "    <tr>\n",
              "      <th>8711</th>\n",
              "      <td>14546</td>\n",
              "      <td>Personal Driver/Chauffeur @ Quest LLC</td>\n",
              "      <td>227061</td>\n",
              "      <td>los angeles</td>\n",
              "      <td>California</td>\n",
              "    </tr>\n",
              "    <tr>\n",
              "      <th>8714</th>\n",
              "      <td>14547</td>\n",
              "      <td>Personal Assistant/ Administrative Assistant @...</td>\n",
              "      <td>231297</td>\n",
              "      <td>New York</td>\n",
              "      <td>New York</td>\n",
              "    </tr>\n",
              "    <tr>\n",
              "      <th>8716</th>\n",
              "      <td>14549</td>\n",
              "      <td>Mandarin-English Bilingual Speaking Required -...</td>\n",
              "      <td>146922</td>\n",
              "      <td>Costa Mesa</td>\n",
              "      <td>California</td>\n",
              "    </tr>\n",
              "    <tr>\n",
              "      <th>8716</th>\n",
              "      <td>14549</td>\n",
              "      <td>Louis Vuitton Sales Professional Part Time: Bl...</td>\n",
              "      <td>247064</td>\n",
              "      <td>New York</td>\n",
              "      <td>New York</td>\n",
              "    </tr>\n",
              "    <tr>\n",
              "      <th>8717</th>\n",
              "      <td>14552</td>\n",
              "      <td>Personal Assistant/ Administrative Assistant @...</td>\n",
              "      <td>231297</td>\n",
              "      <td>New York</td>\n",
              "      <td>New York</td>\n",
              "    </tr>\n",
              "  </tbody>\n",
              "</table>\n",
              "<p>78213 rows × 5 columns</p>\n",
              "</div>\n",
              "      <button class=\"colab-df-convert\" onclick=\"convertToInteractive('df-8b559d73-1ab6-4a8a-9e6e-520863800127')\"\n",
              "              title=\"Convert this dataframe to an interactive table.\"\n",
              "              style=\"display:none;\">\n",
              "        \n",
              "  <svg xmlns=\"http://www.w3.org/2000/svg\" height=\"24px\"viewBox=\"0 0 24 24\"\n",
              "       width=\"24px\">\n",
              "    <path d=\"M0 0h24v24H0V0z\" fill=\"none\"/>\n",
              "    <path d=\"M18.56 5.44l.94 2.06.94-2.06 2.06-.94-2.06-.94-.94-2.06-.94 2.06-2.06.94zm-11 1L8.5 8.5l.94-2.06 2.06-.94-2.06-.94L8.5 2.5l-.94 2.06-2.06.94zm10 10l.94 2.06.94-2.06 2.06-.94-2.06-.94-.94-2.06-.94 2.06-2.06.94z\"/><path d=\"M17.41 7.96l-1.37-1.37c-.4-.4-.92-.59-1.43-.59-.52 0-1.04.2-1.43.59L10.3 9.45l-7.72 7.72c-.78.78-.78 2.05 0 2.83L4 21.41c.39.39.9.59 1.41.59.51 0 1.02-.2 1.41-.59l7.78-7.78 2.81-2.81c.8-.78.8-2.07 0-2.86zM5.41 20L4 18.59l7.72-7.72 1.47 1.35L5.41 20z\"/>\n",
              "  </svg>\n",
              "      </button>\n",
              "      \n",
              "  <style>\n",
              "    .colab-df-container {\n",
              "      display:flex;\n",
              "      flex-wrap:wrap;\n",
              "      gap: 12px;\n",
              "    }\n",
              "\n",
              "    .colab-df-convert {\n",
              "      background-color: #E8F0FE;\n",
              "      border: none;\n",
              "      border-radius: 50%;\n",
              "      cursor: pointer;\n",
              "      display: none;\n",
              "      fill: #1967D2;\n",
              "      height: 32px;\n",
              "      padding: 0 0 0 0;\n",
              "      width: 32px;\n",
              "    }\n",
              "\n",
              "    .colab-df-convert:hover {\n",
              "      background-color: #E2EBFA;\n",
              "      box-shadow: 0px 1px 2px rgba(60, 64, 67, 0.3), 0px 1px 3px 1px rgba(60, 64, 67, 0.15);\n",
              "      fill: #174EA6;\n",
              "    }\n",
              "\n",
              "    [theme=dark] .colab-df-convert {\n",
              "      background-color: #3B4455;\n",
              "      fill: #D2E3FC;\n",
              "    }\n",
              "\n",
              "    [theme=dark] .colab-df-convert:hover {\n",
              "      background-color: #434B5C;\n",
              "      box-shadow: 0px 1px 3px 1px rgba(0, 0, 0, 0.15);\n",
              "      filter: drop-shadow(0px 1px 2px rgba(0, 0, 0, 0.3));\n",
              "      fill: #FFFFFF;\n",
              "    }\n",
              "  </style>\n",
              "\n",
              "      <script>\n",
              "        const buttonEl =\n",
              "          document.querySelector('#df-8b559d73-1ab6-4a8a-9e6e-520863800127 button.colab-df-convert');\n",
              "        buttonEl.style.display =\n",
              "          google.colab.kernel.accessAllowed ? 'block' : 'none';\n",
              "\n",
              "        async function convertToInteractive(key) {\n",
              "          const element = document.querySelector('#df-8b559d73-1ab6-4a8a-9e6e-520863800127');\n",
              "          const dataTable =\n",
              "            await google.colab.kernel.invokeFunction('convertToInteractive',\n",
              "                                                     [key], {});\n",
              "          if (!dataTable) return;\n",
              "\n",
              "          const docLinkHtml = 'Like what you see? Visit the ' +\n",
              "            '<a target=\"_blank\" href=https://colab.research.google.com/notebooks/data_table.ipynb>data table notebook</a>'\n",
              "            + ' to learn more about interactive tables.';\n",
              "          element.innerHTML = '';\n",
              "          dataTable['output_type'] = 'display_data';\n",
              "          await google.colab.output.renderOutput(dataTable, element);\n",
              "          const docLink = document.createElement('div');\n",
              "          docLink.innerHTML = docLinkHtml;\n",
              "          element.appendChild(docLink);\n",
              "        }\n",
              "      </script>\n",
              "    </div>\n",
              "  </div>\n",
              "  "
            ]
          },
          "metadata": {},
          "execution_count": 102
        }
      ]
    },
    {
      "cell_type": "markdown",
      "source": [
        "## cosine similarity  ==> user similarity"
      ],
      "metadata": {
        "id": "hRcSEb8Sk46L"
      }
    },
    {
      "cell_type": "code",
      "metadata": {
        "id": "V6GTOBK5qYos",
        "colab": {
          "base_uri": "https://localhost:8080/",
          "height": 263
        },
        "outputId": "e3012a37-5956-4495-d02d-00ca469e7eda"
      },
      "source": [
        "jobview['pos_com_city'] = jobview[\"Position\"].map(str) + \"  \" + jobview[\"Company\"] +\"  \"+ jobview[\"City\"]\n",
        "\n",
        "jobview['pos_com_city'] = jobview['pos_com_city'].str.replace('[^a-zA-Z \\n\\.]',\"\")\n",
        "\n",
        "jobview['pos_com_city'] = jobview['pos_com_city'].str.lower()\n",
        "\n",
        "jobview2 = jobview[['Applicant.ID','pos_com_city']]\n",
        "\n",
        "jobview2.head()"
      ],
      "execution_count": 104,
      "outputs": [
        {
          "output_type": "stream",
          "name": "stderr",
          "text": [
            "/usr/local/lib/python3.7/dist-packages/ipykernel_launcher.py:3: FutureWarning: The default value of regex will change from True to False in a future version.\n",
            "  This is separate from the ipykernel package so we can avoid doing imports until\n"
          ]
        },
        {
          "output_type": "execute_result",
          "data": {
            "text/plain": [
              "   Applicant.ID                                       pos_com_city\n",
              "0         10000         cashiers  valets needed  wallypark  newark\n",
              "1         10000  macys seasonal retail fragrance cashier   gard...\n",
              "2         10001  part time showroom sales  cashier  grizzly ind...\n",
              "3         10002  event specialist part time  advantage sales  m...\n",
              "4         10002  bonefish  kitchen staff  bonefish grill  green..."
            ],
            "text/html": [
              "\n",
              "  <div id=\"df-82f44c24-55a6-4566-9b0b-955cd3291eb0\">\n",
              "    <div class=\"colab-df-container\">\n",
              "      <div>\n",
              "<style scoped>\n",
              "    .dataframe tbody tr th:only-of-type {\n",
              "        vertical-align: middle;\n",
              "    }\n",
              "\n",
              "    .dataframe tbody tr th {\n",
              "        vertical-align: top;\n",
              "    }\n",
              "\n",
              "    .dataframe thead th {\n",
              "        text-align: right;\n",
              "    }\n",
              "</style>\n",
              "<table border=\"1\" class=\"dataframe\">\n",
              "  <thead>\n",
              "    <tr style=\"text-align: right;\">\n",
              "      <th></th>\n",
              "      <th>Applicant.ID</th>\n",
              "      <th>pos_com_city</th>\n",
              "    </tr>\n",
              "  </thead>\n",
              "  <tbody>\n",
              "    <tr>\n",
              "      <th>0</th>\n",
              "      <td>10000</td>\n",
              "      <td>cashiers  valets needed  wallypark  newark</td>\n",
              "    </tr>\n",
              "    <tr>\n",
              "      <th>1</th>\n",
              "      <td>10000</td>\n",
              "      <td>macys seasonal retail fragrance cashier   gard...</td>\n",
              "    </tr>\n",
              "    <tr>\n",
              "      <th>2</th>\n",
              "      <td>10001</td>\n",
              "      <td>part time showroom sales  cashier  grizzly ind...</td>\n",
              "    </tr>\n",
              "    <tr>\n",
              "      <th>3</th>\n",
              "      <td>10002</td>\n",
              "      <td>event specialist part time  advantage sales  m...</td>\n",
              "    </tr>\n",
              "    <tr>\n",
              "      <th>4</th>\n",
              "      <td>10002</td>\n",
              "      <td>bonefish  kitchen staff  bonefish grill  green...</td>\n",
              "    </tr>\n",
              "  </tbody>\n",
              "</table>\n",
              "</div>\n",
              "      <button class=\"colab-df-convert\" onclick=\"convertToInteractive('df-82f44c24-55a6-4566-9b0b-955cd3291eb0')\"\n",
              "              title=\"Convert this dataframe to an interactive table.\"\n",
              "              style=\"display:none;\">\n",
              "        \n",
              "  <svg xmlns=\"http://www.w3.org/2000/svg\" height=\"24px\"viewBox=\"0 0 24 24\"\n",
              "       width=\"24px\">\n",
              "    <path d=\"M0 0h24v24H0V0z\" fill=\"none\"/>\n",
              "    <path d=\"M18.56 5.44l.94 2.06.94-2.06 2.06-.94-2.06-.94-.94-2.06-.94 2.06-2.06.94zm-11 1L8.5 8.5l.94-2.06 2.06-.94-2.06-.94L8.5 2.5l-.94 2.06-2.06.94zm10 10l.94 2.06.94-2.06 2.06-.94-2.06-.94-.94-2.06-.94 2.06-2.06.94z\"/><path d=\"M17.41 7.96l-1.37-1.37c-.4-.4-.92-.59-1.43-.59-.52 0-1.04.2-1.43.59L10.3 9.45l-7.72 7.72c-.78.78-.78 2.05 0 2.83L4 21.41c.39.39.9.59 1.41.59.51 0 1.02-.2 1.41-.59l7.78-7.78 2.81-2.81c.8-.78.8-2.07 0-2.86zM5.41 20L4 18.59l7.72-7.72 1.47 1.35L5.41 20z\"/>\n",
              "  </svg>\n",
              "      </button>\n",
              "      \n",
              "  <style>\n",
              "    .colab-df-container {\n",
              "      display:flex;\n",
              "      flex-wrap:wrap;\n",
              "      gap: 12px;\n",
              "    }\n",
              "\n",
              "    .colab-df-convert {\n",
              "      background-color: #E8F0FE;\n",
              "      border: none;\n",
              "      border-radius: 50%;\n",
              "      cursor: pointer;\n",
              "      display: none;\n",
              "      fill: #1967D2;\n",
              "      height: 32px;\n",
              "      padding: 0 0 0 0;\n",
              "      width: 32px;\n",
              "    }\n",
              "\n",
              "    .colab-df-convert:hover {\n",
              "      background-color: #E2EBFA;\n",
              "      box-shadow: 0px 1px 2px rgba(60, 64, 67, 0.3), 0px 1px 3px 1px rgba(60, 64, 67, 0.15);\n",
              "      fill: #174EA6;\n",
              "    }\n",
              "\n",
              "    [theme=dark] .colab-df-convert {\n",
              "      background-color: #3B4455;\n",
              "      fill: #D2E3FC;\n",
              "    }\n",
              "\n",
              "    [theme=dark] .colab-df-convert:hover {\n",
              "      background-color: #434B5C;\n",
              "      box-shadow: 0px 1px 3px 1px rgba(0, 0, 0, 0.15);\n",
              "      filter: drop-shadow(0px 1px 2px rgba(0, 0, 0, 0.3));\n",
              "      fill: #FFFFFF;\n",
              "    }\n",
              "  </style>\n",
              "\n",
              "      <script>\n",
              "        const buttonEl =\n",
              "          document.querySelector('#df-82f44c24-55a6-4566-9b0b-955cd3291eb0 button.colab-df-convert');\n",
              "        buttonEl.style.display =\n",
              "          google.colab.kernel.accessAllowed ? 'block' : 'none';\n",
              "\n",
              "        async function convertToInteractive(key) {\n",
              "          const element = document.querySelector('#df-82f44c24-55a6-4566-9b0b-955cd3291eb0');\n",
              "          const dataTable =\n",
              "            await google.colab.kernel.invokeFunction('convertToInteractive',\n",
              "                                                     [key], {});\n",
              "          if (!dataTable) return;\n",
              "\n",
              "          const docLinkHtml = 'Like what you see? Visit the ' +\n",
              "            '<a target=\"_blank\" href=https://colab.research.google.com/notebooks/data_table.ipynb>data table notebook</a>'\n",
              "            + ' to learn more about interactive tables.';\n",
              "          element.innerHTML = '';\n",
              "          dataTable['output_type'] = 'display_data';\n",
              "          await google.colab.output.renderOutput(dataTable, element);\n",
              "          const docLink = document.createElement('div');\n",
              "          docLink.innerHTML = docLinkHtml;\n",
              "          element.appendChild(docLink);\n",
              "        }\n",
              "      </script>\n",
              "    </div>\n",
              "  </div>\n",
              "  "
            ]
          },
          "metadata": {},
          "execution_count": 104
        }
      ]
    },
    {
      "cell_type": "code",
      "metadata": {
        "id": "TxSDLYcb9DCW",
        "colab": {
          "base_uri": "https://localhost:8080/",
          "height": 483
        },
        "outputId": "4beac24e-d3b6-474d-ed18-01d896a841b8"
      },
      "source": [
        "experience = experience[['Applicant.ID','Position.Name']]\n",
        "\n",
        "#cleaning the text\n",
        "experience['Position.Name'] = experience['Position.Name'].str.replace('[^a-zA-Z \\n\\.]',\"\")\n",
        "experience['Position.Name'] = experience['Position.Name'].str.lower()\n",
        "experience = experience.fillna(\" \")\n",
        "experience.head()"
      ],
      "execution_count": 105,
      "outputs": [
        {
          "output_type": "stream",
          "name": "stderr",
          "text": [
            "/usr/local/lib/python3.7/dist-packages/ipykernel_launcher.py:4: FutureWarning: The default value of regex will change from True to False in a future version.\n",
            "  after removing the cwd from sys.path.\n",
            "/usr/local/lib/python3.7/dist-packages/ipykernel_launcher.py:4: SettingWithCopyWarning: \n",
            "A value is trying to be set on a copy of a slice from a DataFrame.\n",
            "Try using .loc[row_indexer,col_indexer] = value instead\n",
            "\n",
            "See the caveats in the documentation: https://pandas.pydata.org/pandas-docs/stable/user_guide/indexing.html#returning-a-view-versus-a-copy\n",
            "  after removing the cwd from sys.path.\n",
            "/usr/local/lib/python3.7/dist-packages/ipykernel_launcher.py:5: SettingWithCopyWarning: \n",
            "A value is trying to be set on a copy of a slice from a DataFrame.\n",
            "Try using .loc[row_indexer,col_indexer] = value instead\n",
            "\n",
            "See the caveats in the documentation: https://pandas.pydata.org/pandas-docs/stable/user_guide/indexing.html#returning-a-view-versus-a-copy\n",
            "  \"\"\"\n"
          ]
        },
        {
          "output_type": "execute_result",
          "data": {
            "text/plain": [
              "   Applicant.ID                                      Position.Name\n",
              "0         10001  account manager  sales administration  quality...\n",
              "1         10001     electronics technician  item master controller\n",
              "2         10001                                   machine operator\n",
              "3         10003                             maintenance technician\n",
              "4         10003                                 electrical helper "
            ],
            "text/html": [
              "\n",
              "  <div id=\"df-7412dc37-74e5-4154-812d-06916789acdb\">\n",
              "    <div class=\"colab-df-container\">\n",
              "      <div>\n",
              "<style scoped>\n",
              "    .dataframe tbody tr th:only-of-type {\n",
              "        vertical-align: middle;\n",
              "    }\n",
              "\n",
              "    .dataframe tbody tr th {\n",
              "        vertical-align: top;\n",
              "    }\n",
              "\n",
              "    .dataframe thead th {\n",
              "        text-align: right;\n",
              "    }\n",
              "</style>\n",
              "<table border=\"1\" class=\"dataframe\">\n",
              "  <thead>\n",
              "    <tr style=\"text-align: right;\">\n",
              "      <th></th>\n",
              "      <th>Applicant.ID</th>\n",
              "      <th>Position.Name</th>\n",
              "    </tr>\n",
              "  </thead>\n",
              "  <tbody>\n",
              "    <tr>\n",
              "      <th>0</th>\n",
              "      <td>10001</td>\n",
              "      <td>account manager  sales administration  quality...</td>\n",
              "    </tr>\n",
              "    <tr>\n",
              "      <th>1</th>\n",
              "      <td>10001</td>\n",
              "      <td>electronics technician  item master controller</td>\n",
              "    </tr>\n",
              "    <tr>\n",
              "      <th>2</th>\n",
              "      <td>10001</td>\n",
              "      <td>machine operator</td>\n",
              "    </tr>\n",
              "    <tr>\n",
              "      <th>3</th>\n",
              "      <td>10003</td>\n",
              "      <td>maintenance technician</td>\n",
              "    </tr>\n",
              "    <tr>\n",
              "      <th>4</th>\n",
              "      <td>10003</td>\n",
              "      <td>electrical helper</td>\n",
              "    </tr>\n",
              "  </tbody>\n",
              "</table>\n",
              "</div>\n",
              "      <button class=\"colab-df-convert\" onclick=\"convertToInteractive('df-7412dc37-74e5-4154-812d-06916789acdb')\"\n",
              "              title=\"Convert this dataframe to an interactive table.\"\n",
              "              style=\"display:none;\">\n",
              "        \n",
              "  <svg xmlns=\"http://www.w3.org/2000/svg\" height=\"24px\"viewBox=\"0 0 24 24\"\n",
              "       width=\"24px\">\n",
              "    <path d=\"M0 0h24v24H0V0z\" fill=\"none\"/>\n",
              "    <path d=\"M18.56 5.44l.94 2.06.94-2.06 2.06-.94-2.06-.94-.94-2.06-.94 2.06-2.06.94zm-11 1L8.5 8.5l.94-2.06 2.06-.94-2.06-.94L8.5 2.5l-.94 2.06-2.06.94zm10 10l.94 2.06.94-2.06 2.06-.94-2.06-.94-.94-2.06-.94 2.06-2.06.94z\"/><path d=\"M17.41 7.96l-1.37-1.37c-.4-.4-.92-.59-1.43-.59-.52 0-1.04.2-1.43.59L10.3 9.45l-7.72 7.72c-.78.78-.78 2.05 0 2.83L4 21.41c.39.39.9.59 1.41.59.51 0 1.02-.2 1.41-.59l7.78-7.78 2.81-2.81c.8-.78.8-2.07 0-2.86zM5.41 20L4 18.59l7.72-7.72 1.47 1.35L5.41 20z\"/>\n",
              "  </svg>\n",
              "      </button>\n",
              "      \n",
              "  <style>\n",
              "    .colab-df-container {\n",
              "      display:flex;\n",
              "      flex-wrap:wrap;\n",
              "      gap: 12px;\n",
              "    }\n",
              "\n",
              "    .colab-df-convert {\n",
              "      background-color: #E8F0FE;\n",
              "      border: none;\n",
              "      border-radius: 50%;\n",
              "      cursor: pointer;\n",
              "      display: none;\n",
              "      fill: #1967D2;\n",
              "      height: 32px;\n",
              "      padding: 0 0 0 0;\n",
              "      width: 32px;\n",
              "    }\n",
              "\n",
              "    .colab-df-convert:hover {\n",
              "      background-color: #E2EBFA;\n",
              "      box-shadow: 0px 1px 2px rgba(60, 64, 67, 0.3), 0px 1px 3px 1px rgba(60, 64, 67, 0.15);\n",
              "      fill: #174EA6;\n",
              "    }\n",
              "\n",
              "    [theme=dark] .colab-df-convert {\n",
              "      background-color: #3B4455;\n",
              "      fill: #D2E3FC;\n",
              "    }\n",
              "\n",
              "    [theme=dark] .colab-df-convert:hover {\n",
              "      background-color: #434B5C;\n",
              "      box-shadow: 0px 1px 3px 1px rgba(0, 0, 0, 0.15);\n",
              "      filter: drop-shadow(0px 1px 2px rgba(0, 0, 0, 0.3));\n",
              "      fill: #FFFFFF;\n",
              "    }\n",
              "  </style>\n",
              "\n",
              "      <script>\n",
              "        const buttonEl =\n",
              "          document.querySelector('#df-7412dc37-74e5-4154-812d-06916789acdb button.colab-df-convert');\n",
              "        buttonEl.style.display =\n",
              "          google.colab.kernel.accessAllowed ? 'block' : 'none';\n",
              "\n",
              "        async function convertToInteractive(key) {\n",
              "          const element = document.querySelector('#df-7412dc37-74e5-4154-812d-06916789acdb');\n",
              "          const dataTable =\n",
              "            await google.colab.kernel.invokeFunction('convertToInteractive',\n",
              "                                                     [key], {});\n",
              "          if (!dataTable) return;\n",
              "\n",
              "          const docLinkHtml = 'Like what you see? Visit the ' +\n",
              "            '<a target=\"_blank\" href=https://colab.research.google.com/notebooks/data_table.ipynb>data table notebook</a>'\n",
              "            + ' to learn more about interactive tables.';\n",
              "          element.innerHTML = '';\n",
              "          dataTable['output_type'] = 'display_data';\n",
              "          await google.colab.output.renderOutput(dataTable, element);\n",
              "          const docLink = document.createElement('div');\n",
              "          docLink.innerHTML = docLinkHtml;\n",
              "          element.appendChild(docLink);\n",
              "        }\n",
              "      </script>\n",
              "    </div>\n",
              "  </div>\n",
              "  "
            ]
          },
          "metadata": {},
          "execution_count": 105
        }
      ]
    },
    {
      "cell_type": "code",
      "metadata": {
        "id": "EP3c6pUB07sE",
        "colab": {
          "base_uri": "https://localhost:8080/",
          "height": 677
        },
        "outputId": "78bb379b-ef18-4984-dccd-e3158061eb4a"
      },
      "source": [
        "experience = experience.groupby('Applicant.ID', sort=False)['Position.Name'].apply(' '.join).reset_index()\n",
        "experience.head(20)"
      ],
      "execution_count": 106,
      "outputs": [
        {
          "output_type": "execute_result",
          "data": {
            "text/plain": [
              "    Applicant.ID                                      Position.Name\n",
              "0          10001  account manager  sales administration  quality...\n",
              "1          10003  maintenance technician electrical helper  tech...\n",
              "2          10004                                  shift superviveur\n",
              "3          10005                                  all star houseman\n",
              "4          10007    bartender bar manager  head bartender bartender\n",
              "5          10008  nonfood stocker photo registrar registrar cash...\n",
              "6           1001                                    sales associate\n",
              "7          10011           driver helper cashier customer assistant\n",
              "8          10016                                               host\n",
              "9          10020  it technician ii information technology specia...\n",
              "10         10023  engineering tech clericalmail roomscanning res...\n",
              "11         10025                                                   \n",
              "12         10027                           legal processing clerk  \n",
              "13         10028                                     package driver\n",
              "14          1003                          marketing representative \n",
              "15         10030  customer service  security guard  security guard \n",
              "16          1004               sales representative  in store model\n",
              "17         10040                                                   \n",
              "18         10043                                                   \n",
              "19         10044                                                   "
            ],
            "text/html": [
              "\n",
              "  <div id=\"df-ac076100-9cc7-41ac-857a-71acbc544b00\">\n",
              "    <div class=\"colab-df-container\">\n",
              "      <div>\n",
              "<style scoped>\n",
              "    .dataframe tbody tr th:only-of-type {\n",
              "        vertical-align: middle;\n",
              "    }\n",
              "\n",
              "    .dataframe tbody tr th {\n",
              "        vertical-align: top;\n",
              "    }\n",
              "\n",
              "    .dataframe thead th {\n",
              "        text-align: right;\n",
              "    }\n",
              "</style>\n",
              "<table border=\"1\" class=\"dataframe\">\n",
              "  <thead>\n",
              "    <tr style=\"text-align: right;\">\n",
              "      <th></th>\n",
              "      <th>Applicant.ID</th>\n",
              "      <th>Position.Name</th>\n",
              "    </tr>\n",
              "  </thead>\n",
              "  <tbody>\n",
              "    <tr>\n",
              "      <th>0</th>\n",
              "      <td>10001</td>\n",
              "      <td>account manager  sales administration  quality...</td>\n",
              "    </tr>\n",
              "    <tr>\n",
              "      <th>1</th>\n",
              "      <td>10003</td>\n",
              "      <td>maintenance technician electrical helper  tech...</td>\n",
              "    </tr>\n",
              "    <tr>\n",
              "      <th>2</th>\n",
              "      <td>10004</td>\n",
              "      <td>shift superviveur</td>\n",
              "    </tr>\n",
              "    <tr>\n",
              "      <th>3</th>\n",
              "      <td>10005</td>\n",
              "      <td>all star houseman</td>\n",
              "    </tr>\n",
              "    <tr>\n",
              "      <th>4</th>\n",
              "      <td>10007</td>\n",
              "      <td>bartender bar manager  head bartender bartender</td>\n",
              "    </tr>\n",
              "    <tr>\n",
              "      <th>5</th>\n",
              "      <td>10008</td>\n",
              "      <td>nonfood stocker photo registrar registrar cash...</td>\n",
              "    </tr>\n",
              "    <tr>\n",
              "      <th>6</th>\n",
              "      <td>1001</td>\n",
              "      <td>sales associate</td>\n",
              "    </tr>\n",
              "    <tr>\n",
              "      <th>7</th>\n",
              "      <td>10011</td>\n",
              "      <td>driver helper cashier customer assistant</td>\n",
              "    </tr>\n",
              "    <tr>\n",
              "      <th>8</th>\n",
              "      <td>10016</td>\n",
              "      <td>host</td>\n",
              "    </tr>\n",
              "    <tr>\n",
              "      <th>9</th>\n",
              "      <td>10020</td>\n",
              "      <td>it technician ii information technology specia...</td>\n",
              "    </tr>\n",
              "    <tr>\n",
              "      <th>10</th>\n",
              "      <td>10023</td>\n",
              "      <td>engineering tech clericalmail roomscanning res...</td>\n",
              "    </tr>\n",
              "    <tr>\n",
              "      <th>11</th>\n",
              "      <td>10025</td>\n",
              "      <td></td>\n",
              "    </tr>\n",
              "    <tr>\n",
              "      <th>12</th>\n",
              "      <td>10027</td>\n",
              "      <td>legal processing clerk</td>\n",
              "    </tr>\n",
              "    <tr>\n",
              "      <th>13</th>\n",
              "      <td>10028</td>\n",
              "      <td>package driver</td>\n",
              "    </tr>\n",
              "    <tr>\n",
              "      <th>14</th>\n",
              "      <td>1003</td>\n",
              "      <td>marketing representative</td>\n",
              "    </tr>\n",
              "    <tr>\n",
              "      <th>15</th>\n",
              "      <td>10030</td>\n",
              "      <td>customer service  security guard  security guard</td>\n",
              "    </tr>\n",
              "    <tr>\n",
              "      <th>16</th>\n",
              "      <td>1004</td>\n",
              "      <td>sales representative  in store model</td>\n",
              "    </tr>\n",
              "    <tr>\n",
              "      <th>17</th>\n",
              "      <td>10040</td>\n",
              "      <td></td>\n",
              "    </tr>\n",
              "    <tr>\n",
              "      <th>18</th>\n",
              "      <td>10043</td>\n",
              "      <td></td>\n",
              "    </tr>\n",
              "    <tr>\n",
              "      <th>19</th>\n",
              "      <td>10044</td>\n",
              "      <td></td>\n",
              "    </tr>\n",
              "  </tbody>\n",
              "</table>\n",
              "</div>\n",
              "      <button class=\"colab-df-convert\" onclick=\"convertToInteractive('df-ac076100-9cc7-41ac-857a-71acbc544b00')\"\n",
              "              title=\"Convert this dataframe to an interactive table.\"\n",
              "              style=\"display:none;\">\n",
              "        \n",
              "  <svg xmlns=\"http://www.w3.org/2000/svg\" height=\"24px\"viewBox=\"0 0 24 24\"\n",
              "       width=\"24px\">\n",
              "    <path d=\"M0 0h24v24H0V0z\" fill=\"none\"/>\n",
              "    <path d=\"M18.56 5.44l.94 2.06.94-2.06 2.06-.94-2.06-.94-.94-2.06-.94 2.06-2.06.94zm-11 1L8.5 8.5l.94-2.06 2.06-.94-2.06-.94L8.5 2.5l-.94 2.06-2.06.94zm10 10l.94 2.06.94-2.06 2.06-.94-2.06-.94-.94-2.06-.94 2.06-2.06.94z\"/><path d=\"M17.41 7.96l-1.37-1.37c-.4-.4-.92-.59-1.43-.59-.52 0-1.04.2-1.43.59L10.3 9.45l-7.72 7.72c-.78.78-.78 2.05 0 2.83L4 21.41c.39.39.9.59 1.41.59.51 0 1.02-.2 1.41-.59l7.78-7.78 2.81-2.81c.8-.78.8-2.07 0-2.86zM5.41 20L4 18.59l7.72-7.72 1.47 1.35L5.41 20z\"/>\n",
              "  </svg>\n",
              "      </button>\n",
              "      \n",
              "  <style>\n",
              "    .colab-df-container {\n",
              "      display:flex;\n",
              "      flex-wrap:wrap;\n",
              "      gap: 12px;\n",
              "    }\n",
              "\n",
              "    .colab-df-convert {\n",
              "      background-color: #E8F0FE;\n",
              "      border: none;\n",
              "      border-radius: 50%;\n",
              "      cursor: pointer;\n",
              "      display: none;\n",
              "      fill: #1967D2;\n",
              "      height: 32px;\n",
              "      padding: 0 0 0 0;\n",
              "      width: 32px;\n",
              "    }\n",
              "\n",
              "    .colab-df-convert:hover {\n",
              "      background-color: #E2EBFA;\n",
              "      box-shadow: 0px 1px 2px rgba(60, 64, 67, 0.3), 0px 1px 3px 1px rgba(60, 64, 67, 0.15);\n",
              "      fill: #174EA6;\n",
              "    }\n",
              "\n",
              "    [theme=dark] .colab-df-convert {\n",
              "      background-color: #3B4455;\n",
              "      fill: #D2E3FC;\n",
              "    }\n",
              "\n",
              "    [theme=dark] .colab-df-convert:hover {\n",
              "      background-color: #434B5C;\n",
              "      box-shadow: 0px 1px 3px 1px rgba(0, 0, 0, 0.15);\n",
              "      filter: drop-shadow(0px 1px 2px rgba(0, 0, 0, 0.3));\n",
              "      fill: #FFFFFF;\n",
              "    }\n",
              "  </style>\n",
              "\n",
              "      <script>\n",
              "        const buttonEl =\n",
              "          document.querySelector('#df-ac076100-9cc7-41ac-857a-71acbc544b00 button.colab-df-convert');\n",
              "        buttonEl.style.display =\n",
              "          google.colab.kernel.accessAllowed ? 'block' : 'none';\n",
              "\n",
              "        async function convertToInteractive(key) {\n",
              "          const element = document.querySelector('#df-ac076100-9cc7-41ac-857a-71acbc544b00');\n",
              "          const dataTable =\n",
              "            await google.colab.kernel.invokeFunction('convertToInteractive',\n",
              "                                                     [key], {});\n",
              "          if (!dataTable) return;\n",
              "\n",
              "          const docLinkHtml = 'Like what you see? Visit the ' +\n",
              "            '<a target=\"_blank\" href=https://colab.research.google.com/notebooks/data_table.ipynb>data table notebook</a>'\n",
              "            + ' to learn more about interactive tables.';\n",
              "          element.innerHTML = '';\n",
              "          dataTable['output_type'] = 'display_data';\n",
              "          await google.colab.output.renderOutput(dataTable, element);\n",
              "          const docLink = document.createElement('div');\n",
              "          docLink.innerHTML = docLinkHtml;\n",
              "          element.appendChild(docLink);\n",
              "        }\n",
              "      </script>\n",
              "    </div>\n",
              "  </div>\n",
              "  "
            ]
          },
          "metadata": {},
          "execution_count": 106
        }
      ]
    },
    {
      "cell_type": "code",
      "metadata": {
        "id": "L_Bm2_6CoGiG",
        "colab": {
          "base_uri": "https://localhost:8080/",
          "height": 336
        },
        "outputId": "36736cb4-85ba-4cfc-b992-ff5d549deeb8"
      },
      "source": [
        "POI = POI.sort_values(by='Applicant.ID')\n",
        "POI = POI.drop('Updated.At', 1)\n",
        "POI = POI.drop('Created.At', 1)\n",
        "\n",
        "#cleaning the text\n",
        "POI['Position.Of.Interest']=POI['Position.Of.Interest'].str.replace('[^a-zA-z \\n\\.]',\"\")\n",
        "POI['Position.Of.Interest']=POI['Position.Of.Interest'].str.lower()\n",
        "POI = POI.fillna(\" \")\n",
        "POI = POI.groupby('Applicant.ID', sort=True)['Position.Of.Interest'].apply(' '.join).reset_index()\n",
        "POI.head()"
      ],
      "execution_count": 107,
      "outputs": [
        {
          "output_type": "stream",
          "name": "stderr",
          "text": [
            "/usr/local/lib/python3.7/dist-packages/ipykernel_launcher.py:2: FutureWarning: In a future version of pandas all arguments of DataFrame.drop except for the argument 'labels' will be keyword-only\n",
            "  \n",
            "/usr/local/lib/python3.7/dist-packages/ipykernel_launcher.py:3: FutureWarning: In a future version of pandas all arguments of DataFrame.drop except for the argument 'labels' will be keyword-only\n",
            "  This is separate from the ipykernel package so we can avoid doing imports until\n",
            "/usr/local/lib/python3.7/dist-packages/ipykernel_launcher.py:6: FutureWarning: The default value of regex will change from True to False in a future version.\n",
            "  \n"
          ]
        },
        {
          "output_type": "execute_result",
          "data": {
            "text/plain": [
              "   Applicant.ID                               Position.Of.Interest\n",
              "0            96                                             server\n",
              "1           153  barista host server sales rep customer service...\n",
              "2           256  host production area sales rep customer servic...\n",
              "3           438           customer service rep barista host server\n",
              "4           568      receptionist customer service rep book keeper"
            ],
            "text/html": [
              "\n",
              "  <div id=\"df-4de940c1-91d6-4d88-89a6-01e1242b1ec9\">\n",
              "    <div class=\"colab-df-container\">\n",
              "      <div>\n",
              "<style scoped>\n",
              "    .dataframe tbody tr th:only-of-type {\n",
              "        vertical-align: middle;\n",
              "    }\n",
              "\n",
              "    .dataframe tbody tr th {\n",
              "        vertical-align: top;\n",
              "    }\n",
              "\n",
              "    .dataframe thead th {\n",
              "        text-align: right;\n",
              "    }\n",
              "</style>\n",
              "<table border=\"1\" class=\"dataframe\">\n",
              "  <thead>\n",
              "    <tr style=\"text-align: right;\">\n",
              "      <th></th>\n",
              "      <th>Applicant.ID</th>\n",
              "      <th>Position.Of.Interest</th>\n",
              "    </tr>\n",
              "  </thead>\n",
              "  <tbody>\n",
              "    <tr>\n",
              "      <th>0</th>\n",
              "      <td>96</td>\n",
              "      <td>server</td>\n",
              "    </tr>\n",
              "    <tr>\n",
              "      <th>1</th>\n",
              "      <td>153</td>\n",
              "      <td>barista host server sales rep customer service...</td>\n",
              "    </tr>\n",
              "    <tr>\n",
              "      <th>2</th>\n",
              "      <td>256</td>\n",
              "      <td>host production area sales rep customer servic...</td>\n",
              "    </tr>\n",
              "    <tr>\n",
              "      <th>3</th>\n",
              "      <td>438</td>\n",
              "      <td>customer service rep barista host server</td>\n",
              "    </tr>\n",
              "    <tr>\n",
              "      <th>4</th>\n",
              "      <td>568</td>\n",
              "      <td>receptionist customer service rep book keeper</td>\n",
              "    </tr>\n",
              "  </tbody>\n",
              "</table>\n",
              "</div>\n",
              "      <button class=\"colab-df-convert\" onclick=\"convertToInteractive('df-4de940c1-91d6-4d88-89a6-01e1242b1ec9')\"\n",
              "              title=\"Convert this dataframe to an interactive table.\"\n",
              "              style=\"display:none;\">\n",
              "        \n",
              "  <svg xmlns=\"http://www.w3.org/2000/svg\" height=\"24px\"viewBox=\"0 0 24 24\"\n",
              "       width=\"24px\">\n",
              "    <path d=\"M0 0h24v24H0V0z\" fill=\"none\"/>\n",
              "    <path d=\"M18.56 5.44l.94 2.06.94-2.06 2.06-.94-2.06-.94-.94-2.06-.94 2.06-2.06.94zm-11 1L8.5 8.5l.94-2.06 2.06-.94-2.06-.94L8.5 2.5l-.94 2.06-2.06.94zm10 10l.94 2.06.94-2.06 2.06-.94-2.06-.94-.94-2.06-.94 2.06-2.06.94z\"/><path d=\"M17.41 7.96l-1.37-1.37c-.4-.4-.92-.59-1.43-.59-.52 0-1.04.2-1.43.59L10.3 9.45l-7.72 7.72c-.78.78-.78 2.05 0 2.83L4 21.41c.39.39.9.59 1.41.59.51 0 1.02-.2 1.41-.59l7.78-7.78 2.81-2.81c.8-.78.8-2.07 0-2.86zM5.41 20L4 18.59l7.72-7.72 1.47 1.35L5.41 20z\"/>\n",
              "  </svg>\n",
              "      </button>\n",
              "      \n",
              "  <style>\n",
              "    .colab-df-container {\n",
              "      display:flex;\n",
              "      flex-wrap:wrap;\n",
              "      gap: 12px;\n",
              "    }\n",
              "\n",
              "    .colab-df-convert {\n",
              "      background-color: #E8F0FE;\n",
              "      border: none;\n",
              "      border-radius: 50%;\n",
              "      cursor: pointer;\n",
              "      display: none;\n",
              "      fill: #1967D2;\n",
              "      height: 32px;\n",
              "      padding: 0 0 0 0;\n",
              "      width: 32px;\n",
              "    }\n",
              "\n",
              "    .colab-df-convert:hover {\n",
              "      background-color: #E2EBFA;\n",
              "      box-shadow: 0px 1px 2px rgba(60, 64, 67, 0.3), 0px 1px 3px 1px rgba(60, 64, 67, 0.15);\n",
              "      fill: #174EA6;\n",
              "    }\n",
              "\n",
              "    [theme=dark] .colab-df-convert {\n",
              "      background-color: #3B4455;\n",
              "      fill: #D2E3FC;\n",
              "    }\n",
              "\n",
              "    [theme=dark] .colab-df-convert:hover {\n",
              "      background-color: #434B5C;\n",
              "      box-shadow: 0px 1px 3px 1px rgba(0, 0, 0, 0.15);\n",
              "      filter: drop-shadow(0px 1px 2px rgba(0, 0, 0, 0.3));\n",
              "      fill: #FFFFFF;\n",
              "    }\n",
              "  </style>\n",
              "\n",
              "      <script>\n",
              "        const buttonEl =\n",
              "          document.querySelector('#df-4de940c1-91d6-4d88-89a6-01e1242b1ec9 button.colab-df-convert');\n",
              "        buttonEl.style.display =\n",
              "          google.colab.kernel.accessAllowed ? 'block' : 'none';\n",
              "\n",
              "        async function convertToInteractive(key) {\n",
              "          const element = document.querySelector('#df-4de940c1-91d6-4d88-89a6-01e1242b1ec9');\n",
              "          const dataTable =\n",
              "            await google.colab.kernel.invokeFunction('convertToInteractive',\n",
              "                                                     [key], {});\n",
              "          if (!dataTable) return;\n",
              "\n",
              "          const docLinkHtml = 'Like what you see? Visit the ' +\n",
              "            '<a target=\"_blank\" href=https://colab.research.google.com/notebooks/data_table.ipynb>data table notebook</a>'\n",
              "            + ' to learn more about interactive tables.';\n",
              "          element.innerHTML = '';\n",
              "          dataTable['output_type'] = 'display_data';\n",
              "          await google.colab.output.renderOutput(dataTable, element);\n",
              "          const docLink = document.createElement('div');\n",
              "          docLink.innerHTML = docLinkHtml;\n",
              "          element.appendChild(docLink);\n",
              "        }\n",
              "      </script>\n",
              "    </div>\n",
              "  </div>\n",
              "  "
            ]
          },
          "metadata": {},
          "execution_count": 107
        }
      ]
    },
    {
      "cell_type": "code",
      "metadata": {
        "id": "sKHpUQ0lpPAZ",
        "colab": {
          "base_uri": "https://localhost:8080/",
          "height": 225
        },
        "outputId": "a7435485-b0f6-49b0-db23-0f8ffeb4c6cb"
      },
      "source": [
        "#merging jobs and experience dataframes\n",
        "out_joint_jobs = jobview2.merge(experience, left_on='Applicant.ID', right_on='Applicant.ID', how='outer')\n",
        "print(out_joint_jobs.shape)\n",
        "out_joint_jobs = out_joint_jobs.fillna(' ')\n",
        "out_joint_jobs = out_joint_jobs.sort_values(by='Applicant.ID')\n",
        "out_joint_jobs.head()"
      ],
      "execution_count": 108,
      "outputs": [
        {
          "output_type": "stream",
          "name": "stdout",
          "text": [
            "(15383, 3)\n"
          ]
        },
        {
          "output_type": "execute_result",
          "data": {
            "text/plain": [
              "       Applicant.ID pos_com_city  \\\n",
              "13012             2                \n",
              "13487             3                \n",
              "14628             6                \n",
              "15044             8                \n",
              "12464            11                \n",
              "\n",
              "                                        Position.Name  \n",
              "13012             writer for the uloop blog volunteer  \n",
              "13487               prep cook server marketing intern  \n",
              "14628                               project assistant  \n",
              "15044  deli clerkserver cashier food prep order taker  \n",
              "12464                                         cashier  "
            ],
            "text/html": [
              "\n",
              "  <div id=\"df-03cfdbec-8a27-4d9e-8c56-36a50be8ec71\">\n",
              "    <div class=\"colab-df-container\">\n",
              "      <div>\n",
              "<style scoped>\n",
              "    .dataframe tbody tr th:only-of-type {\n",
              "        vertical-align: middle;\n",
              "    }\n",
              "\n",
              "    .dataframe tbody tr th {\n",
              "        vertical-align: top;\n",
              "    }\n",
              "\n",
              "    .dataframe thead th {\n",
              "        text-align: right;\n",
              "    }\n",
              "</style>\n",
              "<table border=\"1\" class=\"dataframe\">\n",
              "  <thead>\n",
              "    <tr style=\"text-align: right;\">\n",
              "      <th></th>\n",
              "      <th>Applicant.ID</th>\n",
              "      <th>pos_com_city</th>\n",
              "      <th>Position.Name</th>\n",
              "    </tr>\n",
              "  </thead>\n",
              "  <tbody>\n",
              "    <tr>\n",
              "      <th>13012</th>\n",
              "      <td>2</td>\n",
              "      <td></td>\n",
              "      <td>writer for the uloop blog volunteer</td>\n",
              "    </tr>\n",
              "    <tr>\n",
              "      <th>13487</th>\n",
              "      <td>3</td>\n",
              "      <td></td>\n",
              "      <td>prep cook server marketing intern</td>\n",
              "    </tr>\n",
              "    <tr>\n",
              "      <th>14628</th>\n",
              "      <td>6</td>\n",
              "      <td></td>\n",
              "      <td>project assistant</td>\n",
              "    </tr>\n",
              "    <tr>\n",
              "      <th>15044</th>\n",
              "      <td>8</td>\n",
              "      <td></td>\n",
              "      <td>deli clerkserver cashier food prep order taker</td>\n",
              "    </tr>\n",
              "    <tr>\n",
              "      <th>12464</th>\n",
              "      <td>11</td>\n",
              "      <td></td>\n",
              "      <td>cashier</td>\n",
              "    </tr>\n",
              "  </tbody>\n",
              "</table>\n",
              "</div>\n",
              "      <button class=\"colab-df-convert\" onclick=\"convertToInteractive('df-03cfdbec-8a27-4d9e-8c56-36a50be8ec71')\"\n",
              "              title=\"Convert this dataframe to an interactive table.\"\n",
              "              style=\"display:none;\">\n",
              "        \n",
              "  <svg xmlns=\"http://www.w3.org/2000/svg\" height=\"24px\"viewBox=\"0 0 24 24\"\n",
              "       width=\"24px\">\n",
              "    <path d=\"M0 0h24v24H0V0z\" fill=\"none\"/>\n",
              "    <path d=\"M18.56 5.44l.94 2.06.94-2.06 2.06-.94-2.06-.94-.94-2.06-.94 2.06-2.06.94zm-11 1L8.5 8.5l.94-2.06 2.06-.94-2.06-.94L8.5 2.5l-.94 2.06-2.06.94zm10 10l.94 2.06.94-2.06 2.06-.94-2.06-.94-.94-2.06-.94 2.06-2.06.94z\"/><path d=\"M17.41 7.96l-1.37-1.37c-.4-.4-.92-.59-1.43-.59-.52 0-1.04.2-1.43.59L10.3 9.45l-7.72 7.72c-.78.78-.78 2.05 0 2.83L4 21.41c.39.39.9.59 1.41.59.51 0 1.02-.2 1.41-.59l7.78-7.78 2.81-2.81c.8-.78.8-2.07 0-2.86zM5.41 20L4 18.59l7.72-7.72 1.47 1.35L5.41 20z\"/>\n",
              "  </svg>\n",
              "      </button>\n",
              "      \n",
              "  <style>\n",
              "    .colab-df-container {\n",
              "      display:flex;\n",
              "      flex-wrap:wrap;\n",
              "      gap: 12px;\n",
              "    }\n",
              "\n",
              "    .colab-df-convert {\n",
              "      background-color: #E8F0FE;\n",
              "      border: none;\n",
              "      border-radius: 50%;\n",
              "      cursor: pointer;\n",
              "      display: none;\n",
              "      fill: #1967D2;\n",
              "      height: 32px;\n",
              "      padding: 0 0 0 0;\n",
              "      width: 32px;\n",
              "    }\n",
              "\n",
              "    .colab-df-convert:hover {\n",
              "      background-color: #E2EBFA;\n",
              "      box-shadow: 0px 1px 2px rgba(60, 64, 67, 0.3), 0px 1px 3px 1px rgba(60, 64, 67, 0.15);\n",
              "      fill: #174EA6;\n",
              "    }\n",
              "\n",
              "    [theme=dark] .colab-df-convert {\n",
              "      background-color: #3B4455;\n",
              "      fill: #D2E3FC;\n",
              "    }\n",
              "\n",
              "    [theme=dark] .colab-df-convert:hover {\n",
              "      background-color: #434B5C;\n",
              "      box-shadow: 0px 1px 3px 1px rgba(0, 0, 0, 0.15);\n",
              "      filter: drop-shadow(0px 1px 2px rgba(0, 0, 0, 0.3));\n",
              "      fill: #FFFFFF;\n",
              "    }\n",
              "  </style>\n",
              "\n",
              "      <script>\n",
              "        const buttonEl =\n",
              "          document.querySelector('#df-03cfdbec-8a27-4d9e-8c56-36a50be8ec71 button.colab-df-convert');\n",
              "        buttonEl.style.display =\n",
              "          google.colab.kernel.accessAllowed ? 'block' : 'none';\n",
              "\n",
              "        async function convertToInteractive(key) {\n",
              "          const element = document.querySelector('#df-03cfdbec-8a27-4d9e-8c56-36a50be8ec71');\n",
              "          const dataTable =\n",
              "            await google.colab.kernel.invokeFunction('convertToInteractive',\n",
              "                                                     [key], {});\n",
              "          if (!dataTable) return;\n",
              "\n",
              "          const docLinkHtml = 'Like what you see? Visit the ' +\n",
              "            '<a target=\"_blank\" href=https://colab.research.google.com/notebooks/data_table.ipynb>data table notebook</a>'\n",
              "            + ' to learn more about interactive tables.';\n",
              "          element.innerHTML = '';\n",
              "          dataTable['output_type'] = 'display_data';\n",
              "          await google.colab.output.renderOutput(dataTable, element);\n",
              "          const docLink = document.createElement('div');\n",
              "          docLink.innerHTML = docLinkHtml;\n",
              "          element.appendChild(docLink);\n",
              "        }\n",
              "      </script>\n",
              "    </div>\n",
              "  </div>\n",
              "  "
            ]
          },
          "metadata": {},
          "execution_count": 108
        }
      ]
    },
    {
      "cell_type": "code",
      "metadata": {
        "id": "WQrYpK0Rpdq9",
        "colab": {
          "base_uri": "https://localhost:8080/",
          "height": 206
        },
        "outputId": "dc0b782a-f200-4ceb-d2c9-58474bb8d38c"
      },
      "source": [
        "#merging position of interest with existing dataframe\n",
        "joint_poi_exper_view = out_joint_jobs.merge(POI, left_on='Applicant.ID', right_on='Applicant.ID', how='outer')\n",
        "joint_poi_exper_view = joint_poi_exper_view.fillna(' ')\n",
        "joint_poi_exper_view = joint_poi_exper_view.sort_values(by='Applicant.ID')\n",
        "joint_poi_exper_view.head()"
      ],
      "execution_count": 109,
      "outputs": [
        {
          "output_type": "execute_result",
          "data": {
            "text/plain": [
              "   Applicant.ID pos_com_city                                   Position.Name  \\\n",
              "0             2                          writer for the uloop blog volunteer   \n",
              "1             3                            prep cook server marketing intern   \n",
              "2             6                                            project assistant   \n",
              "3             8               deli clerkserver cashier food prep order taker   \n",
              "4            11                                                      cashier   \n",
              "\n",
              "  Position.Of.Interest  \n",
              "0                       \n",
              "1                       \n",
              "2                       \n",
              "3                       \n",
              "4                       "
            ],
            "text/html": [
              "\n",
              "  <div id=\"df-5157c20c-3ba9-41fe-b0f5-964a58a94e3a\">\n",
              "    <div class=\"colab-df-container\">\n",
              "      <div>\n",
              "<style scoped>\n",
              "    .dataframe tbody tr th:only-of-type {\n",
              "        vertical-align: middle;\n",
              "    }\n",
              "\n",
              "    .dataframe tbody tr th {\n",
              "        vertical-align: top;\n",
              "    }\n",
              "\n",
              "    .dataframe thead th {\n",
              "        text-align: right;\n",
              "    }\n",
              "</style>\n",
              "<table border=\"1\" class=\"dataframe\">\n",
              "  <thead>\n",
              "    <tr style=\"text-align: right;\">\n",
              "      <th></th>\n",
              "      <th>Applicant.ID</th>\n",
              "      <th>pos_com_city</th>\n",
              "      <th>Position.Name</th>\n",
              "      <th>Position.Of.Interest</th>\n",
              "    </tr>\n",
              "  </thead>\n",
              "  <tbody>\n",
              "    <tr>\n",
              "      <th>0</th>\n",
              "      <td>2</td>\n",
              "      <td></td>\n",
              "      <td>writer for the uloop blog volunteer</td>\n",
              "      <td></td>\n",
              "    </tr>\n",
              "    <tr>\n",
              "      <th>1</th>\n",
              "      <td>3</td>\n",
              "      <td></td>\n",
              "      <td>prep cook server marketing intern</td>\n",
              "      <td></td>\n",
              "    </tr>\n",
              "    <tr>\n",
              "      <th>2</th>\n",
              "      <td>6</td>\n",
              "      <td></td>\n",
              "      <td>project assistant</td>\n",
              "      <td></td>\n",
              "    </tr>\n",
              "    <tr>\n",
              "      <th>3</th>\n",
              "      <td>8</td>\n",
              "      <td></td>\n",
              "      <td>deli clerkserver cashier food prep order taker</td>\n",
              "      <td></td>\n",
              "    </tr>\n",
              "    <tr>\n",
              "      <th>4</th>\n",
              "      <td>11</td>\n",
              "      <td></td>\n",
              "      <td>cashier</td>\n",
              "      <td></td>\n",
              "    </tr>\n",
              "  </tbody>\n",
              "</table>\n",
              "</div>\n",
              "      <button class=\"colab-df-convert\" onclick=\"convertToInteractive('df-5157c20c-3ba9-41fe-b0f5-964a58a94e3a')\"\n",
              "              title=\"Convert this dataframe to an interactive table.\"\n",
              "              style=\"display:none;\">\n",
              "        \n",
              "  <svg xmlns=\"http://www.w3.org/2000/svg\" height=\"24px\"viewBox=\"0 0 24 24\"\n",
              "       width=\"24px\">\n",
              "    <path d=\"M0 0h24v24H0V0z\" fill=\"none\"/>\n",
              "    <path d=\"M18.56 5.44l.94 2.06.94-2.06 2.06-.94-2.06-.94-.94-2.06-.94 2.06-2.06.94zm-11 1L8.5 8.5l.94-2.06 2.06-.94-2.06-.94L8.5 2.5l-.94 2.06-2.06.94zm10 10l.94 2.06.94-2.06 2.06-.94-2.06-.94-.94-2.06-.94 2.06-2.06.94z\"/><path d=\"M17.41 7.96l-1.37-1.37c-.4-.4-.92-.59-1.43-.59-.52 0-1.04.2-1.43.59L10.3 9.45l-7.72 7.72c-.78.78-.78 2.05 0 2.83L4 21.41c.39.39.9.59 1.41.59.51 0 1.02-.2 1.41-.59l7.78-7.78 2.81-2.81c.8-.78.8-2.07 0-2.86zM5.41 20L4 18.59l7.72-7.72 1.47 1.35L5.41 20z\"/>\n",
              "  </svg>\n",
              "      </button>\n",
              "      \n",
              "  <style>\n",
              "    .colab-df-container {\n",
              "      display:flex;\n",
              "      flex-wrap:wrap;\n",
              "      gap: 12px;\n",
              "    }\n",
              "\n",
              "    .colab-df-convert {\n",
              "      background-color: #E8F0FE;\n",
              "      border: none;\n",
              "      border-radius: 50%;\n",
              "      cursor: pointer;\n",
              "      display: none;\n",
              "      fill: #1967D2;\n",
              "      height: 32px;\n",
              "      padding: 0 0 0 0;\n",
              "      width: 32px;\n",
              "    }\n",
              "\n",
              "    .colab-df-convert:hover {\n",
              "      background-color: #E2EBFA;\n",
              "      box-shadow: 0px 1px 2px rgba(60, 64, 67, 0.3), 0px 1px 3px 1px rgba(60, 64, 67, 0.15);\n",
              "      fill: #174EA6;\n",
              "    }\n",
              "\n",
              "    [theme=dark] .colab-df-convert {\n",
              "      background-color: #3B4455;\n",
              "      fill: #D2E3FC;\n",
              "    }\n",
              "\n",
              "    [theme=dark] .colab-df-convert:hover {\n",
              "      background-color: #434B5C;\n",
              "      box-shadow: 0px 1px 3px 1px rgba(0, 0, 0, 0.15);\n",
              "      filter: drop-shadow(0px 1px 2px rgba(0, 0, 0, 0.3));\n",
              "      fill: #FFFFFF;\n",
              "    }\n",
              "  </style>\n",
              "\n",
              "      <script>\n",
              "        const buttonEl =\n",
              "          document.querySelector('#df-5157c20c-3ba9-41fe-b0f5-964a58a94e3a button.colab-df-convert');\n",
              "        buttonEl.style.display =\n",
              "          google.colab.kernel.accessAllowed ? 'block' : 'none';\n",
              "\n",
              "        async function convertToInteractive(key) {\n",
              "          const element = document.querySelector('#df-5157c20c-3ba9-41fe-b0f5-964a58a94e3a');\n",
              "          const dataTable =\n",
              "            await google.colab.kernel.invokeFunction('convertToInteractive',\n",
              "                                                     [key], {});\n",
              "          if (!dataTable) return;\n",
              "\n",
              "          const docLinkHtml = 'Like what you see? Visit the ' +\n",
              "            '<a target=\"_blank\" href=https://colab.research.google.com/notebooks/data_table.ipynb>data table notebook</a>'\n",
              "            + ' to learn more about interactive tables.';\n",
              "          element.innerHTML = '';\n",
              "          dataTable['output_type'] = 'display_data';\n",
              "          await google.colab.output.renderOutput(dataTable, element);\n",
              "          const docLink = document.createElement('div');\n",
              "          docLink.innerHTML = docLinkHtml;\n",
              "          element.appendChild(docLink);\n",
              "        }\n",
              "      </script>\n",
              "    </div>\n",
              "  </div>\n",
              "  "
            ]
          },
          "metadata": {},
          "execution_count": 109
        }
      ]
    },
    {
      "cell_type": "code",
      "metadata": {
        "id": "AW61CTc9pr1o",
        "colab": {
          "base_uri": "https://localhost:8080/",
          "height": 302
        },
        "outputId": "ae7dd953-7653-4bab-a5a9-7a83399530b2"
      },
      "source": [
        "#combining all the columns\n",
        "\n",
        "joint_poi_exper_view[\"pos_com_city1\"] = joint_poi_exper_view[\"pos_com_city\"].map(str) + joint_poi_exper_view[\"Position.Name\"] +\" \"+ joint_poi_exper_view[\"Position.Of.Interest\"]\n",
        "\n",
        "joint_poi_exper_view.head()"
      ],
      "execution_count": 110,
      "outputs": [
        {
          "output_type": "execute_result",
          "data": {
            "text/plain": [
              "   Applicant.ID pos_com_city                                   Position.Name  \\\n",
              "0             2                          writer for the uloop blog volunteer   \n",
              "1             3                            prep cook server marketing intern   \n",
              "2             6                                            project assistant   \n",
              "3             8               deli clerkserver cashier food prep order taker   \n",
              "4            11                                                      cashier   \n",
              "\n",
              "  Position.Of.Interest                                      pos_com_city1  \n",
              "0                                   writer for the uloop blog volunteer    \n",
              "1                                     prep cook server marketing intern    \n",
              "2                                                     project assistant    \n",
              "3                        deli clerkserver cashier food prep order taker    \n",
              "4                                                               cashier    "
            ],
            "text/html": [
              "\n",
              "  <div id=\"df-ac36471c-0697-4bfb-90a3-d8f9a2d42111\">\n",
              "    <div class=\"colab-df-container\">\n",
              "      <div>\n",
              "<style scoped>\n",
              "    .dataframe tbody tr th:only-of-type {\n",
              "        vertical-align: middle;\n",
              "    }\n",
              "\n",
              "    .dataframe tbody tr th {\n",
              "        vertical-align: top;\n",
              "    }\n",
              "\n",
              "    .dataframe thead th {\n",
              "        text-align: right;\n",
              "    }\n",
              "</style>\n",
              "<table border=\"1\" class=\"dataframe\">\n",
              "  <thead>\n",
              "    <tr style=\"text-align: right;\">\n",
              "      <th></th>\n",
              "      <th>Applicant.ID</th>\n",
              "      <th>pos_com_city</th>\n",
              "      <th>Position.Name</th>\n",
              "      <th>Position.Of.Interest</th>\n",
              "      <th>pos_com_city1</th>\n",
              "    </tr>\n",
              "  </thead>\n",
              "  <tbody>\n",
              "    <tr>\n",
              "      <th>0</th>\n",
              "      <td>2</td>\n",
              "      <td></td>\n",
              "      <td>writer for the uloop blog volunteer</td>\n",
              "      <td></td>\n",
              "      <td>writer for the uloop blog volunteer</td>\n",
              "    </tr>\n",
              "    <tr>\n",
              "      <th>1</th>\n",
              "      <td>3</td>\n",
              "      <td></td>\n",
              "      <td>prep cook server marketing intern</td>\n",
              "      <td></td>\n",
              "      <td>prep cook server marketing intern</td>\n",
              "    </tr>\n",
              "    <tr>\n",
              "      <th>2</th>\n",
              "      <td>6</td>\n",
              "      <td></td>\n",
              "      <td>project assistant</td>\n",
              "      <td></td>\n",
              "      <td>project assistant</td>\n",
              "    </tr>\n",
              "    <tr>\n",
              "      <th>3</th>\n",
              "      <td>8</td>\n",
              "      <td></td>\n",
              "      <td>deli clerkserver cashier food prep order taker</td>\n",
              "      <td></td>\n",
              "      <td>deli clerkserver cashier food prep order taker</td>\n",
              "    </tr>\n",
              "    <tr>\n",
              "      <th>4</th>\n",
              "      <td>11</td>\n",
              "      <td></td>\n",
              "      <td>cashier</td>\n",
              "      <td></td>\n",
              "      <td>cashier</td>\n",
              "    </tr>\n",
              "  </tbody>\n",
              "</table>\n",
              "</div>\n",
              "      <button class=\"colab-df-convert\" onclick=\"convertToInteractive('df-ac36471c-0697-4bfb-90a3-d8f9a2d42111')\"\n",
              "              title=\"Convert this dataframe to an interactive table.\"\n",
              "              style=\"display:none;\">\n",
              "        \n",
              "  <svg xmlns=\"http://www.w3.org/2000/svg\" height=\"24px\"viewBox=\"0 0 24 24\"\n",
              "       width=\"24px\">\n",
              "    <path d=\"M0 0h24v24H0V0z\" fill=\"none\"/>\n",
              "    <path d=\"M18.56 5.44l.94 2.06.94-2.06 2.06-.94-2.06-.94-.94-2.06-.94 2.06-2.06.94zm-11 1L8.5 8.5l.94-2.06 2.06-.94-2.06-.94L8.5 2.5l-.94 2.06-2.06.94zm10 10l.94 2.06.94-2.06 2.06-.94-2.06-.94-.94-2.06-.94 2.06-2.06.94z\"/><path d=\"M17.41 7.96l-1.37-1.37c-.4-.4-.92-.59-1.43-.59-.52 0-1.04.2-1.43.59L10.3 9.45l-7.72 7.72c-.78.78-.78 2.05 0 2.83L4 21.41c.39.39.9.59 1.41.59.51 0 1.02-.2 1.41-.59l7.78-7.78 2.81-2.81c.8-.78.8-2.07 0-2.86zM5.41 20L4 18.59l7.72-7.72 1.47 1.35L5.41 20z\"/>\n",
              "  </svg>\n",
              "      </button>\n",
              "      \n",
              "  <style>\n",
              "    .colab-df-container {\n",
              "      display:flex;\n",
              "      flex-wrap:wrap;\n",
              "      gap: 12px;\n",
              "    }\n",
              "\n",
              "    .colab-df-convert {\n",
              "      background-color: #E8F0FE;\n",
              "      border: none;\n",
              "      border-radius: 50%;\n",
              "      cursor: pointer;\n",
              "      display: none;\n",
              "      fill: #1967D2;\n",
              "      height: 32px;\n",
              "      padding: 0 0 0 0;\n",
              "      width: 32px;\n",
              "    }\n",
              "\n",
              "    .colab-df-convert:hover {\n",
              "      background-color: #E2EBFA;\n",
              "      box-shadow: 0px 1px 2px rgba(60, 64, 67, 0.3), 0px 1px 3px 1px rgba(60, 64, 67, 0.15);\n",
              "      fill: #174EA6;\n",
              "    }\n",
              "\n",
              "    [theme=dark] .colab-df-convert {\n",
              "      background-color: #3B4455;\n",
              "      fill: #D2E3FC;\n",
              "    }\n",
              "\n",
              "    [theme=dark] .colab-df-convert:hover {\n",
              "      background-color: #434B5C;\n",
              "      box-shadow: 0px 1px 3px 1px rgba(0, 0, 0, 0.15);\n",
              "      filter: drop-shadow(0px 1px 2px rgba(0, 0, 0, 0.3));\n",
              "      fill: #FFFFFF;\n",
              "    }\n",
              "  </style>\n",
              "\n",
              "      <script>\n",
              "        const buttonEl =\n",
              "          document.querySelector('#df-ac36471c-0697-4bfb-90a3-d8f9a2d42111 button.colab-df-convert');\n",
              "        buttonEl.style.display =\n",
              "          google.colab.kernel.accessAllowed ? 'block' : 'none';\n",
              "\n",
              "        async function convertToInteractive(key) {\n",
              "          const element = document.querySelector('#df-ac36471c-0697-4bfb-90a3-d8f9a2d42111');\n",
              "          const dataTable =\n",
              "            await google.colab.kernel.invokeFunction('convertToInteractive',\n",
              "                                                     [key], {});\n",
              "          if (!dataTable) return;\n",
              "\n",
              "          const docLinkHtml = 'Like what you see? Visit the ' +\n",
              "            '<a target=\"_blank\" href=https://colab.research.google.com/notebooks/data_table.ipynb>data table notebook</a>'\n",
              "            + ' to learn more about interactive tables.';\n",
              "          element.innerHTML = '';\n",
              "          dataTable['output_type'] = 'display_data';\n",
              "          await google.colab.output.renderOutput(dataTable, element);\n",
              "          const docLink = document.createElement('div');\n",
              "          docLink.innerHTML = docLinkHtml;\n",
              "          element.appendChild(docLink);\n",
              "        }\n",
              "      </script>\n",
              "    </div>\n",
              "  </div>\n",
              "  "
            ]
          },
          "metadata": {},
          "execution_count": 110
        }
      ]
    },
    {
      "cell_type": "code",
      "metadata": {
        "id": "Jo-v-kVqp0C3",
        "colab": {
          "base_uri": "https://localhost:8080/",
          "height": 206
        },
        "outputId": "8f29d2e2-af2a-4051-d95c-4ec7d7d90291"
      },
      "source": [
        "final_poi_exper_view = joint_poi_exper_view[['Applicant.ID','pos_com_city1']]\n",
        "final_poi_exper_view.head()"
      ],
      "execution_count": 111,
      "outputs": [
        {
          "output_type": "execute_result",
          "data": {
            "text/plain": [
              "   Applicant.ID                                      pos_com_city1\n",
              "0             2              writer for the uloop blog volunteer  \n",
              "1             3                prep cook server marketing intern  \n",
              "2             6                                project assistant  \n",
              "3             8   deli clerkserver cashier food prep order taker  \n",
              "4            11                                          cashier  "
            ],
            "text/html": [
              "\n",
              "  <div id=\"df-cc4b925c-855c-48ca-9c41-e3c9ec34d771\">\n",
              "    <div class=\"colab-df-container\">\n",
              "      <div>\n",
              "<style scoped>\n",
              "    .dataframe tbody tr th:only-of-type {\n",
              "        vertical-align: middle;\n",
              "    }\n",
              "\n",
              "    .dataframe tbody tr th {\n",
              "        vertical-align: top;\n",
              "    }\n",
              "\n",
              "    .dataframe thead th {\n",
              "        text-align: right;\n",
              "    }\n",
              "</style>\n",
              "<table border=\"1\" class=\"dataframe\">\n",
              "  <thead>\n",
              "    <tr style=\"text-align: right;\">\n",
              "      <th></th>\n",
              "      <th>Applicant.ID</th>\n",
              "      <th>pos_com_city1</th>\n",
              "    </tr>\n",
              "  </thead>\n",
              "  <tbody>\n",
              "    <tr>\n",
              "      <th>0</th>\n",
              "      <td>2</td>\n",
              "      <td>writer for the uloop blog volunteer</td>\n",
              "    </tr>\n",
              "    <tr>\n",
              "      <th>1</th>\n",
              "      <td>3</td>\n",
              "      <td>prep cook server marketing intern</td>\n",
              "    </tr>\n",
              "    <tr>\n",
              "      <th>2</th>\n",
              "      <td>6</td>\n",
              "      <td>project assistant</td>\n",
              "    </tr>\n",
              "    <tr>\n",
              "      <th>3</th>\n",
              "      <td>8</td>\n",
              "      <td>deli clerkserver cashier food prep order taker</td>\n",
              "    </tr>\n",
              "    <tr>\n",
              "      <th>4</th>\n",
              "      <td>11</td>\n",
              "      <td>cashier</td>\n",
              "    </tr>\n",
              "  </tbody>\n",
              "</table>\n",
              "</div>\n",
              "      <button class=\"colab-df-convert\" onclick=\"convertToInteractive('df-cc4b925c-855c-48ca-9c41-e3c9ec34d771')\"\n",
              "              title=\"Convert this dataframe to an interactive table.\"\n",
              "              style=\"display:none;\">\n",
              "        \n",
              "  <svg xmlns=\"http://www.w3.org/2000/svg\" height=\"24px\"viewBox=\"0 0 24 24\"\n",
              "       width=\"24px\">\n",
              "    <path d=\"M0 0h24v24H0V0z\" fill=\"none\"/>\n",
              "    <path d=\"M18.56 5.44l.94 2.06.94-2.06 2.06-.94-2.06-.94-.94-2.06-.94 2.06-2.06.94zm-11 1L8.5 8.5l.94-2.06 2.06-.94-2.06-.94L8.5 2.5l-.94 2.06-2.06.94zm10 10l.94 2.06.94-2.06 2.06-.94-2.06-.94-.94-2.06-.94 2.06-2.06.94z\"/><path d=\"M17.41 7.96l-1.37-1.37c-.4-.4-.92-.59-1.43-.59-.52 0-1.04.2-1.43.59L10.3 9.45l-7.72 7.72c-.78.78-.78 2.05 0 2.83L4 21.41c.39.39.9.59 1.41.59.51 0 1.02-.2 1.41-.59l7.78-7.78 2.81-2.81c.8-.78.8-2.07 0-2.86zM5.41 20L4 18.59l7.72-7.72 1.47 1.35L5.41 20z\"/>\n",
              "  </svg>\n",
              "      </button>\n",
              "      \n",
              "  <style>\n",
              "    .colab-df-container {\n",
              "      display:flex;\n",
              "      flex-wrap:wrap;\n",
              "      gap: 12px;\n",
              "    }\n",
              "\n",
              "    .colab-df-convert {\n",
              "      background-color: #E8F0FE;\n",
              "      border: none;\n",
              "      border-radius: 50%;\n",
              "      cursor: pointer;\n",
              "      display: none;\n",
              "      fill: #1967D2;\n",
              "      height: 32px;\n",
              "      padding: 0 0 0 0;\n",
              "      width: 32px;\n",
              "    }\n",
              "\n",
              "    .colab-df-convert:hover {\n",
              "      background-color: #E2EBFA;\n",
              "      box-shadow: 0px 1px 2px rgba(60, 64, 67, 0.3), 0px 1px 3px 1px rgba(60, 64, 67, 0.15);\n",
              "      fill: #174EA6;\n",
              "    }\n",
              "\n",
              "    [theme=dark] .colab-df-convert {\n",
              "      background-color: #3B4455;\n",
              "      fill: #D2E3FC;\n",
              "    }\n",
              "\n",
              "    [theme=dark] .colab-df-convert:hover {\n",
              "      background-color: #434B5C;\n",
              "      box-shadow: 0px 1px 3px 1px rgba(0, 0, 0, 0.15);\n",
              "      filter: drop-shadow(0px 1px 2px rgba(0, 0, 0, 0.3));\n",
              "      fill: #FFFFFF;\n",
              "    }\n",
              "  </style>\n",
              "\n",
              "      <script>\n",
              "        const buttonEl =\n",
              "          document.querySelector('#df-cc4b925c-855c-48ca-9c41-e3c9ec34d771 button.colab-df-convert');\n",
              "        buttonEl.style.display =\n",
              "          google.colab.kernel.accessAllowed ? 'block' : 'none';\n",
              "\n",
              "        async function convertToInteractive(key) {\n",
              "          const element = document.querySelector('#df-cc4b925c-855c-48ca-9c41-e3c9ec34d771');\n",
              "          const dataTable =\n",
              "            await google.colab.kernel.invokeFunction('convertToInteractive',\n",
              "                                                     [key], {});\n",
              "          if (!dataTable) return;\n",
              "\n",
              "          const docLinkHtml = 'Like what you see? Visit the ' +\n",
              "            '<a target=\"_blank\" href=https://colab.research.google.com/notebooks/data_table.ipynb>data table notebook</a>'\n",
              "            + ' to learn more about interactive tables.';\n",
              "          element.innerHTML = '';\n",
              "          dataTable['output_type'] = 'display_data';\n",
              "          await google.colab.output.renderOutput(dataTable, element);\n",
              "          const docLink = document.createElement('div');\n",
              "          docLink.innerHTML = docLinkHtml;\n",
              "          element.appendChild(docLink);\n",
              "        }\n",
              "      </script>\n",
              "    </div>\n",
              "  </div>\n",
              "  "
            ]
          },
          "metadata": {},
          "execution_count": 111
        }
      ]
    },
    {
      "cell_type": "code",
      "metadata": {
        "id": "EC1Gq9Bqp3T-",
        "colab": {
          "base_uri": "https://localhost:8080/",
          "height": 263
        },
        "outputId": "2739961d-34ca-445a-fd4a-945b3d2dea3b"
      },
      "source": [
        "final_poi_exper_view.columns = ['Applicant_id','pos_com_city1']\n",
        "final_poi_exper_view = final_poi_exper_view.sort_values(by='Applicant_id')\n",
        "final_poi_exper_view['pos_com_city1'] = final_poi_exper_view['pos_com_city1'].str.replace('[^a-zA-Z \\n\\.]',\"\")\n",
        "final_poi_exper_view['pos_com_city1'] = final_poi_exper_view['pos_com_city1'].str.lower()\n",
        "final_poi_exper_view = final_poi_exper_view.groupby('Applicant_id', sort=True)['pos_com_city1'].apply(' '.join).reset_index()\n",
        "final_poi_exper_view.head()"
      ],
      "execution_count": 112,
      "outputs": [
        {
          "output_type": "stream",
          "name": "stderr",
          "text": [
            "/usr/local/lib/python3.7/dist-packages/ipykernel_launcher.py:3: FutureWarning: The default value of regex will change from True to False in a future version.\n",
            "  This is separate from the ipykernel package so we can avoid doing imports until\n"
          ]
        },
        {
          "output_type": "execute_result",
          "data": {
            "text/plain": [
              "   Applicant_id                                      pos_com_city1\n",
              "0             2              writer for the uloop blog volunteer  \n",
              "1             3                prep cook server marketing intern  \n",
              "2             6                                project assistant  \n",
              "3             8   deli clerkserver cashier food prep order taker  \n",
              "4            11                                          cashier  "
            ],
            "text/html": [
              "\n",
              "  <div id=\"df-fd676383-cdca-416c-934f-90557719f9e2\">\n",
              "    <div class=\"colab-df-container\">\n",
              "      <div>\n",
              "<style scoped>\n",
              "    .dataframe tbody tr th:only-of-type {\n",
              "        vertical-align: middle;\n",
              "    }\n",
              "\n",
              "    .dataframe tbody tr th {\n",
              "        vertical-align: top;\n",
              "    }\n",
              "\n",
              "    .dataframe thead th {\n",
              "        text-align: right;\n",
              "    }\n",
              "</style>\n",
              "<table border=\"1\" class=\"dataframe\">\n",
              "  <thead>\n",
              "    <tr style=\"text-align: right;\">\n",
              "      <th></th>\n",
              "      <th>Applicant_id</th>\n",
              "      <th>pos_com_city1</th>\n",
              "    </tr>\n",
              "  </thead>\n",
              "  <tbody>\n",
              "    <tr>\n",
              "      <th>0</th>\n",
              "      <td>2</td>\n",
              "      <td>writer for the uloop blog volunteer</td>\n",
              "    </tr>\n",
              "    <tr>\n",
              "      <th>1</th>\n",
              "      <td>3</td>\n",
              "      <td>prep cook server marketing intern</td>\n",
              "    </tr>\n",
              "    <tr>\n",
              "      <th>2</th>\n",
              "      <td>6</td>\n",
              "      <td>project assistant</td>\n",
              "    </tr>\n",
              "    <tr>\n",
              "      <th>3</th>\n",
              "      <td>8</td>\n",
              "      <td>deli clerkserver cashier food prep order taker</td>\n",
              "    </tr>\n",
              "    <tr>\n",
              "      <th>4</th>\n",
              "      <td>11</td>\n",
              "      <td>cashier</td>\n",
              "    </tr>\n",
              "  </tbody>\n",
              "</table>\n",
              "</div>\n",
              "      <button class=\"colab-df-convert\" onclick=\"convertToInteractive('df-fd676383-cdca-416c-934f-90557719f9e2')\"\n",
              "              title=\"Convert this dataframe to an interactive table.\"\n",
              "              style=\"display:none;\">\n",
              "        \n",
              "  <svg xmlns=\"http://www.w3.org/2000/svg\" height=\"24px\"viewBox=\"0 0 24 24\"\n",
              "       width=\"24px\">\n",
              "    <path d=\"M0 0h24v24H0V0z\" fill=\"none\"/>\n",
              "    <path d=\"M18.56 5.44l.94 2.06.94-2.06 2.06-.94-2.06-.94-.94-2.06-.94 2.06-2.06.94zm-11 1L8.5 8.5l.94-2.06 2.06-.94-2.06-.94L8.5 2.5l-.94 2.06-2.06.94zm10 10l.94 2.06.94-2.06 2.06-.94-2.06-.94-.94-2.06-.94 2.06-2.06.94z\"/><path d=\"M17.41 7.96l-1.37-1.37c-.4-.4-.92-.59-1.43-.59-.52 0-1.04.2-1.43.59L10.3 9.45l-7.72 7.72c-.78.78-.78 2.05 0 2.83L4 21.41c.39.39.9.59 1.41.59.51 0 1.02-.2 1.41-.59l7.78-7.78 2.81-2.81c.8-.78.8-2.07 0-2.86zM5.41 20L4 18.59l7.72-7.72 1.47 1.35L5.41 20z\"/>\n",
              "  </svg>\n",
              "      </button>\n",
              "      \n",
              "  <style>\n",
              "    .colab-df-container {\n",
              "      display:flex;\n",
              "      flex-wrap:wrap;\n",
              "      gap: 12px;\n",
              "    }\n",
              "\n",
              "    .colab-df-convert {\n",
              "      background-color: #E8F0FE;\n",
              "      border: none;\n",
              "      border-radius: 50%;\n",
              "      cursor: pointer;\n",
              "      display: none;\n",
              "      fill: #1967D2;\n",
              "      height: 32px;\n",
              "      padding: 0 0 0 0;\n",
              "      width: 32px;\n",
              "    }\n",
              "\n",
              "    .colab-df-convert:hover {\n",
              "      background-color: #E2EBFA;\n",
              "      box-shadow: 0px 1px 2px rgba(60, 64, 67, 0.3), 0px 1px 3px 1px rgba(60, 64, 67, 0.15);\n",
              "      fill: #174EA6;\n",
              "    }\n",
              "\n",
              "    [theme=dark] .colab-df-convert {\n",
              "      background-color: #3B4455;\n",
              "      fill: #D2E3FC;\n",
              "    }\n",
              "\n",
              "    [theme=dark] .colab-df-convert:hover {\n",
              "      background-color: #434B5C;\n",
              "      box-shadow: 0px 1px 3px 1px rgba(0, 0, 0, 0.15);\n",
              "      filter: drop-shadow(0px 1px 2px rgba(0, 0, 0, 0.3));\n",
              "      fill: #FFFFFF;\n",
              "    }\n",
              "  </style>\n",
              "\n",
              "      <script>\n",
              "        const buttonEl =\n",
              "          document.querySelector('#df-fd676383-cdca-416c-934f-90557719f9e2 button.colab-df-convert');\n",
              "        buttonEl.style.display =\n",
              "          google.colab.kernel.accessAllowed ? 'block' : 'none';\n",
              "\n",
              "        async function convertToInteractive(key) {\n",
              "          const element = document.querySelector('#df-fd676383-cdca-416c-934f-90557719f9e2');\n",
              "          const dataTable =\n",
              "            await google.colab.kernel.invokeFunction('convertToInteractive',\n",
              "                                                     [key], {});\n",
              "          if (!dataTable) return;\n",
              "\n",
              "          const docLinkHtml = 'Like what you see? Visit the ' +\n",
              "            '<a target=\"_blank\" href=https://colab.research.google.com/notebooks/data_table.ipynb>data table notebook</a>'\n",
              "            + ' to learn more about interactive tables.';\n",
              "          element.innerHTML = '';\n",
              "          dataTable['output_type'] = 'display_data';\n",
              "          await google.colab.output.renderOutput(dataTable, element);\n",
              "          const docLink = document.createElement('div');\n",
              "          docLink.innerHTML = docLinkHtml;\n",
              "          element.appendChild(docLink);\n",
              "        }\n",
              "      </script>\n",
              "    </div>\n",
              "  </div>\n",
              "  "
            ]
          },
          "metadata": {},
          "execution_count": 112
        }
      ]
    },
    {
      "cell_type": "code",
      "metadata": {
        "id": "EViluS49qAh0"
      },
      "source": [
        "user_tfidf = tf.fit_transform(final_poi_exper_view['pos_com_city1'])\n",
        "cosine_sim2 = linear_kernel(user_tfidf,user_tfidf)"
      ],
      "execution_count": 113,
      "outputs": []
    },
    {
      "cell_type": "code",
      "metadata": {
        "id": "UOkOKZjeqZAI",
        "colab": {
          "base_uri": "https://localhost:8080/"
        },
        "outputId": "6e582dfa-b0be-4f11-de4c-d33a3cd3ebb8"
      },
      "source": [
        "cosine_sim2.shape"
      ],
      "execution_count": 114,
      "outputs": [
        {
          "output_type": "execute_result",
          "data": {
            "text/plain": [
              "(7037, 7037)"
            ]
          },
          "metadata": {},
          "execution_count": 114
        }
      ]
    },
    {
      "cell_type": "code",
      "metadata": {
        "id": "yq5MjhuQr6RT",
        "colab": {
          "base_uri": "https://localhost:8080/"
        },
        "outputId": "0a106e56-f27e-44aa-b4b8-e0cf2bf4c88d"
      },
      "source": [
        "final_poi_exper_view = final_poi_exper_view.reset_index()\n",
        "userid =final_poi_exper_view['Applicant_id']\n",
        "indices2 = pd.Series(final_poi_exper_view.index, index=final_poi_exper_view['Applicant_id'])\n",
        "indices2.head()\n"
      ],
      "execution_count": 115,
      "outputs": [
        {
          "output_type": "execute_result",
          "data": {
            "text/plain": [
              "Applicant_id\n",
              "2     0\n",
              "3     1\n",
              "6     2\n",
              "8     3\n",
              "11    4\n",
              "dtype: int64"
            ]
          },
          "metadata": {},
          "execution_count": 115
        }
      ]
    },
    {
      "cell_type": "code",
      "metadata": {
        "id": "1Eb8yYFWte4X"
      },
      "source": [
        "def get_recommendations_userwise(userid):\n",
        "    idx = indices2[userid]\n",
        "    #print (idx)\n",
        "    sim_scores2 = list(enumerate(cosine_sim2[idx]))\n",
        "    #print (sim_scores2)\n",
        "    sim_scores2 = sorted(sim_scores2, key=lambda x: x[1], reverse=True)\n",
        "    user_indices = [i[0] for i in sim_scores2]\n",
        "    return final_poi_exper_view['Applicant_id'].loc[user_indices[0:11]]"
      ],
      "execution_count": 116,
      "outputs": []
    },
    {
      "cell_type": "code",
      "metadata": {
        "id": "sbLiL09HtyvZ",
        "colab": {
          "base_uri": "https://localhost:8080/"
        },
        "outputId": "f2850058-1e8a-4959-b605-a30ca90e0a95"
      },
      "source": [
        "print (\"-----Top 10 Similar users with Applicant_id: 11------\")\n",
        "get_recommendations_userwise(11)"
      ],
      "execution_count": 117,
      "outputs": [
        {
          "output_type": "stream",
          "name": "stdout",
          "text": [
            "-----Top 10 Similar users with Applicant_id: 11------\n"
          ]
        },
        {
          "output_type": "execute_result",
          "data": {
            "text/plain": [
              "4       11\n",
              "10      21\n",
              "14      26\n",
              "41      73\n",
              "47      83\n",
              "59     111\n",
              "63     118\n",
              "137    282\n",
              "270    728\n",
              "283    774\n",
              "306    868\n",
              "Name: Applicant_id, dtype: int64"
            ]
          },
          "metadata": {},
          "execution_count": 117
        }
      ]
    },
    {
      "cell_type": "code",
      "metadata": {
        "id": "lFsr5WzQt3uS"
      },
      "source": [
        "def get_job_id(usrid_list):\n",
        "    jobs_userwise2 = jobview['Applicant.ID'].isin(usrid_list) #\n",
        "    df3 = pd.DataFrame(data = jobview[jobs_userwise2], columns=['Job.ID'])\n",
        "    joblist = df3['Job.ID'].tolist()\n",
        "    Job_list = combinedjob['Job.ID'].isin(joblist) \n",
        "    df_temp2 = pd.DataFrame(data = combinedjob[Job_list], columns=['Job.ID','Title','Position','City','State.Name'])\n",
        "    return df_temp2"
      ],
      "execution_count": 118,
      "outputs": []
    },
    {
      "cell_type": "code",
      "metadata": {
        "id": "tkdtQsYjuG4A",
        "colab": {
          "base_uri": "https://localhost:8080/",
          "height": 112
        },
        "outputId": "da697a87-dc75-4d02-a5ba-cdb9e7e75d13"
      },
      "source": [
        "get_job_id(get_recommendations_userwise(10010))"
      ],
      "execution_count": 119,
      "outputs": [
        {
          "output_type": "execute_result",
          "data": {
            "text/plain": [
              "      Job.ID                                      Title  \\\n",
              "62    134344  Part-time Data Management Associate @ DST   \n",
              "2878  141452                          Security Officers   \n",
              "\n",
              "                                 Position         City State.Name  \n",
              "62    Part-time Data Management Associate  Kansas City   Missouri  \n",
              "2878                    Security Officers  Kansas City   Missouri  "
            ],
            "text/html": [
              "\n",
              "  <div id=\"df-d88f7e42-4dd7-4f77-9c8d-f4cea7d11193\">\n",
              "    <div class=\"colab-df-container\">\n",
              "      <div>\n",
              "<style scoped>\n",
              "    .dataframe tbody tr th:only-of-type {\n",
              "        vertical-align: middle;\n",
              "    }\n",
              "\n",
              "    .dataframe tbody tr th {\n",
              "        vertical-align: top;\n",
              "    }\n",
              "\n",
              "    .dataframe thead th {\n",
              "        text-align: right;\n",
              "    }\n",
              "</style>\n",
              "<table border=\"1\" class=\"dataframe\">\n",
              "  <thead>\n",
              "    <tr style=\"text-align: right;\">\n",
              "      <th></th>\n",
              "      <th>Job.ID</th>\n",
              "      <th>Title</th>\n",
              "      <th>Position</th>\n",
              "      <th>City</th>\n",
              "      <th>State.Name</th>\n",
              "    </tr>\n",
              "  </thead>\n",
              "  <tbody>\n",
              "    <tr>\n",
              "      <th>62</th>\n",
              "      <td>134344</td>\n",
              "      <td>Part-time Data Management Associate @ DST</td>\n",
              "      <td>Part-time Data Management Associate</td>\n",
              "      <td>Kansas City</td>\n",
              "      <td>Missouri</td>\n",
              "    </tr>\n",
              "    <tr>\n",
              "      <th>2878</th>\n",
              "      <td>141452</td>\n",
              "      <td>Security Officers</td>\n",
              "      <td>Security Officers</td>\n",
              "      <td>Kansas City</td>\n",
              "      <td>Missouri</td>\n",
              "    </tr>\n",
              "  </tbody>\n",
              "</table>\n",
              "</div>\n",
              "      <button class=\"colab-df-convert\" onclick=\"convertToInteractive('df-d88f7e42-4dd7-4f77-9c8d-f4cea7d11193')\"\n",
              "              title=\"Convert this dataframe to an interactive table.\"\n",
              "              style=\"display:none;\">\n",
              "        \n",
              "  <svg xmlns=\"http://www.w3.org/2000/svg\" height=\"24px\"viewBox=\"0 0 24 24\"\n",
              "       width=\"24px\">\n",
              "    <path d=\"M0 0h24v24H0V0z\" fill=\"none\"/>\n",
              "    <path d=\"M18.56 5.44l.94 2.06.94-2.06 2.06-.94-2.06-.94-.94-2.06-.94 2.06-2.06.94zm-11 1L8.5 8.5l.94-2.06 2.06-.94-2.06-.94L8.5 2.5l-.94 2.06-2.06.94zm10 10l.94 2.06.94-2.06 2.06-.94-2.06-.94-.94-2.06-.94 2.06-2.06.94z\"/><path d=\"M17.41 7.96l-1.37-1.37c-.4-.4-.92-.59-1.43-.59-.52 0-1.04.2-1.43.59L10.3 9.45l-7.72 7.72c-.78.78-.78 2.05 0 2.83L4 21.41c.39.39.9.59 1.41.59.51 0 1.02-.2 1.41-.59l7.78-7.78 2.81-2.81c.8-.78.8-2.07 0-2.86zM5.41 20L4 18.59l7.72-7.72 1.47 1.35L5.41 20z\"/>\n",
              "  </svg>\n",
              "      </button>\n",
              "      \n",
              "  <style>\n",
              "    .colab-df-container {\n",
              "      display:flex;\n",
              "      flex-wrap:wrap;\n",
              "      gap: 12px;\n",
              "    }\n",
              "\n",
              "    .colab-df-convert {\n",
              "      background-color: #E8F0FE;\n",
              "      border: none;\n",
              "      border-radius: 50%;\n",
              "      cursor: pointer;\n",
              "      display: none;\n",
              "      fill: #1967D2;\n",
              "      height: 32px;\n",
              "      padding: 0 0 0 0;\n",
              "      width: 32px;\n",
              "    }\n",
              "\n",
              "    .colab-df-convert:hover {\n",
              "      background-color: #E2EBFA;\n",
              "      box-shadow: 0px 1px 2px rgba(60, 64, 67, 0.3), 0px 1px 3px 1px rgba(60, 64, 67, 0.15);\n",
              "      fill: #174EA6;\n",
              "    }\n",
              "\n",
              "    [theme=dark] .colab-df-convert {\n",
              "      background-color: #3B4455;\n",
              "      fill: #D2E3FC;\n",
              "    }\n",
              "\n",
              "    [theme=dark] .colab-df-convert:hover {\n",
              "      background-color: #434B5C;\n",
              "      box-shadow: 0px 1px 3px 1px rgba(0, 0, 0, 0.15);\n",
              "      filter: drop-shadow(0px 1px 2px rgba(0, 0, 0, 0.3));\n",
              "      fill: #FFFFFF;\n",
              "    }\n",
              "  </style>\n",
              "\n",
              "      <script>\n",
              "        const buttonEl =\n",
              "          document.querySelector('#df-d88f7e42-4dd7-4f77-9c8d-f4cea7d11193 button.colab-df-convert');\n",
              "        buttonEl.style.display =\n",
              "          google.colab.kernel.accessAllowed ? 'block' : 'none';\n",
              "\n",
              "        async function convertToInteractive(key) {\n",
              "          const element = document.querySelector('#df-d88f7e42-4dd7-4f77-9c8d-f4cea7d11193');\n",
              "          const dataTable =\n",
              "            await google.colab.kernel.invokeFunction('convertToInteractive',\n",
              "                                                     [key], {});\n",
              "          if (!dataTable) return;\n",
              "\n",
              "          const docLinkHtml = 'Like what you see? Visit the ' +\n",
              "            '<a target=\"_blank\" href=https://colab.research.google.com/notebooks/data_table.ipynb>data table notebook</a>'\n",
              "            + ' to learn more about interactive tables.';\n",
              "          element.innerHTML = '';\n",
              "          dataTable['output_type'] = 'display_data';\n",
              "          await google.colab.output.renderOutput(dataTable, element);\n",
              "          const docLink = document.createElement('div');\n",
              "          docLink.innerHTML = docLinkHtml;\n",
              "          element.appendChild(docLink);\n",
              "        }\n",
              "      </script>\n",
              "    </div>\n",
              "  </div>\n",
              "  "
            ]
          },
          "metadata": {},
          "execution_count": 119
        }
      ]
    },
    {
      "cell_type": "code",
      "metadata": {
        "id": "u9cRNOpq6NAt",
        "colab": {
          "base_uri": "https://localhost:8080/"
        },
        "outputId": "c173e68b-0939-41f7-e15e-af11b258c697"
      },
      "source": [
        "applicant=final_poi_exper_view['Applicant_id'].unique()\n",
        "len(titles2)"
      ],
      "execution_count": 120,
      "outputs": [
        {
          "output_type": "execute_result",
          "data": {
            "text/plain": [
              "10788"
            ]
          },
          "metadata": {},
          "execution_count": 120
        }
      ]
    },
    {
      "cell_type": "code",
      "metadata": {
        "id": "oNF2KDEZ6mW3"
      },
      "source": [
        "df5=pd.DataFrame()\n",
        "count=0\n",
        "for i in applicant:\n",
        "  df4=get_job_id(get_recommendations_userwise(i))\n",
        "  df4['UserID']=i\n",
        "  df4=pd.DataFrame(df4)\n",
        "  df5=df5.append(df)"
      ],
      "execution_count": 121,
      "outputs": []
    },
    {
      "cell_type": "code",
      "metadata": {
        "id": "RYXvd4qd9F8W",
        "colab": {
          "base_uri": "https://localhost:8080/",
          "height": 424
        },
        "outputId": "194621b3-df0c-4c69-88af-8ee14f2ed0a8"
      },
      "source": [
        "df5"
      ],
      "execution_count": 122,
      "outputs": [
        {
          "output_type": "execute_result",
          "data": {
            "text/plain": [
              "      Applicant.ID                                              Tilte   JobID  \\\n",
              "5503         12733  Administrative experience in Life Insurance @ ...  249527   \n",
              "5891         12984  Administrative experience in Life Insurance @ ...  249527   \n",
              "5503         12733  Administrative experience in Life Insurance @ ...  249527   \n",
              "5891         12984  Administrative experience in Life Insurance @ ...  249527   \n",
              "5503         12733  Administrative experience in Life Insurance @ ...  249527   \n",
              "...            ...                                                ...     ...   \n",
              "5891         12984  Administrative experience in Life Insurance @ ...  249527   \n",
              "5503         12733  Administrative experience in Life Insurance @ ...  249527   \n",
              "5891         12984  Administrative experience in Life Insurance @ ...  249527   \n",
              "5503         12733  Administrative experience in Life Insurance @ ...  249527   \n",
              "5891         12984  Administrative experience in Life Insurance @ ...  249527   \n",
              "\n",
              "       City    State  \n",
              "5503  Miami  Florida  \n",
              "5891  Miami  Florida  \n",
              "5503  Miami  Florida  \n",
              "5891  Miami  Florida  \n",
              "5503  Miami  Florida  \n",
              "...     ...      ...  \n",
              "5891  Miami  Florida  \n",
              "5503  Miami  Florida  \n",
              "5891  Miami  Florida  \n",
              "5503  Miami  Florida  \n",
              "5891  Miami  Florida  \n",
              "\n",
              "[14074 rows x 5 columns]"
            ],
            "text/html": [
              "\n",
              "  <div id=\"df-cf96294d-9cbf-4ba7-8f0c-c3c815dc5f55\">\n",
              "    <div class=\"colab-df-container\">\n",
              "      <div>\n",
              "<style scoped>\n",
              "    .dataframe tbody tr th:only-of-type {\n",
              "        vertical-align: middle;\n",
              "    }\n",
              "\n",
              "    .dataframe tbody tr th {\n",
              "        vertical-align: top;\n",
              "    }\n",
              "\n",
              "    .dataframe thead th {\n",
              "        text-align: right;\n",
              "    }\n",
              "</style>\n",
              "<table border=\"1\" class=\"dataframe\">\n",
              "  <thead>\n",
              "    <tr style=\"text-align: right;\">\n",
              "      <th></th>\n",
              "      <th>Applicant.ID</th>\n",
              "      <th>Tilte</th>\n",
              "      <th>JobID</th>\n",
              "      <th>City</th>\n",
              "      <th>State</th>\n",
              "    </tr>\n",
              "  </thead>\n",
              "  <tbody>\n",
              "    <tr>\n",
              "      <th>5503</th>\n",
              "      <td>12733</td>\n",
              "      <td>Administrative experience in Life Insurance @ ...</td>\n",
              "      <td>249527</td>\n",
              "      <td>Miami</td>\n",
              "      <td>Florida</td>\n",
              "    </tr>\n",
              "    <tr>\n",
              "      <th>5891</th>\n",
              "      <td>12984</td>\n",
              "      <td>Administrative experience in Life Insurance @ ...</td>\n",
              "      <td>249527</td>\n",
              "      <td>Miami</td>\n",
              "      <td>Florida</td>\n",
              "    </tr>\n",
              "    <tr>\n",
              "      <th>5503</th>\n",
              "      <td>12733</td>\n",
              "      <td>Administrative experience in Life Insurance @ ...</td>\n",
              "      <td>249527</td>\n",
              "      <td>Miami</td>\n",
              "      <td>Florida</td>\n",
              "    </tr>\n",
              "    <tr>\n",
              "      <th>5891</th>\n",
              "      <td>12984</td>\n",
              "      <td>Administrative experience in Life Insurance @ ...</td>\n",
              "      <td>249527</td>\n",
              "      <td>Miami</td>\n",
              "      <td>Florida</td>\n",
              "    </tr>\n",
              "    <tr>\n",
              "      <th>5503</th>\n",
              "      <td>12733</td>\n",
              "      <td>Administrative experience in Life Insurance @ ...</td>\n",
              "      <td>249527</td>\n",
              "      <td>Miami</td>\n",
              "      <td>Florida</td>\n",
              "    </tr>\n",
              "    <tr>\n",
              "      <th>...</th>\n",
              "      <td>...</td>\n",
              "      <td>...</td>\n",
              "      <td>...</td>\n",
              "      <td>...</td>\n",
              "      <td>...</td>\n",
              "    </tr>\n",
              "    <tr>\n",
              "      <th>5891</th>\n",
              "      <td>12984</td>\n",
              "      <td>Administrative experience in Life Insurance @ ...</td>\n",
              "      <td>249527</td>\n",
              "      <td>Miami</td>\n",
              "      <td>Florida</td>\n",
              "    </tr>\n",
              "    <tr>\n",
              "      <th>5503</th>\n",
              "      <td>12733</td>\n",
              "      <td>Administrative experience in Life Insurance @ ...</td>\n",
              "      <td>249527</td>\n",
              "      <td>Miami</td>\n",
              "      <td>Florida</td>\n",
              "    </tr>\n",
              "    <tr>\n",
              "      <th>5891</th>\n",
              "      <td>12984</td>\n",
              "      <td>Administrative experience in Life Insurance @ ...</td>\n",
              "      <td>249527</td>\n",
              "      <td>Miami</td>\n",
              "      <td>Florida</td>\n",
              "    </tr>\n",
              "    <tr>\n",
              "      <th>5503</th>\n",
              "      <td>12733</td>\n",
              "      <td>Administrative experience in Life Insurance @ ...</td>\n",
              "      <td>249527</td>\n",
              "      <td>Miami</td>\n",
              "      <td>Florida</td>\n",
              "    </tr>\n",
              "    <tr>\n",
              "      <th>5891</th>\n",
              "      <td>12984</td>\n",
              "      <td>Administrative experience in Life Insurance @ ...</td>\n",
              "      <td>249527</td>\n",
              "      <td>Miami</td>\n",
              "      <td>Florida</td>\n",
              "    </tr>\n",
              "  </tbody>\n",
              "</table>\n",
              "<p>14074 rows × 5 columns</p>\n",
              "</div>\n",
              "      <button class=\"colab-df-convert\" onclick=\"convertToInteractive('df-cf96294d-9cbf-4ba7-8f0c-c3c815dc5f55')\"\n",
              "              title=\"Convert this dataframe to an interactive table.\"\n",
              "              style=\"display:none;\">\n",
              "        \n",
              "  <svg xmlns=\"http://www.w3.org/2000/svg\" height=\"24px\"viewBox=\"0 0 24 24\"\n",
              "       width=\"24px\">\n",
              "    <path d=\"M0 0h24v24H0V0z\" fill=\"none\"/>\n",
              "    <path d=\"M18.56 5.44l.94 2.06.94-2.06 2.06-.94-2.06-.94-.94-2.06-.94 2.06-2.06.94zm-11 1L8.5 8.5l.94-2.06 2.06-.94-2.06-.94L8.5 2.5l-.94 2.06-2.06.94zm10 10l.94 2.06.94-2.06 2.06-.94-2.06-.94-.94-2.06-.94 2.06-2.06.94z\"/><path d=\"M17.41 7.96l-1.37-1.37c-.4-.4-.92-.59-1.43-.59-.52 0-1.04.2-1.43.59L10.3 9.45l-7.72 7.72c-.78.78-.78 2.05 0 2.83L4 21.41c.39.39.9.59 1.41.59.51 0 1.02-.2 1.41-.59l7.78-7.78 2.81-2.81c.8-.78.8-2.07 0-2.86zM5.41 20L4 18.59l7.72-7.72 1.47 1.35L5.41 20z\"/>\n",
              "  </svg>\n",
              "      </button>\n",
              "      \n",
              "  <style>\n",
              "    .colab-df-container {\n",
              "      display:flex;\n",
              "      flex-wrap:wrap;\n",
              "      gap: 12px;\n",
              "    }\n",
              "\n",
              "    .colab-df-convert {\n",
              "      background-color: #E8F0FE;\n",
              "      border: none;\n",
              "      border-radius: 50%;\n",
              "      cursor: pointer;\n",
              "      display: none;\n",
              "      fill: #1967D2;\n",
              "      height: 32px;\n",
              "      padding: 0 0 0 0;\n",
              "      width: 32px;\n",
              "    }\n",
              "\n",
              "    .colab-df-convert:hover {\n",
              "      background-color: #E2EBFA;\n",
              "      box-shadow: 0px 1px 2px rgba(60, 64, 67, 0.3), 0px 1px 3px 1px rgba(60, 64, 67, 0.15);\n",
              "      fill: #174EA6;\n",
              "    }\n",
              "\n",
              "    [theme=dark] .colab-df-convert {\n",
              "      background-color: #3B4455;\n",
              "      fill: #D2E3FC;\n",
              "    }\n",
              "\n",
              "    [theme=dark] .colab-df-convert:hover {\n",
              "      background-color: #434B5C;\n",
              "      box-shadow: 0px 1px 3px 1px rgba(0, 0, 0, 0.15);\n",
              "      filter: drop-shadow(0px 1px 2px rgba(0, 0, 0, 0.3));\n",
              "      fill: #FFFFFF;\n",
              "    }\n",
              "  </style>\n",
              "\n",
              "      <script>\n",
              "        const buttonEl =\n",
              "          document.querySelector('#df-cf96294d-9cbf-4ba7-8f0c-c3c815dc5f55 button.colab-df-convert');\n",
              "        buttonEl.style.display =\n",
              "          google.colab.kernel.accessAllowed ? 'block' : 'none';\n",
              "\n",
              "        async function convertToInteractive(key) {\n",
              "          const element = document.querySelector('#df-cf96294d-9cbf-4ba7-8f0c-c3c815dc5f55');\n",
              "          const dataTable =\n",
              "            await google.colab.kernel.invokeFunction('convertToInteractive',\n",
              "                                                     [key], {});\n",
              "          if (!dataTable) return;\n",
              "\n",
              "          const docLinkHtml = 'Like what you see? Visit the ' +\n",
              "            '<a target=\"_blank\" href=https://colab.research.google.com/notebooks/data_table.ipynb>data table notebook</a>'\n",
              "            + ' to learn more about interactive tables.';\n",
              "          element.innerHTML = '';\n",
              "          dataTable['output_type'] = 'display_data';\n",
              "          await google.colab.output.renderOutput(dataTable, element);\n",
              "          const docLink = document.createElement('div');\n",
              "          docLink.innerHTML = docLinkHtml;\n",
              "          element.appendChild(docLink);\n",
              "        }\n",
              "      </script>\n",
              "    </div>\n",
              "  </div>\n",
              "  "
            ]
          },
          "metadata": {},
          "execution_count": 122
        }
      ]
    },
    {
      "cell_type": "markdown",
      "source": [
        "## user_job similarity"
      ],
      "metadata": {
        "id": "WIz_jUz7n1tc"
      }
    },
    {
      "cell_type": "code",
      "metadata": {
        "id": "AOv6FXoaOCN1"
      },
      "source": [
        "#!pip install -U turicreate"
      ],
      "execution_count": null,
      "outputs": []
    },
    {
      "cell_type": "code",
      "metadata": {
        "id": "CV9dqvf1MNdu",
        "colab": {
          "base_uri": "https://localhost:8080/",
          "height": 1000
        },
        "outputId": "a424cdd7-b9f0-43bc-dc5e-39fd6de48b43"
      },
      "source": [
        "import turicreate as tc\n",
        "jobview_sframe=tc.SFrame.read_csv('/content/drive/My Drive/DATA /Job_Views.csv')\n",
        "users_sframe=tc.SFrame.read_csv('/content/drive/My Drive/DATA /Experience.csv')\n",
        "jobs_sframe=tc.SFrame.read_csv('/content/drive/My Drive/DATA /Combined_Jobs_Final.csv')"
      ],
      "execution_count": null,
      "outputs": [
        {
          "output_type": "display_data",
          "data": {
            "text/html": [
              "<pre>Finished parsing file /content/drive/My Drive/DATA /Job_Views.csv</pre>"
            ],
            "text/plain": [
              "Finished parsing file /content/drive/My Drive/DATA /Job_Views.csv"
            ]
          },
          "metadata": {
            "tags": []
          }
        },
        {
          "output_type": "display_data",
          "data": {
            "text/html": [
              "<pre>Parsing completed. Parsed 100 lines in 0.13942 secs.</pre>"
            ],
            "text/plain": [
              "Parsing completed. Parsed 100 lines in 0.13942 secs."
            ]
          },
          "metadata": {
            "tags": []
          }
        },
        {
          "output_type": "stream",
          "text": [
            "------------------------------------------------------\n",
            "Inferred types from first 100 line(s) of file as \n",
            "column_type_hints=[int,int,str,str,str,str,str,str,str,str,str,int,str,str]\n",
            "If parsing fails due to incorrect types, you can correct\n",
            "the inferred type list above and pass it to read_csv in\n",
            "the column_type_hints argument\n",
            "------------------------------------------------------\n"
          ],
          "name": "stdout"
        },
        {
          "output_type": "display_data",
          "data": {
            "text/html": [
              "<pre>Finished parsing file /content/drive/My Drive/DATA /Job_Views.csv</pre>"
            ],
            "text/plain": [
              "Finished parsing file /content/drive/My Drive/DATA /Job_Views.csv"
            ]
          },
          "metadata": {
            "tags": []
          }
        },
        {
          "output_type": "display_data",
          "data": {
            "text/html": [
              "<pre>Parsing completed. Parsed 12370 lines in 0.08704 secs.</pre>"
            ],
            "text/plain": [
              "Parsing completed. Parsed 12370 lines in 0.08704 secs."
            ]
          },
          "metadata": {
            "tags": []
          }
        },
        {
          "output_type": "display_data",
          "data": {
            "text/html": [
              "<pre>Unexpected characters after last column. \"\"Starbucks\"\"\n",
              "Parse failed at token ending at: \n",
              "\t4-10-03 19:59:58 UTC\"\r\n",
              "3591,\"Assistant Manager\",\"Starbucks\",\u001b[1;31m^\u001b[0m\"\",\"\",\"\",\"2013-01-01\",\"\",NA,NA,NA,\"2014-10-03 19\n",
              "Successfully parsed 13 tokens: \n",
              "\t0: 3591\n",
              "\t1: BDC Sales \",\n",
              "\t2: Duncanville\n",
              "\t3: Texas\n",
              "\t4: TX\n",
              "\t5: 2014-06-27\n",
              "\t6: \n",
              "\t7: \n",
              "\t8: \n",
              "\t9: \n",
              "\t10: 2014-10-03 ... :59:58 UTC\n",
              "\t11: 2014-10-03 ... :59:58 UTC\n",
              "\t12: Assistant Manager</pre>"
            ],
            "text/plain": [
              "Unexpected characters after last column. \"\"Starbucks\"\"\n",
              "Parse failed at token ending at: \n",
              "\t4-10-03 19:59:58 UTC\"\r\n",
              "3591,\"Assistant Manager\",\"Starbucks\",\u001b[1;31m^\u001b[0m\"\",\"\",\"\",\"2013-01-01\",\"\",NA,NA,NA,\"2014-10-03 19\n",
              "Successfully parsed 13 tokens: \n",
              "\t0: 3591\n",
              "\t1: BDC Sales \",\n",
              "\t2: Duncanville\n",
              "\t3: Texas\n",
              "\t4: TX\n",
              "\t5: 2014-06-27\n",
              "\t6: \n",
              "\t7: \n",
              "\t8: \n",
              "\t9: \n",
              "\t10: 2014-10-03 ... :59:58 UTC\n",
              "\t11: 2014-10-03 ... :59:58 UTC\n",
              "\t12: Assistant Manager"
            ]
          },
          "metadata": {
            "tags": []
          }
        },
        {
          "output_type": "display_data",
          "data": {
            "text/html": [
              "<pre>Unexpected characters after last column. \"\"2010-12-01\"\"\n",
              "Parse failed at token ending at: \n",
              "\tCompany\",\"Orlando\",\"Florida\",\"FL\",\"2017-01-01\",\"2010-12-01\",\u001b[1;31m^\u001b[0m\"Disney is such a Big Company, but I worked on e\n",
              "Successfully parsed 13 tokens: \n",
              "\t0: Subjects are Math\n",
              "\t1: Biology\n",
              "\t2: Chemistry  ...  Physics.\"\n",
              "\t3: \n",
              "\t4: \n",
              "\t5: 2014-10-04 ... :06:55 UTC\n",
              "\t6: 2014-10-04 ... :06:55 UTC\n",
              "\t7: Host/Cashier\n",
              "\t8: Walt Disney Company\n",
              "\t9: Orlando\n",
              "\t10: Florida\n",
              "\t11: FL\n",
              "\t12: 2017-01-01</pre>"
            ],
            "text/plain": [
              "Unexpected characters after last column. \"\"2010-12-01\"\"\n",
              "Parse failed at token ending at: \n",
              "\tCompany\",\"Orlando\",\"Florida\",\"FL\",\"2017-01-01\",\"2010-12-01\",\u001b[1;31m^\u001b[0m\"Disney is such a Big Company, but I worked on e\n",
              "Successfully parsed 13 tokens: \n",
              "\t0: Subjects are Math\n",
              "\t1: Biology\n",
              "\t2: Chemistry  ...  Physics.\"\n",
              "\t3: \n",
              "\t4: \n",
              "\t5: 2014-10-04 ... :06:55 UTC\n",
              "\t6: 2014-10-04 ... :06:55 UTC\n",
              "\t7: Host/Cashier\n",
              "\t8: Walt Disney Company\n",
              "\t9: Orlando\n",
              "\t10: Florida\n",
              "\t11: FL\n",
              "\t12: 2017-01-01"
            ]
          },
          "metadata": {
            "tags": []
          }
        },
        {
          "output_type": "display_data",
          "data": {
            "text/html": [
              "<pre>Successfully parsed 3 tokens: \n",
              "\t0: •\tAssist ... th bathing\n",
              "\t1: oral hygiene\n",
              "\t2: grooming and feeding</pre>"
            ],
            "text/plain": [
              "Successfully parsed 3 tokens: \n",
              "\t0: •\tAssist ... th bathing\n",
              "\t1: oral hygiene\n",
              "\t2: grooming and feeding"
            ]
          },
          "metadata": {
            "tags": []
          }
        },
        {
          "output_type": "display_data",
          "data": {
            "text/html": [
              "<pre>Successfully parsed 3 tokens: \n",
              "\t0: •\tHelp r ... ut of beds\n",
              "\t1: showers\n",
              "\t2: and wheelchairs</pre>"
            ],
            "text/plain": [
              "Successfully parsed 3 tokens: \n",
              "\t0: •\tHelp r ... ut of beds\n",
              "\t1: showers\n",
              "\t2: and wheelchairs"
            ]
          },
          "metadata": {
            "tags": []
          }
        },
        {
          "output_type": "display_data",
          "data": {
            "text/html": [
              "<pre>Successfully parsed 1 tokens: \n",
              "\t0: •\tReport ... nvironment</pre>"
            ],
            "text/plain": [
              "Successfully parsed 1 tokens: \n",
              "\t0: •\tReport ... nvironment"
            ]
          },
          "metadata": {
            "tags": []
          }
        },
        {
          "output_type": "display_data",
          "data": {
            "text/html": [
              "<pre>Successfully parsed 1 tokens: \n",
              "\t0: •\tExperi ... heimer’s</pre>"
            ],
            "text/plain": [
              "Successfully parsed 1 tokens: \n",
              "\t0: •\tExperi ... heimer’s"
            ]
          },
          "metadata": {
            "tags": []
          }
        },
        {
          "output_type": "display_data",
          "data": {
            "text/html": [
              "<pre>Successfully parsed 11 tokens: \n",
              "\t0: ,10.5,\n",
              "\t1: 2014-10-04 ... :33:09 UTC\n",
              "\t2: 2014-10-04 ... :33:09 UTC\n",
              "\t3: Crew Trainer\n",
              "\t4: McDonald's\n",
              "\t5: Murrieta\n",
              "\t6: California\n",
              "\t7: CA\n",
              "\t8: 2011-09-22\n",
              "\t9: 2013-09-12\n",
              "\t10: •\tImmedi ... o manager.</pre>"
            ],
            "text/plain": [
              "Successfully parsed 11 tokens: \n",
              "\t0: ,10.5,\n",
              "\t1: 2014-10-04 ... :33:09 UTC\n",
              "\t2: 2014-10-04 ... :33:09 UTC\n",
              "\t3: Crew Trainer\n",
              "\t4: McDonald's\n",
              "\t5: Murrieta\n",
              "\t6: California\n",
              "\t7: CA\n",
              "\t8: 2011-09-22\n",
              "\t9: 2013-09-12\n",
              "\t10: •\tImmedi ... o manager."
            ]
          },
          "metadata": {
            "tags": []
          }
        },
        {
          "output_type": "display_data",
          "data": {
            "text/html": [
              "<pre>Successfully parsed 1 tokens: \n",
              "\t0: •\tDevelo ... ess goals.</pre>"
            ],
            "text/plain": [
              "Successfully parsed 1 tokens: \n",
              "\t0: •\tDevelo ... ess goals."
            ]
          },
          "metadata": {
            "tags": []
          }
        },
        {
          "output_type": "display_data",
          "data": {
            "text/html": [
              "<pre>Successfully parsed 1 tokens: \n",
              "\t0: •\tTraine ... employees.</pre>"
            ],
            "text/plain": [
              "Successfully parsed 1 tokens: \n",
              "\t0: •\tTraine ... employees."
            ]
          },
          "metadata": {
            "tags": []
          }
        },
        {
          "output_type": "display_data",
          "data": {
            "text/html": [
              "<pre>Successfully parsed 1 tokens: \n",
              "\t0: •\tResolv ... ficiently.</pre>"
            ],
            "text/plain": [
              "Successfully parsed 1 tokens: \n",
              "\t0: •\tResolv ... ficiently."
            ]
          },
          "metadata": {
            "tags": []
          }
        },
        {
          "output_type": "display_data",
          "data": {
            "text/html": [
              "<pre>3928 lines failed to parse correctly</pre>"
            ],
            "text/plain": [
              "3928 lines failed to parse correctly"
            ]
          },
          "metadata": {
            "tags": []
          }
        },
        {
          "output_type": "display_data",
          "data": {
            "text/html": [
              "<pre>Finished parsing file /content/drive/My Drive/DATA /Experience.csv</pre>"
            ],
            "text/plain": [
              "Finished parsing file /content/drive/My Drive/DATA /Experience.csv"
            ]
          },
          "metadata": {
            "tags": []
          }
        },
        {
          "output_type": "display_data",
          "data": {
            "text/html": [
              "<pre>Parsing completed. Parsed 100 lines in 0.106434 secs.</pre>"
            ],
            "text/plain": [
              "Parsing completed. Parsed 100 lines in 0.106434 secs."
            ]
          },
          "metadata": {
            "tags": []
          }
        },
        {
          "output_type": "stream",
          "text": [
            "------------------------------------------------------\n",
            "Inferred types from first 100 line(s) of file as \n",
            "column_type_hints=[int,str,str,str,str,str,str,str,str,float,str,str,str]\n",
            "If parsing fails due to incorrect types, you can correct\n",
            "the inferred type list above and pass it to read_csv in\n",
            "the column_type_hints argument\n",
            "------------------------------------------------------\n"
          ],
          "name": "stdout"
        },
        {
          "output_type": "display_data",
          "data": {
            "text/html": [
              "<pre>Unexpected characters after last column. \"\"Starbucks\"\"\n",
              "Parse failed at token ending at: \n",
              "\t4-10-03 19:59:58 UTC\"\r\n",
              "3591,\"Assistant Manager\",\"Starbucks\",\u001b[1;31m^\u001b[0m\"\",\"\",\"\",\"2013-01-01\",\"\",NA,NA,NA,\"2014-10-03 19\n",
              "Successfully parsed 13 tokens: \n",
              "\t0: 3591\n",
              "\t1: BDC Sales  ... ley Nissan\n",
              "\t2: Duncanville\n",
              "\t3: Texas\n",
              "\t4: TX\n",
              "\t5: 2014-06-27\n",
              "\t6: \n",
              "\t7: \n",
              "\t8: \n",
              "\t9: \n",
              "\t10: 2014-10-03 ... :59:58 UTC\n",
              "\t11: \"2014-10-0 ... UTC\"\r\n",
              "3591\n",
              "\t12: Assistant Manager</pre>"
            ],
            "text/plain": [
              "Unexpected characters after last column. \"\"Starbucks\"\"\n",
              "Parse failed at token ending at: \n",
              "\t4-10-03 19:59:58 UTC\"\r\n",
              "3591,\"Assistant Manager\",\"Starbucks\",\u001b[1;31m^\u001b[0m\"\",\"\",\"\",\"2013-01-01\",\"\",NA,NA,NA,\"2014-10-03 19\n",
              "Successfully parsed 13 tokens: \n",
              "\t0: 3591\n",
              "\t1: BDC Sales  ... ley Nissan\n",
              "\t2: Duncanville\n",
              "\t3: Texas\n",
              "\t4: TX\n",
              "\t5: 2014-06-27\n",
              "\t6: \n",
              "\t7: \n",
              "\t8: \n",
              "\t9: \n",
              "\t10: 2014-10-03 ... :59:58 UTC\n",
              "\t11: \"2014-10-0 ... UTC\"\r\n",
              "3591\n",
              "\t12: Assistant Manager"
            ]
          },
          "metadata": {
            "tags": []
          }
        },
        {
          "output_type": "display_data",
          "data": {
            "text/html": [
              "<pre>Unable to interpret \"Subjects are Math\" as a integer\n",
              "Parse failed at token ending at: \n",
              "\tSubjects are Math,\u001b[1;31m^\u001b[0m Biology, Chemistry and Physics.\",NA,NA,\"2014-10\n",
              "Successfully parsed 0 tokens:</pre>"
            ],
            "text/plain": [
              "Unable to interpret \"Subjects are Math\" as a integer\n",
              "Parse failed at token ending at: \n",
              "\tSubjects are Math,\u001b[1;31m^\u001b[0m Biology, Chemistry and Physics.\",NA,NA,\"2014-10\n",
              "Successfully parsed 0 tokens:"
            ]
          },
          "metadata": {
            "tags": []
          }
        },
        {
          "output_type": "display_data",
          "data": {
            "text/html": [
              "<pre>Unable to interpret \"•\tAssist residents with bathing\" as a integer\n",
              "Parse failed at token ending at: \n",
              "\t•\tAssist residents with bathing,\u001b[1;31m^\u001b[0m oral hygiene, grooming and feeding\n",
              "Successfully parsed 0 tokens:</pre>"
            ],
            "text/plain": [
              "Unable to interpret \"•\tAssist residents with bathing\" as a integer\n",
              "Parse failed at token ending at: \n",
              "\t•\tAssist residents with bathing,\u001b[1;31m^\u001b[0m oral hygiene, grooming and feeding\n",
              "Successfully parsed 0 tokens:"
            ]
          },
          "metadata": {
            "tags": []
          }
        },
        {
          "output_type": "display_data",
          "data": {
            "text/html": [
              "<pre>Unable to interpret \"•\tHelp residents move in and out of beds\" as a integer\n",
              "Parse failed at token ending at: \n",
              "\t•\tHelp residents move in and out of beds,\u001b[1;31m^\u001b[0m showers, and wheelchairs\n",
              "Successfully parsed 0 tokens:</pre>"
            ],
            "text/plain": [
              "Unable to interpret \"•\tHelp residents move in and out of beds\" as a integer\n",
              "Parse failed at token ending at: \n",
              "\t•\tHelp residents move in and out of beds,\u001b[1;31m^\u001b[0m showers, and wheelchairs\n",
              "Successfully parsed 0 tokens:"
            ]
          },
          "metadata": {
            "tags": []
          }
        },
        {
          "output_type": "display_data",
          "data": {
            "text/html": [
              "<pre>Unable to interpret \"•\tReport any unusual circumstances with residents’  condition or environment\" as a integer\n",
              "Parse failed at token ending at: \n",
              "\t•\tReport any unusual circumstances with residents’  condition or environment\u001b[1;31m^\u001b[0m\n",
              "Successfully parsed 0 tokens:</pre>"
            ],
            "text/plain": [
              "Unable to interpret \"•\tReport any unusual circumstances with residents’  condition or environment\" as a integer\n",
              "Parse failed at token ending at: \n",
              "\t•\tReport any unusual circumstances with residents’  condition or environment\u001b[1;31m^\u001b[0m\n",
              "Successfully parsed 0 tokens:"
            ]
          },
          "metadata": {
            "tags": []
          }
        },
        {
          "output_type": "display_data",
          "data": {
            "text/html": [
              "<pre>Unable to interpret \"•\tExperience with dementia and Alzheimer’s \" as a integer\n",
              "Parse failed at token ending at: \n",
              "\t•\tExperience with dementia and Alzheimer’s \u001b[1;31m^\u001b[0m\n",
              "Successfully parsed 0 tokens:</pre>"
            ],
            "text/plain": [
              "Unable to interpret \"•\tExperience with dementia and Alzheimer’s \" as a integer\n",
              "Parse failed at token ending at: \n",
              "\t•\tExperience with dementia and Alzheimer’s \u001b[1;31m^\u001b[0m\n",
              "Successfully parsed 0 tokens:"
            ]
          },
          "metadata": {
            "tags": []
          }
        },
        {
          "output_type": "display_data",
          "data": {
            "text/html": [
              "<pre>Unable to interpret \"\",10.5,\"true\"\" as a integer\n",
              "Parse failed at token ending at: \n",
              "\t\",10.5,\"true\",\u001b[1;31m^\u001b[0m\"2014-10-04 17:33:09 UTC\",\"2014-10-04 17:33:09 UTC\"\r\n",
              "3622,\"Crew Trainer\",\"McDonald's\",\"Murrieta\",\"California\",\"CA\",\"2011-09-22\",\"2013-09-12\",\"•\tImmediately reported accidents, injuries or unsafe work conditions to manager.\n",
              "Successfully parsed 0 tokens:</pre>"
            ],
            "text/plain": [
              "Unable to interpret \"\",10.5,\"true\"\" as a integer\n",
              "Parse failed at token ending at: \n",
              "\t\",10.5,\"true\",\u001b[1;31m^\u001b[0m\"2014-10-04 17:33:09 UTC\",\"2014-10-04 17:33:09 UTC\"\r\n",
              "3622,\"Crew Trainer\",\"McDonald's\",\"Murrieta\",\"California\",\"CA\",\"2011-09-22\",\"2013-09-12\",\"•\tImmediately reported accidents, injuries or unsafe work conditions to manager.\n",
              "Successfully parsed 0 tokens:"
            ]
          },
          "metadata": {
            "tags": []
          }
        },
        {
          "output_type": "display_data",
          "data": {
            "text/html": [
              "<pre>Unable to interpret \"•\tDeveloped and maintained positive working relationships with others to reach business goals.\" as a integer\n",
              "Parse failed at token ending at: \n",
              "\t•\tDeveloped and maintained positive working relationships with others to reach business goals.\u001b[1;31m^\u001b[0m\n",
              "Successfully parsed 0 tokens:</pre>"
            ],
            "text/plain": [
              "Unable to interpret \"•\tDeveloped and maintained positive working relationships with others to reach business goals.\" as a integer\n",
              "Parse failed at token ending at: \n",
              "\t•\tDeveloped and maintained positive working relationships with others to reach business goals.\u001b[1;31m^\u001b[0m\n",
              "Successfully parsed 0 tokens:"
            ]
          },
          "metadata": {
            "tags": []
          }
        },
        {
          "output_type": "display_data",
          "data": {
            "text/html": [
              "<pre>Unable to interpret \"•\tTrained new employees.\" as a integer\n",
              "Parse failed at token ending at: \n",
              "\t•\tTrained new employees.\u001b[1;31m^\u001b[0m\n",
              "Successfully parsed 0 tokens:</pre>"
            ],
            "text/plain": [
              "Unable to interpret \"•\tTrained new employees.\" as a integer\n",
              "Parse failed at token ending at: \n",
              "\t•\tTrained new employees.\u001b[1;31m^\u001b[0m\n",
              "Successfully parsed 0 tokens:"
            ]
          },
          "metadata": {
            "tags": []
          }
        },
        {
          "output_type": "display_data",
          "data": {
            "text/html": [
              "<pre>Unable to interpret \"•\tResolved complaints quickly and efficiently.\" as a integer\n",
              "Parse failed at token ending at: \n",
              "\t•\tResolved complaints quickly and efficiently.\u001b[1;31m^\u001b[0m\n",
              "Successfully parsed 0 tokens:</pre>"
            ],
            "text/plain": [
              "Unable to interpret \"•\tResolved complaints quickly and efficiently.\" as a integer\n",
              "Parse failed at token ending at: \n",
              "\t•\tResolved complaints quickly and efficiently.\u001b[1;31m^\u001b[0m\n",
              "Successfully parsed 0 tokens:"
            ]
          },
          "metadata": {
            "tags": []
          }
        },
        {
          "output_type": "display_data",
          "data": {
            "text/html": [
              "<pre>4272 lines failed to parse correctly</pre>"
            ],
            "text/plain": [
              "4272 lines failed to parse correctly"
            ]
          },
          "metadata": {
            "tags": []
          }
        },
        {
          "output_type": "display_data",
          "data": {
            "text/html": [
              "<pre>Finished parsing file /content/drive/My Drive/DATA /Experience.csv</pre>"
            ],
            "text/plain": [
              "Finished parsing file /content/drive/My Drive/DATA /Experience.csv"
            ]
          },
          "metadata": {
            "tags": []
          }
        },
        {
          "output_type": "display_data",
          "data": {
            "text/html": [
              "<pre>Parsing completed. Parsed 4363 lines in 0.084424 secs.</pre>"
            ],
            "text/plain": [
              "Parsing completed. Parsed 4363 lines in 0.084424 secs."
            ]
          },
          "metadata": {
            "tags": []
          }
        },
        {
          "output_type": "display_data",
          "data": {
            "text/html": [
              "<pre>Finished parsing file /content/drive/My Drive/DATA /Combined_Jobs_Final.csv</pre>"
            ],
            "text/plain": [
              "Finished parsing file /content/drive/My Drive/DATA /Combined_Jobs_Final.csv"
            ]
          },
          "metadata": {
            "tags": []
          }
        },
        {
          "output_type": "display_data",
          "data": {
            "text/html": [
              "<pre>Parsing completed. Parsed 100 lines in 1.2602 secs.</pre>"
            ],
            "text/plain": [
              "Parsing completed. Parsed 100 lines in 1.2602 secs."
            ]
          },
          "metadata": {
            "tags": []
          }
        },
        {
          "output_type": "stream",
          "text": [
            "------------------------------------------------------\n",
            "Inferred types from first 100 line(s) of file as \n",
            "column_type_hints=[int,int,str,str,str,str,str,str,str,str,str,float,float,str,str,str,float,str,str,str,str,str,str]\n",
            "If parsing fails due to incorrect types, you can correct\n",
            "the inferred type list above and pass it to read_csv in\n",
            "the column_type_hints argument\n",
            "------------------------------------------------------\n"
          ],
          "name": "stdout"
        },
        {
          "output_type": "display_data",
          "data": {
            "text/html": [
              "<pre>Read 27898 lines. Lines per second: 18049.7</pre>"
            ],
            "text/plain": [
              "Read 27898 lines. Lines per second: 18049.7"
            ]
          },
          "metadata": {
            "tags": []
          }
        },
        {
          "output_type": "display_data",
          "data": {
            "text/html": [
              "<pre>Finished parsing file /content/drive/My Drive/DATA /Combined_Jobs_Final.csv</pre>"
            ],
            "text/plain": [
              "Finished parsing file /content/drive/My Drive/DATA /Combined_Jobs_Final.csv"
            ]
          },
          "metadata": {
            "tags": []
          }
        },
        {
          "output_type": "display_data",
          "data": {
            "text/html": [
              "<pre>Parsing completed. Parsed 84090 lines in 2.59429 secs.</pre>"
            ],
            "text/plain": [
              "Parsing completed. Parsed 84090 lines in 2.59429 secs."
            ]
          },
          "metadata": {
            "tags": []
          }
        }
      ]
    },
    {
      "cell_type": "code",
      "metadata": {
        "id": "hW58qsssQgsf",
        "colab": {
          "base_uri": "https://localhost:8080/",
          "height": 462
        },
        "outputId": "da4093e4-8e60-44f5-dfdd-819e8a4f8b9f"
      },
      "source": [
        "m = tc.item_similarity_recommender.create(jobview_sframe,\n",
        "                                    user_id='Applicant.ID',\n",
        "                                    item_id='Job.ID',\n",
        "                                    similarity_type=\"jaccard\",\n",
        "                                    )"
      ],
      "execution_count": null,
      "outputs": [
        {
          "output_type": "display_data",
          "data": {
            "text/html": [
              "<pre>Warning: Ignoring columns Title, Position, Company, City, State.Name, State.Code, Industry, View.Start, View.End, View.Duration, Created.At, Updated.At;</pre>"
            ],
            "text/plain": [
              "Warning: Ignoring columns Title, Position, Company, City, State.Name, State.Code, Industry, View.Start, View.End, View.Duration, Created.At, Updated.At;"
            ]
          },
          "metadata": {
            "tags": []
          }
        },
        {
          "output_type": "display_data",
          "data": {
            "text/html": [
              "<pre> To use one of these as a rating column, specify the column name to be used as target</pre>"
            ],
            "text/plain": [
              " To use one of these as a rating column, specify the column name to be used as target"
            ]
          },
          "metadata": {
            "tags": []
          }
        },
        {
          "output_type": "display_data",
          "data": {
            "text/html": [
              "<pre>    and use a method that allows the use of a target.</pre>"
            ],
            "text/plain": [
              "    and use a method that allows the use of a target."
            ]
          },
          "metadata": {
            "tags": []
          }
        },
        {
          "output_type": "display_data",
          "data": {
            "text/html": [
              "<pre>Preparing data set.</pre>"
            ],
            "text/plain": [
              "Preparing data set."
            ]
          },
          "metadata": {
            "tags": []
          }
        },
        {
          "output_type": "display_data",
          "data": {
            "text/html": [
              "<pre>    Data has 12370 observations with 3448 users and 7047 items.</pre>"
            ],
            "text/plain": [
              "    Data has 12370 observations with 3448 users and 7047 items."
            ]
          },
          "metadata": {
            "tags": []
          }
        },
        {
          "output_type": "display_data",
          "data": {
            "text/html": [
              "<pre>    Data prepared in: 0.030645s</pre>"
            ],
            "text/plain": [
              "    Data prepared in: 0.030645s"
            ]
          },
          "metadata": {
            "tags": []
          }
        },
        {
          "output_type": "display_data",
          "data": {
            "text/html": [
              "<pre>Training model from provided data.</pre>"
            ],
            "text/plain": [
              "Training model from provided data."
            ]
          },
          "metadata": {
            "tags": []
          }
        },
        {
          "output_type": "display_data",
          "data": {
            "text/html": [
              "<pre>Gathering per-item and per-user statistics.</pre>"
            ],
            "text/plain": [
              "Gathering per-item and per-user statistics."
            ]
          },
          "metadata": {
            "tags": []
          }
        },
        {
          "output_type": "display_data",
          "data": {
            "text/html": [
              "<pre>+--------------------------------+------------+</pre>"
            ],
            "text/plain": [
              "+--------------------------------+------------+"
            ]
          },
          "metadata": {
            "tags": []
          }
        },
        {
          "output_type": "display_data",
          "data": {
            "text/html": [
              "<pre>| Elapsed Time (Item Statistics) | % Complete |</pre>"
            ],
            "text/plain": [
              "| Elapsed Time (Item Statistics) | % Complete |"
            ]
          },
          "metadata": {
            "tags": []
          }
        },
        {
          "output_type": "display_data",
          "data": {
            "text/html": [
              "<pre>+--------------------------------+------------+</pre>"
            ],
            "text/plain": [
              "+--------------------------------+------------+"
            ]
          },
          "metadata": {
            "tags": []
          }
        },
        {
          "output_type": "display_data",
          "data": {
            "text/html": [
              "<pre>| 492us                          | 29         |</pre>"
            ],
            "text/plain": [
              "| 492us                          | 29         |"
            ]
          },
          "metadata": {
            "tags": []
          }
        },
        {
          "output_type": "display_data",
          "data": {
            "text/html": [
              "<pre>| 1.213ms                        | 100        |</pre>"
            ],
            "text/plain": [
              "| 1.213ms                        | 100        |"
            ]
          },
          "metadata": {
            "tags": []
          }
        },
        {
          "output_type": "display_data",
          "data": {
            "text/html": [
              "<pre>+--------------------------------+------------+</pre>"
            ],
            "text/plain": [
              "+--------------------------------+------------+"
            ]
          },
          "metadata": {
            "tags": []
          }
        },
        {
          "output_type": "display_data",
          "data": {
            "text/html": [
              "<pre>Setting up lookup tables.</pre>"
            ],
            "text/plain": [
              "Setting up lookup tables."
            ]
          },
          "metadata": {
            "tags": []
          }
        },
        {
          "output_type": "display_data",
          "data": {
            "text/html": [
              "<pre>Processing data in one pass using dense lookup tables.</pre>"
            ],
            "text/plain": [
              "Processing data in one pass using dense lookup tables."
            ]
          },
          "metadata": {
            "tags": []
          }
        },
        {
          "output_type": "display_data",
          "data": {
            "text/html": [
              "<pre>+-------------------------------------+------------------+-----------------+</pre>"
            ],
            "text/plain": [
              "+-------------------------------------+------------------+-----------------+"
            ]
          },
          "metadata": {
            "tags": []
          }
        },
        {
          "output_type": "display_data",
          "data": {
            "text/html": [
              "<pre>| Elapsed Time (Constructing Lookups) | Total % Complete | Items Processed |</pre>"
            ],
            "text/plain": [
              "| Elapsed Time (Constructing Lookups) | Total % Complete | Items Processed |"
            ]
          },
          "metadata": {
            "tags": []
          }
        },
        {
          "output_type": "display_data",
          "data": {
            "text/html": [
              "<pre>+-------------------------------------+------------------+-----------------+</pre>"
            ],
            "text/plain": [
              "+-------------------------------------+------------------+-----------------+"
            ]
          },
          "metadata": {
            "tags": []
          }
        },
        {
          "output_type": "display_data",
          "data": {
            "text/html": [
              "<pre>| 81.672ms                            | 0                | 0               |</pre>"
            ],
            "text/plain": [
              "| 81.672ms                            | 0                | 0               |"
            ]
          },
          "metadata": {
            "tags": []
          }
        },
        {
          "output_type": "display_data",
          "data": {
            "text/html": [
              "<pre>| 529.466ms                           | 100              | 7047            |</pre>"
            ],
            "text/plain": [
              "| 529.466ms                           | 100              | 7047            |"
            ]
          },
          "metadata": {
            "tags": []
          }
        },
        {
          "output_type": "display_data",
          "data": {
            "text/html": [
              "<pre>+-------------------------------------+------------------+-----------------+</pre>"
            ],
            "text/plain": [
              "+-------------------------------------+------------------+-----------------+"
            ]
          },
          "metadata": {
            "tags": []
          }
        },
        {
          "output_type": "display_data",
          "data": {
            "text/html": [
              "<pre>Finalizing lookup tables.</pre>"
            ],
            "text/plain": [
              "Finalizing lookup tables."
            ]
          },
          "metadata": {
            "tags": []
          }
        },
        {
          "output_type": "display_data",
          "data": {
            "text/html": [
              "<pre>Generating candidate set for working with new users.</pre>"
            ],
            "text/plain": [
              "Generating candidate set for working with new users."
            ]
          },
          "metadata": {
            "tags": []
          }
        },
        {
          "output_type": "display_data",
          "data": {
            "text/html": [
              "<pre>Finished training in 0.533955s</pre>"
            ],
            "text/plain": [
              "Finished training in 0.533955s"
            ]
          },
          "metadata": {
            "tags": []
          }
        }
      ]
    },
    {
      "cell_type": "code",
      "metadata": {
        "id": "8rDCIx9bS4mY"
      },
      "source": [
        "ID_list=list(pd.unique(jobview_sframe['Applicant.ID']))"
      ],
      "execution_count": null,
      "outputs": []
    },
    {
      "cell_type": "code",
      "metadata": {
        "id": "hYswEEQHQohp",
        "colab": {
          "base_uri": "https://localhost:8080/",
          "height": 68
        },
        "outputId": "2f29836d-5234-4683-ca82-3f90909f4b69"
      },
      "source": [
        "item_sim_recomm = m.recommend(items =ID_list,k=15)"
      ],
      "execution_count": null,
      "outputs": [
        {
          "output_type": "display_data",
          "data": {
            "text/html": [
              "<pre>recommendations finished on 1000/3448 queries. users per second: 23365.6</pre>"
            ],
            "text/plain": [
              "recommendations finished on 1000/3448 queries. users per second: 23365.6"
            ]
          },
          "metadata": {
            "tags": []
          }
        },
        {
          "output_type": "display_data",
          "data": {
            "text/html": [
              "<pre>recommendations finished on 2000/3448 queries. users per second: 22050.2</pre>"
            ],
            "text/plain": [
              "recommendations finished on 2000/3448 queries. users per second: 22050.2"
            ]
          },
          "metadata": {
            "tags": []
          }
        },
        {
          "output_type": "display_data",
          "data": {
            "text/html": [
              "<pre>recommendations finished on 3000/3448 queries. users per second: 23072.8</pre>"
            ],
            "text/plain": [
              "recommendations finished on 3000/3448 queries. users per second: 23072.8"
            ]
          },
          "metadata": {
            "tags": []
          }
        }
      ]
    },
    {
      "cell_type": "code",
      "metadata": {
        "id": "LFl7yR0FMurF",
        "colab": {
          "base_uri": "https://localhost:8080/",
          "height": 279
        },
        "outputId": "cdd30962-8b05-489d-b704-c435447a9fc5"
      },
      "source": [
        "item_sim_recomm[[\"Applicant.ID\",\"Job.ID\"]]"
      ],
      "execution_count": null,
      "outputs": [
        {
          "output_type": "execute_result",
          "data": {
            "text/html": [
              "<div style=\"max-height:1000px;max-width:1500px;overflow:auto;\"><table frame=\"box\" rules=\"cols\">\n",
              "    <tr>\n",
              "        <th style=\"padding-left: 1em; padding-right: 1em; text-align: center\">Applicant.ID</th>\n",
              "        <th style=\"padding-left: 1em; padding-right: 1em; text-align: center\">Job.ID</th>\n",
              "    </tr>\n",
              "    <tr>\n",
              "        <td style=\"padding-left: 1em; padding-right: 1em; text-align: center; vertical-align: top\">10000</td>\n",
              "        <td style=\"padding-left: 1em; padding-right: 1em; text-align: center; vertical-align: top\">14272</td>\n",
              "    </tr>\n",
              "    <tr>\n",
              "        <td style=\"padding-left: 1em; padding-right: 1em; text-align: center; vertical-align: top\">10000</td>\n",
              "        <td style=\"padding-left: 1em; padding-right: 1em; text-align: center; vertical-align: top\">14251</td>\n",
              "    </tr>\n",
              "    <tr>\n",
              "        <td style=\"padding-left: 1em; padding-right: 1em; text-align: center; vertical-align: top\">10000</td>\n",
              "        <td style=\"padding-left: 1em; padding-right: 1em; text-align: center; vertical-align: top\">14252</td>\n",
              "    </tr>\n",
              "    <tr>\n",
              "        <td style=\"padding-left: 1em; padding-right: 1em; text-align: center; vertical-align: top\">10000</td>\n",
              "        <td style=\"padding-left: 1em; padding-right: 1em; text-align: center; vertical-align: top\">14254</td>\n",
              "    </tr>\n",
              "    <tr>\n",
              "        <td style=\"padding-left: 1em; padding-right: 1em; text-align: center; vertical-align: top\">10000</td>\n",
              "        <td style=\"padding-left: 1em; padding-right: 1em; text-align: center; vertical-align: top\">14255</td>\n",
              "    </tr>\n",
              "    <tr>\n",
              "        <td style=\"padding-left: 1em; padding-right: 1em; text-align: center; vertical-align: top\">10000</td>\n",
              "        <td style=\"padding-left: 1em; padding-right: 1em; text-align: center; vertical-align: top\">14256</td>\n",
              "    </tr>\n",
              "    <tr>\n",
              "        <td style=\"padding-left: 1em; padding-right: 1em; text-align: center; vertical-align: top\">10000</td>\n",
              "        <td style=\"padding-left: 1em; padding-right: 1em; text-align: center; vertical-align: top\">14257</td>\n",
              "    </tr>\n",
              "    <tr>\n",
              "        <td style=\"padding-left: 1em; padding-right: 1em; text-align: center; vertical-align: top\">10000</td>\n",
              "        <td style=\"padding-left: 1em; padding-right: 1em; text-align: center; vertical-align: top\">14258</td>\n",
              "    </tr>\n",
              "    <tr>\n",
              "        <td style=\"padding-left: 1em; padding-right: 1em; text-align: center; vertical-align: top\">10000</td>\n",
              "        <td style=\"padding-left: 1em; padding-right: 1em; text-align: center; vertical-align: top\">14259</td>\n",
              "    </tr>\n",
              "    <tr>\n",
              "        <td style=\"padding-left: 1em; padding-right: 1em; text-align: center; vertical-align: top\">10000</td>\n",
              "        <td style=\"padding-left: 1em; padding-right: 1em; text-align: center; vertical-align: top\">14260</td>\n",
              "    </tr>\n",
              "</table>\n",
              "[51720 rows x 2 columns]<br/>Note: Only the head of the SFrame is printed.<br/>You can use print_rows(num_rows=m, num_columns=n) to print more rows and columns.\n",
              "</div>"
            ],
            "text/plain": [
              "Columns:\n",
              "\tApplicant.ID\tint\n",
              "\tJob.ID\tint\n",
              "\n",
              "Rows: 51720\n",
              "\n",
              "Data:\n",
              "+--------------+--------+\n",
              "| Applicant.ID | Job.ID |\n",
              "+--------------+--------+\n",
              "|    10000     | 14272  |\n",
              "|    10000     | 14251  |\n",
              "|    10000     | 14252  |\n",
              "|    10000     | 14254  |\n",
              "|    10000     | 14255  |\n",
              "|    10000     | 14256  |\n",
              "|    10000     | 14257  |\n",
              "|    10000     | 14258  |\n",
              "|    10000     | 14259  |\n",
              "|    10000     | 14260  |\n",
              "+--------------+--------+\n",
              "[51720 rows x 2 columns]\n",
              "Note: Only the head of the SFrame is printed.\n",
              "You can use print_rows(num_rows=m, num_columns=n) to print more rows and columns."
            ]
          },
          "metadata": {
            "tags": []
          },
          "execution_count": 15
        }
      ]
    },
    {
      "cell_type": "code",
      "metadata": {
        "id": "MqrzCZeZQ1rB",
        "colab": {
          "base_uri": "https://localhost:8080/",
          "height": 1000
        },
        "outputId": "0e59ebb1-0557-4ae2-dfc1-227e241435ef"
      },
      "source": [
        "sf = tc.SFrame('https://static.turi.com/datasets/audioscrobbler')\n",
        "train, test = tc.recommender.util.random_split_by_user(sf)\n",
        "b = tc.recommender.create(train)\n",
        "b.evaluate_precision_recall(test)"
      ],
      "execution_count": null,
      "outputs": [
        {
          "output_type": "display_data",
          "data": {
            "text/html": [
              "<pre>Downloading https://static.turi.com/datasets/audioscrobbler/dir_archive.ini to /var/tmp/turicreate-root/8182/6ee8601d-66a2-4a07-821e-f57e86f2de19.ini</pre>"
            ],
            "text/plain": [
              "Downloading https://static.turi.com/datasets/audioscrobbler/dir_archive.ini to /var/tmp/turicreate-root/8182/6ee8601d-66a2-4a07-821e-f57e86f2de19.ini"
            ]
          },
          "metadata": {
            "tags": []
          }
        },
        {
          "output_type": "display_data",
          "data": {
            "text/html": [
              "<pre>Downloading https://static.turi.com/datasets/audioscrobbler/objects.bin to /var/tmp/turicreate-root/8182/d495fe66-7054-4a8b-a6cb-b53208c8d214.bin</pre>"
            ],
            "text/plain": [
              "Downloading https://static.turi.com/datasets/audioscrobbler/objects.bin to /var/tmp/turicreate-root/8182/d495fe66-7054-4a8b-a6cb-b53208c8d214.bin"
            ]
          },
          "metadata": {
            "tags": []
          }
        },
        {
          "output_type": "display_data",
          "data": {
            "text/html": [
              "<pre>Downloading https://static.turi.com/datasets/audioscrobbler/m_74b0dc51.frame_idx to /var/tmp/turicreate-root/8182/8c589749-3ba7-406b-861f-b6be47e27d85.frame_idx</pre>"
            ],
            "text/plain": [
              "Downloading https://static.turi.com/datasets/audioscrobbler/m_74b0dc51.frame_idx to /var/tmp/turicreate-root/8182/8c589749-3ba7-406b-861f-b6be47e27d85.frame_idx"
            ]
          },
          "metadata": {
            "tags": []
          }
        },
        {
          "output_type": "display_data",
          "data": {
            "text/html": [
              "<pre>Downloading https://static.turi.com/datasets/audioscrobbler/m_74b0dc51.sidx to /var/tmp/turicreate-root/8182/5fc78860-ede6-403f-a66a-167eb16f3301.sidx</pre>"
            ],
            "text/plain": [
              "Downloading https://static.turi.com/datasets/audioscrobbler/m_74b0dc51.sidx to /var/tmp/turicreate-root/8182/5fc78860-ede6-403f-a66a-167eb16f3301.sidx"
            ]
          },
          "metadata": {
            "tags": []
          }
        },
        {
          "output_type": "display_data",
          "data": {
            "text/html": [
              "<pre>Downloading https://static.turi.com/datasets/audioscrobbler/m_74b0dc51.0000 to /var/tmp/turicreate-root/8182/1845d28a-9618-441c-90ee-8eb0cd2f45db.0000</pre>"
            ],
            "text/plain": [
              "Downloading https://static.turi.com/datasets/audioscrobbler/m_74b0dc51.0000 to /var/tmp/turicreate-root/8182/1845d28a-9618-441c-90ee-8eb0cd2f45db.0000"
            ]
          },
          "metadata": {
            "tags": []
          }
        },
        {
          "output_type": "display_data",
          "data": {
            "text/html": [
              "<pre>Downloading https://static.turi.com/datasets/audioscrobbler/m_74b0dc51.0001 to /var/tmp/turicreate-root/8182/70ff32e5-31d9-4e11-99eb-30365cbe9cc6.0001</pre>"
            ],
            "text/plain": [
              "Downloading https://static.turi.com/datasets/audioscrobbler/m_74b0dc51.0001 to /var/tmp/turicreate-root/8182/70ff32e5-31d9-4e11-99eb-30365cbe9cc6.0001"
            ]
          },
          "metadata": {
            "tags": []
          }
        },
        {
          "output_type": "display_data",
          "data": {
            "text/html": [
              "<pre>Downloading https://static.turi.com/datasets/audioscrobbler/m_74b0dc51.0002 to /var/tmp/turicreate-root/8182/2cbd1e96-5494-4d9d-b4e2-1972f02d3907.0002</pre>"
            ],
            "text/plain": [
              "Downloading https://static.turi.com/datasets/audioscrobbler/m_74b0dc51.0002 to /var/tmp/turicreate-root/8182/2cbd1e96-5494-4d9d-b4e2-1972f02d3907.0002"
            ]
          },
          "metadata": {
            "tags": []
          }
        },
        {
          "output_type": "display_data",
          "data": {
            "text/html": [
              "<pre>Downloading https://static.turi.com/datasets/audioscrobbler/m_74b0dc51.0003 to /var/tmp/turicreate-root/8182/4ba6e195-1877-4776-9b9c-198f8d3db7d5.0003</pre>"
            ],
            "text/plain": [
              "Downloading https://static.turi.com/datasets/audioscrobbler/m_74b0dc51.0003 to /var/tmp/turicreate-root/8182/4ba6e195-1877-4776-9b9c-198f8d3db7d5.0003"
            ]
          },
          "metadata": {
            "tags": []
          }
        },
        {
          "output_type": "display_data",
          "data": {
            "text/html": [
              "<pre>Downloading https://static.turi.com/datasets/audioscrobbler/m_74b0dc51.0004 to /var/tmp/turicreate-root/8182/4608c440-4fae-4f82-a095-6e696a00b3a1.0004</pre>"
            ],
            "text/plain": [
              "Downloading https://static.turi.com/datasets/audioscrobbler/m_74b0dc51.0004 to /var/tmp/turicreate-root/8182/4608c440-4fae-4f82-a095-6e696a00b3a1.0004"
            ]
          },
          "metadata": {
            "tags": []
          }
        },
        {
          "output_type": "display_data",
          "data": {
            "text/html": [
              "<pre>Downloading https://static.turi.com/datasets/audioscrobbler/m_74b0dc51.0005 to /var/tmp/turicreate-root/8182/c5c0f7ed-c5d2-4f19-8c94-7f46991f44de.0005</pre>"
            ],
            "text/plain": [
              "Downloading https://static.turi.com/datasets/audioscrobbler/m_74b0dc51.0005 to /var/tmp/turicreate-root/8182/c5c0f7ed-c5d2-4f19-8c94-7f46991f44de.0005"
            ]
          },
          "metadata": {
            "tags": []
          }
        },
        {
          "output_type": "display_data",
          "data": {
            "text/html": [
              "<pre>Downloading https://static.turi.com/datasets/audioscrobbler/m_74b0dc51.0006 to /var/tmp/turicreate-root/8182/9347fe27-5271-4e73-b221-1047d7262408.0006</pre>"
            ],
            "text/plain": [
              "Downloading https://static.turi.com/datasets/audioscrobbler/m_74b0dc51.0006 to /var/tmp/turicreate-root/8182/9347fe27-5271-4e73-b221-1047d7262408.0006"
            ]
          },
          "metadata": {
            "tags": []
          }
        },
        {
          "output_type": "display_data",
          "data": {
            "text/html": [
              "<pre>Downloading https://static.turi.com/datasets/audioscrobbler/m_74b0dc51.0007 to /var/tmp/turicreate-root/8182/b0da3785-9b15-47d8-89c1-896e85708d12.0007</pre>"
            ],
            "text/plain": [
              "Downloading https://static.turi.com/datasets/audioscrobbler/m_74b0dc51.0007 to /var/tmp/turicreate-root/8182/b0da3785-9b15-47d8-89c1-896e85708d12.0007"
            ]
          },
          "metadata": {
            "tags": []
          }
        },
        {
          "output_type": "display_data",
          "data": {
            "text/html": [
              "<pre>Warning: Column 'target' ignored.</pre>"
            ],
            "text/plain": [
              "Warning: Column 'target' ignored."
            ]
          },
          "metadata": {
            "tags": []
          }
        },
        {
          "output_type": "display_data",
          "data": {
            "text/html": [
              "<pre> To use one of these as a rating column, specify the column name to be used as target target\" and use a method that allows the use of a target.</pre>"
            ],
            "text/plain": [
              " To use one of these as a rating column, specify the column name to be used as target target\" and use a method that allows the use of a target."
            ]
          },
          "metadata": {
            "tags": []
          }
        },
        {
          "output_type": "display_data",
          "data": {
            "text/html": [
              "<pre>Preparing data set.</pre>"
            ],
            "text/plain": [
              "Preparing data set."
            ]
          },
          "metadata": {
            "tags": []
          }
        },
        {
          "output_type": "display_data",
          "data": {
            "text/html": [
              "<pre>    Data has 417098 observations with 90982 users and 14073 items.</pre>"
            ],
            "text/plain": [
              "    Data has 417098 observations with 90982 users and 14073 items."
            ]
          },
          "metadata": {
            "tags": []
          }
        },
        {
          "output_type": "display_data",
          "data": {
            "text/html": [
              "<pre>    Data prepared in: 0.664993s</pre>"
            ],
            "text/plain": [
              "    Data prepared in: 0.664993s"
            ]
          },
          "metadata": {
            "tags": []
          }
        },
        {
          "output_type": "display_data",
          "data": {
            "text/html": [
              "<pre>Training model from provided data.</pre>"
            ],
            "text/plain": [
              "Training model from provided data."
            ]
          },
          "metadata": {
            "tags": []
          }
        },
        {
          "output_type": "display_data",
          "data": {
            "text/html": [
              "<pre>Gathering per-item and per-user statistics.</pre>"
            ],
            "text/plain": [
              "Gathering per-item and per-user statistics."
            ]
          },
          "metadata": {
            "tags": []
          }
        },
        {
          "output_type": "display_data",
          "data": {
            "text/html": [
              "<pre>+--------------------------------+------------+</pre>"
            ],
            "text/plain": [
              "+--------------------------------+------------+"
            ]
          },
          "metadata": {
            "tags": []
          }
        },
        {
          "output_type": "display_data",
          "data": {
            "text/html": [
              "<pre>| Elapsed Time (Item Statistics) | % Complete |</pre>"
            ],
            "text/plain": [
              "| Elapsed Time (Item Statistics) | % Complete |"
            ]
          },
          "metadata": {
            "tags": []
          }
        },
        {
          "output_type": "display_data",
          "data": {
            "text/html": [
              "<pre>+--------------------------------+------------+</pre>"
            ],
            "text/plain": [
              "+--------------------------------+------------+"
            ]
          },
          "metadata": {
            "tags": []
          }
        },
        {
          "output_type": "display_data",
          "data": {
            "text/html": [
              "<pre>| 9.029ms                        | 1          |</pre>"
            ],
            "text/plain": [
              "| 9.029ms                        | 1          |"
            ]
          },
          "metadata": {
            "tags": []
          }
        },
        {
          "output_type": "display_data",
          "data": {
            "text/html": [
              "<pre>| 38.287ms                       | 100        |</pre>"
            ],
            "text/plain": [
              "| 38.287ms                       | 100        |"
            ]
          },
          "metadata": {
            "tags": []
          }
        },
        {
          "output_type": "display_data",
          "data": {
            "text/html": [
              "<pre>+--------------------------------+------------+</pre>"
            ],
            "text/plain": [
              "+--------------------------------+------------+"
            ]
          },
          "metadata": {
            "tags": []
          }
        },
        {
          "output_type": "display_data",
          "data": {
            "text/html": [
              "<pre>Setting up lookup tables.</pre>"
            ],
            "text/plain": [
              "Setting up lookup tables."
            ]
          },
          "metadata": {
            "tags": []
          }
        },
        {
          "output_type": "display_data",
          "data": {
            "text/html": [
              "<pre>Processing data in one pass using dense lookup tables.</pre>"
            ],
            "text/plain": [
              "Processing data in one pass using dense lookup tables."
            ]
          },
          "metadata": {
            "tags": []
          }
        },
        {
          "output_type": "display_data",
          "data": {
            "text/html": [
              "<pre>+-------------------------------------+------------------+-----------------+</pre>"
            ],
            "text/plain": [
              "+-------------------------------------+------------------+-----------------+"
            ]
          },
          "metadata": {
            "tags": []
          }
        },
        {
          "output_type": "display_data",
          "data": {
            "text/html": [
              "<pre>| Elapsed Time (Constructing Lookups) | Total % Complete | Items Processed |</pre>"
            ],
            "text/plain": [
              "| Elapsed Time (Constructing Lookups) | Total % Complete | Items Processed |"
            ]
          },
          "metadata": {
            "tags": []
          }
        },
        {
          "output_type": "display_data",
          "data": {
            "text/html": [
              "<pre>+-------------------------------------+------------------+-----------------+</pre>"
            ],
            "text/plain": [
              "+-------------------------------------+------------------+-----------------+"
            ]
          },
          "metadata": {
            "tags": []
          }
        },
        {
          "output_type": "display_data",
          "data": {
            "text/html": [
              "<pre>| 907.114ms                           | 0                | 1               |</pre>"
            ],
            "text/plain": [
              "| 907.114ms                           | 0                | 1               |"
            ]
          },
          "metadata": {
            "tags": []
          }
        },
        {
          "output_type": "display_data",
          "data": {
            "text/html": [
              "<pre>| 2.84s                               | 100              | 14073           |</pre>"
            ],
            "text/plain": [
              "| 2.84s                               | 100              | 14073           |"
            ]
          },
          "metadata": {
            "tags": []
          }
        },
        {
          "output_type": "display_data",
          "data": {
            "text/html": [
              "<pre>+-------------------------------------+------------------+-----------------+</pre>"
            ],
            "text/plain": [
              "+-------------------------------------+------------------+-----------------+"
            ]
          },
          "metadata": {
            "tags": []
          }
        },
        {
          "output_type": "display_data",
          "data": {
            "text/html": [
              "<pre>Finalizing lookup tables.</pre>"
            ],
            "text/plain": [
              "Finalizing lookup tables."
            ]
          },
          "metadata": {
            "tags": []
          }
        },
        {
          "output_type": "display_data",
          "data": {
            "text/html": [
              "<pre>Generating candidate set for working with new users.</pre>"
            ],
            "text/plain": [
              "Generating candidate set for working with new users."
            ]
          },
          "metadata": {
            "tags": []
          }
        },
        {
          "output_type": "display_data",
          "data": {
            "text/html": [
              "<pre>Finished training in 2.90552s</pre>"
            ],
            "text/plain": [
              "Finished training in 2.90552s"
            ]
          },
          "metadata": {
            "tags": []
          }
        },
        {
          "output_type": "execute_result",
          "data": {
            "text/plain": [
              "{'precision_recall_by_user': Columns:\n",
              " \tuser_id\tstr\n",
              " \tcutoff\tint\n",
              " \tprecision\tfloat\n",
              " \trecall\tfloat\n",
              " \tcount\tint\n",
              " \n",
              " Rows: 9180\n",
              " \n",
              " Data:\n",
              " +---------+--------+-----------+--------+-------+\n",
              " | user_id | cutoff | precision | recall | count |\n",
              " +---------+--------+-----------+--------+-------+\n",
              " | 2174493 |   1    |    0.0    |  0.0   |   3   |\n",
              " | 2174493 |   2    |    0.0    |  0.0   |   3   |\n",
              " | 2174493 |   3    |    0.0    |  0.0   |   3   |\n",
              " | 2174493 |   4    |    0.0    |  0.0   |   3   |\n",
              " | 2174493 |   5    |    0.0    |  0.0   |   3   |\n",
              " | 2174493 |   6    |    0.0    |  0.0   |   3   |\n",
              " | 2174493 |   7    |    0.0    |  0.0   |   3   |\n",
              " | 2174493 |   8    |    0.0    |  0.0   |   3   |\n",
              " | 2174493 |   9    |    0.0    |  0.0   |   3   |\n",
              " | 2174493 |   10   |    0.0    |  0.0   |   3   |\n",
              " +---------+--------+-----------+--------+-------+\n",
              " [9180 rows x 5 columns]\n",
              " Note: Only the head of the SFrame is printed.\n",
              " You can use print_rows(num_rows=m, num_columns=n) to print more rows and columns.,\n",
              " 'precision_recall_overall': Columns:\n",
              " \tcutoff\tint\n",
              " \tprecision\tfloat\n",
              " \trecall\tfloat\n",
              " \n",
              " Rows: 18\n",
              " \n",
              " Data:\n",
              " +--------+----------------------+---------------------+\n",
              " | cutoff |      precision       |        recall       |\n",
              " +--------+----------------------+---------------------+\n",
              " |   1    |  0.1313725490196078  | 0.09111111111111111 |\n",
              " |   2    | 0.09607843137254901  | 0.12244164332399617 |\n",
              " |   3    |  0.0810457516339869  | 0.15190476190476193 |\n",
              " |   4    | 0.07303921568627451  | 0.18372393401805173 |\n",
              " |   5    | 0.06352941176470589  | 0.19930127606598189 |\n",
              " |   6    | 0.05522875816993465  | 0.20600062247121068 |\n",
              " |   7    | 0.04901960784313724  | 0.21341892312480545 |\n",
              " |   8    | 0.04607843137254902  | 0.23024898848428255 |\n",
              " |   9    | 0.043790849673202584 | 0.24920323685029572 |\n",
              " |   10   | 0.040392156862745075 |  0.2576999688764395 |\n",
              " +--------+----------------------+---------------------+\n",
              " [18 rows x 3 columns]\n",
              " Note: Only the head of the SFrame is printed.\n",
              " You can use print_rows(num_rows=m, num_columns=n) to print more rows and columns.}"
            ]
          },
          "metadata": {
            "tags": []
          },
          "execution_count": 16
        }
      ]
    },
    {
      "cell_type": "code",
      "metadata": {
        "id": "vnYJf_BiUsdT",
        "colab": {
          "base_uri": "https://localhost:8080/",
          "height": 279
        },
        "outputId": "de1435b4-7568-454d-9467-e5e16b3e6b70"
      },
      "source": [
        "sf"
      ],
      "execution_count": null,
      "outputs": [
        {
          "output_type": "execute_result",
          "data": {
            "text/html": [
              "<div style=\"max-height:1000px;max-width:1500px;overflow:auto;\"><table frame=\"box\" rules=\"cols\">\n",
              "    <tr>\n",
              "        <th style=\"padding-left: 1em; padding-right: 1em; text-align: center\">user_id</th>\n",
              "        <th style=\"padding-left: 1em; padding-right: 1em; text-align: center\">item_id</th>\n",
              "        <th style=\"padding-left: 1em; padding-right: 1em; text-align: center\">target</th>\n",
              "    </tr>\n",
              "    <tr>\n",
              "        <td style=\"padding-left: 1em; padding-right: 1em; text-align: center; vertical-align: top\">1001606</td>\n",
              "        <td style=\"padding-left: 1em; padding-right: 1em; text-align: center; vertical-align: top\">Raver&#x27;s Nature</td>\n",
              "        <td style=\"padding-left: 1em; padding-right: 1em; text-align: center; vertical-align: top\">2</td>\n",
              "    </tr>\n",
              "    <tr>\n",
              "        <td style=\"padding-left: 1em; padding-right: 1em; text-align: center; vertical-align: top\">1002598</td>\n",
              "        <td style=\"padding-left: 1em; padding-right: 1em; text-align: center; vertical-align: top\">Raver&#x27;s Nature</td>\n",
              "        <td style=\"padding-left: 1em; padding-right: 1em; text-align: center; vertical-align: top\">1</td>\n",
              "    </tr>\n",
              "    <tr>\n",
              "        <td style=\"padding-left: 1em; padding-right: 1em; text-align: center; vertical-align: top\">1009768</td>\n",
              "        <td style=\"padding-left: 1em; padding-right: 1em; text-align: center; vertical-align: top\">Raver&#x27;s Nature</td>\n",
              "        <td style=\"padding-left: 1em; padding-right: 1em; text-align: center; vertical-align: top\">29</td>\n",
              "    </tr>\n",
              "    <tr>\n",
              "        <td style=\"padding-left: 1em; padding-right: 1em; text-align: center; vertical-align: top\">1020855</td>\n",
              "        <td style=\"padding-left: 1em; padding-right: 1em; text-align: center; vertical-align: top\">Raver&#x27;s Nature</td>\n",
              "        <td style=\"padding-left: 1em; padding-right: 1em; text-align: center; vertical-align: top\">9</td>\n",
              "    </tr>\n",
              "    <tr>\n",
              "        <td style=\"padding-left: 1em; padding-right: 1em; text-align: center; vertical-align: top\">1024677</td>\n",
              "        <td style=\"padding-left: 1em; padding-right: 1em; text-align: center; vertical-align: top\">Raver&#x27;s Nature</td>\n",
              "        <td style=\"padding-left: 1em; padding-right: 1em; text-align: center; vertical-align: top\">1</td>\n",
              "    </tr>\n",
              "    <tr>\n",
              "        <td style=\"padding-left: 1em; padding-right: 1em; text-align: center; vertical-align: top\">1025593</td>\n",
              "        <td style=\"padding-left: 1em; padding-right: 1em; text-align: center; vertical-align: top\">Raver&#x27;s Nature</td>\n",
              "        <td style=\"padding-left: 1em; padding-right: 1em; text-align: center; vertical-align: top\">3</td>\n",
              "    </tr>\n",
              "    <tr>\n",
              "        <td style=\"padding-left: 1em; padding-right: 1em; text-align: center; vertical-align: top\">1036036</td>\n",
              "        <td style=\"padding-left: 1em; padding-right: 1em; text-align: center; vertical-align: top\">Raver&#x27;s Nature</td>\n",
              "        <td style=\"padding-left: 1em; padding-right: 1em; text-align: center; vertical-align: top\">51</td>\n",
              "    </tr>\n",
              "    <tr>\n",
              "        <td style=\"padding-left: 1em; padding-right: 1em; text-align: center; vertical-align: top\">1037250</td>\n",
              "        <td style=\"padding-left: 1em; padding-right: 1em; text-align: center; vertical-align: top\">Raver&#x27;s Nature</td>\n",
              "        <td style=\"padding-left: 1em; padding-right: 1em; text-align: center; vertical-align: top\">3</td>\n",
              "    </tr>\n",
              "    <tr>\n",
              "        <td style=\"padding-left: 1em; padding-right: 1em; text-align: center; vertical-align: top\">1037372</td>\n",
              "        <td style=\"padding-left: 1em; padding-right: 1em; text-align: center; vertical-align: top\">Raver&#x27;s Nature</td>\n",
              "        <td style=\"padding-left: 1em; padding-right: 1em; text-align: center; vertical-align: top\">1</td>\n",
              "    </tr>\n",
              "    <tr>\n",
              "        <td style=\"padding-left: 1em; padding-right: 1em; text-align: center; vertical-align: top\">1037666</td>\n",
              "        <td style=\"padding-left: 1em; padding-right: 1em; text-align: center; vertical-align: top\">Raver&#x27;s Nature</td>\n",
              "        <td style=\"padding-left: 1em; padding-right: 1em; text-align: center; vertical-align: top\">1</td>\n",
              "    </tr>\n",
              "</table>\n",
              "[418036 rows x 3 columns]<br/>Note: Only the head of the SFrame is printed.<br/>You can use print_rows(num_rows=m, num_columns=n) to print more rows and columns.\n",
              "</div>"
            ],
            "text/plain": [
              "Columns:\n",
              "\tuser_id\tstr\n",
              "\titem_id\tstr\n",
              "\ttarget\tint\n",
              "\n",
              "Rows: 418036\n",
              "\n",
              "Data:\n",
              "+---------+----------------+--------+\n",
              "| user_id |    item_id     | target |\n",
              "+---------+----------------+--------+\n",
              "| 1001606 | Raver's Nature |   2    |\n",
              "| 1002598 | Raver's Nature |   1    |\n",
              "| 1009768 | Raver's Nature |   29   |\n",
              "| 1020855 | Raver's Nature |   9    |\n",
              "| 1024677 | Raver's Nature |   1    |\n",
              "| 1025593 | Raver's Nature |   3    |\n",
              "| 1036036 | Raver's Nature |   51   |\n",
              "| 1037250 | Raver's Nature |   3    |\n",
              "| 1037372 | Raver's Nature |   1    |\n",
              "| 1037666 | Raver's Nature |   1    |\n",
              "+---------+----------------+--------+\n",
              "[418036 rows x 3 columns]\n",
              "Note: Only the head of the SFrame is printed.\n",
              "You can use print_rows(num_rows=m, num_columns=n) to print more rows and columns."
            ]
          },
          "metadata": {
            "tags": []
          },
          "execution_count": 17
        }
      ]
    },
    {
      "cell_type": "code",
      "metadata": {
        "id": "PWPITfVAU6p3",
        "colab": {
          "base_uri": "https://localhost:8080/",
          "height": 462
        },
        "outputId": "3ad67290-61fc-4dbf-cef4-588650f9d392"
      },
      "source": [
        "n= tc.item_similarity_recommender.create(jobview_sframe,\n",
        "                                    user_id='Applicant.ID',\n",
        "                                    item_id='Job.ID',\n",
        "                                    similarity_type=\"jaccard\",\n",
        "                                    )\n",
        "nn = n.get_similar_items()"
      ],
      "execution_count": null,
      "outputs": [
        {
          "output_type": "display_data",
          "data": {
            "text/html": [
              "<pre>Warning: Ignoring columns Title, Position, Company, City, State.Name, State.Code, Industry, View.Start, View.End, View.Duration, Created.At, Updated.At;</pre>"
            ],
            "text/plain": [
              "Warning: Ignoring columns Title, Position, Company, City, State.Name, State.Code, Industry, View.Start, View.End, View.Duration, Created.At, Updated.At;"
            ]
          },
          "metadata": {
            "tags": []
          }
        },
        {
          "output_type": "display_data",
          "data": {
            "text/html": [
              "<pre> To use one of these as a rating column, specify the column name to be used as target</pre>"
            ],
            "text/plain": [
              " To use one of these as a rating column, specify the column name to be used as target"
            ]
          },
          "metadata": {
            "tags": []
          }
        },
        {
          "output_type": "display_data",
          "data": {
            "text/html": [
              "<pre>    and use a method that allows the use of a target.</pre>"
            ],
            "text/plain": [
              "    and use a method that allows the use of a target."
            ]
          },
          "metadata": {
            "tags": []
          }
        },
        {
          "output_type": "display_data",
          "data": {
            "text/html": [
              "<pre>Preparing data set.</pre>"
            ],
            "text/plain": [
              "Preparing data set."
            ]
          },
          "metadata": {
            "tags": []
          }
        },
        {
          "output_type": "display_data",
          "data": {
            "text/html": [
              "<pre>    Data has 12370 observations with 3448 users and 7047 items.</pre>"
            ],
            "text/plain": [
              "    Data has 12370 observations with 3448 users and 7047 items."
            ]
          },
          "metadata": {
            "tags": []
          }
        },
        {
          "output_type": "display_data",
          "data": {
            "text/html": [
              "<pre>    Data prepared in: 0.043531s</pre>"
            ],
            "text/plain": [
              "    Data prepared in: 0.043531s"
            ]
          },
          "metadata": {
            "tags": []
          }
        },
        {
          "output_type": "display_data",
          "data": {
            "text/html": [
              "<pre>Training model from provided data.</pre>"
            ],
            "text/plain": [
              "Training model from provided data."
            ]
          },
          "metadata": {
            "tags": []
          }
        },
        {
          "output_type": "display_data",
          "data": {
            "text/html": [
              "<pre>Gathering per-item and per-user statistics.</pre>"
            ],
            "text/plain": [
              "Gathering per-item and per-user statistics."
            ]
          },
          "metadata": {
            "tags": []
          }
        },
        {
          "output_type": "display_data",
          "data": {
            "text/html": [
              "<pre>+--------------------------------+------------+</pre>"
            ],
            "text/plain": [
              "+--------------------------------+------------+"
            ]
          },
          "metadata": {
            "tags": []
          }
        },
        {
          "output_type": "display_data",
          "data": {
            "text/html": [
              "<pre>| Elapsed Time (Item Statistics) | % Complete |</pre>"
            ],
            "text/plain": [
              "| Elapsed Time (Item Statistics) | % Complete |"
            ]
          },
          "metadata": {
            "tags": []
          }
        },
        {
          "output_type": "display_data",
          "data": {
            "text/html": [
              "<pre>+--------------------------------+------------+</pre>"
            ],
            "text/plain": [
              "+--------------------------------+------------+"
            ]
          },
          "metadata": {
            "tags": []
          }
        },
        {
          "output_type": "display_data",
          "data": {
            "text/html": [
              "<pre>| 1.392ms                        | 29         |</pre>"
            ],
            "text/plain": [
              "| 1.392ms                        | 29         |"
            ]
          },
          "metadata": {
            "tags": []
          }
        },
        {
          "output_type": "display_data",
          "data": {
            "text/html": [
              "<pre>| 18.081ms                       | 100        |</pre>"
            ],
            "text/plain": [
              "| 18.081ms                       | 100        |"
            ]
          },
          "metadata": {
            "tags": []
          }
        },
        {
          "output_type": "display_data",
          "data": {
            "text/html": [
              "<pre>+--------------------------------+------------+</pre>"
            ],
            "text/plain": [
              "+--------------------------------+------------+"
            ]
          },
          "metadata": {
            "tags": []
          }
        },
        {
          "output_type": "display_data",
          "data": {
            "text/html": [
              "<pre>Setting up lookup tables.</pre>"
            ],
            "text/plain": [
              "Setting up lookup tables."
            ]
          },
          "metadata": {
            "tags": []
          }
        },
        {
          "output_type": "display_data",
          "data": {
            "text/html": [
              "<pre>Processing data in one pass using dense lookup tables.</pre>"
            ],
            "text/plain": [
              "Processing data in one pass using dense lookup tables."
            ]
          },
          "metadata": {
            "tags": []
          }
        },
        {
          "output_type": "display_data",
          "data": {
            "text/html": [
              "<pre>+-------------------------------------+------------------+-----------------+</pre>"
            ],
            "text/plain": [
              "+-------------------------------------+------------------+-----------------+"
            ]
          },
          "metadata": {
            "tags": []
          }
        },
        {
          "output_type": "display_data",
          "data": {
            "text/html": [
              "<pre>| Elapsed Time (Constructing Lookups) | Total % Complete | Items Processed |</pre>"
            ],
            "text/plain": [
              "| Elapsed Time (Constructing Lookups) | Total % Complete | Items Processed |"
            ]
          },
          "metadata": {
            "tags": []
          }
        },
        {
          "output_type": "display_data",
          "data": {
            "text/html": [
              "<pre>+-------------------------------------+------------------+-----------------+</pre>"
            ],
            "text/plain": [
              "+-------------------------------------+------------------+-----------------+"
            ]
          },
          "metadata": {
            "tags": []
          }
        },
        {
          "output_type": "display_data",
          "data": {
            "text/html": [
              "<pre>| 98.921ms                            | 0                | 0               |</pre>"
            ],
            "text/plain": [
              "| 98.921ms                            | 0                | 0               |"
            ]
          },
          "metadata": {
            "tags": []
          }
        },
        {
          "output_type": "display_data",
          "data": {
            "text/html": [
              "<pre>| 549.965ms                           | 100              | 7047            |</pre>"
            ],
            "text/plain": [
              "| 549.965ms                           | 100              | 7047            |"
            ]
          },
          "metadata": {
            "tags": []
          }
        },
        {
          "output_type": "display_data",
          "data": {
            "text/html": [
              "<pre>+-------------------------------------+------------------+-----------------+</pre>"
            ],
            "text/plain": [
              "+-------------------------------------+------------------+-----------------+"
            ]
          },
          "metadata": {
            "tags": []
          }
        },
        {
          "output_type": "display_data",
          "data": {
            "text/html": [
              "<pre>Finalizing lookup tables.</pre>"
            ],
            "text/plain": [
              "Finalizing lookup tables."
            ]
          },
          "metadata": {
            "tags": []
          }
        },
        {
          "output_type": "display_data",
          "data": {
            "text/html": [
              "<pre>Generating candidate set for working with new users.</pre>"
            ],
            "text/plain": [
              "Generating candidate set for working with new users."
            ]
          },
          "metadata": {
            "tags": []
          }
        },
        {
          "output_type": "display_data",
          "data": {
            "text/html": [
              "<pre>Finished training in 0.564728s</pre>"
            ],
            "text/plain": [
              "Finished training in 0.564728s"
            ]
          },
          "metadata": {
            "tags": []
          }
        }
      ]
    }
  ]
}