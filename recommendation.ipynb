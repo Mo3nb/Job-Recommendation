{
  "nbformat": 4,
  "nbformat_minor": 0,
  "metadata": {
    "colab": {
      "name": "recommendation.ipynb",
      "provenance": [],
      "collapsed_sections": [],
      "mount_file_id": "10I3aycSVg-DZBfIrutuNjtxJxHiaonYr",
      "authorship_tag": "ABX9TyM+90ZpuW+0Xv7AxswHP11/"
    },
    "kernelspec": {
      "name": "python3",
      "display_name": "Python 3"
    }
  },
  "cells": [
    {
      "cell_type": "code",
      "metadata": {
        "id": "7E8pC9SI1Dvy"
      },
      "source": [
        "import pandas as pd \n",
        "from sklearn.feature_extraction.text import TfidfVectorizer, CountVectorizer\n",
        "from sklearn.metrics.pairwise import linear_kernel, cosine_similarity\n",
        "import numpy as np\n",
        "from sklearn.model_selection import train_test_split   "
      ],
      "execution_count": 1,
      "outputs": []
    },
    {
      "cell_type": "code",
      "metadata": {
        "id": "WwvCF0Rk9y_3"
      },
      "source": [
        "combinedjob = pd.read_csv('/content/drive/My Drive/DATA /Combined_Jobs_Final.csv',encoding='utf-8')\n",
        "experience = pd.read_csv('/content/drive/My Drive/DATA /Experience.csv',encoding='utf-8')\n",
        "jobview = pd.read_csv('/content/drive/My Drive/DATA /Job_Views.csv',encoding='utf-8')\n",
        "POI = pd.read_csv('/content/drive/My Drive/DATA /Positions_Of_Interest.csv',encoding='utf-8')\n",
        "\n"
      ],
      "execution_count": null,
      "outputs": []
    },
    {
      "cell_type": "code",
      "metadata": {
        "id": "1gZRGGahfeqA",
        "colab": {
          "base_uri": "https://localhost:8080/",
          "height": 425
        },
        "outputId": "5203eddd-af2a-43e8-cb1d-2cc8f55080a6"
      },
      "source": [
        "combinedjob.isnull().sum()"
      ],
      "execution_count": null,
      "outputs": [
        {
          "output_type": "execute_result",
          "data": {
            "text/plain": [
              "Job.ID                    0\n",
              "Provider                  0\n",
              "Status                    0\n",
              "Slug                      0\n",
              "Title                     0\n",
              "Position                  0\n",
              "Company                2271\n",
              "City                    135\n",
              "State.Name              171\n",
              "State.Code              171\n",
              "Address               84054\n",
              "Latitude                  0\n",
              "Longitude                 0\n",
              "Industry              83823\n",
              "Job.Description          56\n",
              "Requirements          84090\n",
              "Salary                83861\n",
              "Listing.Start           683\n",
              "Listing.End             167\n",
              "Employment.Type          10\n",
              "Education.Required      267\n",
              "Created.At                0\n",
              "Updated.At                0\n",
              "dtype: int64"
            ]
          },
          "metadata": {
            "tags": []
          },
          "execution_count": 32
        }
      ]
    },
    {
      "cell_type": "code",
      "metadata": {
        "id": "HQoA_EnyM_Mz",
        "colab": {
          "base_uri": "https://localhost:8080/",
          "height": 260
        },
        "outputId": "388f5cd4-edfd-4b52-86d7-420dc159ad6e"
      },
      "source": [
        "combinedjob['Education.Required']=combinedjob['Education.Required'].fillna('Not Specified')\n",
        "combinedjob.groupby(['Education.Required']).count() "
      ],
      "execution_count": null,
      "outputs": [
        {
          "output_type": "execute_result",
          "data": {
            "text/html": [
              "<div>\n",
              "<style scoped>\n",
              "    .dataframe tbody tr th:only-of-type {\n",
              "        vertical-align: middle;\n",
              "    }\n",
              "\n",
              "    .dataframe tbody tr th {\n",
              "        vertical-align: top;\n",
              "    }\n",
              "\n",
              "    .dataframe thead th {\n",
              "        text-align: right;\n",
              "    }\n",
              "</style>\n",
              "<table border=\"1\" class=\"dataframe\">\n",
              "  <thead>\n",
              "    <tr style=\"text-align: right;\">\n",
              "      <th></th>\n",
              "      <th>Job.ID</th>\n",
              "      <th>Provider</th>\n",
              "      <th>Status</th>\n",
              "      <th>Slug</th>\n",
              "      <th>Title</th>\n",
              "      <th>Position</th>\n",
              "      <th>Company</th>\n",
              "      <th>City</th>\n",
              "      <th>State.Name</th>\n",
              "      <th>State.Code</th>\n",
              "      <th>Address</th>\n",
              "      <th>Latitude</th>\n",
              "      <th>Longitude</th>\n",
              "      <th>Industry</th>\n",
              "      <th>Job.Description</th>\n",
              "      <th>Requirements</th>\n",
              "      <th>Salary</th>\n",
              "      <th>Listing.Start</th>\n",
              "      <th>Listing.End</th>\n",
              "      <th>Employment.Type</th>\n",
              "      <th>Created.At</th>\n",
              "      <th>Updated.At</th>\n",
              "    </tr>\n",
              "    <tr>\n",
              "      <th>Education.Required</th>\n",
              "      <th></th>\n",
              "      <th></th>\n",
              "      <th></th>\n",
              "      <th></th>\n",
              "      <th></th>\n",
              "      <th></th>\n",
              "      <th></th>\n",
              "      <th></th>\n",
              "      <th></th>\n",
              "      <th></th>\n",
              "      <th></th>\n",
              "      <th></th>\n",
              "      <th></th>\n",
              "      <th></th>\n",
              "      <th></th>\n",
              "      <th></th>\n",
              "      <th></th>\n",
              "      <th></th>\n",
              "      <th></th>\n",
              "      <th></th>\n",
              "      <th></th>\n",
              "      <th></th>\n",
              "    </tr>\n",
              "  </thead>\n",
              "  <tbody>\n",
              "    <tr>\n",
              "      <th>Associate Degree</th>\n",
              "      <td>3483</td>\n",
              "      <td>3483</td>\n",
              "      <td>3483</td>\n",
              "      <td>3483</td>\n",
              "      <td>3483</td>\n",
              "      <td>3483</td>\n",
              "      <td>3381</td>\n",
              "      <td>3478</td>\n",
              "      <td>3480</td>\n",
              "      <td>3480</td>\n",
              "      <td>0</td>\n",
              "      <td>3483</td>\n",
              "      <td>3483</td>\n",
              "      <td>0</td>\n",
              "      <td>3483</td>\n",
              "      <td>0</td>\n",
              "      <td>0</td>\n",
              "      <td>3458</td>\n",
              "      <td>3483</td>\n",
              "      <td>3483</td>\n",
              "      <td>3483</td>\n",
              "      <td>3483</td>\n",
              "    </tr>\n",
              "    <tr>\n",
              "      <th>Bachelor's Degree</th>\n",
              "      <td>2849</td>\n",
              "      <td>2849</td>\n",
              "      <td>2849</td>\n",
              "      <td>2849</td>\n",
              "      <td>2849</td>\n",
              "      <td>2849</td>\n",
              "      <td>2753</td>\n",
              "      <td>2848</td>\n",
              "      <td>2847</td>\n",
              "      <td>2847</td>\n",
              "      <td>0</td>\n",
              "      <td>2849</td>\n",
              "      <td>2849</td>\n",
              "      <td>0</td>\n",
              "      <td>2849</td>\n",
              "      <td>0</td>\n",
              "      <td>0</td>\n",
              "      <td>2839</td>\n",
              "      <td>2849</td>\n",
              "      <td>2849</td>\n",
              "      <td>2849</td>\n",
              "      <td>2849</td>\n",
              "    </tr>\n",
              "    <tr>\n",
              "      <th>High School Diploma</th>\n",
              "      <td>14250</td>\n",
              "      <td>14250</td>\n",
              "      <td>14250</td>\n",
              "      <td>14250</td>\n",
              "      <td>14250</td>\n",
              "      <td>14250</td>\n",
              "      <td>13704</td>\n",
              "      <td>14137</td>\n",
              "      <td>14127</td>\n",
              "      <td>14127</td>\n",
              "      <td>0</td>\n",
              "      <td>14250</td>\n",
              "      <td>14250</td>\n",
              "      <td>0</td>\n",
              "      <td>14250</td>\n",
              "      <td>0</td>\n",
              "      <td>0</td>\n",
              "      <td>14126</td>\n",
              "      <td>14250</td>\n",
              "      <td>14250</td>\n",
              "      <td>14250</td>\n",
              "      <td>14250</td>\n",
              "    </tr>\n",
              "    <tr>\n",
              "      <th>Master's Degree</th>\n",
              "      <td>1059</td>\n",
              "      <td>1059</td>\n",
              "      <td>1059</td>\n",
              "      <td>1059</td>\n",
              "      <td>1059</td>\n",
              "      <td>1059</td>\n",
              "      <td>1009</td>\n",
              "      <td>1059</td>\n",
              "      <td>1059</td>\n",
              "      <td>1059</td>\n",
              "      <td>0</td>\n",
              "      <td>1059</td>\n",
              "      <td>1059</td>\n",
              "      <td>0</td>\n",
              "      <td>1059</td>\n",
              "      <td>0</td>\n",
              "      <td>0</td>\n",
              "      <td>1059</td>\n",
              "      <td>1059</td>\n",
              "      <td>1059</td>\n",
              "      <td>1059</td>\n",
              "      <td>1059</td>\n",
              "    </tr>\n",
              "    <tr>\n",
              "      <th>Not Specified</th>\n",
              "      <td>62449</td>\n",
              "      <td>62449</td>\n",
              "      <td>62449</td>\n",
              "      <td>62449</td>\n",
              "      <td>62449</td>\n",
              "      <td>62449</td>\n",
              "      <td>60972</td>\n",
              "      <td>62433</td>\n",
              "      <td>62406</td>\n",
              "      <td>62406</td>\n",
              "      <td>36</td>\n",
              "      <td>62449</td>\n",
              "      <td>62449</td>\n",
              "      <td>267</td>\n",
              "      <td>62393</td>\n",
              "      <td>0</td>\n",
              "      <td>229</td>\n",
              "      <td>61925</td>\n",
              "      <td>62282</td>\n",
              "      <td>62439</td>\n",
              "      <td>62449</td>\n",
              "      <td>62449</td>\n",
              "    </tr>\n",
              "  </tbody>\n",
              "</table>\n",
              "</div>"
            ],
            "text/plain": [
              "                     Job.ID  Provider  ...  Created.At  Updated.At\n",
              "Education.Required                     ...                        \n",
              "Associate Degree       3483      3483  ...        3483        3483\n",
              "Bachelor's Degree      2849      2849  ...        2849        2849\n",
              "High School Diploma   14250     14250  ...       14250       14250\n",
              "Master's Degree        1059      1059  ...        1059        1059\n",
              "Not Specified         62449     62449  ...       62449       62449\n",
              "\n",
              "[5 rows x 22 columns]"
            ]
          },
          "metadata": {
            "tags": []
          },
          "execution_count": 33
        }
      ]
    },
    {
      "cell_type": "code",
      "metadata": {
        "id": "-yMg9HtAf7p4",
        "colab": {
          "base_uri": "https://localhost:8080/",
          "height": 552
        },
        "outputId": "da0035e1-33fb-40df-80aa-104b2d61d906"
      },
      "source": [
        "nan_city = combinedjob[pd.isnull(combinedjob['City'])]\n",
        "print(nan_city.shape)\n",
        "nan_city.head()"
      ],
      "execution_count": null,
      "outputs": [
        {
          "output_type": "stream",
          "text": [
            "(135, 23)\n"
          ],
          "name": "stdout"
        },
        {
          "output_type": "execute_result",
          "data": {
            "text/html": [
              "<div>\n",
              "<style scoped>\n",
              "    .dataframe tbody tr th:only-of-type {\n",
              "        vertical-align: middle;\n",
              "    }\n",
              "\n",
              "    .dataframe tbody tr th {\n",
              "        vertical-align: top;\n",
              "    }\n",
              "\n",
              "    .dataframe thead th {\n",
              "        text-align: right;\n",
              "    }\n",
              "</style>\n",
              "<table border=\"1\" class=\"dataframe\">\n",
              "  <thead>\n",
              "    <tr style=\"text-align: right;\">\n",
              "      <th></th>\n",
              "      <th>Job.ID</th>\n",
              "      <th>Provider</th>\n",
              "      <th>Status</th>\n",
              "      <th>Slug</th>\n",
              "      <th>Title</th>\n",
              "      <th>Position</th>\n",
              "      <th>Company</th>\n",
              "      <th>City</th>\n",
              "      <th>State.Name</th>\n",
              "      <th>State.Code</th>\n",
              "      <th>Address</th>\n",
              "      <th>Latitude</th>\n",
              "      <th>Longitude</th>\n",
              "      <th>Industry</th>\n",
              "      <th>Job.Description</th>\n",
              "      <th>Requirements</th>\n",
              "      <th>Salary</th>\n",
              "      <th>Listing.Start</th>\n",
              "      <th>Listing.End</th>\n",
              "      <th>Employment.Type</th>\n",
              "      <th>Education.Required</th>\n",
              "      <th>Created.At</th>\n",
              "      <th>Updated.At</th>\n",
              "    </tr>\n",
              "  </thead>\n",
              "  <tbody>\n",
              "    <tr>\n",
              "      <th>3425</th>\n",
              "      <td>142044</td>\n",
              "      <td>2</td>\n",
              "      <td>open</td>\n",
              "      <td>ga-st-francis-hospital-registered-nurse-rn-142044</td>\n",
              "      <td>Registered Nurse (RN) @ St. Francis Hospital</td>\n",
              "      <td>Registered Nurse (RN)</td>\n",
              "      <td>St. Francis Hospital</td>\n",
              "      <td>NaN</td>\n",
              "      <td>Georgia</td>\n",
              "      <td>GA</td>\n",
              "      <td>NaN</td>\n",
              "      <td>0.0</td>\n",
              "      <td>0.0</td>\n",
              "      <td>NaN</td>\n",
              "      <td>Under the direction of the Clinical Coordinato...</td>\n",
              "      <td>NaN</td>\n",
              "      <td>NaN</td>\n",
              "      <td>12-08-2014</td>\n",
              "      <td>01-07-2015</td>\n",
              "      <td>Full-Time/Part-Time</td>\n",
              "      <td>Associate Degree</td>\n",
              "      <td>2014-12-09 12:00:50 UTC</td>\n",
              "      <td>2014-12-09 12:00:50 UTC</td>\n",
              "    </tr>\n",
              "    <tr>\n",
              "      <th>3433</th>\n",
              "      <td>142054</td>\n",
              "      <td>2</td>\n",
              "      <td>open</td>\n",
              "      <td>chi-payment-systems-sales-representative-busin...</td>\n",
              "      <td>Sales Representative - Business Development Op...</td>\n",
              "      <td>Sales Representative - Business Development Op...</td>\n",
              "      <td>CHI Payment Systems</td>\n",
              "      <td>NaN</td>\n",
              "      <td>NaN</td>\n",
              "      <td>NaN</td>\n",
              "      <td>NaN</td>\n",
              "      <td>0.0</td>\n",
              "      <td>0.0</td>\n",
              "      <td>NaN</td>\n",
              "      <td>If you&amp;rsquo;re energetic, motivated, hardwork...</td>\n",
              "      <td>NaN</td>\n",
              "      <td>NaN</td>\n",
              "      <td>12-08-2014</td>\n",
              "      <td>01-07-2015</td>\n",
              "      <td>Full-Time/Part-Time</td>\n",
              "      <td>High School Diploma</td>\n",
              "      <td>2014-12-09 12:00:57 UTC</td>\n",
              "      <td>2014-12-09 12:00:57 UTC</td>\n",
              "    </tr>\n",
              "    <tr>\n",
              "      <th>3434</th>\n",
              "      <td>142055</td>\n",
              "      <td>2</td>\n",
              "      <td>open</td>\n",
              "      <td>chi-payment-systems-new-business-executive-142055</td>\n",
              "      <td>New Business Executive @ CHI Payment Systems</td>\n",
              "      <td>New Business Executive</td>\n",
              "      <td>CHI Payment Systems</td>\n",
              "      <td>NaN</td>\n",
              "      <td>NaN</td>\n",
              "      <td>NaN</td>\n",
              "      <td>NaN</td>\n",
              "      <td>0.0</td>\n",
              "      <td>0.0</td>\n",
              "      <td>NaN</td>\n",
              "      <td>If you&amp;rsquo;re energetic, motivated, hardwork...</td>\n",
              "      <td>NaN</td>\n",
              "      <td>NaN</td>\n",
              "      <td>12-08-2014</td>\n",
              "      <td>01-07-2015</td>\n",
              "      <td>Full-Time/Part-Time</td>\n",
              "      <td>High School Diploma</td>\n",
              "      <td>2014-12-09 12:00:58 UTC</td>\n",
              "      <td>2014-12-09 12:00:58 UTC</td>\n",
              "    </tr>\n",
              "    <tr>\n",
              "      <th>3435</th>\n",
              "      <td>142056</td>\n",
              "      <td>2</td>\n",
              "      <td>open</td>\n",
              "      <td>chi-payment-systems-outside-sales-representati...</td>\n",
              "      <td>Outside Sales Representative (Business Develop...</td>\n",
              "      <td>Outside Sales Representative (Business Develop...</td>\n",
              "      <td>CHI Payment Systems</td>\n",
              "      <td>NaN</td>\n",
              "      <td>NaN</td>\n",
              "      <td>NaN</td>\n",
              "      <td>NaN</td>\n",
              "      <td>0.0</td>\n",
              "      <td>0.0</td>\n",
              "      <td>NaN</td>\n",
              "      <td>If you&amp;rsquo;re energetic, motivated, hardwork...</td>\n",
              "      <td>NaN</td>\n",
              "      <td>NaN</td>\n",
              "      <td>12-08-2014</td>\n",
              "      <td>01-07-2015</td>\n",
              "      <td>Full-Time/Part-Time</td>\n",
              "      <td>High School Diploma</td>\n",
              "      <td>2014-12-09 12:00:59 UTC</td>\n",
              "      <td>2014-12-09 12:00:59 UTC</td>\n",
              "    </tr>\n",
              "    <tr>\n",
              "      <th>3436</th>\n",
              "      <td>142057</td>\n",
              "      <td>2</td>\n",
              "      <td>open</td>\n",
              "      <td>chi-payment-systems-outside-sales-representati...</td>\n",
              "      <td>Outside Sales Representative @ CHI Payment Sys...</td>\n",
              "      <td>Outside Sales Representative</td>\n",
              "      <td>CHI Payment Systems</td>\n",
              "      <td>NaN</td>\n",
              "      <td>NaN</td>\n",
              "      <td>NaN</td>\n",
              "      <td>NaN</td>\n",
              "      <td>0.0</td>\n",
              "      <td>0.0</td>\n",
              "      <td>NaN</td>\n",
              "      <td>If you&amp;rsquo;re energetic, motivated, hardwork...</td>\n",
              "      <td>NaN</td>\n",
              "      <td>NaN</td>\n",
              "      <td>12-08-2014</td>\n",
              "      <td>01-07-2015</td>\n",
              "      <td>Full-Time/Part-Time</td>\n",
              "      <td>High School Diploma</td>\n",
              "      <td>2014-12-09 12:01:00 UTC</td>\n",
              "      <td>2014-12-09 12:01:00 UTC</td>\n",
              "    </tr>\n",
              "  </tbody>\n",
              "</table>\n",
              "</div>"
            ],
            "text/plain": [
              "      Job.ID  Provider  ...               Created.At               Updated.At\n",
              "3425  142044         2  ...  2014-12-09 12:00:50 UTC  2014-12-09 12:00:50 UTC\n",
              "3433  142054         2  ...  2014-12-09 12:00:57 UTC  2014-12-09 12:00:57 UTC\n",
              "3434  142055         2  ...  2014-12-09 12:00:58 UTC  2014-12-09 12:00:58 UTC\n",
              "3435  142056         2  ...  2014-12-09 12:00:59 UTC  2014-12-09 12:00:59 UTC\n",
              "3436  142057         2  ...  2014-12-09 12:01:00 UTC  2014-12-09 12:01:00 UTC\n",
              "\n",
              "[5 rows x 23 columns]"
            ]
          },
          "metadata": {
            "tags": []
          },
          "execution_count": 34
        }
      ]
    },
    {
      "cell_type": "code",
      "metadata": {
        "id": "TJ3umyaXgGhI",
        "colab": {
          "base_uri": "https://localhost:8080/",
          "height": 221
        },
        "outputId": "70f079da-5b27-4897-f1a2-b581fdd5c168"
      },
      "source": [
        "nan_city.groupby(['Company'])['City'].count() "
      ],
      "execution_count": null,
      "outputs": [
        {
          "output_type": "execute_result",
          "data": {
            "text/plain": [
              "Company\n",
              "Academic Year In America                0\n",
              "CBS Healthcare Services and Staffing    0\n",
              "CHI Payment Systems                     0\n",
              "Driveline Retail                        0\n",
              "Educational Testing Services            0\n",
              "Genesis Health System                   0\n",
              "Genesis Health Systems                  0\n",
              "Home Instead Senior Care                0\n",
              "St. Francis Hospital                    0\n",
              "Volvo Group                             0\n",
              "Name: City, dtype: int64"
            ]
          },
          "metadata": {
            "tags": []
          },
          "execution_count": 35
        }
      ]
    },
    {
      "cell_type": "code",
      "metadata": {
        "id": "jQcIHYnGgM1z"
      },
      "source": [
        "#replacing nan with thier headquarters location\n",
        "combinedjob['Company'] = combinedjob['Company'].replace(['Genesis Health Systems'], 'Genesis Health System')\n",
        "combinedjob.loc[combinedjob.Company == 'CHI Payment Systems', 'City'] = 'Illinois'\n",
        "combinedjob.loc[combinedjob.Company == 'Academic Year In America', 'City'] = 'Stamford'\n",
        "combinedjob.loc[combinedjob.Company == 'CBS Healthcare Services and Staffing ', 'City'] = 'Urbandale'\n",
        "combinedjob.loc[combinedjob.Company == 'Driveline Retail', 'City'] = 'Coppell'\n",
        "combinedjob.loc[combinedjob.Company == 'Educational Testing Services', 'City'] = 'New Jersey'\n",
        "combinedjob.loc[combinedjob.Company == 'Genesis Health System', 'City'] = 'Davennport'\n",
        "combinedjob.loc[combinedjob.Company == 'Home Instead Senior Care', 'City'] = 'Nebraska'\n",
        "combinedjob.loc[combinedjob.Company == 'St. Francis Hospital', 'City'] = 'New York'\n",
        "combinedjob.loc[combinedjob.Company == 'Volvo Group', 'City'] = 'Washington'\n",
        "combinedjob.loc[combinedjob.Company == 'CBS Healthcare Services and Staffing', 'City'] = 'Urbandale'\n",
        "combinedjob['Job.Description']=combinedjob['Job.Description'].fillna('not mentioned')\n"
      ],
      "execution_count": null,
      "outputs": []
    },
    {
      "cell_type": "markdown",
      "metadata": {
        "id": "dcMMnG4LYBY6"
      },
      "source": [
        " TD-IDF based on job description ==> job similarity"
      ]
    },
    {
      "cell_type": "code",
      "metadata": {
        "id": "6fmWOep17Raw",
        "colab": {
          "base_uri": "https://localhost:8080/",
          "height": 249
        },
        "outputId": "5c7b80a5-e44b-4a34-8314-fdeba0772ae0"
      },
      "source": [
        "combinedjob1=combinedjob.iloc[:20000,:]\n",
        "combinedjob1['joint'] = combinedjob1[\"Position\"].map(str) + \"  \" + combinedjob1[\"Title\"] +\"  \"+ combinedjob1[\"City\"]+\"  \"+ combinedjob1[\"Job.Description\"]+\"  \"+ combinedjob1[\"Education.Required\"]\n",
        "combinedjob1['joint'] = combinedjob1['joint'].str.replace('[^a-zA-Z \\n\\.]',\"\")\n",
        "combinedjob1['joint'] = combinedjob1['joint'].str.lower()\n",
        "combinedjob1 = combinedjob1[['Job.ID',\"Title\", 'joint']]\n",
        "combinedjob1.head()"
      ],
      "execution_count": null,
      "outputs": [
        {
          "output_type": "error",
          "ename": "NameError",
          "evalue": "ignored",
          "traceback": [
            "\u001b[0;31m---------------------------------------------------------------------------\u001b[0m",
            "\u001b[0;31mNameError\u001b[0m                                 Traceback (most recent call last)",
            "\u001b[0;32m<ipython-input-1-33c87395f450>\u001b[0m in \u001b[0;36m<module>\u001b[0;34m()\u001b[0m\n\u001b[0;32m----> 1\u001b[0;31m \u001b[0mcombinedjob1\u001b[0m\u001b[0;34m=\u001b[0m\u001b[0mcombinedjob\u001b[0m\u001b[0;34m.\u001b[0m\u001b[0miloc\u001b[0m\u001b[0;34m[\u001b[0m\u001b[0;34m:\u001b[0m\u001b[0;36m20000\u001b[0m\u001b[0;34m,\u001b[0m\u001b[0;34m:\u001b[0m\u001b[0;34m]\u001b[0m\u001b[0;34m\u001b[0m\u001b[0;34m\u001b[0m\u001b[0m\n\u001b[0m\u001b[1;32m      2\u001b[0m \u001b[0mcombinedjob1\u001b[0m\u001b[0;34m[\u001b[0m\u001b[0;34m'joint'\u001b[0m\u001b[0;34m]\u001b[0m \u001b[0;34m=\u001b[0m \u001b[0mcombinedjob1\u001b[0m\u001b[0;34m[\u001b[0m\u001b[0;34m\"Position\"\u001b[0m\u001b[0;34m]\u001b[0m\u001b[0;34m.\u001b[0m\u001b[0mmap\u001b[0m\u001b[0;34m(\u001b[0m\u001b[0mstr\u001b[0m\u001b[0;34m)\u001b[0m \u001b[0;34m+\u001b[0m \u001b[0;34m\"  \"\u001b[0m \u001b[0;34m+\u001b[0m \u001b[0mcombinedjob1\u001b[0m\u001b[0;34m[\u001b[0m\u001b[0;34m\"Title\"\u001b[0m\u001b[0;34m]\u001b[0m \u001b[0;34m+\u001b[0m\u001b[0;34m\"  \"\u001b[0m\u001b[0;34m+\u001b[0m \u001b[0mcombinedjob1\u001b[0m\u001b[0;34m[\u001b[0m\u001b[0;34m\"City\"\u001b[0m\u001b[0;34m]\u001b[0m\u001b[0;34m+\u001b[0m\u001b[0;34m\"  \"\u001b[0m\u001b[0;34m+\u001b[0m \u001b[0mcombinedjob1\u001b[0m\u001b[0;34m[\u001b[0m\u001b[0;34m\"Job.Description\"\u001b[0m\u001b[0;34m]\u001b[0m\u001b[0;34m+\u001b[0m\u001b[0;34m\"  \"\u001b[0m\u001b[0;34m+\u001b[0m \u001b[0mcombinedjob1\u001b[0m\u001b[0;34m[\u001b[0m\u001b[0;34m\"Education.Required\"\u001b[0m\u001b[0;34m]\u001b[0m\u001b[0;34m\u001b[0m\u001b[0;34m\u001b[0m\u001b[0m\n\u001b[1;32m      3\u001b[0m \u001b[0mcombinedjob1\u001b[0m\u001b[0;34m[\u001b[0m\u001b[0;34m'joint'\u001b[0m\u001b[0;34m]\u001b[0m \u001b[0;34m=\u001b[0m \u001b[0mcombinedjob1\u001b[0m\u001b[0;34m[\u001b[0m\u001b[0;34m'joint'\u001b[0m\u001b[0;34m]\u001b[0m\u001b[0;34m.\u001b[0m\u001b[0mstr\u001b[0m\u001b[0;34m.\u001b[0m\u001b[0mreplace\u001b[0m\u001b[0;34m(\u001b[0m\u001b[0;34m'[^a-zA-Z \\n\\.]'\u001b[0m\u001b[0;34m,\u001b[0m\u001b[0;34m\"\"\u001b[0m\u001b[0;34m)\u001b[0m\u001b[0;34m\u001b[0m\u001b[0;34m\u001b[0m\u001b[0m\n\u001b[1;32m      4\u001b[0m \u001b[0mcombinedjob1\u001b[0m\u001b[0;34m[\u001b[0m\u001b[0;34m'joint'\u001b[0m\u001b[0;34m]\u001b[0m \u001b[0;34m=\u001b[0m \u001b[0mcombinedjob1\u001b[0m\u001b[0;34m[\u001b[0m\u001b[0;34m'joint'\u001b[0m\u001b[0;34m]\u001b[0m\u001b[0;34m.\u001b[0m\u001b[0mstr\u001b[0m\u001b[0;34m.\u001b[0m\u001b[0mlower\u001b[0m\u001b[0;34m(\u001b[0m\u001b[0;34m)\u001b[0m\u001b[0;34m\u001b[0m\u001b[0;34m\u001b[0m\u001b[0m\n\u001b[1;32m      5\u001b[0m \u001b[0mcombinedjob1\u001b[0m \u001b[0;34m=\u001b[0m \u001b[0mcombinedjob1\u001b[0m\u001b[0;34m[\u001b[0m\u001b[0;34m[\u001b[0m\u001b[0;34m'Job.ID'\u001b[0m\u001b[0;34m,\u001b[0m\u001b[0;34m\"Title\"\u001b[0m\u001b[0;34m,\u001b[0m \u001b[0;34m'joint'\u001b[0m\u001b[0;34m]\u001b[0m\u001b[0;34m]\u001b[0m\u001b[0;34m\u001b[0m\u001b[0;34m\u001b[0m\u001b[0m\n",
            "\u001b[0;31mNameError\u001b[0m: name 'combinedjob' is not defined"
          ]
        }
      ]
    },
    {
      "cell_type": "code",
      "metadata": {
        "id": "mxiUFtlAj7D-"
      },
      "source": [
        "tf = TfidfVectorizer(analyzer='word',ngram_range=(1, 2), stop_words='english', max_features=10000)\n",
        "tfidf_matrix = tf.fit_transform(combinedjob1['joint'])\n"
      ],
      "execution_count": null,
      "outputs": []
    },
    {
      "cell_type": "code",
      "metadata": {
        "id": "CU7KcuLSzmas",
        "colab": {
          "base_uri": "https://localhost:8080/",
          "height": 34
        },
        "outputId": "e74075e6-15d1-412e-d74f-94cb13271f4e"
      },
      "source": [
        "tfidf_matrix.shape\n"
      ],
      "execution_count": null,
      "outputs": [
        {
          "output_type": "execute_result",
          "data": {
            "text/plain": [
              "(20000, 10000)"
            ]
          },
          "metadata": {
            "tags": []
          },
          "execution_count": 41
        }
      ]
    },
    {
      "cell_type": "code",
      "metadata": {
        "id": "dhCOHnXFqS8d"
      },
      "source": [
        "#cosine_sim = linear_kernel(tfidf_matrix, tfidf_matrix)\n",
        "cosine_sim = cosine_similarity(tfidf_matrix, tfidf_matrix)\n"
      ],
      "execution_count": null,
      "outputs": []
    },
    {
      "cell_type": "code",
      "metadata": {
        "id": "aSEjL4AgwxGb",
        "colab": {
          "base_uri": "https://localhost:8080/",
          "height": 34
        },
        "outputId": "50c611ef-0bbf-45b7-fb4f-9773c0b051ea"
      },
      "source": [
        "titles = combinedjob1['Title']\n",
        "indices = pd.Series(combinedjob1.index, index=combinedjob1['Title'])\n",
        "len(titles)"
      ],
      "execution_count": null,
      "outputs": [
        {
          "output_type": "execute_result",
          "data": {
            "text/plain": [
              "20000"
            ]
          },
          "metadata": {
            "tags": []
          },
          "execution_count": 45
        }
      ]
    },
    {
      "cell_type": "code",
      "metadata": {
        "id": "tL-Zq6LgoMuQ"
      },
      "source": [
        "def get_recommendations(title):\n",
        "    if len(str(type(indices[title])))> 21:\n",
        "      idx = indices[title][0]\n",
        "    else:\n",
        "      idx = indices[title]\n",
        "    #print (idx)\n",
        "    sim_scores = list(enumerate(cosine_sim[idx]))\n",
        "    #print (sim_scores)\n",
        "    sim_scores = sorted(sim_scores, key=lambda x: x[1], reverse=True)\n",
        "    job_indices = [i[0] for i in sim_scores]\n",
        "    return titles.iloc[job_indices].head(5)"
      ],
      "execution_count": null,
      "outputs": []
    },
    {
      "cell_type": "code",
      "metadata": {
        "id": "hIrjs_LGoUoC",
        "colab": {
          "base_uri": "https://localhost:8080/",
          "height": 119
        },
        "outputId": "f6d91e95-e8d2-4a19-85c5-bf5e7dec51b6"
      },
      "source": [
        "get_recommendations(\"Server @ Tacolicious\")"
      ],
      "execution_count": null,
      "outputs": [
        {
          "output_type": "execute_result",
          "data": {
            "text/plain": [
              "0                   Server @ Tacolicious\n",
              "13453                  Server @ Gonpachi\n",
              "3                Server @ Teriyaki House\n",
              "10778     Server @ Far Niente Ristorante\n",
              "10783    Server @ La Fontaine Restaurant\n",
              "Name: Title, dtype: object"
            ]
          },
          "metadata": {
            "tags": []
          },
          "execution_count": 47
        }
      ]
    },
    {
      "cell_type": "code",
      "metadata": {
        "id": "tTpHxO8ACuzB",
        "colab": {
          "base_uri": "https://localhost:8080/",
          "height": 221
        },
        "outputId": "18c87844-e558-4cc2-abda-bab395bdd952"
      },
      "source": [
        "indicesss = pd.Series(combinedjob1.index)\n",
        "indicesss\n",
        "#combinedjob1.iloc[combinedjob1.index.get_loc('Server @ Tacolicious')]['joint']\n",
        "#matches=len(set(combinedjob1.iloc[combinedjob1.index.get_loc('Payroll Associate')]['keyWords']) & set(combinedjob11.iloc[combinedjob1.index.get_loc('Temporary Painter')]['keyWords']))\n",
        "#matches"
      ],
      "execution_count": null,
      "outputs": [
        {
          "output_type": "execute_result",
          "data": {
            "text/plain": [
              "0            0\n",
              "1            1\n",
              "2            2\n",
              "3            3\n",
              "4            4\n",
              "         ...  \n",
              "19995    19995\n",
              "19996    19996\n",
              "19997    19997\n",
              "19998    19998\n",
              "19999    19999\n",
              "Length: 20000, dtype: int64"
            ]
          },
          "metadata": {
            "tags": []
          },
          "execution_count": 61
        }
      ]
    },
    {
      "cell_type": "code",
      "metadata": {
        "id": "AXH6Aw1vtB-7"
      },
      "source": [
        "from statistics import mean \n",
        "def accuracy(title):\n",
        "    matches = []\n",
        "    for job in get_recommendations(title):\n",
        "        matches.append(len(set(combinedjob1.iloc[combinedjob1.index.get_loc(job)]['joint']) & set(combinedjob1.iloc[combinedjob1.index.get_loc(title)]['joint'])))\n",
        "    return  mean(matches)/max(matches)"
      ],
      "execution_count": null,
      "outputs": []
    },
    {
      "cell_type": "code",
      "metadata": {
        "id": "WUh2sQjjAsun",
        "colab": {
          "base_uri": "https://localhost:8080/",
          "height": 630
        },
        "outputId": "6934974a-3ec2-483e-c393-2de5b872cef3"
      },
      "source": [
        "accuracy('Server @ Tacolicious')"
      ],
      "execution_count": null,
      "outputs": [
        {
          "output_type": "error",
          "ename": "KeyError",
          "evalue": "ignored",
          "traceback": [
            "\u001b[0;31m---------------------------------------------------------------------------\u001b[0m",
            "\u001b[0;31mKeyError\u001b[0m                                  Traceback (most recent call last)",
            "\u001b[0;32m/usr/local/lib/python3.6/dist-packages/pandas/core/indexes/base.py\u001b[0m in \u001b[0;36mget_loc\u001b[0;34m(self, key, method, tolerance)\u001b[0m\n\u001b[1;32m   2645\u001b[0m             \u001b[0;32mtry\u001b[0m\u001b[0;34m:\u001b[0m\u001b[0;34m\u001b[0m\u001b[0;34m\u001b[0m\u001b[0m\n\u001b[0;32m-> 2646\u001b[0;31m                 \u001b[0;32mreturn\u001b[0m \u001b[0mself\u001b[0m\u001b[0;34m.\u001b[0m\u001b[0m_engine\u001b[0m\u001b[0;34m.\u001b[0m\u001b[0mget_loc\u001b[0m\u001b[0;34m(\u001b[0m\u001b[0mkey\u001b[0m\u001b[0;34m)\u001b[0m\u001b[0;34m\u001b[0m\u001b[0;34m\u001b[0m\u001b[0m\n\u001b[0m\u001b[1;32m   2647\u001b[0m             \u001b[0;32mexcept\u001b[0m \u001b[0mKeyError\u001b[0m\u001b[0;34m:\u001b[0m\u001b[0;34m\u001b[0m\u001b[0;34m\u001b[0m\u001b[0m\n",
            "\u001b[0;32mpandas/_libs/index.pyx\u001b[0m in \u001b[0;36mpandas._libs.index.IndexEngine.get_loc\u001b[0;34m()\u001b[0m\n",
            "\u001b[0;32mpandas/_libs/index.pyx\u001b[0m in \u001b[0;36mpandas._libs.index.IndexEngine.get_loc\u001b[0;34m()\u001b[0m\n",
            "\u001b[0;32mpandas/_libs/index_class_helper.pxi\u001b[0m in \u001b[0;36mpandas._libs.index.Int64Engine._check_type\u001b[0;34m()\u001b[0m\n",
            "\u001b[0;31mKeyError\u001b[0m: 'Server @ Tacolicious'",
            "\nDuring handling of the above exception, another exception occurred:\n",
            "\u001b[0;31mKeyError\u001b[0m                                  Traceback (most recent call last)",
            "\u001b[0;32m<ipython-input-59-6ff5cb3499e4>\u001b[0m in \u001b[0;36m<module>\u001b[0;34m()\u001b[0m\n\u001b[0;32m----> 1\u001b[0;31m \u001b[0maccuracy\u001b[0m\u001b[0;34m(\u001b[0m\u001b[0;34m'Server @ Tacolicious'\u001b[0m\u001b[0;34m)\u001b[0m\u001b[0;34m\u001b[0m\u001b[0;34m\u001b[0m\u001b[0m\n\u001b[0m",
            "\u001b[0;32m<ipython-input-58-1d2d9d2dae7f>\u001b[0m in \u001b[0;36maccuracy\u001b[0;34m(title)\u001b[0m\n\u001b[1;32m      3\u001b[0m     \u001b[0mmatches\u001b[0m \u001b[0;34m=\u001b[0m \u001b[0;34m[\u001b[0m\u001b[0;34m]\u001b[0m\u001b[0;34m\u001b[0m\u001b[0;34m\u001b[0m\u001b[0m\n\u001b[1;32m      4\u001b[0m     \u001b[0;32mfor\u001b[0m \u001b[0mjob\u001b[0m \u001b[0;32min\u001b[0m \u001b[0mget_recommendations\u001b[0m\u001b[0;34m(\u001b[0m\u001b[0mtitle\u001b[0m\u001b[0;34m)\u001b[0m\u001b[0;34m:\u001b[0m\u001b[0;34m\u001b[0m\u001b[0;34m\u001b[0m\u001b[0m\n\u001b[0;32m----> 5\u001b[0;31m         \u001b[0mmatches\u001b[0m\u001b[0;34m.\u001b[0m\u001b[0mappend\u001b[0m\u001b[0;34m(\u001b[0m\u001b[0mlen\u001b[0m\u001b[0;34m(\u001b[0m\u001b[0mset\u001b[0m\u001b[0;34m(\u001b[0m\u001b[0mcombinedjob1\u001b[0m\u001b[0;34m.\u001b[0m\u001b[0miloc\u001b[0m\u001b[0;34m[\u001b[0m\u001b[0mcombinedjob1\u001b[0m\u001b[0;34m.\u001b[0m\u001b[0mindex\u001b[0m\u001b[0;34m.\u001b[0m\u001b[0mget_loc\u001b[0m\u001b[0;34m(\u001b[0m\u001b[0mjob\u001b[0m\u001b[0;34m)\u001b[0m\u001b[0;34m]\u001b[0m\u001b[0;34m[\u001b[0m\u001b[0;34m'joint'\u001b[0m\u001b[0;34m]\u001b[0m\u001b[0;34m)\u001b[0m \u001b[0;34m&\u001b[0m \u001b[0mset\u001b[0m\u001b[0;34m(\u001b[0m\u001b[0mcombinedjob1\u001b[0m\u001b[0;34m.\u001b[0m\u001b[0miloc\u001b[0m\u001b[0;34m[\u001b[0m\u001b[0mcombinedjob1\u001b[0m\u001b[0;34m.\u001b[0m\u001b[0mindex\u001b[0m\u001b[0;34m.\u001b[0m\u001b[0mget_loc\u001b[0m\u001b[0;34m(\u001b[0m\u001b[0mtitle\u001b[0m\u001b[0;34m)\u001b[0m\u001b[0;34m]\u001b[0m\u001b[0;34m[\u001b[0m\u001b[0;34m'joint'\u001b[0m\u001b[0;34m]\u001b[0m\u001b[0;34m)\u001b[0m\u001b[0;34m)\u001b[0m\u001b[0;34m)\u001b[0m\u001b[0;34m\u001b[0m\u001b[0;34m\u001b[0m\u001b[0m\n\u001b[0m\u001b[1;32m      6\u001b[0m     \u001b[0;32mreturn\u001b[0m  \u001b[0mprint\u001b[0m\u001b[0;34m(\u001b[0m\u001b[0mmatches\u001b[0m\u001b[0;34m)\u001b[0m\u001b[0;31m#mean(matches)/max(matches)\u001b[0m\u001b[0;34m\u001b[0m\u001b[0;34m\u001b[0m\u001b[0m\n",
            "\u001b[0;32m/usr/local/lib/python3.6/dist-packages/pandas/core/indexes/range.py\u001b[0m in \u001b[0;36mget_loc\u001b[0;34m(self, key, method, tolerance)\u001b[0m\n\u001b[1;32m    351\u001b[0m             \u001b[0;32mexcept\u001b[0m \u001b[0mValueError\u001b[0m\u001b[0;34m:\u001b[0m\u001b[0;34m\u001b[0m\u001b[0;34m\u001b[0m\u001b[0m\n\u001b[1;32m    352\u001b[0m                 \u001b[0;32mraise\u001b[0m \u001b[0mKeyError\u001b[0m\u001b[0;34m(\u001b[0m\u001b[0mkey\u001b[0m\u001b[0;34m)\u001b[0m\u001b[0;34m\u001b[0m\u001b[0;34m\u001b[0m\u001b[0m\n\u001b[0;32m--> 353\u001b[0;31m         \u001b[0;32mreturn\u001b[0m \u001b[0msuper\u001b[0m\u001b[0;34m(\u001b[0m\u001b[0;34m)\u001b[0m\u001b[0;34m.\u001b[0m\u001b[0mget_loc\u001b[0m\u001b[0;34m(\u001b[0m\u001b[0mkey\u001b[0m\u001b[0;34m,\u001b[0m \u001b[0mmethod\u001b[0m\u001b[0;34m=\u001b[0m\u001b[0mmethod\u001b[0m\u001b[0;34m,\u001b[0m \u001b[0mtolerance\u001b[0m\u001b[0;34m=\u001b[0m\u001b[0mtolerance\u001b[0m\u001b[0;34m)\u001b[0m\u001b[0;34m\u001b[0m\u001b[0;34m\u001b[0m\u001b[0m\n\u001b[0m\u001b[1;32m    354\u001b[0m \u001b[0;34m\u001b[0m\u001b[0m\n\u001b[1;32m    355\u001b[0m     \u001b[0;34m@\u001b[0m\u001b[0mAppender\u001b[0m\u001b[0;34m(\u001b[0m\u001b[0m_index_shared_docs\u001b[0m\u001b[0;34m[\u001b[0m\u001b[0;34m\"get_indexer\"\u001b[0m\u001b[0;34m]\u001b[0m\u001b[0;34m)\u001b[0m\u001b[0;34m\u001b[0m\u001b[0;34m\u001b[0m\u001b[0m\n",
            "\u001b[0;32m/usr/local/lib/python3.6/dist-packages/pandas/core/indexes/base.py\u001b[0m in \u001b[0;36mget_loc\u001b[0;34m(self, key, method, tolerance)\u001b[0m\n\u001b[1;32m   2646\u001b[0m                 \u001b[0;32mreturn\u001b[0m \u001b[0mself\u001b[0m\u001b[0;34m.\u001b[0m\u001b[0m_engine\u001b[0m\u001b[0;34m.\u001b[0m\u001b[0mget_loc\u001b[0m\u001b[0;34m(\u001b[0m\u001b[0mkey\u001b[0m\u001b[0;34m)\u001b[0m\u001b[0;34m\u001b[0m\u001b[0;34m\u001b[0m\u001b[0m\n\u001b[1;32m   2647\u001b[0m             \u001b[0;32mexcept\u001b[0m \u001b[0mKeyError\u001b[0m\u001b[0;34m:\u001b[0m\u001b[0;34m\u001b[0m\u001b[0;34m\u001b[0m\u001b[0m\n\u001b[0;32m-> 2648\u001b[0;31m                 \u001b[0;32mreturn\u001b[0m \u001b[0mself\u001b[0m\u001b[0;34m.\u001b[0m\u001b[0m_engine\u001b[0m\u001b[0;34m.\u001b[0m\u001b[0mget_loc\u001b[0m\u001b[0;34m(\u001b[0m\u001b[0mself\u001b[0m\u001b[0;34m.\u001b[0m\u001b[0m_maybe_cast_indexer\u001b[0m\u001b[0;34m(\u001b[0m\u001b[0mkey\u001b[0m\u001b[0;34m)\u001b[0m\u001b[0;34m)\u001b[0m\u001b[0;34m\u001b[0m\u001b[0;34m\u001b[0m\u001b[0m\n\u001b[0m\u001b[1;32m   2649\u001b[0m         \u001b[0mindexer\u001b[0m \u001b[0;34m=\u001b[0m \u001b[0mself\u001b[0m\u001b[0;34m.\u001b[0m\u001b[0mget_indexer\u001b[0m\u001b[0;34m(\u001b[0m\u001b[0;34m[\u001b[0m\u001b[0mkey\u001b[0m\u001b[0;34m]\u001b[0m\u001b[0;34m,\u001b[0m \u001b[0mmethod\u001b[0m\u001b[0;34m=\u001b[0m\u001b[0mmethod\u001b[0m\u001b[0;34m,\u001b[0m \u001b[0mtolerance\u001b[0m\u001b[0;34m=\u001b[0m\u001b[0mtolerance\u001b[0m\u001b[0;34m)\u001b[0m\u001b[0;34m\u001b[0m\u001b[0;34m\u001b[0m\u001b[0m\n\u001b[1;32m   2650\u001b[0m         \u001b[0;32mif\u001b[0m \u001b[0mindexer\u001b[0m\u001b[0;34m.\u001b[0m\u001b[0mndim\u001b[0m \u001b[0;34m>\u001b[0m \u001b[0;36m1\u001b[0m \u001b[0;32mor\u001b[0m \u001b[0mindexer\u001b[0m\u001b[0;34m.\u001b[0m\u001b[0msize\u001b[0m \u001b[0;34m>\u001b[0m \u001b[0;36m1\u001b[0m\u001b[0;34m:\u001b[0m\u001b[0;34m\u001b[0m\u001b[0;34m\u001b[0m\u001b[0m\n",
            "\u001b[0;32mpandas/_libs/index.pyx\u001b[0m in \u001b[0;36mpandas._libs.index.IndexEngine.get_loc\u001b[0;34m()\u001b[0m\n",
            "\u001b[0;32mpandas/_libs/index.pyx\u001b[0m in \u001b[0;36mpandas._libs.index.IndexEngine.get_loc\u001b[0;34m()\u001b[0m\n",
            "\u001b[0;32mpandas/_libs/index_class_helper.pxi\u001b[0m in \u001b[0;36mpandas._libs.index.Int64Engine._check_type\u001b[0;34m()\u001b[0m\n",
            "\u001b[0;31mKeyError\u001b[0m: 'Server @ Tacolicious'"
          ]
        }
      ]
    },
    {
      "cell_type": "code",
      "metadata": {
        "id": "qkr61Zm4AzzO"
      },
      "source": [
        "# Loop through all the titles and evaluate\n",
        "# The results are pretty good\n",
        "# However, we can see that certain values are matching perfectly\n",
        "for title in model_dfp1.index:\n",
        "    print(accuracy(title))"
      ],
      "execution_count": null,
      "outputs": []
    },
    {
      "cell_type": "code",
      "metadata": {
        "id": "mWbTthK8nluG"
      },
      "source": [
        "def get_user_id(job_list):\n",
        "    jobs_userwise = jobview['Title'].isin(job_list)\n",
        "    df1 = pd.DataFrame(data = jobview[jobs_userwise], columns=['Applicant.ID'])\n",
        "    userlist = df1['Applicant.ID'].tolist()\n",
        "    userlist = jobview['Applicant.ID'].isin(userlist) \n",
        "    df_temp = pd.DataFrame(data = jobview[userlist], columns=['Applicant.ID'])\n",
        "    return df_temp.drop_duplicates()"
      ],
      "execution_count": null,
      "outputs": []
    },
    {
      "cell_type": "code",
      "metadata": {
        "id": "cjW-d3JhpMta",
        "colab": {
          "base_uri": "https://localhost:8080/",
          "height": 204
        },
        "outputId": "8ff42f7d-5bbd-4a18-8e9c-40f2b51c5d32"
      },
      "source": [
        "get_user_id(get_recommendations(\"Administrative experience in Life Insurance @ OfficeTeam\"))"
      ],
      "execution_count": null,
      "outputs": [
        {
          "output_type": "execute_result",
          "data": {
            "text/html": [
              "<div>\n",
              "<style scoped>\n",
              "    .dataframe tbody tr th:only-of-type {\n",
              "        vertical-align: middle;\n",
              "    }\n",
              "\n",
              "    .dataframe tbody tr th {\n",
              "        vertical-align: top;\n",
              "    }\n",
              "\n",
              "    .dataframe thead th {\n",
              "        text-align: right;\n",
              "    }\n",
              "</style>\n",
              "<table border=\"1\" class=\"dataframe\">\n",
              "  <thead>\n",
              "    <tr style=\"text-align: right;\">\n",
              "      <th></th>\n",
              "      <th>Applicant.ID</th>\n",
              "    </tr>\n",
              "  </thead>\n",
              "  <tbody>\n",
              "    <tr>\n",
              "      <th>3987</th>\n",
              "      <td>11988</td>\n",
              "    </tr>\n",
              "    <tr>\n",
              "      <th>5503</th>\n",
              "      <td>12733</td>\n",
              "    </tr>\n",
              "    <tr>\n",
              "      <th>5891</th>\n",
              "      <td>12984</td>\n",
              "    </tr>\n",
              "    <tr>\n",
              "      <th>7428</th>\n",
              "      <td>13927</td>\n",
              "    </tr>\n",
              "    <tr>\n",
              "      <th>11825</th>\n",
              "      <td>9692</td>\n",
              "    </tr>\n",
              "  </tbody>\n",
              "</table>\n",
              "</div>"
            ],
            "text/plain": [
              "       Applicant.ID\n",
              "3987          11988\n",
              "5503          12733\n",
              "5891          12984\n",
              "7428          13927\n",
              "11825          9692"
            ]
          },
          "metadata": {
            "tags": []
          },
          "execution_count": 19
        }
      ]
    },
    {
      "cell_type": "code",
      "metadata": {
        "id": "gBV_vC9muTS0",
        "colab": {
          "base_uri": "https://localhost:8080/",
          "height": 34
        },
        "outputId": "9e0d0050-4822-413f-8ddb-4c978dbaf67c"
      },
      "source": [
        "titles2=combinedjob_train['Title'].unique()\n",
        "len(titles2)"
      ],
      "execution_count": null,
      "outputs": [
        {
          "output_type": "execute_result",
          "data": {
            "text/plain": [
              "10788"
            ]
          },
          "metadata": {
            "tags": []
          },
          "execution_count": 48
        }
      ]
    },
    {
      "cell_type": "code",
      "metadata": {
        "id": "vXgyBBYoH126"
      },
      "source": [
        ""
      ],
      "execution_count": null,
      "outputs": []
    },
    {
      "cell_type": "code",
      "metadata": {
        "id": "TKsK03tXC52H"
      },
      "source": [
        ""
      ],
      "execution_count": null,
      "outputs": []
    },
    {
      "cell_type": "code",
      "metadata": {
        "id": "zgyJxGZZuhM3"
      },
      "source": [
        "df1=pd.DataFrame()\n",
        "count=0\n",
        "for i in titles2:\n",
        "  df=get_user_id(get_recommendations(i))\n",
        "  df['Tilte']=i\n",
        "  a=combinedjob[\"Job.ID\"][combinedjob['Title']==i].tolist()[0]\n",
        "  df['JobID']=a\n",
        "  df['City']=combinedjob[\"City\"][combinedjob['Job.ID']==a].tolist()[0]\n",
        "  df['State']=combinedjob[\"State.Name\"][combinedjob['Job.ID']==a].tolist()[0]\n",
        "  count+=1\n",
        "  df=pd.DataFrame(df)\n",
        "  df1=df1.append(df)\n"
      ],
      "execution_count": null,
      "outputs": []
    },
    {
      "cell_type": "code",
      "metadata": {
        "id": "kpxzIkkU5SPC",
        "colab": {
          "base_uri": "https://localhost:8080/",
          "height": 521
        },
        "outputId": "a9b5960e-dabe-4f5f-fa85-61bfa36f668e"
      },
      "source": [
        "df1.drop_duplicates().sort_values(by=[\"Applicant.ID\", \"JobID\"])"
      ],
      "execution_count": null,
      "outputs": [
        {
          "output_type": "execute_result",
          "data": {
            "text/html": [
              "<div>\n",
              "<style scoped>\n",
              "    .dataframe tbody tr th:only-of-type {\n",
              "        vertical-align: middle;\n",
              "    }\n",
              "\n",
              "    .dataframe tbody tr th {\n",
              "        vertical-align: top;\n",
              "    }\n",
              "\n",
              "    .dataframe thead th {\n",
              "        text-align: right;\n",
              "    }\n",
              "</style>\n",
              "<table border=\"1\" class=\"dataframe\">\n",
              "  <thead>\n",
              "    <tr style=\"text-align: right;\">\n",
              "      <th></th>\n",
              "      <th>Applicant.ID</th>\n",
              "      <th>Tilte</th>\n",
              "      <th>JobID</th>\n",
              "      <th>City</th>\n",
              "      <th>State</th>\n",
              "    </tr>\n",
              "  </thead>\n",
              "  <tbody>\n",
              "    <tr>\n",
              "      <th>8878</th>\n",
              "      <td>42</td>\n",
              "      <td>Driving Partner @ Uber</td>\n",
              "      <td>153197</td>\n",
              "      <td>San Francisco</td>\n",
              "      <td>California</td>\n",
              "    </tr>\n",
              "    <tr>\n",
              "      <th>8721</th>\n",
              "      <td>153</td>\n",
              "      <td>Staff Accountant @ Accountemps</td>\n",
              "      <td>136420</td>\n",
              "      <td>Fort Myers</td>\n",
              "      <td>Florida</td>\n",
              "    </tr>\n",
              "    <tr>\n",
              "      <th>8721</th>\n",
              "      <td>153</td>\n",
              "      <td>Purchasing Analyst @ Accountemps</td>\n",
              "      <td>136431</td>\n",
              "      <td>Saint Paul</td>\n",
              "      <td>Minnesota</td>\n",
              "    </tr>\n",
              "    <tr>\n",
              "      <th>8721</th>\n",
              "      <td>153</td>\n",
              "      <td>Accounts Receivable Clerk @ Accountemps</td>\n",
              "      <td>136442</td>\n",
              "      <td>Hauppauge</td>\n",
              "      <td>New York</td>\n",
              "    </tr>\n",
              "    <tr>\n",
              "      <th>8721</th>\n",
              "      <td>153</td>\n",
              "      <td>Medical Biller/Collections Spec. @ Accountemps</td>\n",
              "      <td>136444</td>\n",
              "      <td>Mission</td>\n",
              "      <td>Kansas</td>\n",
              "    </tr>\n",
              "    <tr>\n",
              "      <th>...</th>\n",
              "      <td>...</td>\n",
              "      <td>...</td>\n",
              "      <td>...</td>\n",
              "      <td>...</td>\n",
              "      <td>...</td>\n",
              "    </tr>\n",
              "    <tr>\n",
              "      <th>8707</th>\n",
              "      <td>14545</td>\n",
              "      <td>CERTIFIED NURSING ASSISTANT - CNA @ Life Care ...</td>\n",
              "      <td>247828</td>\n",
              "      <td>Thomasville</td>\n",
              "      <td>Georgia</td>\n",
              "    </tr>\n",
              "    <tr>\n",
              "      <th>8707</th>\n",
              "      <td>14545</td>\n",
              "      <td>Calling all Recent Grads!! @ Accountemps</td>\n",
              "      <td>249129</td>\n",
              "      <td>Oakland</td>\n",
              "      <td>California</td>\n",
              "    </tr>\n",
              "    <tr>\n",
              "      <th>8711</th>\n",
              "      <td>14546</td>\n",
              "      <td>Personal Driver/Chauffeur @ Quest LLC</td>\n",
              "      <td>227061</td>\n",
              "      <td>los angeles</td>\n",
              "      <td>California</td>\n",
              "    </tr>\n",
              "    <tr>\n",
              "      <th>8714</th>\n",
              "      <td>14547</td>\n",
              "      <td>Personal Assistant/ Administrative Assistant @...</td>\n",
              "      <td>231297</td>\n",
              "      <td>New York</td>\n",
              "      <td>New York</td>\n",
              "    </tr>\n",
              "    <tr>\n",
              "      <th>8717</th>\n",
              "      <td>14552</td>\n",
              "      <td>Personal Assistant/ Administrative Assistant @...</td>\n",
              "      <td>231297</td>\n",
              "      <td>New York</td>\n",
              "      <td>New York</td>\n",
              "    </tr>\n",
              "  </tbody>\n",
              "</table>\n",
              "<p>93077 rows × 5 columns</p>\n",
              "</div>"
            ],
            "text/plain": [
              "      Applicant.ID  ...       State\n",
              "8878            42  ...  California\n",
              "8721           153  ...     Florida\n",
              "8721           153  ...   Minnesota\n",
              "8721           153  ...    New York\n",
              "8721           153  ...      Kansas\n",
              "...            ...  ...         ...\n",
              "8707         14545  ...     Georgia\n",
              "8707         14545  ...  California\n",
              "8711         14546  ...  California\n",
              "8714         14547  ...    New York\n",
              "8717         14552  ...    New York\n",
              "\n",
              "[93077 rows x 5 columns]"
            ]
          },
          "metadata": {
            "tags": []
          },
          "execution_count": 50
        }
      ]
    },
    {
      "cell_type": "code",
      "metadata": {
        "id": "cp_1JR5l5hJM"
      },
      "source": [
        "## cosine similarity  ==> user similarity"
      ],
      "execution_count": null,
      "outputs": []
    },
    {
      "cell_type": "code",
      "metadata": {
        "id": "V6GTOBK5qYos",
        "colab": {
          "base_uri": "https://localhost:8080/",
          "height": 204
        },
        "outputId": "60ed6252-417a-4cb0-f2ef-1762b9eb0d0c"
      },
      "source": [
        "jobview['pos_com_city'] = jobview[\"Position\"].map(str) + \"  \" + jobview[\"Company\"] +\"  \"+ jobview[\"City\"]\n",
        "\n",
        "jobview['pos_com_city'] = jobview['pos_com_city'].str.replace('[^a-zA-Z \\n\\.]',\"\")\n",
        "\n",
        "jobview['pos_com_city'] = jobview['pos_com_city'].str.lower()\n",
        "\n",
        "jobview2 = jobview[['Applicant.ID','pos_com_city']]\n",
        "\n",
        "jobview2.head()"
      ],
      "execution_count": null,
      "outputs": [
        {
          "output_type": "execute_result",
          "data": {
            "text/html": [
              "<div>\n",
              "<style scoped>\n",
              "    .dataframe tbody tr th:only-of-type {\n",
              "        vertical-align: middle;\n",
              "    }\n",
              "\n",
              "    .dataframe tbody tr th {\n",
              "        vertical-align: top;\n",
              "    }\n",
              "\n",
              "    .dataframe thead th {\n",
              "        text-align: right;\n",
              "    }\n",
              "</style>\n",
              "<table border=\"1\" class=\"dataframe\">\n",
              "  <thead>\n",
              "    <tr style=\"text-align: right;\">\n",
              "      <th></th>\n",
              "      <th>Applicant.ID</th>\n",
              "      <th>pos_com_city</th>\n",
              "    </tr>\n",
              "  </thead>\n",
              "  <tbody>\n",
              "    <tr>\n",
              "      <th>0</th>\n",
              "      <td>10000</td>\n",
              "      <td>cashiers  valets needed  wallypark  newark</td>\n",
              "    </tr>\n",
              "    <tr>\n",
              "      <th>1</th>\n",
              "      <td>10000</td>\n",
              "      <td>macys seasonal retail fragrance cashier   gard...</td>\n",
              "    </tr>\n",
              "    <tr>\n",
              "      <th>2</th>\n",
              "      <td>10001</td>\n",
              "      <td>part time showroom sales  cashier  grizzly ind...</td>\n",
              "    </tr>\n",
              "    <tr>\n",
              "      <th>3</th>\n",
              "      <td>10002</td>\n",
              "      <td>event specialist part time  advantage sales  m...</td>\n",
              "    </tr>\n",
              "    <tr>\n",
              "      <th>4</th>\n",
              "      <td>10002</td>\n",
              "      <td>bonefish  kitchen staff  bonefish grill  green...</td>\n",
              "    </tr>\n",
              "  </tbody>\n",
              "</table>\n",
              "</div>"
            ],
            "text/plain": [
              "   Applicant.ID                                       pos_com_city\n",
              "0         10000         cashiers  valets needed  wallypark  newark\n",
              "1         10000  macys seasonal retail fragrance cashier   gard...\n",
              "2         10001  part time showroom sales  cashier  grizzly ind...\n",
              "3         10002  event specialist part time  advantage sales  m...\n",
              "4         10002  bonefish  kitchen staff  bonefish grill  green..."
            ]
          },
          "metadata": {
            "tags": []
          },
          "execution_count": 52
        }
      ]
    },
    {
      "cell_type": "code",
      "metadata": {
        "id": "TxSDLYcb9DCW",
        "colab": {
          "base_uri": "https://localhost:8080/",
          "height": 204
        },
        "outputId": "1be0ef96-b498-414b-d060-7234b5c156bd"
      },
      "source": [
        "experience = experience[['Applicant.ID','Position.Name']]\n",
        "\n",
        "#cleaning the text\n",
        "experience['Position.Name'] = experience['Position.Name'].str.replace('[^a-zA-Z \\n\\.]',\"\")\n",
        "experience['Position.Name'] = experience['Position.Name'].str.lower()\n",
        "experience = experience.fillna(\" \")\n",
        "experience.head()"
      ],
      "execution_count": null,
      "outputs": [
        {
          "output_type": "execute_result",
          "data": {
            "text/html": [
              "<div>\n",
              "<style scoped>\n",
              "    .dataframe tbody tr th:only-of-type {\n",
              "        vertical-align: middle;\n",
              "    }\n",
              "\n",
              "    .dataframe tbody tr th {\n",
              "        vertical-align: top;\n",
              "    }\n",
              "\n",
              "    .dataframe thead th {\n",
              "        text-align: right;\n",
              "    }\n",
              "</style>\n",
              "<table border=\"1\" class=\"dataframe\">\n",
              "  <thead>\n",
              "    <tr style=\"text-align: right;\">\n",
              "      <th></th>\n",
              "      <th>Applicant.ID</th>\n",
              "      <th>Position.Name</th>\n",
              "    </tr>\n",
              "  </thead>\n",
              "  <tbody>\n",
              "    <tr>\n",
              "      <th>0</th>\n",
              "      <td>10001</td>\n",
              "      <td>account manager  sales administration  quality...</td>\n",
              "    </tr>\n",
              "    <tr>\n",
              "      <th>1</th>\n",
              "      <td>10001</td>\n",
              "      <td>electronics technician  item master controller</td>\n",
              "    </tr>\n",
              "    <tr>\n",
              "      <th>2</th>\n",
              "      <td>10001</td>\n",
              "      <td>machine operator</td>\n",
              "    </tr>\n",
              "    <tr>\n",
              "      <th>3</th>\n",
              "      <td>10003</td>\n",
              "      <td>maintenance technician</td>\n",
              "    </tr>\n",
              "    <tr>\n",
              "      <th>4</th>\n",
              "      <td>10003</td>\n",
              "      <td>electrical helper</td>\n",
              "    </tr>\n",
              "  </tbody>\n",
              "</table>\n",
              "</div>"
            ],
            "text/plain": [
              "   Applicant.ID                                      Position.Name\n",
              "0         10001  account manager  sales administration  quality...\n",
              "1         10001     electronics technician  item master controller\n",
              "2         10001                                   machine operator\n",
              "3         10003                             maintenance technician\n",
              "4         10003                                 electrical helper "
            ]
          },
          "metadata": {
            "tags": []
          },
          "execution_count": 53
        }
      ]
    },
    {
      "cell_type": "code",
      "metadata": {
        "id": "EP3c6pUB07sE",
        "colab": {
          "base_uri": "https://localhost:8080/",
          "height": 669
        },
        "outputId": "f4364075-aefe-4c90-9df9-3c2e5f528807"
      },
      "source": [
        "experience = experience.groupby('Applicant.ID', sort=False)['Position.Name'].apply(' '.join).reset_index()\n",
        "experience.head(20)"
      ],
      "execution_count": null,
      "outputs": [
        {
          "output_type": "execute_result",
          "data": {
            "text/html": [
              "<div>\n",
              "<style scoped>\n",
              "    .dataframe tbody tr th:only-of-type {\n",
              "        vertical-align: middle;\n",
              "    }\n",
              "\n",
              "    .dataframe tbody tr th {\n",
              "        vertical-align: top;\n",
              "    }\n",
              "\n",
              "    .dataframe thead th {\n",
              "        text-align: right;\n",
              "    }\n",
              "</style>\n",
              "<table border=\"1\" class=\"dataframe\">\n",
              "  <thead>\n",
              "    <tr style=\"text-align: right;\">\n",
              "      <th></th>\n",
              "      <th>Applicant.ID</th>\n",
              "      <th>Position.Name</th>\n",
              "    </tr>\n",
              "  </thead>\n",
              "  <tbody>\n",
              "    <tr>\n",
              "      <th>0</th>\n",
              "      <td>10001</td>\n",
              "      <td>account manager  sales administration  quality...</td>\n",
              "    </tr>\n",
              "    <tr>\n",
              "      <th>1</th>\n",
              "      <td>10003</td>\n",
              "      <td>maintenance technician electrical helper  tech...</td>\n",
              "    </tr>\n",
              "    <tr>\n",
              "      <th>2</th>\n",
              "      <td>10004</td>\n",
              "      <td>shift superviveur</td>\n",
              "    </tr>\n",
              "    <tr>\n",
              "      <th>3</th>\n",
              "      <td>10005</td>\n",
              "      <td>all star houseman</td>\n",
              "    </tr>\n",
              "    <tr>\n",
              "      <th>4</th>\n",
              "      <td>10007</td>\n",
              "      <td>bartender bar manager  head bartender bartender</td>\n",
              "    </tr>\n",
              "    <tr>\n",
              "      <th>5</th>\n",
              "      <td>10008</td>\n",
              "      <td>nonfood stocker photo registrar registrar cash...</td>\n",
              "    </tr>\n",
              "    <tr>\n",
              "      <th>6</th>\n",
              "      <td>1001</td>\n",
              "      <td>sales associate</td>\n",
              "    </tr>\n",
              "    <tr>\n",
              "      <th>7</th>\n",
              "      <td>10011</td>\n",
              "      <td>driver helper cashier customer assistant</td>\n",
              "    </tr>\n",
              "    <tr>\n",
              "      <th>8</th>\n",
              "      <td>10016</td>\n",
              "      <td>host</td>\n",
              "    </tr>\n",
              "    <tr>\n",
              "      <th>9</th>\n",
              "      <td>10020</td>\n",
              "      <td>it technician ii information technology specia...</td>\n",
              "    </tr>\n",
              "    <tr>\n",
              "      <th>10</th>\n",
              "      <td>10023</td>\n",
              "      <td>engineering tech clericalmail roomscanning res...</td>\n",
              "    </tr>\n",
              "    <tr>\n",
              "      <th>11</th>\n",
              "      <td>10025</td>\n",
              "      <td></td>\n",
              "    </tr>\n",
              "    <tr>\n",
              "      <th>12</th>\n",
              "      <td>10027</td>\n",
              "      <td>legal processing clerk</td>\n",
              "    </tr>\n",
              "    <tr>\n",
              "      <th>13</th>\n",
              "      <td>10028</td>\n",
              "      <td>package driver</td>\n",
              "    </tr>\n",
              "    <tr>\n",
              "      <th>14</th>\n",
              "      <td>1003</td>\n",
              "      <td>marketing representative</td>\n",
              "    </tr>\n",
              "    <tr>\n",
              "      <th>15</th>\n",
              "      <td>10030</td>\n",
              "      <td>customer service  security guard  security guard</td>\n",
              "    </tr>\n",
              "    <tr>\n",
              "      <th>16</th>\n",
              "      <td>1004</td>\n",
              "      <td>sales representative  in store model</td>\n",
              "    </tr>\n",
              "    <tr>\n",
              "      <th>17</th>\n",
              "      <td>10040</td>\n",
              "      <td></td>\n",
              "    </tr>\n",
              "    <tr>\n",
              "      <th>18</th>\n",
              "      <td>10043</td>\n",
              "      <td></td>\n",
              "    </tr>\n",
              "    <tr>\n",
              "      <th>19</th>\n",
              "      <td>10044</td>\n",
              "      <td></td>\n",
              "    </tr>\n",
              "  </tbody>\n",
              "</table>\n",
              "</div>"
            ],
            "text/plain": [
              "    Applicant.ID                                      Position.Name\n",
              "0          10001  account manager  sales administration  quality...\n",
              "1          10003  maintenance technician electrical helper  tech...\n",
              "2          10004                                  shift superviveur\n",
              "3          10005                                  all star houseman\n",
              "4          10007    bartender bar manager  head bartender bartender\n",
              "5          10008  nonfood stocker photo registrar registrar cash...\n",
              "6           1001                                    sales associate\n",
              "7          10011           driver helper cashier customer assistant\n",
              "8          10016                                               host\n",
              "9          10020  it technician ii information technology specia...\n",
              "10         10023  engineering tech clericalmail roomscanning res...\n",
              "11         10025                                                   \n",
              "12         10027                           legal processing clerk  \n",
              "13         10028                                     package driver\n",
              "14          1003                          marketing representative \n",
              "15         10030  customer service  security guard  security guard \n",
              "16          1004               sales representative  in store model\n",
              "17         10040                                                   \n",
              "18         10043                                                   \n",
              "19         10044                                                   "
            ]
          },
          "metadata": {
            "tags": []
          },
          "execution_count": 54
        }
      ]
    },
    {
      "cell_type": "code",
      "metadata": {
        "id": "L_Bm2_6CoGiG",
        "colab": {
          "base_uri": "https://localhost:8080/",
          "height": 204
        },
        "outputId": "21da24a3-696c-47b2-b72b-fc925b20d0c1"
      },
      "source": [
        "POI = POI.sort_values(by='Applicant.ID')\n",
        "POI = POI.drop('Updated.At', 1)\n",
        "POI = POI.drop('Created.At', 1)\n",
        "\n",
        "#cleaning the text\n",
        "POI['Position.Of.Interest']=POI['Position.Of.Interest'].str.replace('[^a-zA-z \\n\\.]',\"\")\n",
        "POI['Position.Of.Interest']=POI['Position.Of.Interest'].str.lower()\n",
        "POI = POI.fillna(\" \")\n",
        "POI = POI.groupby('Applicant.ID', sort=True)['Position.Of.Interest'].apply(' '.join).reset_index()\n",
        "POI.head()"
      ],
      "execution_count": null,
      "outputs": [
        {
          "output_type": "execute_result",
          "data": {
            "text/html": [
              "<div>\n",
              "<style scoped>\n",
              "    .dataframe tbody tr th:only-of-type {\n",
              "        vertical-align: middle;\n",
              "    }\n",
              "\n",
              "    .dataframe tbody tr th {\n",
              "        vertical-align: top;\n",
              "    }\n",
              "\n",
              "    .dataframe thead th {\n",
              "        text-align: right;\n",
              "    }\n",
              "</style>\n",
              "<table border=\"1\" class=\"dataframe\">\n",
              "  <thead>\n",
              "    <tr style=\"text-align: right;\">\n",
              "      <th></th>\n",
              "      <th>Applicant.ID</th>\n",
              "      <th>Position.Of.Interest</th>\n",
              "    </tr>\n",
              "  </thead>\n",
              "  <tbody>\n",
              "    <tr>\n",
              "      <th>0</th>\n",
              "      <td>96</td>\n",
              "      <td>server</td>\n",
              "    </tr>\n",
              "    <tr>\n",
              "      <th>1</th>\n",
              "      <td>153</td>\n",
              "      <td>barista host server sales rep customer service...</td>\n",
              "    </tr>\n",
              "    <tr>\n",
              "      <th>2</th>\n",
              "      <td>256</td>\n",
              "      <td>host production area sales rep customer servic...</td>\n",
              "    </tr>\n",
              "    <tr>\n",
              "      <th>3</th>\n",
              "      <td>438</td>\n",
              "      <td>customer service rep barista host server</td>\n",
              "    </tr>\n",
              "    <tr>\n",
              "      <th>4</th>\n",
              "      <td>568</td>\n",
              "      <td>receptionist customer service rep book keeper</td>\n",
              "    </tr>\n",
              "  </tbody>\n",
              "</table>\n",
              "</div>"
            ],
            "text/plain": [
              "   Applicant.ID                               Position.Of.Interest\n",
              "0            96                                             server\n",
              "1           153  barista host server sales rep customer service...\n",
              "2           256  host production area sales rep customer servic...\n",
              "3           438           customer service rep barista host server\n",
              "4           568      receptionist customer service rep book keeper"
            ]
          },
          "metadata": {
            "tags": []
          },
          "execution_count": 55
        }
      ]
    },
    {
      "cell_type": "code",
      "metadata": {
        "id": "sKHpUQ0lpPAZ",
        "colab": {
          "base_uri": "https://localhost:8080/",
          "height": 221
        },
        "outputId": "9cabb8bf-8e23-4834-ba04-1266cb0a2097"
      },
      "source": [
        "#merging jobs and experience dataframes\n",
        "out_joint_jobs = jobview2.merge(experience, left_on='Applicant.ID', right_on='Applicant.ID', how='outer')\n",
        "print(out_joint_jobs.shape)\n",
        "out_joint_jobs = out_joint_jobs.fillna(' ')\n",
        "out_joint_jobs = out_joint_jobs.sort_values(by='Applicant.ID')\n",
        "out_joint_jobs.head()"
      ],
      "execution_count": null,
      "outputs": [
        {
          "output_type": "stream",
          "text": [
            "(15383, 3)\n"
          ],
          "name": "stdout"
        },
        {
          "output_type": "execute_result",
          "data": {
            "text/html": [
              "<div>\n",
              "<style scoped>\n",
              "    .dataframe tbody tr th:only-of-type {\n",
              "        vertical-align: middle;\n",
              "    }\n",
              "\n",
              "    .dataframe tbody tr th {\n",
              "        vertical-align: top;\n",
              "    }\n",
              "\n",
              "    .dataframe thead th {\n",
              "        text-align: right;\n",
              "    }\n",
              "</style>\n",
              "<table border=\"1\" class=\"dataframe\">\n",
              "  <thead>\n",
              "    <tr style=\"text-align: right;\">\n",
              "      <th></th>\n",
              "      <th>Applicant.ID</th>\n",
              "      <th>pos_com_city</th>\n",
              "      <th>Position.Name</th>\n",
              "    </tr>\n",
              "  </thead>\n",
              "  <tbody>\n",
              "    <tr>\n",
              "      <th>13012</th>\n",
              "      <td>2</td>\n",
              "      <td></td>\n",
              "      <td>writer for the uloop blog volunteer</td>\n",
              "    </tr>\n",
              "    <tr>\n",
              "      <th>13487</th>\n",
              "      <td>3</td>\n",
              "      <td></td>\n",
              "      <td>prep cook server marketing intern</td>\n",
              "    </tr>\n",
              "    <tr>\n",
              "      <th>14628</th>\n",
              "      <td>6</td>\n",
              "      <td></td>\n",
              "      <td>project assistant</td>\n",
              "    </tr>\n",
              "    <tr>\n",
              "      <th>15044</th>\n",
              "      <td>8</td>\n",
              "      <td></td>\n",
              "      <td>deli clerkserver cashier food prep order taker</td>\n",
              "    </tr>\n",
              "    <tr>\n",
              "      <th>12464</th>\n",
              "      <td>11</td>\n",
              "      <td></td>\n",
              "      <td>cashier</td>\n",
              "    </tr>\n",
              "  </tbody>\n",
              "</table>\n",
              "</div>"
            ],
            "text/plain": [
              "       Applicant.ID  ...                                   Position.Name\n",
              "13012             2  ...             writer for the uloop blog volunteer\n",
              "13487             3  ...               prep cook server marketing intern\n",
              "14628             6  ...                               project assistant\n",
              "15044             8  ...  deli clerkserver cashier food prep order taker\n",
              "12464            11  ...                                         cashier\n",
              "\n",
              "[5 rows x 3 columns]"
            ]
          },
          "metadata": {
            "tags": []
          },
          "execution_count": 56
        }
      ]
    },
    {
      "cell_type": "code",
      "metadata": {
        "id": "WQrYpK0Rpdq9",
        "colab": {
          "base_uri": "https://localhost:8080/",
          "height": 221
        },
        "outputId": "4f6a46ab-ef8c-4513-f3c3-9a414220be50"
      },
      "source": [
        "#merging position of interest with existing dataframe\n",
        "joint_poi_exper_view = out_joint_jobs.merge(POI, left_on='Applicant.ID', right_on='Applicant.ID', how='outer')\n",
        "joint_poi_exper_view = joint_poi_exper_view.fillna(' ')\n",
        "joint_poi_exper_view = joint_poi_exper_view.sort_values(by='Applicant.ID')\n",
        "joint_poi_exper_view.head()"
      ],
      "execution_count": null,
      "outputs": [
        {
          "output_type": "execute_result",
          "data": {
            "text/html": [
              "<div>\n",
              "<style scoped>\n",
              "    .dataframe tbody tr th:only-of-type {\n",
              "        vertical-align: middle;\n",
              "    }\n",
              "\n",
              "    .dataframe tbody tr th {\n",
              "        vertical-align: top;\n",
              "    }\n",
              "\n",
              "    .dataframe thead th {\n",
              "        text-align: right;\n",
              "    }\n",
              "</style>\n",
              "<table border=\"1\" class=\"dataframe\">\n",
              "  <thead>\n",
              "    <tr style=\"text-align: right;\">\n",
              "      <th></th>\n",
              "      <th>Applicant.ID</th>\n",
              "      <th>pos_com_city</th>\n",
              "      <th>Position.Name</th>\n",
              "      <th>Position.Of.Interest</th>\n",
              "    </tr>\n",
              "  </thead>\n",
              "  <tbody>\n",
              "    <tr>\n",
              "      <th>0</th>\n",
              "      <td>2</td>\n",
              "      <td></td>\n",
              "      <td>writer for the uloop blog volunteer</td>\n",
              "      <td></td>\n",
              "    </tr>\n",
              "    <tr>\n",
              "      <th>1</th>\n",
              "      <td>3</td>\n",
              "      <td></td>\n",
              "      <td>prep cook server marketing intern</td>\n",
              "      <td></td>\n",
              "    </tr>\n",
              "    <tr>\n",
              "      <th>2</th>\n",
              "      <td>6</td>\n",
              "      <td></td>\n",
              "      <td>project assistant</td>\n",
              "      <td></td>\n",
              "    </tr>\n",
              "    <tr>\n",
              "      <th>3</th>\n",
              "      <td>8</td>\n",
              "      <td></td>\n",
              "      <td>deli clerkserver cashier food prep order taker</td>\n",
              "      <td></td>\n",
              "    </tr>\n",
              "    <tr>\n",
              "      <th>4</th>\n",
              "      <td>11</td>\n",
              "      <td></td>\n",
              "      <td>cashier</td>\n",
              "      <td></td>\n",
              "    </tr>\n",
              "  </tbody>\n",
              "</table>\n",
              "</div>"
            ],
            "text/plain": [
              "   Applicant.ID  ... Position.Of.Interest\n",
              "0             2  ...                     \n",
              "1             3  ...                     \n",
              "2             6  ...                     \n",
              "3             8  ...                     \n",
              "4            11  ...                     \n",
              "\n",
              "[5 rows x 4 columns]"
            ]
          },
          "metadata": {
            "tags": []
          },
          "execution_count": 57
        }
      ]
    },
    {
      "cell_type": "code",
      "metadata": {
        "id": "AW61CTc9pr1o",
        "colab": {
          "base_uri": "https://localhost:8080/",
          "height": 309
        },
        "outputId": "674ac9f8-00f4-4a7a-eea7-1d2b180b5f34"
      },
      "source": [
        "#combining all the columns\n",
        "\n",
        "joint_poi_exper_view[\"pos_com_city1\"] = joint_poi_exper_view[\"pos_com_city\"].map(str) + joint_poi_exper_view[\"Position.Name\"] +\" \"+ joint_poi_exper_view[\"Position.Of.Interest\"]\n",
        "\n",
        "joint_poi_exper_view.head()"
      ],
      "execution_count": null,
      "outputs": [
        {
          "output_type": "execute_result",
          "data": {
            "text/html": [
              "<div>\n",
              "<style scoped>\n",
              "    .dataframe tbody tr th:only-of-type {\n",
              "        vertical-align: middle;\n",
              "    }\n",
              "\n",
              "    .dataframe tbody tr th {\n",
              "        vertical-align: top;\n",
              "    }\n",
              "\n",
              "    .dataframe thead th {\n",
              "        text-align: right;\n",
              "    }\n",
              "</style>\n",
              "<table border=\"1\" class=\"dataframe\">\n",
              "  <thead>\n",
              "    <tr style=\"text-align: right;\">\n",
              "      <th></th>\n",
              "      <th>Applicant.ID</th>\n",
              "      <th>pos_com_city</th>\n",
              "      <th>Position.Name</th>\n",
              "      <th>Position.Of.Interest</th>\n",
              "      <th>pos_com_city1</th>\n",
              "    </tr>\n",
              "  </thead>\n",
              "  <tbody>\n",
              "    <tr>\n",
              "      <th>0</th>\n",
              "      <td>2</td>\n",
              "      <td></td>\n",
              "      <td>writer for the uloop blog volunteer</td>\n",
              "      <td></td>\n",
              "      <td>writer for the uloop blog volunteer</td>\n",
              "    </tr>\n",
              "    <tr>\n",
              "      <th>1</th>\n",
              "      <td>3</td>\n",
              "      <td></td>\n",
              "      <td>prep cook server marketing intern</td>\n",
              "      <td></td>\n",
              "      <td>prep cook server marketing intern</td>\n",
              "    </tr>\n",
              "    <tr>\n",
              "      <th>2</th>\n",
              "      <td>6</td>\n",
              "      <td></td>\n",
              "      <td>project assistant</td>\n",
              "      <td></td>\n",
              "      <td>project assistant</td>\n",
              "    </tr>\n",
              "    <tr>\n",
              "      <th>3</th>\n",
              "      <td>8</td>\n",
              "      <td></td>\n",
              "      <td>deli clerkserver cashier food prep order taker</td>\n",
              "      <td></td>\n",
              "      <td>deli clerkserver cashier food prep order taker</td>\n",
              "    </tr>\n",
              "    <tr>\n",
              "      <th>4</th>\n",
              "      <td>11</td>\n",
              "      <td></td>\n",
              "      <td>cashier</td>\n",
              "      <td></td>\n",
              "      <td>cashier</td>\n",
              "    </tr>\n",
              "  </tbody>\n",
              "</table>\n",
              "</div>"
            ],
            "text/plain": [
              "   Applicant.ID  ...                                      pos_com_city1\n",
              "0             2  ...              writer for the uloop blog volunteer  \n",
              "1             3  ...                prep cook server marketing intern  \n",
              "2             6  ...                                project assistant  \n",
              "3             8  ...   deli clerkserver cashier food prep order taker  \n",
              "4            11  ...                                          cashier  \n",
              "\n",
              "[5 rows x 5 columns]"
            ]
          },
          "metadata": {
            "tags": []
          },
          "execution_count": 58
        }
      ]
    },
    {
      "cell_type": "code",
      "metadata": {
        "id": "Jo-v-kVqp0C3",
        "colab": {
          "base_uri": "https://localhost:8080/",
          "height": 204
        },
        "outputId": "75ebe3d0-053b-4edd-d412-e5c71340d176"
      },
      "source": [
        "final_poi_exper_view = joint_poi_exper_view[['Applicant.ID','pos_com_city1']]\n",
        "final_poi_exper_view.head()"
      ],
      "execution_count": null,
      "outputs": [
        {
          "output_type": "execute_result",
          "data": {
            "text/html": [
              "<div>\n",
              "<style scoped>\n",
              "    .dataframe tbody tr th:only-of-type {\n",
              "        vertical-align: middle;\n",
              "    }\n",
              "\n",
              "    .dataframe tbody tr th {\n",
              "        vertical-align: top;\n",
              "    }\n",
              "\n",
              "    .dataframe thead th {\n",
              "        text-align: right;\n",
              "    }\n",
              "</style>\n",
              "<table border=\"1\" class=\"dataframe\">\n",
              "  <thead>\n",
              "    <tr style=\"text-align: right;\">\n",
              "      <th></th>\n",
              "      <th>Applicant.ID</th>\n",
              "      <th>pos_com_city1</th>\n",
              "    </tr>\n",
              "  </thead>\n",
              "  <tbody>\n",
              "    <tr>\n",
              "      <th>0</th>\n",
              "      <td>2</td>\n",
              "      <td>writer for the uloop blog volunteer</td>\n",
              "    </tr>\n",
              "    <tr>\n",
              "      <th>1</th>\n",
              "      <td>3</td>\n",
              "      <td>prep cook server marketing intern</td>\n",
              "    </tr>\n",
              "    <tr>\n",
              "      <th>2</th>\n",
              "      <td>6</td>\n",
              "      <td>project assistant</td>\n",
              "    </tr>\n",
              "    <tr>\n",
              "      <th>3</th>\n",
              "      <td>8</td>\n",
              "      <td>deli clerkserver cashier food prep order taker</td>\n",
              "    </tr>\n",
              "    <tr>\n",
              "      <th>4</th>\n",
              "      <td>11</td>\n",
              "      <td>cashier</td>\n",
              "    </tr>\n",
              "  </tbody>\n",
              "</table>\n",
              "</div>"
            ],
            "text/plain": [
              "   Applicant.ID                                      pos_com_city1\n",
              "0             2              writer for the uloop blog volunteer  \n",
              "1             3                prep cook server marketing intern  \n",
              "2             6                                project assistant  \n",
              "3             8   deli clerkserver cashier food prep order taker  \n",
              "4            11                                          cashier  "
            ]
          },
          "metadata": {
            "tags": []
          },
          "execution_count": 59
        }
      ]
    },
    {
      "cell_type": "code",
      "metadata": {
        "id": "EC1Gq9Bqp3T-",
        "colab": {
          "base_uri": "https://localhost:8080/",
          "height": 204
        },
        "outputId": "a3aabe61-2501-4589-e97c-a87d6082e616"
      },
      "source": [
        "final_poi_exper_view.columns = ['Applicant_id','pos_com_city1']\n",
        "final_poi_exper_view = final_poi_exper_view.sort_values(by='Applicant_id')\n",
        "final_poi_exper_view['pos_com_city1'] = final_poi_exper_view['pos_com_city1'].str.replace('[^a-zA-Z \\n\\.]',\"\")\n",
        "final_poi_exper_view['pos_com_city1'] = final_poi_exper_view['pos_com_city1'].str.lower()\n",
        "final_poi_exper_view = final_poi_exper_view.groupby('Applicant_id', sort=True)['pos_com_city1'].apply(' '.join).reset_index()\n",
        "final_poi_exper_view.head()"
      ],
      "execution_count": null,
      "outputs": [
        {
          "output_type": "execute_result",
          "data": {
            "text/html": [
              "<div>\n",
              "<style scoped>\n",
              "    .dataframe tbody tr th:only-of-type {\n",
              "        vertical-align: middle;\n",
              "    }\n",
              "\n",
              "    .dataframe tbody tr th {\n",
              "        vertical-align: top;\n",
              "    }\n",
              "\n",
              "    .dataframe thead th {\n",
              "        text-align: right;\n",
              "    }\n",
              "</style>\n",
              "<table border=\"1\" class=\"dataframe\">\n",
              "  <thead>\n",
              "    <tr style=\"text-align: right;\">\n",
              "      <th></th>\n",
              "      <th>Applicant_id</th>\n",
              "      <th>pos_com_city1</th>\n",
              "    </tr>\n",
              "  </thead>\n",
              "  <tbody>\n",
              "    <tr>\n",
              "      <th>0</th>\n",
              "      <td>2</td>\n",
              "      <td>writer for the uloop blog volunteer</td>\n",
              "    </tr>\n",
              "    <tr>\n",
              "      <th>1</th>\n",
              "      <td>3</td>\n",
              "      <td>prep cook server marketing intern</td>\n",
              "    </tr>\n",
              "    <tr>\n",
              "      <th>2</th>\n",
              "      <td>6</td>\n",
              "      <td>project assistant</td>\n",
              "    </tr>\n",
              "    <tr>\n",
              "      <th>3</th>\n",
              "      <td>8</td>\n",
              "      <td>deli clerkserver cashier food prep order taker</td>\n",
              "    </tr>\n",
              "    <tr>\n",
              "      <th>4</th>\n",
              "      <td>11</td>\n",
              "      <td>cashier</td>\n",
              "    </tr>\n",
              "  </tbody>\n",
              "</table>\n",
              "</div>"
            ],
            "text/plain": [
              "   Applicant_id                                      pos_com_city1\n",
              "0             2              writer for the uloop blog volunteer  \n",
              "1             3                prep cook server marketing intern  \n",
              "2             6                                project assistant  \n",
              "3             8   deli clerkserver cashier food prep order taker  \n",
              "4            11                                          cashier  "
            ]
          },
          "metadata": {
            "tags": []
          },
          "execution_count": 60
        }
      ]
    },
    {
      "cell_type": "code",
      "metadata": {
        "id": "dXXRKts8FM4d"
      },
      "source": [
        ""
      ],
      "execution_count": null,
      "outputs": []
    },
    {
      "cell_type": "code",
      "metadata": {
        "id": "EViluS49qAh0"
      },
      "source": [
        "user_tfidf = tf.fit_transform(final_poi_exper_view['pos_com_city1'])\n",
        "cosine_sim2 = linear_kernel(user_tfidf,user_tfidf)\n",
        "\n"
      ],
      "execution_count": null,
      "outputs": []
    },
    {
      "cell_type": "code",
      "metadata": {
        "id": "UOkOKZjeqZAI",
        "colab": {
          "base_uri": "https://localhost:8080/",
          "height": 34
        },
        "outputId": "59584b72-c530-48ab-c72d-830aa500e153"
      },
      "source": [
        "cosine_sim2.shape"
      ],
      "execution_count": null,
      "outputs": [
        {
          "output_type": "execute_result",
          "data": {
            "text/plain": [
              "(7037, 7037)"
            ]
          },
          "metadata": {
            "tags": []
          },
          "execution_count": 64
        }
      ]
    },
    {
      "cell_type": "code",
      "metadata": {
        "id": "yq5MjhuQr6RT",
        "colab": {
          "base_uri": "https://localhost:8080/",
          "height": 136
        },
        "outputId": "2733b04f-1328-4a55-c403-694ea402cc8d"
      },
      "source": [
        "final_poi_exper_view = final_poi_exper_view.reset_index()\n",
        "userid =final_poi_exper_view['Applicant_id']\n",
        "indices2 = pd.Series(final_poi_exper_view.index, index=final_poi_exper_view['Applicant_id'])\n",
        "indices2.head()\n"
      ],
      "execution_count": null,
      "outputs": [
        {
          "output_type": "execute_result",
          "data": {
            "text/plain": [
              "Applicant_id\n",
              "2     0\n",
              "3     1\n",
              "6     2\n",
              "8     3\n",
              "11    4\n",
              "dtype: int64"
            ]
          },
          "metadata": {
            "tags": []
          },
          "execution_count": 65
        }
      ]
    },
    {
      "cell_type": "code",
      "metadata": {
        "id": "1C31-OLPzc5m"
      },
      "source": [
        ""
      ],
      "execution_count": null,
      "outputs": []
    },
    {
      "cell_type": "code",
      "metadata": {
        "id": "1Eb8yYFWte4X"
      },
      "source": [
        "def get_recommendations_userwise(userid):\n",
        "    idx = indices2[userid]\n",
        "    #print (idx)\n",
        "    sim_scores2 = list(enumerate(cosine_sim2[idx]))\n",
        "    #print (sim_scores2)\n",
        "    sim_scores2 = sorted(sim_scores2, key=lambda x: x[1], reverse=True)\n",
        "    user_indices = [i[0] for i in sim_scores2]\n",
        "    return final_poi_exper_view['Applicant_id'].loc[user_indices[0:11]]"
      ],
      "execution_count": null,
      "outputs": []
    },
    {
      "cell_type": "code",
      "metadata": {
        "id": "sbLiL09HtyvZ",
        "colab": {
          "base_uri": "https://localhost:8080/",
          "height": 238
        },
        "outputId": "7377410d-846a-4f5d-8d05-293e2f89bd3f"
      },
      "source": [
        "print (\"-----Top 10 Similar users with Applicant_id: 11------\")\n",
        "get_recommendations_userwise(11)"
      ],
      "execution_count": null,
      "outputs": [
        {
          "output_type": "stream",
          "text": [
            "-----Top 10 Similar users with Applicant_id: 11------\n"
          ],
          "name": "stdout"
        },
        {
          "output_type": "execute_result",
          "data": {
            "text/plain": [
              "4       11\n",
              "10      21\n",
              "14      26\n",
              "41      73\n",
              "47      83\n",
              "59     111\n",
              "63     118\n",
              "137    282\n",
              "270    728\n",
              "283    774\n",
              "306    868\n",
              "Name: Applicant_id, dtype: int64"
            ]
          },
          "metadata": {
            "tags": []
          },
          "execution_count": 69
        }
      ]
    },
    {
      "cell_type": "code",
      "metadata": {
        "id": "lFsr5WzQt3uS"
      },
      "source": [
        "def get_job_id(usrid_list):\n",
        "    jobs_userwise2 = jobview['Applicant.ID'].isin(usrid_list) #\n",
        "    df3 = pd.DataFrame(data = jobview[jobs_userwise2], columns=['Job.ID'])\n",
        "    joblist = df3['Job.ID'].tolist()\n",
        "    Job_list = combinedjob['Job.ID'].isin(joblist) \n",
        "    df_temp2 = pd.DataFrame(data = combinedjob[Job_list], columns=['Job.ID','Title','Position','City','State.Name'])\n",
        "    return df_temp2"
      ],
      "execution_count": null,
      "outputs": []
    },
    {
      "cell_type": "code",
      "metadata": {
        "id": "tkdtQsYjuG4A",
        "colab": {
          "base_uri": "https://localhost:8080/",
          "height": 145
        },
        "outputId": "ead633d0-14dd-4e66-afbe-5d0ad82ae9da"
      },
      "source": [
        "get_job_id(get_recommendations_userwise(10010))"
      ],
      "execution_count": null,
      "outputs": [
        {
          "output_type": "execute_result",
          "data": {
            "text/html": [
              "<div>\n",
              "<style scoped>\n",
              "    .dataframe tbody tr th:only-of-type {\n",
              "        vertical-align: middle;\n",
              "    }\n",
              "\n",
              "    .dataframe tbody tr th {\n",
              "        vertical-align: top;\n",
              "    }\n",
              "\n",
              "    .dataframe thead th {\n",
              "        text-align: right;\n",
              "    }\n",
              "</style>\n",
              "<table border=\"1\" class=\"dataframe\">\n",
              "  <thead>\n",
              "    <tr style=\"text-align: right;\">\n",
              "      <th></th>\n",
              "      <th>Job.ID</th>\n",
              "      <th>Title</th>\n",
              "      <th>Position</th>\n",
              "      <th>City</th>\n",
              "      <th>State.Name</th>\n",
              "    </tr>\n",
              "  </thead>\n",
              "  <tbody>\n",
              "    <tr>\n",
              "      <th>62</th>\n",
              "      <td>134344</td>\n",
              "      <td>Part-time Data Management Associate @ DST</td>\n",
              "      <td>Part-time Data Management Associate</td>\n",
              "      <td>Kansas City</td>\n",
              "      <td>Missouri</td>\n",
              "    </tr>\n",
              "    <tr>\n",
              "      <th>2878</th>\n",
              "      <td>141452</td>\n",
              "      <td>Security Officers</td>\n",
              "      <td>Security Officers</td>\n",
              "      <td>Kansas City</td>\n",
              "      <td>Missouri</td>\n",
              "    </tr>\n",
              "  </tbody>\n",
              "</table>\n",
              "</div>"
            ],
            "text/plain": [
              "      Job.ID                                      Title  ...         City State.Name\n",
              "62    134344  Part-time Data Management Associate @ DST  ...  Kansas City   Missouri\n",
              "2878  141452                          Security Officers  ...  Kansas City   Missouri\n",
              "\n",
              "[2 rows x 5 columns]"
            ]
          },
          "metadata": {
            "tags": []
          },
          "execution_count": 71
        }
      ]
    },
    {
      "cell_type": "code",
      "metadata": {
        "id": "u9cRNOpq6NAt",
        "colab": {
          "base_uri": "https://localhost:8080/",
          "height": 34
        },
        "outputId": "a0a7fe80-1697-4c0e-bb41-e8a9b2d871df"
      },
      "source": [
        "applicant=final_poi_exper_view['Applicant_id'].unique()\n",
        "len(titles2)"
      ],
      "execution_count": null,
      "outputs": [
        {
          "output_type": "execute_result",
          "data": {
            "text/plain": [
              "10788"
            ]
          },
          "metadata": {
            "tags": []
          },
          "execution_count": 73
        }
      ]
    },
    {
      "cell_type": "code",
      "metadata": {
        "id": "oNF2KDEZ6mW3"
      },
      "source": [
        "df5=pd.DataFrame()\n",
        "count=0\n",
        "for i in applicant:\n",
        "  df4=get_job_id(get_recommendations_userwise(i))\n",
        "  df4['UserID']=i\n",
        "  df4=pd.DataFrame(df4)\n",
        "  df5=df5.append(df)"
      ],
      "execution_count": null,
      "outputs": []
    },
    {
      "cell_type": "code",
      "metadata": {
        "id": "RYXvd4qd9F8W",
        "colab": {
          "base_uri": "https://localhost:8080/",
          "height": 419
        },
        "outputId": "206bbfb1-f7de-4ce9-dd2f-c53ef0d4f38e"
      },
      "source": [
        "df5"
      ],
      "execution_count": null,
      "outputs": [
        {
          "output_type": "execute_result",
          "data": {
            "text/html": [
              "<div>\n",
              "<style scoped>\n",
              "    .dataframe tbody tr th:only-of-type {\n",
              "        vertical-align: middle;\n",
              "    }\n",
              "\n",
              "    .dataframe tbody tr th {\n",
              "        vertical-align: top;\n",
              "    }\n",
              "\n",
              "    .dataframe thead th {\n",
              "        text-align: right;\n",
              "    }\n",
              "</style>\n",
              "<table border=\"1\" class=\"dataframe\">\n",
              "  <thead>\n",
              "    <tr style=\"text-align: right;\">\n",
              "      <th></th>\n",
              "      <th>Applicant.ID</th>\n",
              "      <th>Tilte</th>\n",
              "      <th>JobID</th>\n",
              "      <th>City</th>\n",
              "      <th>State</th>\n",
              "    </tr>\n",
              "  </thead>\n",
              "  <tbody>\n",
              "    <tr>\n",
              "      <th>3987</th>\n",
              "      <td>11988</td>\n",
              "      <td>Administrative experience in Life Insurance @ ...</td>\n",
              "      <td>249527</td>\n",
              "      <td>Miami</td>\n",
              "      <td>Florida</td>\n",
              "    </tr>\n",
              "    <tr>\n",
              "      <th>5503</th>\n",
              "      <td>12733</td>\n",
              "      <td>Administrative experience in Life Insurance @ ...</td>\n",
              "      <td>249527</td>\n",
              "      <td>Miami</td>\n",
              "      <td>Florida</td>\n",
              "    </tr>\n",
              "    <tr>\n",
              "      <th>5891</th>\n",
              "      <td>12984</td>\n",
              "      <td>Administrative experience in Life Insurance @ ...</td>\n",
              "      <td>249527</td>\n",
              "      <td>Miami</td>\n",
              "      <td>Florida</td>\n",
              "    </tr>\n",
              "    <tr>\n",
              "      <th>7428</th>\n",
              "      <td>13927</td>\n",
              "      <td>Administrative experience in Life Insurance @ ...</td>\n",
              "      <td>249527</td>\n",
              "      <td>Miami</td>\n",
              "      <td>Florida</td>\n",
              "    </tr>\n",
              "    <tr>\n",
              "      <th>11825</th>\n",
              "      <td>9692</td>\n",
              "      <td>Administrative experience in Life Insurance @ ...</td>\n",
              "      <td>249527</td>\n",
              "      <td>Miami</td>\n",
              "      <td>Florida</td>\n",
              "    </tr>\n",
              "    <tr>\n",
              "      <th>...</th>\n",
              "      <td>...</td>\n",
              "      <td>...</td>\n",
              "      <td>...</td>\n",
              "      <td>...</td>\n",
              "      <td>...</td>\n",
              "    </tr>\n",
              "    <tr>\n",
              "      <th>3987</th>\n",
              "      <td>11988</td>\n",
              "      <td>Administrative experience in Life Insurance @ ...</td>\n",
              "      <td>249527</td>\n",
              "      <td>Miami</td>\n",
              "      <td>Florida</td>\n",
              "    </tr>\n",
              "    <tr>\n",
              "      <th>5503</th>\n",
              "      <td>12733</td>\n",
              "      <td>Administrative experience in Life Insurance @ ...</td>\n",
              "      <td>249527</td>\n",
              "      <td>Miami</td>\n",
              "      <td>Florida</td>\n",
              "    </tr>\n",
              "    <tr>\n",
              "      <th>5891</th>\n",
              "      <td>12984</td>\n",
              "      <td>Administrative experience in Life Insurance @ ...</td>\n",
              "      <td>249527</td>\n",
              "      <td>Miami</td>\n",
              "      <td>Florida</td>\n",
              "    </tr>\n",
              "    <tr>\n",
              "      <th>7428</th>\n",
              "      <td>13927</td>\n",
              "      <td>Administrative experience in Life Insurance @ ...</td>\n",
              "      <td>249527</td>\n",
              "      <td>Miami</td>\n",
              "      <td>Florida</td>\n",
              "    </tr>\n",
              "    <tr>\n",
              "      <th>11825</th>\n",
              "      <td>9692</td>\n",
              "      <td>Administrative experience in Life Insurance @ ...</td>\n",
              "      <td>249527</td>\n",
              "      <td>Miami</td>\n",
              "      <td>Florida</td>\n",
              "    </tr>\n",
              "  </tbody>\n",
              "</table>\n",
              "<p>35185 rows × 5 columns</p>\n",
              "</div>"
            ],
            "text/plain": [
              "       Applicant.ID  ...    State\n",
              "3987          11988  ...  Florida\n",
              "5503          12733  ...  Florida\n",
              "5891          12984  ...  Florida\n",
              "7428          13927  ...  Florida\n",
              "11825          9692  ...  Florida\n",
              "...             ...  ...      ...\n",
              "3987          11988  ...  Florida\n",
              "5503          12733  ...  Florida\n",
              "5891          12984  ...  Florida\n",
              "7428          13927  ...  Florida\n",
              "11825          9692  ...  Florida\n",
              "\n",
              "[35185 rows x 5 columns]"
            ]
          },
          "metadata": {
            "tags": []
          },
          "execution_count": 75
        }
      ]
    },
    {
      "cell_type": "code",
      "metadata": {
        "id": "kCKoloddZIgW"
      },
      "source": [
        "## Deep Learning"
      ],
      "execution_count": null,
      "outputs": []
    },
    {
      "cell_type": "code",
      "metadata": {
        "id": "DJUrT-NWcKcF",
        "colab": {
          "base_uri": "https://localhost:8080/",
          "height": 34
        },
        "outputId": "79a7b7ae-c854-4313-d018-f462af43e3a2"
      },
      "source": [
        "from keras.models import Sequential\n",
        "from keras.layers.core import Dense, Dropout, Activation\n",
        "from keras.utils import np_utils\n",
        "from keras.preprocessing.text import Tokenizer\n",
        "from keras import metrics\n",
        "\n",
        "from pprint import pprint\n",
        "import pandas as pd\n",
        "import numpy as np\n",
        "\n",
        "from sklearn.model_selection import train_test_split\n",
        "from sklearn.preprocessing import LabelBinarizer"
      ],
      "execution_count": null,
      "outputs": [
        {
          "output_type": "stream",
          "text": [
            "Using TensorFlow backend.\n"
          ],
          "name": "stderr"
        }
      ]
    },
    {
      "cell_type": "code",
      "metadata": {
        "id": "0w7cv7FAZ1We"
      },
      "source": [
        "combinedjob2=combinedjob[[\"Position\",\"Job.Description\"]]\n",
        "combinedjob2=combinedjob2.iloc[:20000,:]"
      ],
      "execution_count": null,
      "outputs": []
    },
    {
      "cell_type": "code",
      "metadata": {
        "id": "klqbzRJ5ayUh"
      },
      "source": [
        "import string\n",
        "from string import digits\n",
        "\n",
        "def remove_punctuations(text):\n",
        "    for punctuation in string.punctuation:\n",
        "        text = text.replace(punctuation, '')\n",
        "    return text\n",
        "\n",
        "def remove_numbers(text):\n",
        "    for number in digits:\n",
        "        text = text.replace(number, '')\n",
        "    return text"
      ],
      "execution_count": null,
      "outputs": []
    },
    {
      "cell_type": "code",
      "metadata": {
        "id": "yqrrRPaIZQ3_"
      },
      "source": [
        "combinedjob2[\"Job.Description\"] = combinedjob2[\"Job.Description\"].apply(remove_punctuations)\n",
        "combinedjob2[\"Job.Description\"] = combinedjob2[\"Job.Description\"].apply(remove_numbers)\n"
      ],
      "execution_count": null,
      "outputs": []
    },
    {
      "cell_type": "code",
      "metadata": {
        "id": "SLvWzWysdO-I"
      },
      "source": [
        "combinedjob2[\"Job.Description\"] = combinedjob2[\"Job.Description\"] .apply(lambda x: x.replace(' ',','))"
      ],
      "execution_count": null,
      "outputs": []
    },
    {
      "cell_type": "code",
      "metadata": {
        "id": "RzBVqqGibT9n"
      },
      "source": [
        ""
      ],
      "execution_count": null,
      "outputs": []
    },
    {
      "cell_type": "code",
      "metadata": {
        "id": "6Zqova3nbqiy",
        "colab": {
          "base_uri": "https://localhost:8080/",
          "height": 85
        },
        "outputId": "44e29003-e4f9-46a0-d65c-7731e863de98"
      },
      "source": [
        "train, test = train_test_split(combinedjob2, test_size = 0.2)\n",
        "\n",
        "train_Title = train['Position']\n",
        "train_Joint = train['Job.Description']\n",
        "\n",
        "test_Title = test['Position']\n",
        "test_Joint = test['Job.Description']\n",
        "\n",
        "print(len(combinedjob2['Position'].unique().tolist()))\n",
        "print(len(combinedjob2['Job.Description'].unique().tolist()))\n",
        "\n",
        "print(len(train_Joint.unique().tolist()))\n",
        "print(len(test_Joint.unique().tolist()))"
      ],
      "execution_count": null,
      "outputs": [
        {
          "output_type": "stream",
          "text": [
            "9805\n",
            "14591\n",
            "11922\n",
            "3214\n"
          ],
          "name": "stdout"
        }
      ]
    },
    {
      "cell_type": "code",
      "metadata": {
        "id": "HKtHSQuZcDA5"
      },
      "source": [
        "num_labels = len(train_Title.unique().tolist())\n",
        "vocab_size = 1000\n",
        "batch_size = 32\n",
        "nb_epoch = 30\n",
        "\n",
        "tokenizer = Tokenizer(num_words=vocab_size)\n",
        "tokenizer.fit_on_texts(train_Joint)\n",
        " \n",
        "x_train = tokenizer.texts_to_matrix(train_Joint, mode='tfidf')\n",
        "x_test = tokenizer.texts_to_matrix(test_Joint, mode='tfidf')\n",
        " \n",
        "encoder = LabelBinarizer()\n",
        "encoder.fit(train_Title)\n",
        "y_train = encoder.transform(train_Title)\n",
        "y_test = encoder.transform(test_Title)"
      ],
      "execution_count": null,
      "outputs": []
    },
    {
      "cell_type": "code",
      "metadata": {
        "id": "b3UH5shxca0a",
        "colab": {
          "base_uri": "https://localhost:8080/",
          "height": 425
        },
        "outputId": "480e3f6a-80e8-454f-84e0-11191d043432"
      },
      "source": [
        "model = Sequential()\n",
        "model.add(Dense(512, input_shape=(vocab_size,)))\n",
        "model.add(Activation('relu'))\n",
        "model.add(Dropout(0.3))\n",
        "model.add(Dense(512))\n",
        "model.add(Activation('relu'))\n",
        "model.add(Dropout(0.3))\n",
        "model.add(Dense(num_labels))\n",
        "model.add(Activation('softmax'))\n",
        "model.summary()\n",
        " \n",
        "model.compile(loss = 'categorical_crossentropy',\n",
        "              optimizer = 'adam',\n",
        "              metrics = [metrics.categorical_accuracy, 'accuracy'])"
      ],
      "execution_count": null,
      "outputs": [
        {
          "output_type": "stream",
          "text": [
            "Model: \"sequential_2\"\n",
            "_________________________________________________________________\n",
            "Layer (type)                 Output Shape              Param #   \n",
            "=================================================================\n",
            "dense_1 (Dense)              (None, 512)               512512    \n",
            "_________________________________________________________________\n",
            "activation_1 (Activation)    (None, 512)               0         \n",
            "_________________________________________________________________\n",
            "dropout_1 (Dropout)          (None, 512)               0         \n",
            "_________________________________________________________________\n",
            "dense_2 (Dense)              (None, 512)               262656    \n",
            "_________________________________________________________________\n",
            "activation_2 (Activation)    (None, 512)               0         \n",
            "_________________________________________________________________\n",
            "dropout_2 (Dropout)          (None, 512)               0         \n",
            "_________________________________________________________________\n",
            "dense_3 (Dense)              (None, 8123)              4167099   \n",
            "_________________________________________________________________\n",
            "activation_3 (Activation)    (None, 8123)              0         \n",
            "=================================================================\n",
            "Total params: 4,942,267\n",
            "Trainable params: 4,942,267\n",
            "Non-trainable params: 0\n",
            "_________________________________________________________________\n"
          ],
          "name": "stdout"
        }
      ]
    },
    {
      "cell_type": "code",
      "metadata": {
        "id": "aCgDnk_Ocd_0",
        "colab": {
          "base_uri": "https://localhost:8080/",
          "height": 492
        },
        "outputId": "ce6cc848-0709-4962-c654-c9639c93397f"
      },
      "source": [
        "model.fit(x_train, y_train,\n",
        "                    batch_size=batch_size,\n",
        "                    epochs=nb_epoch,\n",
        "                    verbose=1,\n",
        "                    validation_split=0.1)"
      ],
      "execution_count": null,
      "outputs": [
        {
          "output_type": "stream",
          "text": [
            "Train on 14400 samples, validate on 1600 samples\n",
            "Epoch 1/30\n",
            "14400/14400 [==============================] - 46s 3ms/step - loss: 6.9658 - categorical_accuracy: 0.2138 - accuracy: 0.2138 - val_loss: 6.5758 - val_categorical_accuracy: 0.2750 - val_accuracy: 0.2750\n",
            "Epoch 2/30\n",
            " 6144/14400 [===========>..................] - ETA: 25s - loss: 5.8591 - categorical_accuracy: 0.2952 - accuracy: 0.2952"
          ],
          "name": "stdout"
        },
        {
          "output_type": "error",
          "ename": "KeyboardInterrupt",
          "evalue": "ignored",
          "traceback": [
            "\u001b[0;31m---------------------------------------------------------------------------\u001b[0m",
            "\u001b[0;31mKeyboardInterrupt\u001b[0m                         Traceback (most recent call last)",
            "\u001b[0;32m<ipython-input-14-7547f2850420>\u001b[0m in \u001b[0;36m<module>\u001b[0;34m()\u001b[0m\n\u001b[1;32m      3\u001b[0m                     \u001b[0mepochs\u001b[0m\u001b[0;34m=\u001b[0m\u001b[0mnb_epoch\u001b[0m\u001b[0;34m,\u001b[0m\u001b[0;34m\u001b[0m\u001b[0;34m\u001b[0m\u001b[0m\n\u001b[1;32m      4\u001b[0m                     \u001b[0mverbose\u001b[0m\u001b[0;34m=\u001b[0m\u001b[0;36m1\u001b[0m\u001b[0;34m,\u001b[0m\u001b[0;34m\u001b[0m\u001b[0;34m\u001b[0m\u001b[0m\n\u001b[0;32m----> 5\u001b[0;31m                     validation_split=0.1)\n\u001b[0m",
            "\u001b[0;32m/usr/local/lib/python3.6/dist-packages/keras/engine/training.py\u001b[0m in \u001b[0;36mfit\u001b[0;34m(self, x, y, batch_size, epochs, verbose, callbacks, validation_split, validation_data, shuffle, class_weight, sample_weight, initial_epoch, steps_per_epoch, validation_steps, validation_freq, max_queue_size, workers, use_multiprocessing, **kwargs)\u001b[0m\n\u001b[1;32m   1237\u001b[0m                                         \u001b[0msteps_per_epoch\u001b[0m\u001b[0;34m=\u001b[0m\u001b[0msteps_per_epoch\u001b[0m\u001b[0;34m,\u001b[0m\u001b[0;34m\u001b[0m\u001b[0;34m\u001b[0m\u001b[0m\n\u001b[1;32m   1238\u001b[0m                                         \u001b[0mvalidation_steps\u001b[0m\u001b[0;34m=\u001b[0m\u001b[0mvalidation_steps\u001b[0m\u001b[0;34m,\u001b[0m\u001b[0;34m\u001b[0m\u001b[0;34m\u001b[0m\u001b[0m\n\u001b[0;32m-> 1239\u001b[0;31m                                         validation_freq=validation_freq)\n\u001b[0m\u001b[1;32m   1240\u001b[0m \u001b[0;34m\u001b[0m\u001b[0m\n\u001b[1;32m   1241\u001b[0m     def evaluate(self,\n",
            "\u001b[0;32m/usr/local/lib/python3.6/dist-packages/keras/engine/training_arrays.py\u001b[0m in \u001b[0;36mfit_loop\u001b[0;34m(model, fit_function, fit_inputs, out_labels, batch_size, epochs, verbose, callbacks, val_function, val_inputs, shuffle, initial_epoch, steps_per_epoch, validation_steps, validation_freq)\u001b[0m\n\u001b[1;32m    194\u001b[0m                     \u001b[0mins_batch\u001b[0m\u001b[0;34m[\u001b[0m\u001b[0mi\u001b[0m\u001b[0;34m]\u001b[0m \u001b[0;34m=\u001b[0m \u001b[0mins_batch\u001b[0m\u001b[0;34m[\u001b[0m\u001b[0mi\u001b[0m\u001b[0;34m]\u001b[0m\u001b[0;34m.\u001b[0m\u001b[0mtoarray\u001b[0m\u001b[0;34m(\u001b[0m\u001b[0;34m)\u001b[0m\u001b[0;34m\u001b[0m\u001b[0;34m\u001b[0m\u001b[0m\n\u001b[1;32m    195\u001b[0m \u001b[0;34m\u001b[0m\u001b[0m\n\u001b[0;32m--> 196\u001b[0;31m                 \u001b[0mouts\u001b[0m \u001b[0;34m=\u001b[0m \u001b[0mfit_function\u001b[0m\u001b[0;34m(\u001b[0m\u001b[0mins_batch\u001b[0m\u001b[0;34m)\u001b[0m\u001b[0;34m\u001b[0m\u001b[0;34m\u001b[0m\u001b[0m\n\u001b[0m\u001b[1;32m    197\u001b[0m                 \u001b[0mouts\u001b[0m \u001b[0;34m=\u001b[0m \u001b[0mto_list\u001b[0m\u001b[0;34m(\u001b[0m\u001b[0mouts\u001b[0m\u001b[0;34m)\u001b[0m\u001b[0;34m\u001b[0m\u001b[0;34m\u001b[0m\u001b[0m\n\u001b[1;32m    198\u001b[0m                 \u001b[0;32mfor\u001b[0m \u001b[0ml\u001b[0m\u001b[0;34m,\u001b[0m \u001b[0mo\u001b[0m \u001b[0;32min\u001b[0m \u001b[0mzip\u001b[0m\u001b[0;34m(\u001b[0m\u001b[0mout_labels\u001b[0m\u001b[0;34m,\u001b[0m \u001b[0mouts\u001b[0m\u001b[0;34m)\u001b[0m\u001b[0;34m:\u001b[0m\u001b[0;34m\u001b[0m\u001b[0;34m\u001b[0m\u001b[0m\n",
            "\u001b[0;32m/usr/local/lib/python3.6/dist-packages/tensorflow_core/python/keras/backend.py\u001b[0m in \u001b[0;36m__call__\u001b[0;34m(self, inputs)\u001b[0m\n\u001b[1;32m   3738\u001b[0m         \u001b[0mvalue\u001b[0m \u001b[0;34m=\u001b[0m \u001b[0mmath_ops\u001b[0m\u001b[0;34m.\u001b[0m\u001b[0mcast\u001b[0m\u001b[0;34m(\u001b[0m\u001b[0mvalue\u001b[0m\u001b[0;34m,\u001b[0m \u001b[0mtensor\u001b[0m\u001b[0;34m.\u001b[0m\u001b[0mdtype\u001b[0m\u001b[0;34m)\u001b[0m\u001b[0;34m\u001b[0m\u001b[0;34m\u001b[0m\u001b[0m\n\u001b[1;32m   3739\u001b[0m       \u001b[0mconverted_inputs\u001b[0m\u001b[0;34m.\u001b[0m\u001b[0mappend\u001b[0m\u001b[0;34m(\u001b[0m\u001b[0mvalue\u001b[0m\u001b[0;34m)\u001b[0m\u001b[0;34m\u001b[0m\u001b[0;34m\u001b[0m\u001b[0m\n\u001b[0;32m-> 3740\u001b[0;31m     \u001b[0moutputs\u001b[0m \u001b[0;34m=\u001b[0m \u001b[0mself\u001b[0m\u001b[0;34m.\u001b[0m\u001b[0m_graph_fn\u001b[0m\u001b[0;34m(\u001b[0m\u001b[0;34m*\u001b[0m\u001b[0mconverted_inputs\u001b[0m\u001b[0;34m)\u001b[0m\u001b[0;34m\u001b[0m\u001b[0;34m\u001b[0m\u001b[0m\n\u001b[0m\u001b[1;32m   3741\u001b[0m \u001b[0;34m\u001b[0m\u001b[0m\n\u001b[1;32m   3742\u001b[0m     \u001b[0;31m# EagerTensor.numpy() will often make a copy to ensure memory safety.\u001b[0m\u001b[0;34m\u001b[0m\u001b[0;34m\u001b[0m\u001b[0;34m\u001b[0m\u001b[0m\n",
            "\u001b[0;32m/usr/local/lib/python3.6/dist-packages/tensorflow_core/python/eager/function.py\u001b[0m in \u001b[0;36m__call__\u001b[0;34m(self, *args, **kwargs)\u001b[0m\n\u001b[1;32m   1079\u001b[0m       \u001b[0mTypeError\u001b[0m\u001b[0;34m:\u001b[0m \u001b[0mFor\u001b[0m \u001b[0minvalid\u001b[0m \u001b[0mpositional\u001b[0m\u001b[0;34m/\u001b[0m\u001b[0mkeyword\u001b[0m \u001b[0margument\u001b[0m \u001b[0mcombinations\u001b[0m\u001b[0;34m.\u001b[0m\u001b[0;34m\u001b[0m\u001b[0;34m\u001b[0m\u001b[0m\n\u001b[1;32m   1080\u001b[0m     \"\"\"\n\u001b[0;32m-> 1081\u001b[0;31m     \u001b[0;32mreturn\u001b[0m \u001b[0mself\u001b[0m\u001b[0;34m.\u001b[0m\u001b[0m_call_impl\u001b[0m\u001b[0;34m(\u001b[0m\u001b[0margs\u001b[0m\u001b[0;34m,\u001b[0m \u001b[0mkwargs\u001b[0m\u001b[0;34m)\u001b[0m\u001b[0;34m\u001b[0m\u001b[0;34m\u001b[0m\u001b[0m\n\u001b[0m\u001b[1;32m   1082\u001b[0m \u001b[0;34m\u001b[0m\u001b[0m\n\u001b[1;32m   1083\u001b[0m   \u001b[0;32mdef\u001b[0m \u001b[0m_call_impl\u001b[0m\u001b[0;34m(\u001b[0m\u001b[0mself\u001b[0m\u001b[0;34m,\u001b[0m \u001b[0margs\u001b[0m\u001b[0;34m,\u001b[0m \u001b[0mkwargs\u001b[0m\u001b[0;34m,\u001b[0m \u001b[0mcancellation_manager\u001b[0m\u001b[0;34m=\u001b[0m\u001b[0;32mNone\u001b[0m\u001b[0;34m)\u001b[0m\u001b[0;34m:\u001b[0m\u001b[0;34m\u001b[0m\u001b[0;34m\u001b[0m\u001b[0m\n",
            "\u001b[0;32m/usr/local/lib/python3.6/dist-packages/tensorflow_core/python/eager/function.py\u001b[0m in \u001b[0;36m_call_impl\u001b[0;34m(self, args, kwargs, cancellation_manager)\u001b[0m\n\u001b[1;32m   1119\u001b[0m       raise TypeError(\"Keyword arguments {} unknown. Expected {}.\".format(\n\u001b[1;32m   1120\u001b[0m           list(kwargs.keys()), list(self._arg_keywords)))\n\u001b[0;32m-> 1121\u001b[0;31m     \u001b[0;32mreturn\u001b[0m \u001b[0mself\u001b[0m\u001b[0;34m.\u001b[0m\u001b[0m_call_flat\u001b[0m\u001b[0;34m(\u001b[0m\u001b[0margs\u001b[0m\u001b[0;34m,\u001b[0m \u001b[0mself\u001b[0m\u001b[0;34m.\u001b[0m\u001b[0mcaptured_inputs\u001b[0m\u001b[0;34m,\u001b[0m \u001b[0mcancellation_manager\u001b[0m\u001b[0;34m)\u001b[0m\u001b[0;34m\u001b[0m\u001b[0;34m\u001b[0m\u001b[0m\n\u001b[0m\u001b[1;32m   1122\u001b[0m \u001b[0;34m\u001b[0m\u001b[0m\n\u001b[1;32m   1123\u001b[0m   \u001b[0;32mdef\u001b[0m \u001b[0m_filtered_call\u001b[0m\u001b[0;34m(\u001b[0m\u001b[0mself\u001b[0m\u001b[0;34m,\u001b[0m \u001b[0margs\u001b[0m\u001b[0;34m,\u001b[0m \u001b[0mkwargs\u001b[0m\u001b[0;34m)\u001b[0m\u001b[0;34m:\u001b[0m\u001b[0;34m\u001b[0m\u001b[0;34m\u001b[0m\u001b[0m\n",
            "\u001b[0;32m/usr/local/lib/python3.6/dist-packages/tensorflow_core/python/eager/function.py\u001b[0m in \u001b[0;36m_call_flat\u001b[0;34m(self, args, captured_inputs, cancellation_manager)\u001b[0m\n\u001b[1;32m   1222\u001b[0m     \u001b[0;32mif\u001b[0m \u001b[0mexecuting_eagerly\u001b[0m\u001b[0;34m:\u001b[0m\u001b[0;34m\u001b[0m\u001b[0;34m\u001b[0m\u001b[0m\n\u001b[1;32m   1223\u001b[0m       flat_outputs = forward_function.call(\n\u001b[0;32m-> 1224\u001b[0;31m           ctx, args, cancellation_manager=cancellation_manager)\n\u001b[0m\u001b[1;32m   1225\u001b[0m     \u001b[0;32melse\u001b[0m\u001b[0;34m:\u001b[0m\u001b[0;34m\u001b[0m\u001b[0;34m\u001b[0m\u001b[0m\n\u001b[1;32m   1226\u001b[0m       \u001b[0mgradient_name\u001b[0m \u001b[0;34m=\u001b[0m \u001b[0mself\u001b[0m\u001b[0;34m.\u001b[0m\u001b[0m_delayed_rewrite_functions\u001b[0m\u001b[0;34m.\u001b[0m\u001b[0mregister\u001b[0m\u001b[0;34m(\u001b[0m\u001b[0;34m)\u001b[0m\u001b[0;34m\u001b[0m\u001b[0;34m\u001b[0m\u001b[0m\n",
            "\u001b[0;32m/usr/local/lib/python3.6/dist-packages/tensorflow_core/python/eager/function.py\u001b[0m in \u001b[0;36mcall\u001b[0;34m(self, ctx, args, cancellation_manager)\u001b[0m\n\u001b[1;32m    509\u001b[0m               \u001b[0minputs\u001b[0m\u001b[0;34m=\u001b[0m\u001b[0margs\u001b[0m\u001b[0;34m,\u001b[0m\u001b[0;34m\u001b[0m\u001b[0;34m\u001b[0m\u001b[0m\n\u001b[1;32m    510\u001b[0m               \u001b[0mattrs\u001b[0m\u001b[0;34m=\u001b[0m\u001b[0;34m(\u001b[0m\u001b[0;34m\"executor_type\"\u001b[0m\u001b[0;34m,\u001b[0m \u001b[0mexecutor_type\u001b[0m\u001b[0;34m,\u001b[0m \u001b[0;34m\"config_proto\"\u001b[0m\u001b[0;34m,\u001b[0m \u001b[0mconfig\u001b[0m\u001b[0;34m)\u001b[0m\u001b[0;34m,\u001b[0m\u001b[0;34m\u001b[0m\u001b[0;34m\u001b[0m\u001b[0m\n\u001b[0;32m--> 511\u001b[0;31m               ctx=ctx)\n\u001b[0m\u001b[1;32m    512\u001b[0m         \u001b[0;32melse\u001b[0m\u001b[0;34m:\u001b[0m\u001b[0;34m\u001b[0m\u001b[0;34m\u001b[0m\u001b[0m\n\u001b[1;32m    513\u001b[0m           outputs = execute.execute_with_cancellation(\n",
            "\u001b[0;32m/usr/local/lib/python3.6/dist-packages/tensorflow_core/python/eager/execute.py\u001b[0m in \u001b[0;36mquick_execute\u001b[0;34m(op_name, num_outputs, inputs, attrs, ctx, name)\u001b[0m\n\u001b[1;32m     59\u001b[0m     tensors = pywrap_tensorflow.TFE_Py_Execute(ctx._handle, device_name,\n\u001b[1;32m     60\u001b[0m                                                \u001b[0mop_name\u001b[0m\u001b[0;34m,\u001b[0m \u001b[0minputs\u001b[0m\u001b[0;34m,\u001b[0m \u001b[0mattrs\u001b[0m\u001b[0;34m,\u001b[0m\u001b[0;34m\u001b[0m\u001b[0;34m\u001b[0m\u001b[0m\n\u001b[0;32m---> 61\u001b[0;31m                                                num_outputs)\n\u001b[0m\u001b[1;32m     62\u001b[0m   \u001b[0;32mexcept\u001b[0m \u001b[0mcore\u001b[0m\u001b[0;34m.\u001b[0m\u001b[0m_NotOkStatusException\u001b[0m \u001b[0;32mas\u001b[0m \u001b[0me\u001b[0m\u001b[0;34m:\u001b[0m\u001b[0;34m\u001b[0m\u001b[0;34m\u001b[0m\u001b[0m\n\u001b[1;32m     63\u001b[0m     \u001b[0;32mif\u001b[0m \u001b[0mname\u001b[0m \u001b[0;32mis\u001b[0m \u001b[0;32mnot\u001b[0m \u001b[0;32mNone\u001b[0m\u001b[0;34m:\u001b[0m\u001b[0;34m\u001b[0m\u001b[0;34m\u001b[0m\u001b[0m\n",
            "\u001b[0;31mKeyboardInterrupt\u001b[0m: "
          ]
        }
      ]
    },
    {
      "cell_type": "code",
      "metadata": {
        "id": "RdbizYkOc16-",
        "colab": {
          "base_uri": "https://localhost:8080/",
          "height": 68
        },
        "outputId": "1739837a-8ca6-4107-afa5-eb1964daf217"
      },
      "source": [
        "score = model.evaluate(x_test, y_test,\n",
        "                       batch_size=batch_size, verbose=1)\n",
        " \n",
        "print('Test loss:', score[0])\n",
        "print('Test accuracy:', score[1])"
      ],
      "execution_count": null,
      "outputs": [
        {
          "output_type": "stream",
          "text": [
            "4000/4000 [==============================] - 3s 773us/step\n",
            "Test loss: 1.9537315964698792\n",
            "Test accuracy: 0.3232499957084656\n"
          ],
          "name": "stdout"
        }
      ]
    },
    {
      "cell_type": "code",
      "metadata": {
        "id": "zfM3dOBMc5Nj"
      },
      "source": [
        ""
      ],
      "execution_count": null,
      "outputs": []
    },
    {
      "cell_type": "code",
      "metadata": {
        "id": "kVvf3VO8-Rlg"
      },
      "source": [
        "## user_job similarity"
      ],
      "execution_count": null,
      "outputs": []
    },
    {
      "cell_type": "code",
      "metadata": {
        "id": "AOv6FXoaOCN1"
      },
      "source": [
        "#!pip install -U turicreate"
      ],
      "execution_count": null,
      "outputs": []
    },
    {
      "cell_type": "code",
      "metadata": {
        "id": "CV9dqvf1MNdu",
        "colab": {
          "base_uri": "https://localhost:8080/",
          "height": 1000
        },
        "outputId": "a424cdd7-b9f0-43bc-dc5e-39fd6de48b43"
      },
      "source": [
        "import turicreate as tc\n",
        "jobview_sframe=tc.SFrame.read_csv('/content/drive/My Drive/DATA /Job_Views.csv')\n",
        "users_sframe=tc.SFrame.read_csv('/content/drive/My Drive/DATA /Experience.csv')\n",
        "jobs_sframe=tc.SFrame.read_csv('/content/drive/My Drive/DATA /Combined_Jobs_Final.csv')"
      ],
      "execution_count": null,
      "outputs": [
        {
          "output_type": "display_data",
          "data": {
            "text/html": [
              "<pre>Finished parsing file /content/drive/My Drive/DATA /Job_Views.csv</pre>"
            ],
            "text/plain": [
              "Finished parsing file /content/drive/My Drive/DATA /Job_Views.csv"
            ]
          },
          "metadata": {
            "tags": []
          }
        },
        {
          "output_type": "display_data",
          "data": {
            "text/html": [
              "<pre>Parsing completed. Parsed 100 lines in 0.13942 secs.</pre>"
            ],
            "text/plain": [
              "Parsing completed. Parsed 100 lines in 0.13942 secs."
            ]
          },
          "metadata": {
            "tags": []
          }
        },
        {
          "output_type": "stream",
          "text": [
            "------------------------------------------------------\n",
            "Inferred types from first 100 line(s) of file as \n",
            "column_type_hints=[int,int,str,str,str,str,str,str,str,str,str,int,str,str]\n",
            "If parsing fails due to incorrect types, you can correct\n",
            "the inferred type list above and pass it to read_csv in\n",
            "the column_type_hints argument\n",
            "------------------------------------------------------\n"
          ],
          "name": "stdout"
        },
        {
          "output_type": "display_data",
          "data": {
            "text/html": [
              "<pre>Finished parsing file /content/drive/My Drive/DATA /Job_Views.csv</pre>"
            ],
            "text/plain": [
              "Finished parsing file /content/drive/My Drive/DATA /Job_Views.csv"
            ]
          },
          "metadata": {
            "tags": []
          }
        },
        {
          "output_type": "display_data",
          "data": {
            "text/html": [
              "<pre>Parsing completed. Parsed 12370 lines in 0.08704 secs.</pre>"
            ],
            "text/plain": [
              "Parsing completed. Parsed 12370 lines in 0.08704 secs."
            ]
          },
          "metadata": {
            "tags": []
          }
        },
        {
          "output_type": "display_data",
          "data": {
            "text/html": [
              "<pre>Unexpected characters after last column. \"\"Starbucks\"\"\n",
              "Parse failed at token ending at: \n",
              "\t4-10-03 19:59:58 UTC\"\r\n",
              "3591,\"Assistant Manager\",\"Starbucks\",\u001b[1;31m^\u001b[0m\"\",\"\",\"\",\"2013-01-01\",\"\",NA,NA,NA,\"2014-10-03 19\n",
              "Successfully parsed 13 tokens: \n",
              "\t0: 3591\n",
              "\t1: BDC Sales \",\n",
              "\t2: Duncanville\n",
              "\t3: Texas\n",
              "\t4: TX\n",
              "\t5: 2014-06-27\n",
              "\t6: \n",
              "\t7: \n",
              "\t8: \n",
              "\t9: \n",
              "\t10: 2014-10-03 ... :59:58 UTC\n",
              "\t11: 2014-10-03 ... :59:58 UTC\n",
              "\t12: Assistant Manager</pre>"
            ],
            "text/plain": [
              "Unexpected characters after last column. \"\"Starbucks\"\"\n",
              "Parse failed at token ending at: \n",
              "\t4-10-03 19:59:58 UTC\"\r\n",
              "3591,\"Assistant Manager\",\"Starbucks\",\u001b[1;31m^\u001b[0m\"\",\"\",\"\",\"2013-01-01\",\"\",NA,NA,NA,\"2014-10-03 19\n",
              "Successfully parsed 13 tokens: \n",
              "\t0: 3591\n",
              "\t1: BDC Sales \",\n",
              "\t2: Duncanville\n",
              "\t3: Texas\n",
              "\t4: TX\n",
              "\t5: 2014-06-27\n",
              "\t6: \n",
              "\t7: \n",
              "\t8: \n",
              "\t9: \n",
              "\t10: 2014-10-03 ... :59:58 UTC\n",
              "\t11: 2014-10-03 ... :59:58 UTC\n",
              "\t12: Assistant Manager"
            ]
          },
          "metadata": {
            "tags": []
          }
        },
        {
          "output_type": "display_data",
          "data": {
            "text/html": [
              "<pre>Unexpected characters after last column. \"\"2010-12-01\"\"\n",
              "Parse failed at token ending at: \n",
              "\tCompany\",\"Orlando\",\"Florida\",\"FL\",\"2017-01-01\",\"2010-12-01\",\u001b[1;31m^\u001b[0m\"Disney is such a Big Company, but I worked on e\n",
              "Successfully parsed 13 tokens: \n",
              "\t0: Subjects are Math\n",
              "\t1: Biology\n",
              "\t2: Chemistry  ...  Physics.\"\n",
              "\t3: \n",
              "\t4: \n",
              "\t5: 2014-10-04 ... :06:55 UTC\n",
              "\t6: 2014-10-04 ... :06:55 UTC\n",
              "\t7: Host/Cashier\n",
              "\t8: Walt Disney Company\n",
              "\t9: Orlando\n",
              "\t10: Florida\n",
              "\t11: FL\n",
              "\t12: 2017-01-01</pre>"
            ],
            "text/plain": [
              "Unexpected characters after last column. \"\"2010-12-01\"\"\n",
              "Parse failed at token ending at: \n",
              "\tCompany\",\"Orlando\",\"Florida\",\"FL\",\"2017-01-01\",\"2010-12-01\",\u001b[1;31m^\u001b[0m\"Disney is such a Big Company, but I worked on e\n",
              "Successfully parsed 13 tokens: \n",
              "\t0: Subjects are Math\n",
              "\t1: Biology\n",
              "\t2: Chemistry  ...  Physics.\"\n",
              "\t3: \n",
              "\t4: \n",
              "\t5: 2014-10-04 ... :06:55 UTC\n",
              "\t6: 2014-10-04 ... :06:55 UTC\n",
              "\t7: Host/Cashier\n",
              "\t8: Walt Disney Company\n",
              "\t9: Orlando\n",
              "\t10: Florida\n",
              "\t11: FL\n",
              "\t12: 2017-01-01"
            ]
          },
          "metadata": {
            "tags": []
          }
        },
        {
          "output_type": "display_data",
          "data": {
            "text/html": [
              "<pre>Successfully parsed 3 tokens: \n",
              "\t0: •\tAssist ... th bathing\n",
              "\t1: oral hygiene\n",
              "\t2: grooming and feeding</pre>"
            ],
            "text/plain": [
              "Successfully parsed 3 tokens: \n",
              "\t0: •\tAssist ... th bathing\n",
              "\t1: oral hygiene\n",
              "\t2: grooming and feeding"
            ]
          },
          "metadata": {
            "tags": []
          }
        },
        {
          "output_type": "display_data",
          "data": {
            "text/html": [
              "<pre>Successfully parsed 3 tokens: \n",
              "\t0: •\tHelp r ... ut of beds\n",
              "\t1: showers\n",
              "\t2: and wheelchairs</pre>"
            ],
            "text/plain": [
              "Successfully parsed 3 tokens: \n",
              "\t0: •\tHelp r ... ut of beds\n",
              "\t1: showers\n",
              "\t2: and wheelchairs"
            ]
          },
          "metadata": {
            "tags": []
          }
        },
        {
          "output_type": "display_data",
          "data": {
            "text/html": [
              "<pre>Successfully parsed 1 tokens: \n",
              "\t0: •\tReport ... nvironment</pre>"
            ],
            "text/plain": [
              "Successfully parsed 1 tokens: \n",
              "\t0: •\tReport ... nvironment"
            ]
          },
          "metadata": {
            "tags": []
          }
        },
        {
          "output_type": "display_data",
          "data": {
            "text/html": [
              "<pre>Successfully parsed 1 tokens: \n",
              "\t0: •\tExperi ... heimer’s</pre>"
            ],
            "text/plain": [
              "Successfully parsed 1 tokens: \n",
              "\t0: •\tExperi ... heimer’s"
            ]
          },
          "metadata": {
            "tags": []
          }
        },
        {
          "output_type": "display_data",
          "data": {
            "text/html": [
              "<pre>Successfully parsed 11 tokens: \n",
              "\t0: ,10.5,\n",
              "\t1: 2014-10-04 ... :33:09 UTC\n",
              "\t2: 2014-10-04 ... :33:09 UTC\n",
              "\t3: Crew Trainer\n",
              "\t4: McDonald's\n",
              "\t5: Murrieta\n",
              "\t6: California\n",
              "\t7: CA\n",
              "\t8: 2011-09-22\n",
              "\t9: 2013-09-12\n",
              "\t10: •\tImmedi ... o manager.</pre>"
            ],
            "text/plain": [
              "Successfully parsed 11 tokens: \n",
              "\t0: ,10.5,\n",
              "\t1: 2014-10-04 ... :33:09 UTC\n",
              "\t2: 2014-10-04 ... :33:09 UTC\n",
              "\t3: Crew Trainer\n",
              "\t4: McDonald's\n",
              "\t5: Murrieta\n",
              "\t6: California\n",
              "\t7: CA\n",
              "\t8: 2011-09-22\n",
              "\t9: 2013-09-12\n",
              "\t10: •\tImmedi ... o manager."
            ]
          },
          "metadata": {
            "tags": []
          }
        },
        {
          "output_type": "display_data",
          "data": {
            "text/html": [
              "<pre>Successfully parsed 1 tokens: \n",
              "\t0: •\tDevelo ... ess goals.</pre>"
            ],
            "text/plain": [
              "Successfully parsed 1 tokens: \n",
              "\t0: •\tDevelo ... ess goals."
            ]
          },
          "metadata": {
            "tags": []
          }
        },
        {
          "output_type": "display_data",
          "data": {
            "text/html": [
              "<pre>Successfully parsed 1 tokens: \n",
              "\t0: •\tTraine ... employees.</pre>"
            ],
            "text/plain": [
              "Successfully parsed 1 tokens: \n",
              "\t0: •\tTraine ... employees."
            ]
          },
          "metadata": {
            "tags": []
          }
        },
        {
          "output_type": "display_data",
          "data": {
            "text/html": [
              "<pre>Successfully parsed 1 tokens: \n",
              "\t0: •\tResolv ... ficiently.</pre>"
            ],
            "text/plain": [
              "Successfully parsed 1 tokens: \n",
              "\t0: •\tResolv ... ficiently."
            ]
          },
          "metadata": {
            "tags": []
          }
        },
        {
          "output_type": "display_data",
          "data": {
            "text/html": [
              "<pre>3928 lines failed to parse correctly</pre>"
            ],
            "text/plain": [
              "3928 lines failed to parse correctly"
            ]
          },
          "metadata": {
            "tags": []
          }
        },
        {
          "output_type": "display_data",
          "data": {
            "text/html": [
              "<pre>Finished parsing file /content/drive/My Drive/DATA /Experience.csv</pre>"
            ],
            "text/plain": [
              "Finished parsing file /content/drive/My Drive/DATA /Experience.csv"
            ]
          },
          "metadata": {
            "tags": []
          }
        },
        {
          "output_type": "display_data",
          "data": {
            "text/html": [
              "<pre>Parsing completed. Parsed 100 lines in 0.106434 secs.</pre>"
            ],
            "text/plain": [
              "Parsing completed. Parsed 100 lines in 0.106434 secs."
            ]
          },
          "metadata": {
            "tags": []
          }
        },
        {
          "output_type": "stream",
          "text": [
            "------------------------------------------------------\n",
            "Inferred types from first 100 line(s) of file as \n",
            "column_type_hints=[int,str,str,str,str,str,str,str,str,float,str,str,str]\n",
            "If parsing fails due to incorrect types, you can correct\n",
            "the inferred type list above and pass it to read_csv in\n",
            "the column_type_hints argument\n",
            "------------------------------------------------------\n"
          ],
          "name": "stdout"
        },
        {
          "output_type": "display_data",
          "data": {
            "text/html": [
              "<pre>Unexpected characters after last column. \"\"Starbucks\"\"\n",
              "Parse failed at token ending at: \n",
              "\t4-10-03 19:59:58 UTC\"\r\n",
              "3591,\"Assistant Manager\",\"Starbucks\",\u001b[1;31m^\u001b[0m\"\",\"\",\"\",\"2013-01-01\",\"\",NA,NA,NA,\"2014-10-03 19\n",
              "Successfully parsed 13 tokens: \n",
              "\t0: 3591\n",
              "\t1: BDC Sales  ... ley Nissan\n",
              "\t2: Duncanville\n",
              "\t3: Texas\n",
              "\t4: TX\n",
              "\t5: 2014-06-27\n",
              "\t6: \n",
              "\t7: \n",
              "\t8: \n",
              "\t9: \n",
              "\t10: 2014-10-03 ... :59:58 UTC\n",
              "\t11: \"2014-10-0 ... UTC\"\r\n",
              "3591\n",
              "\t12: Assistant Manager</pre>"
            ],
            "text/plain": [
              "Unexpected characters after last column. \"\"Starbucks\"\"\n",
              "Parse failed at token ending at: \n",
              "\t4-10-03 19:59:58 UTC\"\r\n",
              "3591,\"Assistant Manager\",\"Starbucks\",\u001b[1;31m^\u001b[0m\"\",\"\",\"\",\"2013-01-01\",\"\",NA,NA,NA,\"2014-10-03 19\n",
              "Successfully parsed 13 tokens: \n",
              "\t0: 3591\n",
              "\t1: BDC Sales  ... ley Nissan\n",
              "\t2: Duncanville\n",
              "\t3: Texas\n",
              "\t4: TX\n",
              "\t5: 2014-06-27\n",
              "\t6: \n",
              "\t7: \n",
              "\t8: \n",
              "\t9: \n",
              "\t10: 2014-10-03 ... :59:58 UTC\n",
              "\t11: \"2014-10-0 ... UTC\"\r\n",
              "3591\n",
              "\t12: Assistant Manager"
            ]
          },
          "metadata": {
            "tags": []
          }
        },
        {
          "output_type": "display_data",
          "data": {
            "text/html": [
              "<pre>Unable to interpret \"Subjects are Math\" as a integer\n",
              "Parse failed at token ending at: \n",
              "\tSubjects are Math,\u001b[1;31m^\u001b[0m Biology, Chemistry and Physics.\",NA,NA,\"2014-10\n",
              "Successfully parsed 0 tokens:</pre>"
            ],
            "text/plain": [
              "Unable to interpret \"Subjects are Math\" as a integer\n",
              "Parse failed at token ending at: \n",
              "\tSubjects are Math,\u001b[1;31m^\u001b[0m Biology, Chemistry and Physics.\",NA,NA,\"2014-10\n",
              "Successfully parsed 0 tokens:"
            ]
          },
          "metadata": {
            "tags": []
          }
        },
        {
          "output_type": "display_data",
          "data": {
            "text/html": [
              "<pre>Unable to interpret \"•\tAssist residents with bathing\" as a integer\n",
              "Parse failed at token ending at: \n",
              "\t•\tAssist residents with bathing,\u001b[1;31m^\u001b[0m oral hygiene, grooming and feeding\n",
              "Successfully parsed 0 tokens:</pre>"
            ],
            "text/plain": [
              "Unable to interpret \"•\tAssist residents with bathing\" as a integer\n",
              "Parse failed at token ending at: \n",
              "\t•\tAssist residents with bathing,\u001b[1;31m^\u001b[0m oral hygiene, grooming and feeding\n",
              "Successfully parsed 0 tokens:"
            ]
          },
          "metadata": {
            "tags": []
          }
        },
        {
          "output_type": "display_data",
          "data": {
            "text/html": [
              "<pre>Unable to interpret \"•\tHelp residents move in and out of beds\" as a integer\n",
              "Parse failed at token ending at: \n",
              "\t•\tHelp residents move in and out of beds,\u001b[1;31m^\u001b[0m showers, and wheelchairs\n",
              "Successfully parsed 0 tokens:</pre>"
            ],
            "text/plain": [
              "Unable to interpret \"•\tHelp residents move in and out of beds\" as a integer\n",
              "Parse failed at token ending at: \n",
              "\t•\tHelp residents move in and out of beds,\u001b[1;31m^\u001b[0m showers, and wheelchairs\n",
              "Successfully parsed 0 tokens:"
            ]
          },
          "metadata": {
            "tags": []
          }
        },
        {
          "output_type": "display_data",
          "data": {
            "text/html": [
              "<pre>Unable to interpret \"•\tReport any unusual circumstances with residents’  condition or environment\" as a integer\n",
              "Parse failed at token ending at: \n",
              "\t•\tReport any unusual circumstances with residents’  condition or environment\u001b[1;31m^\u001b[0m\n",
              "Successfully parsed 0 tokens:</pre>"
            ],
            "text/plain": [
              "Unable to interpret \"•\tReport any unusual circumstances with residents’  condition or environment\" as a integer\n",
              "Parse failed at token ending at: \n",
              "\t•\tReport any unusual circumstances with residents’  condition or environment\u001b[1;31m^\u001b[0m\n",
              "Successfully parsed 0 tokens:"
            ]
          },
          "metadata": {
            "tags": []
          }
        },
        {
          "output_type": "display_data",
          "data": {
            "text/html": [
              "<pre>Unable to interpret \"•\tExperience with dementia and Alzheimer’s \" as a integer\n",
              "Parse failed at token ending at: \n",
              "\t•\tExperience with dementia and Alzheimer’s \u001b[1;31m^\u001b[0m\n",
              "Successfully parsed 0 tokens:</pre>"
            ],
            "text/plain": [
              "Unable to interpret \"•\tExperience with dementia and Alzheimer’s \" as a integer\n",
              "Parse failed at token ending at: \n",
              "\t•\tExperience with dementia and Alzheimer’s \u001b[1;31m^\u001b[0m\n",
              "Successfully parsed 0 tokens:"
            ]
          },
          "metadata": {
            "tags": []
          }
        },
        {
          "output_type": "display_data",
          "data": {
            "text/html": [
              "<pre>Unable to interpret \"\",10.5,\"true\"\" as a integer\n",
              "Parse failed at token ending at: \n",
              "\t\",10.5,\"true\",\u001b[1;31m^\u001b[0m\"2014-10-04 17:33:09 UTC\",\"2014-10-04 17:33:09 UTC\"\r\n",
              "3622,\"Crew Trainer\",\"McDonald's\",\"Murrieta\",\"California\",\"CA\",\"2011-09-22\",\"2013-09-12\",\"•\tImmediately reported accidents, injuries or unsafe work conditions to manager.\n",
              "Successfully parsed 0 tokens:</pre>"
            ],
            "text/plain": [
              "Unable to interpret \"\",10.5,\"true\"\" as a integer\n",
              "Parse failed at token ending at: \n",
              "\t\",10.5,\"true\",\u001b[1;31m^\u001b[0m\"2014-10-04 17:33:09 UTC\",\"2014-10-04 17:33:09 UTC\"\r\n",
              "3622,\"Crew Trainer\",\"McDonald's\",\"Murrieta\",\"California\",\"CA\",\"2011-09-22\",\"2013-09-12\",\"•\tImmediately reported accidents, injuries or unsafe work conditions to manager.\n",
              "Successfully parsed 0 tokens:"
            ]
          },
          "metadata": {
            "tags": []
          }
        },
        {
          "output_type": "display_data",
          "data": {
            "text/html": [
              "<pre>Unable to interpret \"•\tDeveloped and maintained positive working relationships with others to reach business goals.\" as a integer\n",
              "Parse failed at token ending at: \n",
              "\t•\tDeveloped and maintained positive working relationships with others to reach business goals.\u001b[1;31m^\u001b[0m\n",
              "Successfully parsed 0 tokens:</pre>"
            ],
            "text/plain": [
              "Unable to interpret \"•\tDeveloped and maintained positive working relationships with others to reach business goals.\" as a integer\n",
              "Parse failed at token ending at: \n",
              "\t•\tDeveloped and maintained positive working relationships with others to reach business goals.\u001b[1;31m^\u001b[0m\n",
              "Successfully parsed 0 tokens:"
            ]
          },
          "metadata": {
            "tags": []
          }
        },
        {
          "output_type": "display_data",
          "data": {
            "text/html": [
              "<pre>Unable to interpret \"•\tTrained new employees.\" as a integer\n",
              "Parse failed at token ending at: \n",
              "\t•\tTrained new employees.\u001b[1;31m^\u001b[0m\n",
              "Successfully parsed 0 tokens:</pre>"
            ],
            "text/plain": [
              "Unable to interpret \"•\tTrained new employees.\" as a integer\n",
              "Parse failed at token ending at: \n",
              "\t•\tTrained new employees.\u001b[1;31m^\u001b[0m\n",
              "Successfully parsed 0 tokens:"
            ]
          },
          "metadata": {
            "tags": []
          }
        },
        {
          "output_type": "display_data",
          "data": {
            "text/html": [
              "<pre>Unable to interpret \"•\tResolved complaints quickly and efficiently.\" as a integer\n",
              "Parse failed at token ending at: \n",
              "\t•\tResolved complaints quickly and efficiently.\u001b[1;31m^\u001b[0m\n",
              "Successfully parsed 0 tokens:</pre>"
            ],
            "text/plain": [
              "Unable to interpret \"•\tResolved complaints quickly and efficiently.\" as a integer\n",
              "Parse failed at token ending at: \n",
              "\t•\tResolved complaints quickly and efficiently.\u001b[1;31m^\u001b[0m\n",
              "Successfully parsed 0 tokens:"
            ]
          },
          "metadata": {
            "tags": []
          }
        },
        {
          "output_type": "display_data",
          "data": {
            "text/html": [
              "<pre>4272 lines failed to parse correctly</pre>"
            ],
            "text/plain": [
              "4272 lines failed to parse correctly"
            ]
          },
          "metadata": {
            "tags": []
          }
        },
        {
          "output_type": "display_data",
          "data": {
            "text/html": [
              "<pre>Finished parsing file /content/drive/My Drive/DATA /Experience.csv</pre>"
            ],
            "text/plain": [
              "Finished parsing file /content/drive/My Drive/DATA /Experience.csv"
            ]
          },
          "metadata": {
            "tags": []
          }
        },
        {
          "output_type": "display_data",
          "data": {
            "text/html": [
              "<pre>Parsing completed. Parsed 4363 lines in 0.084424 secs.</pre>"
            ],
            "text/plain": [
              "Parsing completed. Parsed 4363 lines in 0.084424 secs."
            ]
          },
          "metadata": {
            "tags": []
          }
        },
        {
          "output_type": "display_data",
          "data": {
            "text/html": [
              "<pre>Finished parsing file /content/drive/My Drive/DATA /Combined_Jobs_Final.csv</pre>"
            ],
            "text/plain": [
              "Finished parsing file /content/drive/My Drive/DATA /Combined_Jobs_Final.csv"
            ]
          },
          "metadata": {
            "tags": []
          }
        },
        {
          "output_type": "display_data",
          "data": {
            "text/html": [
              "<pre>Parsing completed. Parsed 100 lines in 1.2602 secs.</pre>"
            ],
            "text/plain": [
              "Parsing completed. Parsed 100 lines in 1.2602 secs."
            ]
          },
          "metadata": {
            "tags": []
          }
        },
        {
          "output_type": "stream",
          "text": [
            "------------------------------------------------------\n",
            "Inferred types from first 100 line(s) of file as \n",
            "column_type_hints=[int,int,str,str,str,str,str,str,str,str,str,float,float,str,str,str,float,str,str,str,str,str,str]\n",
            "If parsing fails due to incorrect types, you can correct\n",
            "the inferred type list above and pass it to read_csv in\n",
            "the column_type_hints argument\n",
            "------------------------------------------------------\n"
          ],
          "name": "stdout"
        },
        {
          "output_type": "display_data",
          "data": {
            "text/html": [
              "<pre>Read 27898 lines. Lines per second: 18049.7</pre>"
            ],
            "text/plain": [
              "Read 27898 lines. Lines per second: 18049.7"
            ]
          },
          "metadata": {
            "tags": []
          }
        },
        {
          "output_type": "display_data",
          "data": {
            "text/html": [
              "<pre>Finished parsing file /content/drive/My Drive/DATA /Combined_Jobs_Final.csv</pre>"
            ],
            "text/plain": [
              "Finished parsing file /content/drive/My Drive/DATA /Combined_Jobs_Final.csv"
            ]
          },
          "metadata": {
            "tags": []
          }
        },
        {
          "output_type": "display_data",
          "data": {
            "text/html": [
              "<pre>Parsing completed. Parsed 84090 lines in 2.59429 secs.</pre>"
            ],
            "text/plain": [
              "Parsing completed. Parsed 84090 lines in 2.59429 secs."
            ]
          },
          "metadata": {
            "tags": []
          }
        }
      ]
    },
    {
      "cell_type": "code",
      "metadata": {
        "id": "hW58qsssQgsf",
        "colab": {
          "base_uri": "https://localhost:8080/",
          "height": 462
        },
        "outputId": "da4093e4-8e60-44f5-dfdd-819e8a4f8b9f"
      },
      "source": [
        "m = tc.item_similarity_recommender.create(jobview_sframe,\n",
        "                                    user_id='Applicant.ID',\n",
        "                                    item_id='Job.ID',\n",
        "                                    similarity_type=\"jaccard\",\n",
        "                                    )"
      ],
      "execution_count": null,
      "outputs": [
        {
          "output_type": "display_data",
          "data": {
            "text/html": [
              "<pre>Warning: Ignoring columns Title, Position, Company, City, State.Name, State.Code, Industry, View.Start, View.End, View.Duration, Created.At, Updated.At;</pre>"
            ],
            "text/plain": [
              "Warning: Ignoring columns Title, Position, Company, City, State.Name, State.Code, Industry, View.Start, View.End, View.Duration, Created.At, Updated.At;"
            ]
          },
          "metadata": {
            "tags": []
          }
        },
        {
          "output_type": "display_data",
          "data": {
            "text/html": [
              "<pre> To use one of these as a rating column, specify the column name to be used as target</pre>"
            ],
            "text/plain": [
              " To use one of these as a rating column, specify the column name to be used as target"
            ]
          },
          "metadata": {
            "tags": []
          }
        },
        {
          "output_type": "display_data",
          "data": {
            "text/html": [
              "<pre>    and use a method that allows the use of a target.</pre>"
            ],
            "text/plain": [
              "    and use a method that allows the use of a target."
            ]
          },
          "metadata": {
            "tags": []
          }
        },
        {
          "output_type": "display_data",
          "data": {
            "text/html": [
              "<pre>Preparing data set.</pre>"
            ],
            "text/plain": [
              "Preparing data set."
            ]
          },
          "metadata": {
            "tags": []
          }
        },
        {
          "output_type": "display_data",
          "data": {
            "text/html": [
              "<pre>    Data has 12370 observations with 3448 users and 7047 items.</pre>"
            ],
            "text/plain": [
              "    Data has 12370 observations with 3448 users and 7047 items."
            ]
          },
          "metadata": {
            "tags": []
          }
        },
        {
          "output_type": "display_data",
          "data": {
            "text/html": [
              "<pre>    Data prepared in: 0.030645s</pre>"
            ],
            "text/plain": [
              "    Data prepared in: 0.030645s"
            ]
          },
          "metadata": {
            "tags": []
          }
        },
        {
          "output_type": "display_data",
          "data": {
            "text/html": [
              "<pre>Training model from provided data.</pre>"
            ],
            "text/plain": [
              "Training model from provided data."
            ]
          },
          "metadata": {
            "tags": []
          }
        },
        {
          "output_type": "display_data",
          "data": {
            "text/html": [
              "<pre>Gathering per-item and per-user statistics.</pre>"
            ],
            "text/plain": [
              "Gathering per-item and per-user statistics."
            ]
          },
          "metadata": {
            "tags": []
          }
        },
        {
          "output_type": "display_data",
          "data": {
            "text/html": [
              "<pre>+--------------------------------+------------+</pre>"
            ],
            "text/plain": [
              "+--------------------------------+------------+"
            ]
          },
          "metadata": {
            "tags": []
          }
        },
        {
          "output_type": "display_data",
          "data": {
            "text/html": [
              "<pre>| Elapsed Time (Item Statistics) | % Complete |</pre>"
            ],
            "text/plain": [
              "| Elapsed Time (Item Statistics) | % Complete |"
            ]
          },
          "metadata": {
            "tags": []
          }
        },
        {
          "output_type": "display_data",
          "data": {
            "text/html": [
              "<pre>+--------------------------------+------------+</pre>"
            ],
            "text/plain": [
              "+--------------------------------+------------+"
            ]
          },
          "metadata": {
            "tags": []
          }
        },
        {
          "output_type": "display_data",
          "data": {
            "text/html": [
              "<pre>| 492us                          | 29         |</pre>"
            ],
            "text/plain": [
              "| 492us                          | 29         |"
            ]
          },
          "metadata": {
            "tags": []
          }
        },
        {
          "output_type": "display_data",
          "data": {
            "text/html": [
              "<pre>| 1.213ms                        | 100        |</pre>"
            ],
            "text/plain": [
              "| 1.213ms                        | 100        |"
            ]
          },
          "metadata": {
            "tags": []
          }
        },
        {
          "output_type": "display_data",
          "data": {
            "text/html": [
              "<pre>+--------------------------------+------------+</pre>"
            ],
            "text/plain": [
              "+--------------------------------+------------+"
            ]
          },
          "metadata": {
            "tags": []
          }
        },
        {
          "output_type": "display_data",
          "data": {
            "text/html": [
              "<pre>Setting up lookup tables.</pre>"
            ],
            "text/plain": [
              "Setting up lookup tables."
            ]
          },
          "metadata": {
            "tags": []
          }
        },
        {
          "output_type": "display_data",
          "data": {
            "text/html": [
              "<pre>Processing data in one pass using dense lookup tables.</pre>"
            ],
            "text/plain": [
              "Processing data in one pass using dense lookup tables."
            ]
          },
          "metadata": {
            "tags": []
          }
        },
        {
          "output_type": "display_data",
          "data": {
            "text/html": [
              "<pre>+-------------------------------------+------------------+-----------------+</pre>"
            ],
            "text/plain": [
              "+-------------------------------------+------------------+-----------------+"
            ]
          },
          "metadata": {
            "tags": []
          }
        },
        {
          "output_type": "display_data",
          "data": {
            "text/html": [
              "<pre>| Elapsed Time (Constructing Lookups) | Total % Complete | Items Processed |</pre>"
            ],
            "text/plain": [
              "| Elapsed Time (Constructing Lookups) | Total % Complete | Items Processed |"
            ]
          },
          "metadata": {
            "tags": []
          }
        },
        {
          "output_type": "display_data",
          "data": {
            "text/html": [
              "<pre>+-------------------------------------+------------------+-----------------+</pre>"
            ],
            "text/plain": [
              "+-------------------------------------+------------------+-----------------+"
            ]
          },
          "metadata": {
            "tags": []
          }
        },
        {
          "output_type": "display_data",
          "data": {
            "text/html": [
              "<pre>| 81.672ms                            | 0                | 0               |</pre>"
            ],
            "text/plain": [
              "| 81.672ms                            | 0                | 0               |"
            ]
          },
          "metadata": {
            "tags": []
          }
        },
        {
          "output_type": "display_data",
          "data": {
            "text/html": [
              "<pre>| 529.466ms                           | 100              | 7047            |</pre>"
            ],
            "text/plain": [
              "| 529.466ms                           | 100              | 7047            |"
            ]
          },
          "metadata": {
            "tags": []
          }
        },
        {
          "output_type": "display_data",
          "data": {
            "text/html": [
              "<pre>+-------------------------------------+------------------+-----------------+</pre>"
            ],
            "text/plain": [
              "+-------------------------------------+------------------+-----------------+"
            ]
          },
          "metadata": {
            "tags": []
          }
        },
        {
          "output_type": "display_data",
          "data": {
            "text/html": [
              "<pre>Finalizing lookup tables.</pre>"
            ],
            "text/plain": [
              "Finalizing lookup tables."
            ]
          },
          "metadata": {
            "tags": []
          }
        },
        {
          "output_type": "display_data",
          "data": {
            "text/html": [
              "<pre>Generating candidate set for working with new users.</pre>"
            ],
            "text/plain": [
              "Generating candidate set for working with new users."
            ]
          },
          "metadata": {
            "tags": []
          }
        },
        {
          "output_type": "display_data",
          "data": {
            "text/html": [
              "<pre>Finished training in 0.533955s</pre>"
            ],
            "text/plain": [
              "Finished training in 0.533955s"
            ]
          },
          "metadata": {
            "tags": []
          }
        }
      ]
    },
    {
      "cell_type": "code",
      "metadata": {
        "id": "8rDCIx9bS4mY"
      },
      "source": [
        "ID_list=list(pd.unique(jobview_sframe['Applicant.ID']))"
      ],
      "execution_count": null,
      "outputs": []
    },
    {
      "cell_type": "code",
      "metadata": {
        "id": "hYswEEQHQohp",
        "colab": {
          "base_uri": "https://localhost:8080/",
          "height": 68
        },
        "outputId": "2f29836d-5234-4683-ca82-3f90909f4b69"
      },
      "source": [
        "item_sim_recomm = m.recommend(items =ID_list,k=15)"
      ],
      "execution_count": null,
      "outputs": [
        {
          "output_type": "display_data",
          "data": {
            "text/html": [
              "<pre>recommendations finished on 1000/3448 queries. users per second: 23365.6</pre>"
            ],
            "text/plain": [
              "recommendations finished on 1000/3448 queries. users per second: 23365.6"
            ]
          },
          "metadata": {
            "tags": []
          }
        },
        {
          "output_type": "display_data",
          "data": {
            "text/html": [
              "<pre>recommendations finished on 2000/3448 queries. users per second: 22050.2</pre>"
            ],
            "text/plain": [
              "recommendations finished on 2000/3448 queries. users per second: 22050.2"
            ]
          },
          "metadata": {
            "tags": []
          }
        },
        {
          "output_type": "display_data",
          "data": {
            "text/html": [
              "<pre>recommendations finished on 3000/3448 queries. users per second: 23072.8</pre>"
            ],
            "text/plain": [
              "recommendations finished on 3000/3448 queries. users per second: 23072.8"
            ]
          },
          "metadata": {
            "tags": []
          }
        }
      ]
    },
    {
      "cell_type": "code",
      "metadata": {
        "id": "LFl7yR0FMurF",
        "colab": {
          "base_uri": "https://localhost:8080/",
          "height": 279
        },
        "outputId": "cdd30962-8b05-489d-b704-c435447a9fc5"
      },
      "source": [
        "item_sim_recomm[[\"Applicant.ID\",\"Job.ID\"]]"
      ],
      "execution_count": null,
      "outputs": [
        {
          "output_type": "execute_result",
          "data": {
            "text/html": [
              "<div style=\"max-height:1000px;max-width:1500px;overflow:auto;\"><table frame=\"box\" rules=\"cols\">\n",
              "    <tr>\n",
              "        <th style=\"padding-left: 1em; padding-right: 1em; text-align: center\">Applicant.ID</th>\n",
              "        <th style=\"padding-left: 1em; padding-right: 1em; text-align: center\">Job.ID</th>\n",
              "    </tr>\n",
              "    <tr>\n",
              "        <td style=\"padding-left: 1em; padding-right: 1em; text-align: center; vertical-align: top\">10000</td>\n",
              "        <td style=\"padding-left: 1em; padding-right: 1em; text-align: center; vertical-align: top\">14272</td>\n",
              "    </tr>\n",
              "    <tr>\n",
              "        <td style=\"padding-left: 1em; padding-right: 1em; text-align: center; vertical-align: top\">10000</td>\n",
              "        <td style=\"padding-left: 1em; padding-right: 1em; text-align: center; vertical-align: top\">14251</td>\n",
              "    </tr>\n",
              "    <tr>\n",
              "        <td style=\"padding-left: 1em; padding-right: 1em; text-align: center; vertical-align: top\">10000</td>\n",
              "        <td style=\"padding-left: 1em; padding-right: 1em; text-align: center; vertical-align: top\">14252</td>\n",
              "    </tr>\n",
              "    <tr>\n",
              "        <td style=\"padding-left: 1em; padding-right: 1em; text-align: center; vertical-align: top\">10000</td>\n",
              "        <td style=\"padding-left: 1em; padding-right: 1em; text-align: center; vertical-align: top\">14254</td>\n",
              "    </tr>\n",
              "    <tr>\n",
              "        <td style=\"padding-left: 1em; padding-right: 1em; text-align: center; vertical-align: top\">10000</td>\n",
              "        <td style=\"padding-left: 1em; padding-right: 1em; text-align: center; vertical-align: top\">14255</td>\n",
              "    </tr>\n",
              "    <tr>\n",
              "        <td style=\"padding-left: 1em; padding-right: 1em; text-align: center; vertical-align: top\">10000</td>\n",
              "        <td style=\"padding-left: 1em; padding-right: 1em; text-align: center; vertical-align: top\">14256</td>\n",
              "    </tr>\n",
              "    <tr>\n",
              "        <td style=\"padding-left: 1em; padding-right: 1em; text-align: center; vertical-align: top\">10000</td>\n",
              "        <td style=\"padding-left: 1em; padding-right: 1em; text-align: center; vertical-align: top\">14257</td>\n",
              "    </tr>\n",
              "    <tr>\n",
              "        <td style=\"padding-left: 1em; padding-right: 1em; text-align: center; vertical-align: top\">10000</td>\n",
              "        <td style=\"padding-left: 1em; padding-right: 1em; text-align: center; vertical-align: top\">14258</td>\n",
              "    </tr>\n",
              "    <tr>\n",
              "        <td style=\"padding-left: 1em; padding-right: 1em; text-align: center; vertical-align: top\">10000</td>\n",
              "        <td style=\"padding-left: 1em; padding-right: 1em; text-align: center; vertical-align: top\">14259</td>\n",
              "    </tr>\n",
              "    <tr>\n",
              "        <td style=\"padding-left: 1em; padding-right: 1em; text-align: center; vertical-align: top\">10000</td>\n",
              "        <td style=\"padding-left: 1em; padding-right: 1em; text-align: center; vertical-align: top\">14260</td>\n",
              "    </tr>\n",
              "</table>\n",
              "[51720 rows x 2 columns]<br/>Note: Only the head of the SFrame is printed.<br/>You can use print_rows(num_rows=m, num_columns=n) to print more rows and columns.\n",
              "</div>"
            ],
            "text/plain": [
              "Columns:\n",
              "\tApplicant.ID\tint\n",
              "\tJob.ID\tint\n",
              "\n",
              "Rows: 51720\n",
              "\n",
              "Data:\n",
              "+--------------+--------+\n",
              "| Applicant.ID | Job.ID |\n",
              "+--------------+--------+\n",
              "|    10000     | 14272  |\n",
              "|    10000     | 14251  |\n",
              "|    10000     | 14252  |\n",
              "|    10000     | 14254  |\n",
              "|    10000     | 14255  |\n",
              "|    10000     | 14256  |\n",
              "|    10000     | 14257  |\n",
              "|    10000     | 14258  |\n",
              "|    10000     | 14259  |\n",
              "|    10000     | 14260  |\n",
              "+--------------+--------+\n",
              "[51720 rows x 2 columns]\n",
              "Note: Only the head of the SFrame is printed.\n",
              "You can use print_rows(num_rows=m, num_columns=n) to print more rows and columns."
            ]
          },
          "metadata": {
            "tags": []
          },
          "execution_count": 15
        }
      ]
    },
    {
      "cell_type": "code",
      "metadata": {
        "id": "MqrzCZeZQ1rB",
        "colab": {
          "base_uri": "https://localhost:8080/",
          "height": 1000
        },
        "outputId": "0e59ebb1-0557-4ae2-dfc1-227e241435ef"
      },
      "source": [
        "sf = tc.SFrame('https://static.turi.com/datasets/audioscrobbler')\n",
        "train, test = tc.recommender.util.random_split_by_user(sf)\n",
        "b = tc.recommender.create(train)\n",
        "b.evaluate_precision_recall(test)"
      ],
      "execution_count": null,
      "outputs": [
        {
          "output_type": "display_data",
          "data": {
            "text/html": [
              "<pre>Downloading https://static.turi.com/datasets/audioscrobbler/dir_archive.ini to /var/tmp/turicreate-root/8182/6ee8601d-66a2-4a07-821e-f57e86f2de19.ini</pre>"
            ],
            "text/plain": [
              "Downloading https://static.turi.com/datasets/audioscrobbler/dir_archive.ini to /var/tmp/turicreate-root/8182/6ee8601d-66a2-4a07-821e-f57e86f2de19.ini"
            ]
          },
          "metadata": {
            "tags": []
          }
        },
        {
          "output_type": "display_data",
          "data": {
            "text/html": [
              "<pre>Downloading https://static.turi.com/datasets/audioscrobbler/objects.bin to /var/tmp/turicreate-root/8182/d495fe66-7054-4a8b-a6cb-b53208c8d214.bin</pre>"
            ],
            "text/plain": [
              "Downloading https://static.turi.com/datasets/audioscrobbler/objects.bin to /var/tmp/turicreate-root/8182/d495fe66-7054-4a8b-a6cb-b53208c8d214.bin"
            ]
          },
          "metadata": {
            "tags": []
          }
        },
        {
          "output_type": "display_data",
          "data": {
            "text/html": [
              "<pre>Downloading https://static.turi.com/datasets/audioscrobbler/m_74b0dc51.frame_idx to /var/tmp/turicreate-root/8182/8c589749-3ba7-406b-861f-b6be47e27d85.frame_idx</pre>"
            ],
            "text/plain": [
              "Downloading https://static.turi.com/datasets/audioscrobbler/m_74b0dc51.frame_idx to /var/tmp/turicreate-root/8182/8c589749-3ba7-406b-861f-b6be47e27d85.frame_idx"
            ]
          },
          "metadata": {
            "tags": []
          }
        },
        {
          "output_type": "display_data",
          "data": {
            "text/html": [
              "<pre>Downloading https://static.turi.com/datasets/audioscrobbler/m_74b0dc51.sidx to /var/tmp/turicreate-root/8182/5fc78860-ede6-403f-a66a-167eb16f3301.sidx</pre>"
            ],
            "text/plain": [
              "Downloading https://static.turi.com/datasets/audioscrobbler/m_74b0dc51.sidx to /var/tmp/turicreate-root/8182/5fc78860-ede6-403f-a66a-167eb16f3301.sidx"
            ]
          },
          "metadata": {
            "tags": []
          }
        },
        {
          "output_type": "display_data",
          "data": {
            "text/html": [
              "<pre>Downloading https://static.turi.com/datasets/audioscrobbler/m_74b0dc51.0000 to /var/tmp/turicreate-root/8182/1845d28a-9618-441c-90ee-8eb0cd2f45db.0000</pre>"
            ],
            "text/plain": [
              "Downloading https://static.turi.com/datasets/audioscrobbler/m_74b0dc51.0000 to /var/tmp/turicreate-root/8182/1845d28a-9618-441c-90ee-8eb0cd2f45db.0000"
            ]
          },
          "metadata": {
            "tags": []
          }
        },
        {
          "output_type": "display_data",
          "data": {
            "text/html": [
              "<pre>Downloading https://static.turi.com/datasets/audioscrobbler/m_74b0dc51.0001 to /var/tmp/turicreate-root/8182/70ff32e5-31d9-4e11-99eb-30365cbe9cc6.0001</pre>"
            ],
            "text/plain": [
              "Downloading https://static.turi.com/datasets/audioscrobbler/m_74b0dc51.0001 to /var/tmp/turicreate-root/8182/70ff32e5-31d9-4e11-99eb-30365cbe9cc6.0001"
            ]
          },
          "metadata": {
            "tags": []
          }
        },
        {
          "output_type": "display_data",
          "data": {
            "text/html": [
              "<pre>Downloading https://static.turi.com/datasets/audioscrobbler/m_74b0dc51.0002 to /var/tmp/turicreate-root/8182/2cbd1e96-5494-4d9d-b4e2-1972f02d3907.0002</pre>"
            ],
            "text/plain": [
              "Downloading https://static.turi.com/datasets/audioscrobbler/m_74b0dc51.0002 to /var/tmp/turicreate-root/8182/2cbd1e96-5494-4d9d-b4e2-1972f02d3907.0002"
            ]
          },
          "metadata": {
            "tags": []
          }
        },
        {
          "output_type": "display_data",
          "data": {
            "text/html": [
              "<pre>Downloading https://static.turi.com/datasets/audioscrobbler/m_74b0dc51.0003 to /var/tmp/turicreate-root/8182/4ba6e195-1877-4776-9b9c-198f8d3db7d5.0003</pre>"
            ],
            "text/plain": [
              "Downloading https://static.turi.com/datasets/audioscrobbler/m_74b0dc51.0003 to /var/tmp/turicreate-root/8182/4ba6e195-1877-4776-9b9c-198f8d3db7d5.0003"
            ]
          },
          "metadata": {
            "tags": []
          }
        },
        {
          "output_type": "display_data",
          "data": {
            "text/html": [
              "<pre>Downloading https://static.turi.com/datasets/audioscrobbler/m_74b0dc51.0004 to /var/tmp/turicreate-root/8182/4608c440-4fae-4f82-a095-6e696a00b3a1.0004</pre>"
            ],
            "text/plain": [
              "Downloading https://static.turi.com/datasets/audioscrobbler/m_74b0dc51.0004 to /var/tmp/turicreate-root/8182/4608c440-4fae-4f82-a095-6e696a00b3a1.0004"
            ]
          },
          "metadata": {
            "tags": []
          }
        },
        {
          "output_type": "display_data",
          "data": {
            "text/html": [
              "<pre>Downloading https://static.turi.com/datasets/audioscrobbler/m_74b0dc51.0005 to /var/tmp/turicreate-root/8182/c5c0f7ed-c5d2-4f19-8c94-7f46991f44de.0005</pre>"
            ],
            "text/plain": [
              "Downloading https://static.turi.com/datasets/audioscrobbler/m_74b0dc51.0005 to /var/tmp/turicreate-root/8182/c5c0f7ed-c5d2-4f19-8c94-7f46991f44de.0005"
            ]
          },
          "metadata": {
            "tags": []
          }
        },
        {
          "output_type": "display_data",
          "data": {
            "text/html": [
              "<pre>Downloading https://static.turi.com/datasets/audioscrobbler/m_74b0dc51.0006 to /var/tmp/turicreate-root/8182/9347fe27-5271-4e73-b221-1047d7262408.0006</pre>"
            ],
            "text/plain": [
              "Downloading https://static.turi.com/datasets/audioscrobbler/m_74b0dc51.0006 to /var/tmp/turicreate-root/8182/9347fe27-5271-4e73-b221-1047d7262408.0006"
            ]
          },
          "metadata": {
            "tags": []
          }
        },
        {
          "output_type": "display_data",
          "data": {
            "text/html": [
              "<pre>Downloading https://static.turi.com/datasets/audioscrobbler/m_74b0dc51.0007 to /var/tmp/turicreate-root/8182/b0da3785-9b15-47d8-89c1-896e85708d12.0007</pre>"
            ],
            "text/plain": [
              "Downloading https://static.turi.com/datasets/audioscrobbler/m_74b0dc51.0007 to /var/tmp/turicreate-root/8182/b0da3785-9b15-47d8-89c1-896e85708d12.0007"
            ]
          },
          "metadata": {
            "tags": []
          }
        },
        {
          "output_type": "display_data",
          "data": {
            "text/html": [
              "<pre>Warning: Column 'target' ignored.</pre>"
            ],
            "text/plain": [
              "Warning: Column 'target' ignored."
            ]
          },
          "metadata": {
            "tags": []
          }
        },
        {
          "output_type": "display_data",
          "data": {
            "text/html": [
              "<pre> To use one of these as a rating column, specify the column name to be used as target target\" and use a method that allows the use of a target.</pre>"
            ],
            "text/plain": [
              " To use one of these as a rating column, specify the column name to be used as target target\" and use a method that allows the use of a target."
            ]
          },
          "metadata": {
            "tags": []
          }
        },
        {
          "output_type": "display_data",
          "data": {
            "text/html": [
              "<pre>Preparing data set.</pre>"
            ],
            "text/plain": [
              "Preparing data set."
            ]
          },
          "metadata": {
            "tags": []
          }
        },
        {
          "output_type": "display_data",
          "data": {
            "text/html": [
              "<pre>    Data has 417098 observations with 90982 users and 14073 items.</pre>"
            ],
            "text/plain": [
              "    Data has 417098 observations with 90982 users and 14073 items."
            ]
          },
          "metadata": {
            "tags": []
          }
        },
        {
          "output_type": "display_data",
          "data": {
            "text/html": [
              "<pre>    Data prepared in: 0.664993s</pre>"
            ],
            "text/plain": [
              "    Data prepared in: 0.664993s"
            ]
          },
          "metadata": {
            "tags": []
          }
        },
        {
          "output_type": "display_data",
          "data": {
            "text/html": [
              "<pre>Training model from provided data.</pre>"
            ],
            "text/plain": [
              "Training model from provided data."
            ]
          },
          "metadata": {
            "tags": []
          }
        },
        {
          "output_type": "display_data",
          "data": {
            "text/html": [
              "<pre>Gathering per-item and per-user statistics.</pre>"
            ],
            "text/plain": [
              "Gathering per-item and per-user statistics."
            ]
          },
          "metadata": {
            "tags": []
          }
        },
        {
          "output_type": "display_data",
          "data": {
            "text/html": [
              "<pre>+--------------------------------+------------+</pre>"
            ],
            "text/plain": [
              "+--------------------------------+------------+"
            ]
          },
          "metadata": {
            "tags": []
          }
        },
        {
          "output_type": "display_data",
          "data": {
            "text/html": [
              "<pre>| Elapsed Time (Item Statistics) | % Complete |</pre>"
            ],
            "text/plain": [
              "| Elapsed Time (Item Statistics) | % Complete |"
            ]
          },
          "metadata": {
            "tags": []
          }
        },
        {
          "output_type": "display_data",
          "data": {
            "text/html": [
              "<pre>+--------------------------------+------------+</pre>"
            ],
            "text/plain": [
              "+--------------------------------+------------+"
            ]
          },
          "metadata": {
            "tags": []
          }
        },
        {
          "output_type": "display_data",
          "data": {
            "text/html": [
              "<pre>| 9.029ms                        | 1          |</pre>"
            ],
            "text/plain": [
              "| 9.029ms                        | 1          |"
            ]
          },
          "metadata": {
            "tags": []
          }
        },
        {
          "output_type": "display_data",
          "data": {
            "text/html": [
              "<pre>| 38.287ms                       | 100        |</pre>"
            ],
            "text/plain": [
              "| 38.287ms                       | 100        |"
            ]
          },
          "metadata": {
            "tags": []
          }
        },
        {
          "output_type": "display_data",
          "data": {
            "text/html": [
              "<pre>+--------------------------------+------------+</pre>"
            ],
            "text/plain": [
              "+--------------------------------+------------+"
            ]
          },
          "metadata": {
            "tags": []
          }
        },
        {
          "output_type": "display_data",
          "data": {
            "text/html": [
              "<pre>Setting up lookup tables.</pre>"
            ],
            "text/plain": [
              "Setting up lookup tables."
            ]
          },
          "metadata": {
            "tags": []
          }
        },
        {
          "output_type": "display_data",
          "data": {
            "text/html": [
              "<pre>Processing data in one pass using dense lookup tables.</pre>"
            ],
            "text/plain": [
              "Processing data in one pass using dense lookup tables."
            ]
          },
          "metadata": {
            "tags": []
          }
        },
        {
          "output_type": "display_data",
          "data": {
            "text/html": [
              "<pre>+-------------------------------------+------------------+-----------------+</pre>"
            ],
            "text/plain": [
              "+-------------------------------------+------------------+-----------------+"
            ]
          },
          "metadata": {
            "tags": []
          }
        },
        {
          "output_type": "display_data",
          "data": {
            "text/html": [
              "<pre>| Elapsed Time (Constructing Lookups) | Total % Complete | Items Processed |</pre>"
            ],
            "text/plain": [
              "| Elapsed Time (Constructing Lookups) | Total % Complete | Items Processed |"
            ]
          },
          "metadata": {
            "tags": []
          }
        },
        {
          "output_type": "display_data",
          "data": {
            "text/html": [
              "<pre>+-------------------------------------+------------------+-----------------+</pre>"
            ],
            "text/plain": [
              "+-------------------------------------+------------------+-----------------+"
            ]
          },
          "metadata": {
            "tags": []
          }
        },
        {
          "output_type": "display_data",
          "data": {
            "text/html": [
              "<pre>| 907.114ms                           | 0                | 1               |</pre>"
            ],
            "text/plain": [
              "| 907.114ms                           | 0                | 1               |"
            ]
          },
          "metadata": {
            "tags": []
          }
        },
        {
          "output_type": "display_data",
          "data": {
            "text/html": [
              "<pre>| 2.84s                               | 100              | 14073           |</pre>"
            ],
            "text/plain": [
              "| 2.84s                               | 100              | 14073           |"
            ]
          },
          "metadata": {
            "tags": []
          }
        },
        {
          "output_type": "display_data",
          "data": {
            "text/html": [
              "<pre>+-------------------------------------+------------------+-----------------+</pre>"
            ],
            "text/plain": [
              "+-------------------------------------+------------------+-----------------+"
            ]
          },
          "metadata": {
            "tags": []
          }
        },
        {
          "output_type": "display_data",
          "data": {
            "text/html": [
              "<pre>Finalizing lookup tables.</pre>"
            ],
            "text/plain": [
              "Finalizing lookup tables."
            ]
          },
          "metadata": {
            "tags": []
          }
        },
        {
          "output_type": "display_data",
          "data": {
            "text/html": [
              "<pre>Generating candidate set for working with new users.</pre>"
            ],
            "text/plain": [
              "Generating candidate set for working with new users."
            ]
          },
          "metadata": {
            "tags": []
          }
        },
        {
          "output_type": "display_data",
          "data": {
            "text/html": [
              "<pre>Finished training in 2.90552s</pre>"
            ],
            "text/plain": [
              "Finished training in 2.90552s"
            ]
          },
          "metadata": {
            "tags": []
          }
        },
        {
          "output_type": "execute_result",
          "data": {
            "text/plain": [
              "{'precision_recall_by_user': Columns:\n",
              " \tuser_id\tstr\n",
              " \tcutoff\tint\n",
              " \tprecision\tfloat\n",
              " \trecall\tfloat\n",
              " \tcount\tint\n",
              " \n",
              " Rows: 9180\n",
              " \n",
              " Data:\n",
              " +---------+--------+-----------+--------+-------+\n",
              " | user_id | cutoff | precision | recall | count |\n",
              " +---------+--------+-----------+--------+-------+\n",
              " | 2174493 |   1    |    0.0    |  0.0   |   3   |\n",
              " | 2174493 |   2    |    0.0    |  0.0   |   3   |\n",
              " | 2174493 |   3    |    0.0    |  0.0   |   3   |\n",
              " | 2174493 |   4    |    0.0    |  0.0   |   3   |\n",
              " | 2174493 |   5    |    0.0    |  0.0   |   3   |\n",
              " | 2174493 |   6    |    0.0    |  0.0   |   3   |\n",
              " | 2174493 |   7    |    0.0    |  0.0   |   3   |\n",
              " | 2174493 |   8    |    0.0    |  0.0   |   3   |\n",
              " | 2174493 |   9    |    0.0    |  0.0   |   3   |\n",
              " | 2174493 |   10   |    0.0    |  0.0   |   3   |\n",
              " +---------+--------+-----------+--------+-------+\n",
              " [9180 rows x 5 columns]\n",
              " Note: Only the head of the SFrame is printed.\n",
              " You can use print_rows(num_rows=m, num_columns=n) to print more rows and columns.,\n",
              " 'precision_recall_overall': Columns:\n",
              " \tcutoff\tint\n",
              " \tprecision\tfloat\n",
              " \trecall\tfloat\n",
              " \n",
              " Rows: 18\n",
              " \n",
              " Data:\n",
              " +--------+----------------------+---------------------+\n",
              " | cutoff |      precision       |        recall       |\n",
              " +--------+----------------------+---------------------+\n",
              " |   1    |  0.1313725490196078  | 0.09111111111111111 |\n",
              " |   2    | 0.09607843137254901  | 0.12244164332399617 |\n",
              " |   3    |  0.0810457516339869  | 0.15190476190476193 |\n",
              " |   4    | 0.07303921568627451  | 0.18372393401805173 |\n",
              " |   5    | 0.06352941176470589  | 0.19930127606598189 |\n",
              " |   6    | 0.05522875816993465  | 0.20600062247121068 |\n",
              " |   7    | 0.04901960784313724  | 0.21341892312480545 |\n",
              " |   8    | 0.04607843137254902  | 0.23024898848428255 |\n",
              " |   9    | 0.043790849673202584 | 0.24920323685029572 |\n",
              " |   10   | 0.040392156862745075 |  0.2576999688764395 |\n",
              " +--------+----------------------+---------------------+\n",
              " [18 rows x 3 columns]\n",
              " Note: Only the head of the SFrame is printed.\n",
              " You can use print_rows(num_rows=m, num_columns=n) to print more rows and columns.}"
            ]
          },
          "metadata": {
            "tags": []
          },
          "execution_count": 16
        }
      ]
    },
    {
      "cell_type": "code",
      "metadata": {
        "id": "vnYJf_BiUsdT",
        "colab": {
          "base_uri": "https://localhost:8080/",
          "height": 279
        },
        "outputId": "de1435b4-7568-454d-9467-e5e16b3e6b70"
      },
      "source": [
        "sf"
      ],
      "execution_count": null,
      "outputs": [
        {
          "output_type": "execute_result",
          "data": {
            "text/html": [
              "<div style=\"max-height:1000px;max-width:1500px;overflow:auto;\"><table frame=\"box\" rules=\"cols\">\n",
              "    <tr>\n",
              "        <th style=\"padding-left: 1em; padding-right: 1em; text-align: center\">user_id</th>\n",
              "        <th style=\"padding-left: 1em; padding-right: 1em; text-align: center\">item_id</th>\n",
              "        <th style=\"padding-left: 1em; padding-right: 1em; text-align: center\">target</th>\n",
              "    </tr>\n",
              "    <tr>\n",
              "        <td style=\"padding-left: 1em; padding-right: 1em; text-align: center; vertical-align: top\">1001606</td>\n",
              "        <td style=\"padding-left: 1em; padding-right: 1em; text-align: center; vertical-align: top\">Raver&#x27;s Nature</td>\n",
              "        <td style=\"padding-left: 1em; padding-right: 1em; text-align: center; vertical-align: top\">2</td>\n",
              "    </tr>\n",
              "    <tr>\n",
              "        <td style=\"padding-left: 1em; padding-right: 1em; text-align: center; vertical-align: top\">1002598</td>\n",
              "        <td style=\"padding-left: 1em; padding-right: 1em; text-align: center; vertical-align: top\">Raver&#x27;s Nature</td>\n",
              "        <td style=\"padding-left: 1em; padding-right: 1em; text-align: center; vertical-align: top\">1</td>\n",
              "    </tr>\n",
              "    <tr>\n",
              "        <td style=\"padding-left: 1em; padding-right: 1em; text-align: center; vertical-align: top\">1009768</td>\n",
              "        <td style=\"padding-left: 1em; padding-right: 1em; text-align: center; vertical-align: top\">Raver&#x27;s Nature</td>\n",
              "        <td style=\"padding-left: 1em; padding-right: 1em; text-align: center; vertical-align: top\">29</td>\n",
              "    </tr>\n",
              "    <tr>\n",
              "        <td style=\"padding-left: 1em; padding-right: 1em; text-align: center; vertical-align: top\">1020855</td>\n",
              "        <td style=\"padding-left: 1em; padding-right: 1em; text-align: center; vertical-align: top\">Raver&#x27;s Nature</td>\n",
              "        <td style=\"padding-left: 1em; padding-right: 1em; text-align: center; vertical-align: top\">9</td>\n",
              "    </tr>\n",
              "    <tr>\n",
              "        <td style=\"padding-left: 1em; padding-right: 1em; text-align: center; vertical-align: top\">1024677</td>\n",
              "        <td style=\"padding-left: 1em; padding-right: 1em; text-align: center; vertical-align: top\">Raver&#x27;s Nature</td>\n",
              "        <td style=\"padding-left: 1em; padding-right: 1em; text-align: center; vertical-align: top\">1</td>\n",
              "    </tr>\n",
              "    <tr>\n",
              "        <td style=\"padding-left: 1em; padding-right: 1em; text-align: center; vertical-align: top\">1025593</td>\n",
              "        <td style=\"padding-left: 1em; padding-right: 1em; text-align: center; vertical-align: top\">Raver&#x27;s Nature</td>\n",
              "        <td style=\"padding-left: 1em; padding-right: 1em; text-align: center; vertical-align: top\">3</td>\n",
              "    </tr>\n",
              "    <tr>\n",
              "        <td style=\"padding-left: 1em; padding-right: 1em; text-align: center; vertical-align: top\">1036036</td>\n",
              "        <td style=\"padding-left: 1em; padding-right: 1em; text-align: center; vertical-align: top\">Raver&#x27;s Nature</td>\n",
              "        <td style=\"padding-left: 1em; padding-right: 1em; text-align: center; vertical-align: top\">51</td>\n",
              "    </tr>\n",
              "    <tr>\n",
              "        <td style=\"padding-left: 1em; padding-right: 1em; text-align: center; vertical-align: top\">1037250</td>\n",
              "        <td style=\"padding-left: 1em; padding-right: 1em; text-align: center; vertical-align: top\">Raver&#x27;s Nature</td>\n",
              "        <td style=\"padding-left: 1em; padding-right: 1em; text-align: center; vertical-align: top\">3</td>\n",
              "    </tr>\n",
              "    <tr>\n",
              "        <td style=\"padding-left: 1em; padding-right: 1em; text-align: center; vertical-align: top\">1037372</td>\n",
              "        <td style=\"padding-left: 1em; padding-right: 1em; text-align: center; vertical-align: top\">Raver&#x27;s Nature</td>\n",
              "        <td style=\"padding-left: 1em; padding-right: 1em; text-align: center; vertical-align: top\">1</td>\n",
              "    </tr>\n",
              "    <tr>\n",
              "        <td style=\"padding-left: 1em; padding-right: 1em; text-align: center; vertical-align: top\">1037666</td>\n",
              "        <td style=\"padding-left: 1em; padding-right: 1em; text-align: center; vertical-align: top\">Raver&#x27;s Nature</td>\n",
              "        <td style=\"padding-left: 1em; padding-right: 1em; text-align: center; vertical-align: top\">1</td>\n",
              "    </tr>\n",
              "</table>\n",
              "[418036 rows x 3 columns]<br/>Note: Only the head of the SFrame is printed.<br/>You can use print_rows(num_rows=m, num_columns=n) to print more rows and columns.\n",
              "</div>"
            ],
            "text/plain": [
              "Columns:\n",
              "\tuser_id\tstr\n",
              "\titem_id\tstr\n",
              "\ttarget\tint\n",
              "\n",
              "Rows: 418036\n",
              "\n",
              "Data:\n",
              "+---------+----------------+--------+\n",
              "| user_id |    item_id     | target |\n",
              "+---------+----------------+--------+\n",
              "| 1001606 | Raver's Nature |   2    |\n",
              "| 1002598 | Raver's Nature |   1    |\n",
              "| 1009768 | Raver's Nature |   29   |\n",
              "| 1020855 | Raver's Nature |   9    |\n",
              "| 1024677 | Raver's Nature |   1    |\n",
              "| 1025593 | Raver's Nature |   3    |\n",
              "| 1036036 | Raver's Nature |   51   |\n",
              "| 1037250 | Raver's Nature |   3    |\n",
              "| 1037372 | Raver's Nature |   1    |\n",
              "| 1037666 | Raver's Nature |   1    |\n",
              "+---------+----------------+--------+\n",
              "[418036 rows x 3 columns]\n",
              "Note: Only the head of the SFrame is printed.\n",
              "You can use print_rows(num_rows=m, num_columns=n) to print more rows and columns."
            ]
          },
          "metadata": {
            "tags": []
          },
          "execution_count": 17
        }
      ]
    },
    {
      "cell_type": "code",
      "metadata": {
        "id": "PWPITfVAU6p3",
        "colab": {
          "base_uri": "https://localhost:8080/",
          "height": 462
        },
        "outputId": "3ad67290-61fc-4dbf-cef4-588650f9d392"
      },
      "source": [
        "n= tc.item_similarity_recommender.create(jobview_sframe,\n",
        "                                    user_id='Applicant.ID',\n",
        "                                    item_id='Job.ID',\n",
        "                                    similarity_type=\"jaccard\",\n",
        "                                    )\n",
        "nn = n.get_similar_items()"
      ],
      "execution_count": null,
      "outputs": [
        {
          "output_type": "display_data",
          "data": {
            "text/html": [
              "<pre>Warning: Ignoring columns Title, Position, Company, City, State.Name, State.Code, Industry, View.Start, View.End, View.Duration, Created.At, Updated.At;</pre>"
            ],
            "text/plain": [
              "Warning: Ignoring columns Title, Position, Company, City, State.Name, State.Code, Industry, View.Start, View.End, View.Duration, Created.At, Updated.At;"
            ]
          },
          "metadata": {
            "tags": []
          }
        },
        {
          "output_type": "display_data",
          "data": {
            "text/html": [
              "<pre> To use one of these as a rating column, specify the column name to be used as target</pre>"
            ],
            "text/plain": [
              " To use one of these as a rating column, specify the column name to be used as target"
            ]
          },
          "metadata": {
            "tags": []
          }
        },
        {
          "output_type": "display_data",
          "data": {
            "text/html": [
              "<pre>    and use a method that allows the use of a target.</pre>"
            ],
            "text/plain": [
              "    and use a method that allows the use of a target."
            ]
          },
          "metadata": {
            "tags": []
          }
        },
        {
          "output_type": "display_data",
          "data": {
            "text/html": [
              "<pre>Preparing data set.</pre>"
            ],
            "text/plain": [
              "Preparing data set."
            ]
          },
          "metadata": {
            "tags": []
          }
        },
        {
          "output_type": "display_data",
          "data": {
            "text/html": [
              "<pre>    Data has 12370 observations with 3448 users and 7047 items.</pre>"
            ],
            "text/plain": [
              "    Data has 12370 observations with 3448 users and 7047 items."
            ]
          },
          "metadata": {
            "tags": []
          }
        },
        {
          "output_type": "display_data",
          "data": {
            "text/html": [
              "<pre>    Data prepared in: 0.043531s</pre>"
            ],
            "text/plain": [
              "    Data prepared in: 0.043531s"
            ]
          },
          "metadata": {
            "tags": []
          }
        },
        {
          "output_type": "display_data",
          "data": {
            "text/html": [
              "<pre>Training model from provided data.</pre>"
            ],
            "text/plain": [
              "Training model from provided data."
            ]
          },
          "metadata": {
            "tags": []
          }
        },
        {
          "output_type": "display_data",
          "data": {
            "text/html": [
              "<pre>Gathering per-item and per-user statistics.</pre>"
            ],
            "text/plain": [
              "Gathering per-item and per-user statistics."
            ]
          },
          "metadata": {
            "tags": []
          }
        },
        {
          "output_type": "display_data",
          "data": {
            "text/html": [
              "<pre>+--------------------------------+------------+</pre>"
            ],
            "text/plain": [
              "+--------------------------------+------------+"
            ]
          },
          "metadata": {
            "tags": []
          }
        },
        {
          "output_type": "display_data",
          "data": {
            "text/html": [
              "<pre>| Elapsed Time (Item Statistics) | % Complete |</pre>"
            ],
            "text/plain": [
              "| Elapsed Time (Item Statistics) | % Complete |"
            ]
          },
          "metadata": {
            "tags": []
          }
        },
        {
          "output_type": "display_data",
          "data": {
            "text/html": [
              "<pre>+--------------------------------+------------+</pre>"
            ],
            "text/plain": [
              "+--------------------------------+------------+"
            ]
          },
          "metadata": {
            "tags": []
          }
        },
        {
          "output_type": "display_data",
          "data": {
            "text/html": [
              "<pre>| 1.392ms                        | 29         |</pre>"
            ],
            "text/plain": [
              "| 1.392ms                        | 29         |"
            ]
          },
          "metadata": {
            "tags": []
          }
        },
        {
          "output_type": "display_data",
          "data": {
            "text/html": [
              "<pre>| 18.081ms                       | 100        |</pre>"
            ],
            "text/plain": [
              "| 18.081ms                       | 100        |"
            ]
          },
          "metadata": {
            "tags": []
          }
        },
        {
          "output_type": "display_data",
          "data": {
            "text/html": [
              "<pre>+--------------------------------+------------+</pre>"
            ],
            "text/plain": [
              "+--------------------------------+------------+"
            ]
          },
          "metadata": {
            "tags": []
          }
        },
        {
          "output_type": "display_data",
          "data": {
            "text/html": [
              "<pre>Setting up lookup tables.</pre>"
            ],
            "text/plain": [
              "Setting up lookup tables."
            ]
          },
          "metadata": {
            "tags": []
          }
        },
        {
          "output_type": "display_data",
          "data": {
            "text/html": [
              "<pre>Processing data in one pass using dense lookup tables.</pre>"
            ],
            "text/plain": [
              "Processing data in one pass using dense lookup tables."
            ]
          },
          "metadata": {
            "tags": []
          }
        },
        {
          "output_type": "display_data",
          "data": {
            "text/html": [
              "<pre>+-------------------------------------+------------------+-----------------+</pre>"
            ],
            "text/plain": [
              "+-------------------------------------+------------------+-----------------+"
            ]
          },
          "metadata": {
            "tags": []
          }
        },
        {
          "output_type": "display_data",
          "data": {
            "text/html": [
              "<pre>| Elapsed Time (Constructing Lookups) | Total % Complete | Items Processed |</pre>"
            ],
            "text/plain": [
              "| Elapsed Time (Constructing Lookups) | Total % Complete | Items Processed |"
            ]
          },
          "metadata": {
            "tags": []
          }
        },
        {
          "output_type": "display_data",
          "data": {
            "text/html": [
              "<pre>+-------------------------------------+------------------+-----------------+</pre>"
            ],
            "text/plain": [
              "+-------------------------------------+------------------+-----------------+"
            ]
          },
          "metadata": {
            "tags": []
          }
        },
        {
          "output_type": "display_data",
          "data": {
            "text/html": [
              "<pre>| 98.921ms                            | 0                | 0               |</pre>"
            ],
            "text/plain": [
              "| 98.921ms                            | 0                | 0               |"
            ]
          },
          "metadata": {
            "tags": []
          }
        },
        {
          "output_type": "display_data",
          "data": {
            "text/html": [
              "<pre>| 549.965ms                           | 100              | 7047            |</pre>"
            ],
            "text/plain": [
              "| 549.965ms                           | 100              | 7047            |"
            ]
          },
          "metadata": {
            "tags": []
          }
        },
        {
          "output_type": "display_data",
          "data": {
            "text/html": [
              "<pre>+-------------------------------------+------------------+-----------------+</pre>"
            ],
            "text/plain": [
              "+-------------------------------------+------------------+-----------------+"
            ]
          },
          "metadata": {
            "tags": []
          }
        },
        {
          "output_type": "display_data",
          "data": {
            "text/html": [
              "<pre>Finalizing lookup tables.</pre>"
            ],
            "text/plain": [
              "Finalizing lookup tables."
            ]
          },
          "metadata": {
            "tags": []
          }
        },
        {
          "output_type": "display_data",
          "data": {
            "text/html": [
              "<pre>Generating candidate set for working with new users.</pre>"
            ],
            "text/plain": [
              "Generating candidate set for working with new users."
            ]
          },
          "metadata": {
            "tags": []
          }
        },
        {
          "output_type": "display_data",
          "data": {
            "text/html": [
              "<pre>Finished training in 0.564728s</pre>"
            ],
            "text/plain": [
              "Finished training in 0.564728s"
            ]
          },
          "metadata": {
            "tags": []
          }
        }
      ]
    },
    {
      "cell_type": "code",
      "metadata": {
        "id": "RfN1sVa5V706"
      },
      "source": [
        "\n"
      ],
      "execution_count": null,
      "outputs": []
    }
  ]
}